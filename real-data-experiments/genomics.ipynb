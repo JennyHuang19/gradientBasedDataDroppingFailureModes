{
 "cells": [
  {
   "cell_type": "code",
   "execution_count": 69,
   "id": "4264cba9",
   "metadata": {},
   "outputs": [],
   "source": [
    "import numpy as np\n",
    "import pandas as pd\n",
    "import matplotlib.pyplot as plt\n",
    "import algorithms\n",
    "from linear_regression import LinearRegression\n",
    "from gurobipy import GRB\n",
    "import scipy.linalg\n",
    "import itertools"
   ]
  },
  {
   "cell_type": "markdown",
   "id": "44986a72",
   "metadata": {},
   "source": [
    "## Load and Plot Data."
   ]
  },
  {
   "cell_type": "code",
   "execution_count": 70,
   "id": "8b8304ce",
   "metadata": {},
   "outputs": [
    {
     "data": {
      "text/html": [
       "<div>\n",
       "<style scoped>\n",
       "    .dataframe tbody tr th:only-of-type {\n",
       "        vertical-align: middle;\n",
       "    }\n",
       "\n",
       "    .dataframe tbody tr th {\n",
       "        vertical-align: top;\n",
       "    }\n",
       "\n",
       "    .dataframe thead th {\n",
       "        text-align: right;\n",
       "    }\n",
       "</style>\n",
       "<table border=\"1\" class=\"dataframe\">\n",
       "  <thead>\n",
       "    <tr style=\"text-align: right;\">\n",
       "      <th></th>\n",
       "      <th>vip</th>\n",
       "      <th>gad1</th>\n",
       "    </tr>\n",
       "  </thead>\n",
       "  <tbody>\n",
       "    <tr>\n",
       "      <th>0</th>\n",
       "      <td>0.0</td>\n",
       "      <td>0.0</td>\n",
       "    </tr>\n",
       "    <tr>\n",
       "      <th>1</th>\n",
       "      <td>0.0</td>\n",
       "      <td>0.0</td>\n",
       "    </tr>\n",
       "    <tr>\n",
       "      <th>2</th>\n",
       "      <td>0.0</td>\n",
       "      <td>0.0</td>\n",
       "    </tr>\n",
       "    <tr>\n",
       "      <th>3</th>\n",
       "      <td>0.0</td>\n",
       "      <td>0.0</td>\n",
       "    </tr>\n",
       "    <tr>\n",
       "      <th>4</th>\n",
       "      <td>0.0</td>\n",
       "      <td>0.0</td>\n",
       "    </tr>\n",
       "  </tbody>\n",
       "</table>\n",
       "</div>"
      ],
      "text/plain": [
       "   vip  gad1\n",
       "0  0.0   0.0\n",
       "1  0.0   0.0\n",
       "2  0.0   0.0\n",
       "3  0.0   0.0\n",
       "4  0.0   0.0"
      ]
     },
     "execution_count": 70,
     "metadata": {},
     "output_type": "execute_result"
    }
   ],
   "source": [
    "# read in the genome data.\n",
    "genome_data = pd.read_csv('data/genomics.csv')\n",
    "genome_data.head()"
   ]
  },
  {
   "cell_type": "code",
   "execution_count": 71,
   "id": "6643f962",
   "metadata": {},
   "outputs": [
    {
     "data": {
      "image/png": "[encoded data removed]",
      "text/plain": [
       "<Figure size 640x480 with 1 Axes>"
      ]
     },
     "metadata": {},
     "output_type": "display_data"
    }
   ],
   "source": [
    "# create a scatter plot of d.st vs. h.t\n",
    "plt.scatter(genome_data['vip'], genome_data['gad1'], s=10, c='black', marker='x')\n",
    "plt.xlabel('vip')\n",
    "plt.ylabel('gad1')\n",
    "plt.show()"
   ]
  },
  {
   "cell_type": "code",
   "execution_count": 72,
   "id": "de03a228",
   "metadata": {},
   "outputs": [
    {
     "name": "stdout",
     "output_type": "stream",
     "text": [
      "Number of non-zero entries in vip: 330\n",
      "Total number of entries in vip: 65539\n",
      "Proportion of non-zero entries in vip: 0.50%\n",
      "Number of non-zero entries in gad1: 1712\n",
      "Total number of entries in gad1: 65539\n",
      "Proportion of non-zero entries in gad1: 2.61%\n"
     ]
    }
   ],
   "source": [
    "# find the number of non-zero entries in the vip column\n",
    "non_zero_vip = genome_data['vip'].astype(bool).sum()\n",
    "print(f\"Number of non-zero entries in vip: {non_zero_vip}\")\n",
    "# find the number total number of entries in the vip column\n",
    "total_entries_vip = genome_data['vip'].count()\n",
    "print(f\"Total number of entries in vip: {total_entries_vip}\")\n",
    "# print the proportion of non-zero entries in the vip column\n",
    "proportion_non_zero_vip = non_zero_vip / total_entries_vip\n",
    "print(f\"Proportion of non-zero entries in vip: {proportion_non_zero_vip:.2%}\")\n",
    "# find the number of non-zero entries in the gad1 column\n",
    "non_zero_gad1 = genome_data['gad1'].astype(bool).sum()\n",
    "print(f\"Number of non-zero entries in gad1: {non_zero_gad1}\")\n",
    "# find the number total number of entries in the gad1 column\n",
    "total_entries_gad1 = genome_data['gad1'].count()\n",
    "print(f\"Total number of entries in gad1: {total_entries_gad1}\")\n",
    "# print the proportion of non-zero entries in the gad1 column\n",
    "proportion_non_zero_gad1 = non_zero_gad1 / total_entries_gad1\n",
    "print(f\"Proportion of non-zero entries in gad1: {proportion_non_zero_gad1:.2%}\")\n"
   ]
  },
  {
   "cell_type": "code",
   "execution_count": 73,
   "id": "d8695f41",
   "metadata": {},
   "outputs": [],
   "source": [
    "# fit a linear regression.\n",
    "x = genome_data['vip'].to_numpy()\n",
    "y = genome_data['gad1'].to_numpy()\n",
    "# reshape x to be a 2D array\n",
    "x = x.reshape(-1, 1)\n",
    "# Add an intercept term.\n",
    "df = pd.DataFrame(x)\n",
    "df.insert(0, 'Ones', 1)\n",
    "arr = df.values\n",
    "x = arr"
   ]
  },
  {
   "cell_type": "code",
   "execution_count": 132,
   "id": "48b61424",
   "metadata": {},
   "outputs": [
    {
     "name": "stdout",
     "output_type": "stream",
     "text": [
      "Condition number of full dataset: 5.242052847992159\n"
     ]
    }
   ],
   "source": [
    "# Compute condition numbers\n",
    "print(\n",
    "    f\"Condition number of full dataset: {np.linalg.cond(x)}\"\n",
    ")"
   ]
  },
  {
   "cell_type": "code",
   "execution_count": 77,
   "id": "406d7c83",
   "metadata": {},
   "outputs": [
    {
     "name": "stdout",
     "output_type": "stream",
     "text": [
      "Estimated beta1 with full dataset: 0.535506124899345\n"
     ]
    }
   ],
   "source": [
    "# fit the model\n",
    "lr = LinearRegression(x=x.T, y=y)\n",
    "lr.fit()\n",
    "print(\n",
    "    f\"Estimated beta1 with full dataset: {lr.beta[1]}\"\n",
    ") "
   ]
  },
  {
   "cell_type": "markdown",
   "id": "e0209617",
   "metadata": {},
   "source": [
    "## Data-Dropping Approximations."
   ]
  },
  {
   "cell_type": "markdown",
   "id": "a3a86448",
   "metadata": {},
   "source": [
    "### Netapprox."
   ]
  },
  {
   "cell_type": "code",
   "execution_count": 78,
   "id": "b8616722",
   "metadata": {},
   "outputs": [],
   "source": [
    "Xnet = np.zeros((x.shape[0],x.shape[1]))\n",
    "Xnet[:,0] =  x[:,1]\n",
    "Xnet[:,1] =  x[:,0]"
   ]
  },
  {
   "cell_type": "code",
   "execution_count": 79,
   "id": "1a9ca559",
   "metadata": {},
   "outputs": [
    {
     "data": {
      "text/plain": [
       "array([[0., 1.],\n",
       "       [0., 1.],\n",
       "       [0., 1.],\n",
       "       ...,\n",
       "       [0., 1.],\n",
       "       [0., 1.],\n",
       "       [0., 1.]])"
      ]
     },
     "execution_count": 79,
     "metadata": {},
     "output_type": "execute_result"
    }
   ],
   "source": [
    "Xnet"
   ]
  },
  {
   "cell_type": "code",
   "execution_count": 81,
   "id": "49b27f23",
   "metadata": {},
   "outputs": [
    {
     "name": "stdout",
     "output_type": "stream",
     "text": [
      "Number of points needed to be removed to zero-out the OLS solution: 183.04314478806918\n"
     ]
    },
    {
     "data": {
      "text/plain": [
       "array([36145, 19668, 37151, 21422, 36531, 53440,  7344, 46859, 30047,\n",
       "        3983, 32085, 38153,  2956,   229,  8047, 19346, 35129, 19691,\n",
       "       39149, 32583, 35744, 35138,  5534, 22728, 11917, 41262, 41478,\n",
       "       48670, 31123, 47202, 64025, 53140, 49255, 35390, 32688,   682,\n",
       "       37090, 50331, 24456, 19404,  8413, 48453, 10988, 23135, 27267,\n",
       "       36821, 17660, 61220, 48169, 32988,  1250,  4023,   176, 19653,\n",
       "       22368, 57112, 61224, 32941, 30918,  3948, 11587, 24281, 48822,\n",
       "       22198, 11532, 36162, 35682, 35213, 40202, 21842,  3379, 14631,\n",
       "       56970, 11543, 49959, 64703, 52933, 17810, 45801, 37304, 20232,\n",
       "       56951,  7460, 29967,   368, 36598, 19291, 16141,   873, 35149,\n",
       "       26447,  3321, 51012, 35308,   434, 40289, 30325, 62090, 62735,\n",
       "       21374,  8679,  7377, 35170, 18777,  1426, 42304, 46364,   884,\n",
       "       30450, 39648,  9122, 19824, 63681, 27008, 27187, 30461, 10239,\n",
       "       40854, 23116, 32270,  7733, 50297, 26704, 53177, 14412, 37504,\n",
       "       63446, 55155, 22056, 61453, 19011,  3051, 30179, 37056, 19054,\n",
       "       21591,  1194, 27169, 22536, 29682,  3639, 19957, 26723, 32880,\n",
       "       41644, 61310, 19472, 24525, 36360,  7630, 14842, 49651, 45641,\n",
       "       17595, 56739, 27212, 35000, 28124, 29680, 32869, 54717, 46550,\n",
       "       24603, 35465, 19598, 55128, 37524, 51334, 48044, 22067, 19433,\n",
       "        1106, 56650, 61268, 39042, 22431, 17552, 53819, 19520, 24570,\n",
       "       46000, 21498, 32695,  4358, 43736, 43600, 43730, 43599, 43771,\n",
       "       43731, 43732, 43603, 43733, 43737, 43734, 43757, 43735, 43616,\n",
       "       43756, 43617, 43753, 43738, 43602, 43621, 43596, 43620, 43726,\n",
       "       43597, 43774, 43729, 43619, 43773, 43759, 43727, 43598, 43772,\n",
       "       43758, 43728, 43618, 43770, 43601, 43769, 43745, 43746, 43606,\n",
       "       43610, 43763, 43747, 43748, 43611, 43749, 43761, 43609, 43762,\n",
       "       43751, 43608, 43607, 43752, 43622, 43754, 43744, 43612, 43768,\n",
       "       43739, 43740, 43604, 43741, 43615, 43767, 43605, 43760, 43614,\n",
       "       43613, 43765, 43764, 43742, 43755, 43743, 43766, 43750, 43717,\n",
       "       43623, 43669, 43670, 43642, 43671, 43641, 43672, 43673, 43674,\n",
       "       43675, 43676, 43668, 43640, 43678, 43679, 43680, 43681, 43639,\n",
       "       43638, 43682, 43683, 43684, 43685, 43677, 43686, 43667, 43666,\n",
       "       43648, 43647, 43646, 43649, 43650, 43651, 43652, 43653, 43654,\n",
       "       43645, 43643, 43644, 43656, 43657, 43658, 43659, 43660, 43661,\n",
       "       43662, 43663, 43664, 43665, 43655, 43775, 43687, 43688, 43709,\n",
       "       43710, 43711, 43712, 43630, 43629, 43628, 43627, 43713, 43626,\n",
       "       43708, 43714, 43625, 43716, 43718, 43719, 43624, 43720, 43721,\n",
       "       43722, 43723, 43724, 43715, 43707, 43706, 43631, 43689, 43690,\n",
       "       43691, 43637, 43692, 43693, 43694, 43695, 43636, 43635, 43696,\n",
       "       43697, 43698, 43634, 43699, 43700, 43633, 43701, 43702, 43703,\n",
       "       43704, 43705, 43632, 43725, 43776,     0, 43778, 43933, 43934,\n",
       "       43935, 43936, 43937, 43938, 43939, 43940, 43941, 43942, 43943,\n",
       "       43944, 43932, 43945, 43947, 43948, 43949, 43950, 43951, 43952,\n",
       "       43953, 43954, 43955, 43956, 43957, 43958, 43946, 43931, 43930,\n",
       "       43929, 43902, 43903, 43904, 43905, 43906, 43907, 43908, 43909,\n",
       "       43910, 43911, 43912, 43913, 43914, 43915, 43916, 43917, 43918,\n",
       "       43919, 43920, 43921, 43922, 43923, 43924, 43925, 43926, 43927,\n",
       "       43928, 43959, 43960, 43961, 43962, 43994, 43995, 43996, 43997,\n",
       "       43998, 43999, 44000, 44001, 44002, 44003, 44004, 44005, 44006,\n",
       "       44007, 44008, 44009, 44010, 44011, 44012, 44013, 44014, 44015,\n",
       "       44016, 44017, 44018, 44019, 44020, 43993, 43901, 43992, 43990,\n",
       "       43963, 43964, 43965, 43966, 43967, 43968, 43969, 43970, 43971,\n",
       "       43972, 43973, 43974, 43975, 43976, 43977, 43978, 43979, 43980,\n",
       "       43981, 43982, 43983, 43984, 43985, 43986, 43987, 43988, 43989,\n",
       "       43991, 43777, 43900, 43898, 43810, 43811, 43812, 43813, 43814,\n",
       "       43815, 43816, 43817, 43818, 43819, 43820, 43821, 43809, 43822,\n",
       "       43824, 43825, 43826, 43827, 43828, 43829, 43830, 43831, 43832,\n",
       "       43833, 43834, 43835, 43823, 43808, 43807, 43806, 43779, 43780,\n",
       "       43781, 43782, 43783, 43784, 43785, 43786, 43787, 43788, 43789,\n",
       "       43790, 43791, 43792, 43793, 43794, 43795, 43796, 43797, 43798,\n",
       "       43799, 43800, 43801, 43802, 43803, 43804, 43805, 43836, 43837,\n",
       "       43838, 43839, 43871, 43872, 43873, 43874, 43875, 43876, 43877,\n",
       "       43878, 43879, 43880, 43881, 43882, 43883, 43884, 43885, 43886,\n",
       "       43887, 43888, 43889, 43890, 43891, 43892, 43893, 43894, 43895,\n",
       "       43896, 43897, 43870, 43899, 43869, 43867, 43840, 43841, 43842,\n",
       "       43843, 43844, 43845, 43846, 43847, 43848, 43849, 43850, 43851,\n",
       "       43852, 43853, 43854, 43855, 43856, 43857, 43858, 43859, 43860,\n",
       "       43861, 43862, 43863, 43864, 43865, 43866, 43868, 43595, 43554,\n",
       "       43593, 43249, 43250, 43251, 43252, 43253, 43254, 43255, 43256,\n",
       "       43257, 43258, 43259, 43260, 43261, 43262, 43263, 43264, 43265,\n",
       "       43266, 43267, 43268, 43269, 43270, 43271, 43272, 43273, 43274,\n",
       "       43275, 43248, 43247, 43246, 43245, 43217, 43218, 43219, 43220,\n",
       "       43221, 43222, 43223, 43224, 43225, 43226, 43227, 43228])"
      ]
     },
     "execution_count": 81,
     "metadata": {},
     "output_type": "execute_result"
    }
   ],
   "source": [
    "trials = 1000 # MR23: \"trials should be chosen as large as possible subject to computational constraints.\"\n",
    "n_sumwstar, wstar = algorithms.net_algorithm(Xnet,y,1000)\n",
    "print(f\"Number of points needed to be removed to zero-out the OLS solution: {n_sumwstar}\")\n",
    "# find the indices of the MIS.\n",
    "alphaN = 656\n",
    "mis_inds = np.argsort(wstar)[:alphaN]\n",
    "mis_inds"
   ]
  },
  {
   "cell_type": "code",
   "execution_count": 82,
   "id": "a83ff3af",
   "metadata": {},
   "outputs": [
    {
     "data": {
      "text/plain": [
       "656"
      ]
     },
     "execution_count": 82,
     "metadata": {},
     "output_type": "execute_result"
    }
   ],
   "source": [
    "len(mis_inds)"
   ]
  },
  {
   "cell_type": "code",
   "execution_count": 83,
   "id": "40d855ec",
   "metadata": {},
   "outputs": [
    {
     "name": "stdout",
     "output_type": "stream",
     "text": [
      "(64883, 2)\n",
      "(64883,)\n"
     ]
    }
   ],
   "source": [
    "#### Refit after Removing Flagged Points.\n",
    "new_x= np.delete(x, mis_inds, axis=0)\n",
    "new_y= np.delete(y, mis_inds, axis=0)\n",
    "print(new_x.shape)\n",
    "print(new_y.shape)"
   ]
  },
  {
   "cell_type": "code",
   "execution_count": 84,
   "id": "ab756e74",
   "metadata": {},
   "outputs": [
    {
     "name": "stdout",
     "output_type": "stream",
     "text": [
      "Estimated beta1 with full dataset: 0.535506124899345\n",
      "Estimated beta1 after removing subset specified by NetApprox: -0.0022290556400391794\n"
     ]
    }
   ],
   "source": [
    "# Refit after removing the points specified by NetApprox (these indices are the same).\n",
    "lr = LinearRegression(x=x.T, y=y)\n",
    "lr.fit()\n",
    "\n",
    "print(\n",
    "    f\"Estimated beta1 with full dataset: {lr.beta[1]}\"\n",
    ")  # We care about first coefficient (pop A: y is perfectly correlated (slope=1) with x1.)\n",
    "\n",
    "modified_lr = LinearRegression(x=new_x.T, y=new_y)\n",
    "modified_lr.fit()\n",
    "print(\n",
    "    f\"Estimated beta1 after removing subset specified by NetApprox: {modified_lr.beta[1]}\"\n",
    ")"
   ]
  },
  {
   "cell_type": "code",
   "execution_count": 31,
   "id": "b6df91c4",
   "metadata": {},
   "outputs": [
    {
     "data": {
      "text/plain": [
       "0.04324896539646269"
      ]
     },
     "execution_count": 31,
     "metadata": {},
     "output_type": "execute_result"
    }
   ],
   "source": [
    "lr.beta[0]"
   ]
  },
  {
   "cell_type": "code",
   "execution_count": 17,
   "id": "9227b9ee",
   "metadata": {},
   "outputs": [],
   "source": [
    "# retrieve all x values that that are in mis_inds.\n",
    "mis_df = genome_data.iloc[mis_inds]\n",
    "# retrieve the x values.\n",
    "mis_x = mis_df['vip'].to_numpy()\n",
    "# retrieve the y values.\n",
    "mis_y = mis_df['gad1'].to_numpy()\n",
    "\n",
    "# retrieve the x values that are not in mis_inds.\n",
    "not_mis_df = genome_data.drop(mis_inds)\n",
    "# retrieve the x values.\n",
    "not_mis_x = not_mis_df['vip'].to_numpy()\n",
    "# retrieve the y values.\n",
    "not_mis_y = not_mis_df['gad1'].to_numpy()"
   ]
  },
  {
   "cell_type": "code",
   "execution_count": null,
   "id": "66249b36",
   "metadata": {},
   "outputs": [
    {
     "data": {
      "image/png": "[encoded data removed]",
      "text/plain": [
       "<Figure size 900x700 with 1 Axes>"
      ]
     },
     "metadata": {},
     "output_type": "display_data"
    }
   ],
   "source": [
    "### create scatter plot.\n",
    "plt.figure(figsize=(9, 7))\n",
    "\n",
    "plt.scatter(not_mis_x, not_mis_y, marker='x', color='red', s=26)\n",
    "plt.scatter(mis_x, mis_y, marker='o', color='black', label='Dropped by NetApprox', s=26)\n",
    "\n",
    "x_values = np.linspace(-5, 10, 100)\n",
    "y_values_full = lr.beta[1] * x_values + lr.beta[0]\n",
    "y_value_red_crosses = modified_lr.beta[1] * x_values + lr.beta[0]\n",
    "plt.plot(x_values, y_values_full, color='black', linestyle='--') \n",
    "plt.plot(x_values, y_value_red_crosses, color='black')\n",
    "\n",
    "plt.xlabel('x', fontsize=26) \n",
    "plt.ylabel('y', fontsize=26)\n",
    "\n",
    "plt.ylim(-5, 10)\n",
    "plt.xlim(-5, 10)\n",
    "\n",
    "plt.xticks(fontsize=22) \n",
    "plt.yticks(fontsize=22)\n",
    "plt.legend(fontsize=22)\n",
    "plt.savefig('genomics_dropped_by_netapprox.pdf')\n",
    "plt.show()"
   ]
  },
  {
   "cell_type": "markdown",
   "id": "25cb0b3c",
   "metadata": {},
   "source": [
    "### FH-Gurobi (warm-start)"
   ]
  },
  {
   "cell_type": "code",
   "execution_count": null,
   "id": "968d2a33",
   "metadata": {},
   "outputs": [],
   "source": [
    "model_objbound_frac, model_objval_frac, weights_frac, model_frac = algorithms.solve_regression_fractional(x, y, intercept=True, time_limit=30, warm_start=None, verbose=True,\n",
    "                               greater_one_constraint=False, pairs=None)\n",
    "weights_from_fractional_gurobi = np.array([w.X for w in weights_frac])"
   ]
  },
  {
   "cell_type": "code",
   "execution_count": null,
   "id": "fb3a7a8f",
   "metadata": {},
   "outputs": [],
   "source": [
    "model_objbound, model_objval, weights, model = algorithms.solve_regression_integral(Xnet,y, intercept=True,time_limit=30, warm_start=weights_from_fractional_gurobi, verbose=True, #beta_sign=1,\n",
    "                                warm_start_ub=None, pairs = None)\n",
    "integer_weights = np.array([w.X for w in weights])"
   ]
  },
  {
   "cell_type": "code",
   "execution_count": null,
   "id": "52fd3ed8",
   "metadata": {},
   "outputs": [],
   "source": [
    "# select the indices of the points with weight 0.\n",
    "indices_to_remove = np.where(integer_weights == 0)[0]\n",
    "indices_to_remove, len(indices_to_remove)"
   ]
  },
  {
   "cell_type": "code",
   "execution_count": 112,
   "id": "a03650c3",
   "metadata": {},
   "outputs": [
    {
     "name": "stdout",
     "output_type": "stream",
     "text": [
      "(65367, 2)\n",
      "(65367,)\n"
     ]
    }
   ],
   "source": [
    "#### Refit after Removing Flagged Points.\n",
    "mis_inds = indices_to_remove\n",
    "new_x= np.delete(x, mis_inds, axis=0)\n",
    "new_y= np.delete(y, mis_inds, axis=0)\n",
    "print(new_x.shape)\n",
    "print(new_y.shape)"
   ]
  },
  {
   "cell_type": "code",
   "execution_count": 113,
   "id": "a19e6f01",
   "metadata": {},
   "outputs": [
    {
     "name": "stdout",
     "output_type": "stream",
     "text": [
      "Estimated beta1 with full dataset: 0.535506124899345\n",
      "Estimated beta1 after removing subset specified by FH-Gurobi (warm-start): 0.001504687975359893\n"
     ]
    }
   ],
   "source": [
    "# Refit after removing the points specified by NetApprox (these indices are the same).\n",
    "lr = LinearRegression(x=x.T, y=y)\n",
    "lr.fit()\n",
    "\n",
    "print(\n",
    "    f\"Estimated beta1 with full dataset: {lr.beta[1]}\"\n",
    ")  # We care about first coefficient (pop A: y is perfectly correlated (slope=1) with x1.)\n",
    "\n",
    "modified_lr = LinearRegression(x=new_x.T, y=new_y)\n",
    "modified_lr.fit()\n",
    "print(\n",
    "    f\"Estimated beta1 after removing subset specified by FH-Gurobi (warm-start): {modified_lr.beta[1]}\"\n",
    ")"
   ]
  },
  {
   "cell_type": "markdown",
   "id": "a197d89f",
   "metadata": {},
   "source": [
    "### FH-Gurobi"
   ]
  },
  {
   "cell_type": "code",
   "execution_count": 89,
   "id": "02549aae",
   "metadata": {},
   "outputs": [
    {
     "name": "stdout",
     "output_type": "stream",
     "text": [
      "Set parameter NonConvex to value 2\n",
      "Set parameter TimeLimit to value 30\n",
      "Gurobi Optimizer version 12.0.1 build v12.0.1rc0 (mac64[arm] - Darwin 21.6.0 21H1320)\n",
      "\n",
      "CPU model: Apple M1 Pro\n",
      "Thread count: 10 physical cores, 10 logical processors, using up to 10 threads\n",
      "\n",
      "Non-default parameters:\n",
      "TimeLimit  30\n",
      "NonConvex  2\n",
      "\n",
      "Optimize a model with 1 rows, 65542 columns and 1 nonzeros\n",
      "Model fingerprint: 0xccd93744\n",
      "Model has 3 quadratic constraints\n",
      "Variable types: 3 continuous, 65539 integer (65539 binary)\n",
      "Coefficient statistics:\n",
      "  Matrix range     [1e+00, 1e+00]\n",
      "  QMatrix range    [5e-01, 3e+01]\n",
      "  QLMatrix range   [5e-01, 2e+01]\n",
      "  Objective range  [1e+00, 1e+00]\n",
      "  Bounds range     [1e+00, 1e+00]\n",
      "  RHS range        [0e+00, 0e+00]\n",
      "Found heuristic solution: objective -0.0000000\n",
      "Presolve removed 1 rows and 0 columns\n",
      "Presolve time: 0.26s\n",
      "Presolved: 262818 rows, 459766 columns, 791332 nonzeros\n",
      "Presolved model has 262816 SOS constraint(s)\n",
      "Variable types: 262819 continuous, 196947 integer (196947 binary)\n",
      "\n",
      "Root simplex log...\n",
      "\n",
      "Iteration    Objective       Primal Inf.    Dual Inf.      Time\n",
      "       0    6.5539000e+04   0.000000e+00   1.310790e-01      6s\n",
      "\n",
      "Root relaxation: objective 6.553900e+04, 0 iterations, 0.12 seconds (0.19 work units)\n",
      "\n",
      "    Nodes    |    Current Node    |     Objective Bounds      |     Work\n",
      " Expl Unexpl |  Obj  Depth IntInf | Incumbent    BestBd   Gap | It/Node Time\n",
      "\n",
      "H    0     0                    4314.0000000 65539.0000  1419%     -    6s\n",
      "H    0     0                    24007.000000 65539.0000   173%     -    6s\n",
      "     0     0 65539.0000    0    2 24007.0000 65539.0000   173%     -    8s\n",
      "H    0     0                    24008.000000 65539.0000   173%     -   13s\n",
      "H    0     0                    63827.000000 65539.0000  2.68%     -   13s\n",
      "     0     2 65539.0000    0    2 63827.0000 65539.0000  2.68%     -   14s\n",
      "     3     7 65537.0000    2    2 63827.0000 65539.0000  2.68%   1.3   30s\n",
      "\n",
      "Explored 6 nodes (6 simplex iterations) in 30.04 seconds (67.34 work units)\n",
      "Thread count was 10 (of 10 available processors)\n",
      "\n",
      "Solution count 5: 63827 24008 24007 ... -0\n",
      "\n",
      "Time limit reached\n",
      "Best objective 6.382700000000e+04, best bound 6.553900000000e+04, gap 2.6823%\n"
     ]
    }
   ],
   "source": [
    "model_objbound, model_objval, weights, model = algorithms.solve_regression_integral(x,y, intercept=True,time_limit=30, warm_start=None, verbose=True, #beta_sign=1,\n",
    "                            warm_start_ub=None, pairs = None)"
   ]
  },
  {
   "cell_type": "code",
   "execution_count": 90,
   "id": "a98114d1",
   "metadata": {},
   "outputs": [],
   "source": [
    "weights_array = np.array([w.X for w in weights])"
   ]
  },
  {
   "cell_type": "code",
   "execution_count": 91,
   "id": "71b770f1",
   "metadata": {},
   "outputs": [
    {
     "data": {
      "text/plain": [
       "array([    8,    13,    35, ..., 64831, 65056, 65152])"
      ]
     },
     "execution_count": 91,
     "metadata": {},
     "output_type": "execute_result"
    }
   ],
   "source": [
    "# select the indices of the points with weight 0.\n",
    "indices_to_remove = np.where(weights_array == 0)[0]\n",
    "indices_to_remove"
   ]
  },
  {
   "cell_type": "code",
   "execution_count": 92,
   "id": "a6bffb51",
   "metadata": {},
   "outputs": [
    {
     "data": {
      "text/plain": [
       "1712"
      ]
     },
     "execution_count": 92,
     "metadata": {},
     "output_type": "execute_result"
    }
   ],
   "source": [
    "len(indices_to_remove)"
   ]
  },
  {
   "cell_type": "code",
   "execution_count": 93,
   "id": "237cd1c3",
   "metadata": {},
   "outputs": [
    {
     "name": "stdout",
     "output_type": "stream",
     "text": [
      "(63827, 2)\n",
      "(63827,)\n"
     ]
    }
   ],
   "source": [
    "Gurobi_inds=indices_to_remove\n",
    "new_x= np.delete(x, Gurobi_inds, axis=0)\n",
    "new_y= np.delete(y, Gurobi_inds, axis=0)\n",
    "print(new_x.shape)\n",
    "print(new_y.shape)"
   ]
  },
  {
   "cell_type": "code",
   "execution_count": 94,
   "id": "1c470b0a",
   "metadata": {},
   "outputs": [
    {
     "name": "stdout",
     "output_type": "stream",
     "text": [
      "Estimated beta1 with full dataset: 0.535506124899345\n",
      "Estimated beta1 after removing subset specified by gurobi: 0.0\n"
     ]
    }
   ],
   "source": [
    "# Refit after removing the points specified by NetApprox (these indices are the same).\n",
    "lr = LinearRegression(x=x.T, y=y)\n",
    "lr.fit()\n",
    "\n",
    "print(\n",
    "    f\"Estimated beta1 with full dataset: {lr.beta[1]}\"\n",
    ")  # We care about first coefficient (pop A: y is perfectly correlated (slope=1) with x1.)\n",
    "\n",
    "modified_lr_na = LinearRegression(x=new_x.T, y=new_y)\n",
    "modified_lr_na.fit()\n",
    "print(\n",
    "    f\"Estimated beta1 after removing subset specified by gurobi: {modified_lr_na.beta[1]}\"\n",
    ")"
   ]
  },
  {
   "cell_type": "markdown",
   "id": "9a79b307",
   "metadata": {},
   "source": [
    "### Additive Algorithms"
   ]
  },
  {
   "cell_type": "code",
   "execution_count": 114,
   "id": "c8cc71ca",
   "metadata": {},
   "outputs": [],
   "source": [
    "import postprocessing\n",
    "genomics_df = postprocessing.compute_scores(x, y, lr, True)"
   ]
  },
  {
   "cell_type": "code",
   "execution_count": 115,
   "id": "0649967b",
   "metadata": {},
   "outputs": [
    {
     "data": {
      "text/html": [
       "<div>\n",
       "<style scoped>\n",
       "    .dataframe tbody tr th:only-of-type {\n",
       "        vertical-align: middle;\n",
       "    }\n",
       "\n",
       "    .dataframe tbody tr th {\n",
       "        vertical-align: top;\n",
       "    }\n",
       "\n",
       "    .dataframe thead th {\n",
       "        text-align: right;\n",
       "    }\n",
       "</style>\n",
       "<table border=\"1\" class=\"dataframe\">\n",
       "  <thead>\n",
       "    <tr style=\"text-align: right;\">\n",
       "      <th></th>\n",
       "      <th>x</th>\n",
       "      <th>y</th>\n",
       "      <th>residual</th>\n",
       "      <th>leverage</th>\n",
       "      <th>IF</th>\n",
       "      <th>1Exact</th>\n",
       "      <th>sorted_IF_indices</th>\n",
       "      <th>sorted_1Exact_indices</th>\n",
       "      <th>sorted_IF_scores</th>\n",
       "      <th>sorted_1Exact_scores</th>\n",
       "    </tr>\n",
       "  </thead>\n",
       "  <tbody>\n",
       "    <tr>\n",
       "      <th>0</th>\n",
       "      <td>1.0</td>\n",
       "      <td>0.0</td>\n",
       "      <td>-0.043249</td>\n",
       "      <td>0.000015</td>\n",
       "      <td>-2.047092e-07</td>\n",
       "      <td>-2.047123e-07</td>\n",
       "      <td>50331</td>\n",
       "      <td>50331</td>\n",
       "      <td>-0.002169</td>\n",
       "      <td>-0.002187</td>\n",
       "    </tr>\n",
       "    <tr>\n",
       "      <th>1</th>\n",
       "      <td>1.0</td>\n",
       "      <td>0.0</td>\n",
       "      <td>-0.043249</td>\n",
       "      <td>0.000015</td>\n",
       "      <td>-2.047092e-07</td>\n",
       "      <td>-2.047123e-07</td>\n",
       "      <td>19346</td>\n",
       "      <td>19346</td>\n",
       "      <td>-0.002136</td>\n",
       "      <td>-0.002139</td>\n",
       "    </tr>\n",
       "    <tr>\n",
       "      <th>2</th>\n",
       "      <td>1.0</td>\n",
       "      <td>0.0</td>\n",
       "      <td>-0.043249</td>\n",
       "      <td>0.000015</td>\n",
       "      <td>-2.047092e-07</td>\n",
       "      <td>-2.047123e-07</td>\n",
       "      <td>41644</td>\n",
       "      <td>41644</td>\n",
       "      <td>-0.001915</td>\n",
       "      <td>-0.001927</td>\n",
       "    </tr>\n",
       "    <tr>\n",
       "      <th>3</th>\n",
       "      <td>1.0</td>\n",
       "      <td>0.0</td>\n",
       "      <td>-0.043249</td>\n",
       "      <td>0.000015</td>\n",
       "      <td>-2.047092e-07</td>\n",
       "      <td>-2.047123e-07</td>\n",
       "      <td>7460</td>\n",
       "      <td>7460</td>\n",
       "      <td>-0.001913</td>\n",
       "      <td>-0.001920</td>\n",
       "    </tr>\n",
       "    <tr>\n",
       "      <th>4</th>\n",
       "      <td>1.0</td>\n",
       "      <td>0.0</td>\n",
       "      <td>-0.043249</td>\n",
       "      <td>0.000015</td>\n",
       "      <td>-2.047092e-07</td>\n",
       "      <td>-2.047123e-07</td>\n",
       "      <td>24525</td>\n",
       "      <td>24525</td>\n",
       "      <td>-0.001822</td>\n",
       "      <td>-0.001835</td>\n",
       "    </tr>\n",
       "  </tbody>\n",
       "</table>\n",
       "</div>"
      ],
      "text/plain": [
       "     x    y  residual  leverage            IF        1Exact  \\\n",
       "0  1.0  0.0 -0.043249  0.000015 -2.047092e-07 -2.047123e-07   \n",
       "1  1.0  0.0 -0.043249  0.000015 -2.047092e-07 -2.047123e-07   \n",
       "2  1.0  0.0 -0.043249  0.000015 -2.047092e-07 -2.047123e-07   \n",
       "3  1.0  0.0 -0.043249  0.000015 -2.047092e-07 -2.047123e-07   \n",
       "4  1.0  0.0 -0.043249  0.000015 -2.047092e-07 -2.047123e-07   \n",
       "\n",
       "   sorted_IF_indices  sorted_1Exact_indices  sorted_IF_scores  \\\n",
       "0              50331                  50331         -0.002169   \n",
       "1              19346                  19346         -0.002136   \n",
       "2              41644                  41644         -0.001915   \n",
       "3               7460                   7460         -0.001913   \n",
       "4              24525                  24525         -0.001822   \n",
       "\n",
       "   sorted_1Exact_scores  \n",
       "0             -0.002187  \n",
       "1             -0.002139  \n",
       "2             -0.001927  \n",
       "3             -0.001920  \n",
       "4             -0.001835  "
      ]
     },
     "execution_count": 115,
     "metadata": {},
     "output_type": "execute_result"
    }
   ],
   "source": [
    "genomics_df.head()"
   ]
  },
  {
   "cell_type": "code",
   "execution_count": 133,
   "id": "e5c272d3",
   "metadata": {},
   "outputs": [
    {
     "name": "stdout",
     "output_type": "stream",
     "text": [
      "The AMIP approximation of the refit is 0.4514.\n",
      "The Add-1Exact for the change induced by dropping the worst-case subset of size 172 is 0.451.\n"
     ]
    }
   ],
   "source": [
    "print(f'The AMIP approximation of the refit is {round(lr.beta[1] + sum(genomics_df[\"sorted_IF_scores\"][:656]), 4)}.')\n",
    "print(f'The Add-1Exact for the change induced by dropping the worst-case subset of size 172 is {round(lr.beta[1] + sum(genomics_df[\"sorted_1Exact_scores\"][:656]), 4)}.')"
   ]
  },
  {
   "cell_type": "code",
   "execution_count": 134,
   "id": "65f1da72",
   "metadata": {},
   "outputs": [],
   "source": [
    "amip_inds = genomics_df['sorted_IF_indices'][:656].values\n",
    "oneexact_inds = genomics_df['sorted_1Exact_indices'][:656].values"
   ]
  },
  {
   "cell_type": "code",
   "execution_count": 135,
   "id": "2ca3061f",
   "metadata": {},
   "outputs": [
    {
     "name": "stdout",
     "output_type": "stream",
     "text": [
      "(64883, 2)\n",
      "(64883,)\n",
      "(64883, 2)\n",
      "(64883,)\n"
     ]
    }
   ],
   "source": [
    "#### Refit after Removing Flagged Points.\n",
    "new_amip_x= np.delete(x, amip_inds, axis=0)\n",
    "new_amip_y= np.delete(y, amip_inds, axis=0)\n",
    "print(new_amip_x.shape)\n",
    "print(new_amip_y.shape)\n",
    "\n",
    "new_1exact_x= np.delete(x, oneexact_inds, axis=0)\n",
    "new_1exact_y= np.delete(y, oneexact_inds, axis=0)\n",
    "print(new_1exact_x.shape)\n",
    "print(new_1exact_y.shape)"
   ]
  },
  {
   "cell_type": "code",
   "execution_count": 136,
   "id": "a88a6a8b",
   "metadata": {},
   "outputs": [
    {
     "name": "stdout",
     "output_type": "stream",
     "text": [
      "Estimated beta1 with full dataset: 0.535506124899345\n",
      "Estimated beta1 after removing subset selected using AMIP: 0.3550494805831138\n",
      "Estimated beta1 after removing subset selected using 1Exact: 0.3550494805831138\n"
     ]
    }
   ],
   "source": [
    "# Refit after removing the points specified by AMIP (these indices are the same).\n",
    "lr = LinearRegression(x=x.T, y=y)\n",
    "lr.fit()\n",
    "\n",
    "print(\n",
    "    f\"Estimated beta1 with full dataset: {lr.beta[1]}\"\n",
    ")  # We care about first coefficient (pop A: y is perfectly correlated (slope=1) with x1.)\n",
    "\n",
    "modified_lr_AMIP = LinearRegression(x=new_amip_x.T, y=new_amip_y)\n",
    "modified_lr_AMIP.fit()\n",
    "print(\n",
    "    f\"Estimated beta1 after removing subset selected using AMIP: {modified_lr_AMIP.beta[1]}\"\n",
    ")\n",
    "modified_lr_1Exact = LinearRegression(x=new_1exact_x.T, y=new_1exact_y)\n",
    "modified_lr_1Exact.fit()\n",
    "print(\n",
    "    f\"Estimated beta1 after removing subset selected using 1Exact: {modified_lr_1Exact.beta[1]}\"\n",
    ")"
   ]
  },
  {
   "cell_type": "markdown",
   "id": "0be7a691",
   "metadata": {},
   "source": [
    "### Greedy Algorithms"
   ]
  },
  {
   "cell_type": "code",
   "execution_count": 124,
   "id": "605599ac",
   "metadata": {},
   "outputs": [
    {
     "name": "stdout",
     "output_type": "stream",
     "text": [
      "inds [50331 19346 41644  7460 24525  3639 24456 46364 27169 35000]\n",
      "newton_inds [50331 19346 41644  7460 24525  3639 24456 46364 27169 35000]\n"
     ]
    }
   ],
   "source": [
    "# store the original x and y.\n",
    "orig_x = x\n",
    "orig_y = y\n",
    "\n",
    "# compute scores for initial round of the greedy algorithm.\n",
    "orig_df, if_inds, if_scores, newton_inds, newton_scores = postprocessing.create_orig_df(orig_x, orig_y, lr, True)\n",
    "\n",
    "orig_inds_if = if_inds\n",
    "orig_inds_newton = newton_inds\n",
    "# compute influence scores.\n",
    "if_scores = -lr.influence_scores()[1]\n",
    "# sort indices in ascending order.\n",
    "if_inds = np.argsort(if_scores)\n",
    "print(\"inds\", if_inds[:10])\n",
    "newton_inds = np.argsort(newton_scores)\n",
    "print(\"newton_inds\", newton_inds[:10])\n",
    "\n",
    "# reset greedy loop.\n",
    "x = orig_x\n",
    "y = orig_y"
   ]
  },
  {
   "cell_type": "code",
   "execution_count": 125,
   "id": "c48ecd72",
   "metadata": {},
   "outputs": [
    {
     "name": "stdout",
     "output_type": "stream",
     "text": [
      "iteration 0\n",
      "index to remove (original): 50331\n",
      "fitted beta1: 0.5333194020391456\n",
      "iteration 1\n",
      "index to remove (original): 19346\n",
      "fitted beta1: 0.5311605962951701\n",
      "iteration 2\n",
      "index to remove (original): 41644\n",
      "fitted beta1: 0.5291853562310866\n",
      "iteration 3\n",
      "index to remove (original): 7460\n",
      "fitted beta1: 0.5272126622335825\n",
      "iteration 4\n",
      "index to remove (original): 24525\n",
      "fitted beta1: 0.525282225042158\n",
      "iteration 5\n",
      "index to remove (original): 3639\n",
      "fitted beta1: 0.5234422179747107\n",
      "iteration 6\n",
      "index to remove (original): 24456\n",
      "fitted beta1: 0.5216084197567552\n",
      "iteration 7\n",
      "index to remove (original): 46364\n",
      "fitted beta1: 0.5198482308546463\n",
      "iteration 8\n",
      "index to remove (original): 35000\n",
      "fitted beta1: 0.5180751217198887\n",
      "iteration 9\n",
      "index to remove (original): 27169\n",
      "fitted beta1: 0.5163071077367091\n",
      "iteration 10\n",
      "index to remove (original): 37304\n",
      "fitted beta1: 0.5146479555656105\n",
      "iteration 11\n",
      "index to remove (original): 24281\n",
      "fitted beta1: 0.5130635232511205\n",
      "iteration 12\n",
      "index to remove (original): 32880\n",
      "fitted beta1: 0.5114500793656791\n",
      "iteration 13\n",
      "index to remove (original): 14631\n",
      "fitted beta1: 0.5098285942304502\n",
      "iteration 14\n",
      "index to remove (original): 29682\n",
      "fitted beta1: 0.508230902235585\n",
      "iteration 15\n",
      "index to remove (original): 32988\n",
      "fitted beta1: 0.5066208655922224\n",
      "iteration 16\n",
      "index to remove (original): 48670\n",
      "fitted beta1: 0.505056256910216\n",
      "iteration 17\n",
      "index to remove (original): 40289\n",
      "fitted beta1: 0.5035038555985504\n",
      "iteration 18\n",
      "index to remove (original): 47202\n",
      "fitted beta1: 0.5019449953745407\n",
      "iteration 19\n",
      "index to remove (original): 61224\n",
      "fitted beta1: 0.5003763625694682\n",
      "iteration 20\n",
      "index to remove (original): 55155\n",
      "fitted beta1: 0.498791417748599\n",
      "iteration 21\n",
      "index to remove (original): 35138\n",
      "fitted beta1: 0.4972262687588615\n",
      "iteration 22\n",
      "index to remove (original): 21422\n",
      "fitted beta1: 0.49565747876491084\n",
      "iteration 23\n",
      "index to remove (original): 3948\n",
      "fitted beta1: 0.4940987741868686\n",
      "iteration 24\n",
      "index to remove (original): 30047\n",
      "fitted beta1: 0.49254403899844634\n",
      "iteration 25\n",
      "index to remove (original): 22056\n",
      "fitted beta1: 0.4909749027762066\n",
      "iteration 26\n",
      "index to remove (original): 45641\n",
      "fitted beta1: 0.48939904762058234\n",
      "iteration 27\n",
      "index to remove (original): 42304\n",
      "fitted beta1: 0.48782217916804504\n",
      "iteration 28\n",
      "index to remove (original): 22067\n",
      "fitted beta1: 0.48622760978711993\n",
      "iteration 29\n",
      "index to remove (original): 26704\n",
      "fitted beta1: 0.484616595873015\n",
      "iteration 30\n",
      "index to remove (original): 53177\n",
      "fitted beta1: 0.48298722984604275\n",
      "iteration 31\n",
      "index to remove (original): 53819\n",
      "fitted beta1: 0.4813602639495215\n",
      "iteration 32\n",
      "index to remove (original): 54717\n",
      "fitted beta1: 0.4797487217105292\n",
      "iteration 33\n",
      "index to remove (original): 56739\n",
      "fitted beta1: 0.4781089593628047\n",
      "iteration 34\n",
      "index to remove (original): 39648\n",
      "fitted beta1: 0.47650973432052435\n",
      "iteration 35\n",
      "index to remove (original): 27212\n",
      "fitted beta1: 0.47489403531944224\n",
      "iteration 36\n",
      "index to remove (original): 3983\n",
      "fitted beta1: 0.4732573010625769\n",
      "iteration 37\n",
      "index to remove (original): 63446\n",
      "fitted beta1: 0.4716217613093496\n",
      "iteration 38\n",
      "index to remove (original): 7630\n",
      "fitted beta1: 0.46998058512568625\n",
      "iteration 39\n",
      "index to remove (original): 32941\n",
      "fitted beta1: 0.4683082234987692\n",
      "iteration 40\n",
      "index to remove (original): 19291\n",
      "fitted beta1: 0.46664230895540376\n",
      "iteration 41\n",
      "index to remove (original): 11532\n",
      "fitted beta1: 0.464969166076339\n",
      "iteration 42\n",
      "index to remove (original): 22536\n",
      "fitted beta1: 0.4633081231999316\n",
      "iteration 43\n",
      "index to remove (original): 19957\n",
      "fitted beta1: 0.4616156365932515\n",
      "iteration 44\n",
      "index to remove (original): 8413\n",
      "fitted beta1: 0.45994113180488394\n",
      "iteration 45\n",
      "index to remove (original): 10239\n",
      "fitted beta1: 0.4582477514182082\n",
      "iteration 46\n",
      "index to remove (original): 27187\n",
      "fitted beta1: 0.4565330382558847\n",
      "iteration 47\n",
      "index to remove (original): 39149\n",
      "fitted beta1: 0.4548601280846993\n",
      "iteration 48\n",
      "index to remove (original): 29967\n",
      "fitted beta1: 0.4531527649407377\n",
      "iteration 49\n",
      "index to remove (original): 30918\n",
      "fitted beta1: 0.4514307042816359\n",
      "iteration 50\n",
      "index to remove (original): 36145\n",
      "fitted beta1: 0.449696444546908\n",
      "iteration 51\n",
      "index to remove (original): 63681\n",
      "fitted beta1: 0.44797428398604944\n",
      "iteration 52\n",
      "index to remove (original): 49651\n",
      "fitted beta1: 0.4462408595233828\n",
      "iteration 53\n",
      "index to remove (original): 56951\n",
      "fitted beta1: 0.4444855648455545\n",
      "iteration 54\n",
      "index to remove (original): 22368\n",
      "fitted beta1: 0.4427605383836999\n",
      "iteration 55\n",
      "index to remove (original): 3051\n",
      "fitted beta1: 0.44102170111082484\n",
      "iteration 56\n",
      "index to remove (original): 19054\n",
      "fitted beta1: 0.4392755468151285\n",
      "iteration 57\n",
      "index to remove (original): 7733\n",
      "fitted beta1: 0.43753648009576007\n",
      "iteration 58\n",
      "index to remove (original): 45801\n",
      "fitted beta1: 0.4357956224804742\n",
      "iteration 59\n",
      "index to remove (original): 37504\n",
      "fitted beta1: 0.4340548903426594\n",
      "iteration 60\n",
      "index to remove (original): 19520\n",
      "fitted beta1: 0.4322896988106713\n",
      "iteration 61\n",
      "index to remove (original): 17595\n",
      "fitted beta1: 0.43049234652523327\n",
      "iteration 62\n",
      "index to remove (original): 52933\n",
      "fitted beta1: 0.42867783569235185\n",
      "iteration 63\n",
      "index to remove (original): 56650\n",
      "fitted beta1: 0.42683798217605845\n",
      "iteration 64\n",
      "index to remove (original): 40202\n",
      "fitted beta1: 0.42496031486375563\n",
      "iteration 65\n",
      "index to remove (original): 35213\n",
      "fitted beta1: 0.4230671899310612\n",
      "iteration 66\n",
      "index to remove (original): 11587\n",
      "fitted beta1: 0.421143768320367\n",
      "iteration 67\n",
      "index to remove (original): 884\n",
      "fitted beta1: 0.4192007683748246\n",
      "iteration 68\n",
      "index to remove (original): 18777\n",
      "fitted beta1: 0.417236543561544\n",
      "iteration 69\n",
      "index to remove (original): 61453\n",
      "fitted beta1: 0.41528301805815016\n",
      "iteration 70\n",
      "index to remove (original): 36360\n",
      "fitted beta1: 0.4133159422889679\n",
      "iteration 71\n",
      "index to remove (original): 21842\n",
      "fitted beta1: 0.4113281490990629\n",
      "iteration 72\n",
      "index to remove (original): 50297\n",
      "fitted beta1: 0.40932243409943264\n",
      "iteration 73\n",
      "index to remove (original): 10988\n",
      "fitted beta1: 0.4073175676144865\n",
      "iteration 74\n",
      "index to remove (original): 35170\n",
      "fitted beta1: 0.4053186787166062\n",
      "iteration 75\n",
      "index to remove (original): 32085\n",
      "fitted beta1: 0.4033222953585508\n",
      "iteration 76\n",
      "index to remove (original): 41478\n",
      "fitted beta1: 0.4012959015783891\n",
      "iteration 77\n",
      "index to remove (original): 32270\n",
      "fitted beta1: 0.3992825430359298\n",
      "iteration 78\n",
      "index to remove (original): 53440\n",
      "fitted beta1: 0.3972868689691282\n",
      "iteration 79\n",
      "index to remove (original): 17552\n",
      "fitted beta1: 0.3952690962952324\n",
      "iteration 80\n",
      "index to remove (original): 24603\n",
      "fitted beta1: 0.3932448099627758\n",
      "iteration 81\n",
      "index to remove (original): 30179\n",
      "fitted beta1: 0.39119671138040096\n",
      "iteration 82\n",
      "index to remove (original): 19433\n",
      "fitted beta1: 0.3890851679651533\n",
      "iteration 83\n",
      "index to remove (original): 35129\n",
      "fitted beta1: 0.38693033110624725\n",
      "iteration 84\n",
      "index to remove (original): 61220\n",
      "fitted beta1: 0.3847483690802118\n",
      "iteration 85\n",
      "index to remove (original): 21498\n",
      "fitted beta1: 0.38257419989485264\n",
      "iteration 86\n",
      "index to remove (original): 4023\n",
      "fitted beta1: 0.3804041556808567\n",
      "iteration 87\n",
      "index to remove (original): 36531\n",
      "fitted beta1: 0.3782459872149104\n",
      "iteration 88\n",
      "index to remove (original): 1250\n",
      "fitted beta1: 0.3760654228185671\n",
      "iteration 89\n",
      "index to remove (original): 22198\n",
      "fitted beta1: 0.3738617425406304\n",
      "iteration 90\n",
      "index to remove (original): 11917\n",
      "fitted beta1: 0.3717216522205192\n",
      "iteration 91\n",
      "index to remove (original): 22431\n",
      "fitted beta1: 0.3695945229651727\n",
      "iteration 92\n",
      "index to remove (original): 26723\n",
      "fitted beta1: 0.3674433927042859\n",
      "iteration 93\n",
      "index to remove (original): 229\n",
      "fitted beta1: 0.3652846321659343\n",
      "iteration 94\n",
      "index to remove (original): 19668\n",
      "fitted beta1: 0.3630348186519799\n",
      "iteration 95\n",
      "index to remove (original): 48169\n",
      "fitted beta1: 0.3607827271665695\n",
      "iteration 96\n",
      "index to remove (original): 46859\n",
      "fitted beta1: 0.3584526371651925\n",
      "iteration 97\n",
      "index to remove (original): 19404\n",
      "fitted beta1: 0.35604695113606954\n",
      "iteration 98\n",
      "index to remove (original): 17810\n",
      "fitted beta1: 0.35355610184074826\n",
      "iteration 99\n",
      "index to remove (original): 32869\n",
      "fitted beta1: 0.35102557234596427\n",
      "iteration 100\n",
      "index to remove (original): 19598\n",
      "fitted beta1: 0.3484124387383347\n",
      "iteration 101\n",
      "index to remove (original): 19472\n",
      "fitted beta1: 0.3457528418626199\n",
      "iteration 102\n",
      "index to remove (original): 8679\n",
      "fitted beta1: 0.34306186246954523\n",
      "iteration 103\n",
      "index to remove (original): 24570\n",
      "fitted beta1: 0.3403188656547021\n",
      "iteration 104\n",
      "index to remove (original): 23116\n",
      "fitted beta1: 0.33766038116725106\n",
      "iteration 105\n",
      "index to remove (original): 14842\n",
      "fitted beta1: 0.33495898313128614\n",
      "iteration 106\n",
      "index to remove (original): 36598\n",
      "fitted beta1: 0.33219145398178335\n",
      "iteration 107\n",
      "index to remove (original): 8047\n",
      "fitted beta1: 0.32932076034269153\n",
      "iteration 108\n",
      "index to remove (original): 61310\n",
      "fitted beta1: 0.3263471728892974\n",
      "iteration 109\n",
      "index to remove (original): 35149\n",
      "fitted beta1: 0.3233130312136229\n",
      "iteration 110\n",
      "index to remove (original): 37524\n",
      "fitted beta1: 0.3201874184308004\n",
      "iteration 111\n",
      "index to remove (original): 9122\n",
      "fitted beta1: 0.31696326940010766\n",
      "iteration 112\n",
      "index to remove (original): 19653\n",
      "fitted beta1: 0.31362769517405853\n",
      "iteration 113\n",
      "index to remove (original): 27267\n",
      "fitted beta1: 0.3101419534138726\n",
      "iteration 114\n",
      "index to remove (original): 368\n",
      "fitted beta1: 0.30656236915818835\n",
      "iteration 115\n",
      "index to remove (original): 48453\n",
      "fitted beta1: 0.30289381701861146\n",
      "iteration 116\n",
      "index to remove (original): 31123\n",
      "fitted beta1: 0.29911095736048343\n",
      "iteration 117\n",
      "index to remove (original): 55128\n",
      "fitted beta1: 0.2953466589898652\n",
      "iteration 118\n",
      "index to remove (original): 61268\n",
      "fitted beta1: 0.29146966090443405\n",
      "iteration 119\n",
      "index to remove (original): 29680\n",
      "fitted beta1: 0.28743143216440725\n",
      "iteration 120\n",
      "index to remove (original): 38153\n",
      "fitted beta1: 0.28369762509284124\n",
      "iteration 121\n",
      "index to remove (original): 176\n",
      "fitted beta1: 0.2799230673950357\n",
      "iteration 122\n",
      "index to remove (original): 36821\n",
      "fitted beta1: 0.27614959850952103\n",
      "iteration 123\n",
      "index to remove (original): 5534\n",
      "fitted beta1: 0.27226581552849105\n",
      "iteration 124\n",
      "index to remove (original): 57112\n",
      "fitted beta1: 0.2682737284758492\n",
      "iteration 125\n",
      "index to remove (original): 37056\n",
      "fitted beta1: 0.2641627095928233\n",
      "iteration 126\n",
      "index to remove (original): 56970\n",
      "fitted beta1: 0.25995293275568604\n",
      "iteration 127\n",
      "index to remove (original): 1106\n",
      "fitted beta1: 0.25560223383069863\n",
      "iteration 128\n",
      "index to remove (original): 62090\n",
      "fitted beta1: 0.2511269616188962\n",
      "iteration 129\n",
      "index to remove (original): 30450\n",
      "fitted beta1: 0.24651007366590058\n",
      "iteration 130\n",
      "index to remove (original): 49255\n",
      "fitted beta1: 0.24170655899552249\n",
      "iteration 131\n",
      "index to remove (original): 11543\n",
      "fitted beta1: 0.23671431816907149\n",
      "iteration 132\n",
      "index to remove (original): 35465\n",
      "fitted beta1: 0.23161833403954252\n",
      "iteration 133\n",
      "index to remove (original): 1194\n",
      "fitted beta1: 0.2271087946874594\n",
      "iteration 134\n",
      "index to remove (original): 16141\n",
      "fitted beta1: 0.22296382741104004\n",
      "iteration 135\n",
      "index to remove (original): 22728\n",
      "fitted beta1: 0.21866609743914248\n",
      "iteration 136\n",
      "index to remove (original): 1426\n",
      "fitted beta1: 0.21424846734278677\n",
      "iteration 137\n",
      "index to remove (original): 64025\n",
      "fitted beta1: 0.20965063172263573\n",
      "iteration 138\n",
      "index to remove (original): 19691\n",
      "fitted beta1: 0.20491426551771774\n",
      "iteration 139\n",
      "index to remove (original): 21374\n",
      "fitted beta1: 0.19993238912889397\n",
      "iteration 140\n",
      "index to remove (original): 35390\n",
      "fitted beta1: 0.1949931932540904\n",
      "iteration 141\n",
      "index to remove (original): 682\n",
      "fitted beta1: 0.19001564720746392\n",
      "iteration 142\n",
      "index to remove (original): 27008\n",
      "fitted beta1: 0.18471409863495705\n",
      "iteration 143\n",
      "index to remove (original): 35308\n",
      "fitted beta1: 0.17910099250750153\n",
      "iteration 144\n",
      "index to remove (original): 40854\n",
      "fitted beta1: 0.17409829437508803\n",
      "iteration 145\n",
      "index to remove (original): 51334\n",
      "fitted beta1: 0.16904261755094935\n",
      "iteration 146\n",
      "index to remove (original): 35744\n",
      "fitted beta1: 0.16426255248482435\n",
      "iteration 147\n",
      "index to remove (original): 23135\n",
      "fitted beta1: 0.15941746225088568\n",
      "iteration 148\n",
      "index to remove (original): 48044\n",
      "fitted beta1: 0.15424687357107497\n",
      "iteration 149\n",
      "index to remove (original): 30325\n",
      "fitted beta1: 0.14875130114319235\n",
      "iteration 150\n",
      "index to remove (original): 19824\n",
      "fitted beta1: 0.1429145120673005\n",
      "iteration 151\n",
      "index to remove (original): 17660\n",
      "fitted beta1: 0.1365820518572361\n",
      "iteration 152\n",
      "index to remove (original): 48822\n",
      "fitted beta1: 0.12972278667556483\n",
      "iteration 153\n",
      "index to remove (original): 41262\n",
      "fitted beta1: 0.12239658383455063\n",
      "iteration 154\n",
      "index to remove (original): 49959\n",
      "fitted beta1: 0.11521272682353091\n",
      "iteration 155\n",
      "index to remove (original): 873\n",
      "fitted beta1: 0.10786064779827531\n",
      "iteration 156\n",
      "index to remove (original): 14412\n",
      "fitted beta1: 0.10094284265263455\n",
      "iteration 157\n",
      "index to remove (original): 46000\n",
      "fitted beta1: 0.09414191342227424\n",
      "iteration 158\n",
      "index to remove (original): 3321\n",
      "fitted beta1: 0.0876710262660018\n",
      "iteration 159\n",
      "index to remove (original): 35682\n",
      "fitted beta1: 0.08110039801536376\n",
      "iteration 160\n",
      "index to remove (original): 20232\n",
      "fitted beta1: 0.07542095264695525\n",
      "iteration 161\n",
      "index to remove (original): 51012\n",
      "fitted beta1: 0.06922097527798535\n",
      "iteration 162\n",
      "index to remove (original): 64703\n",
      "fitted beta1: 0.0624827065939865\n",
      "iteration 163\n",
      "index to remove (original): 32583\n",
      "fitted beta1: 0.055171223363143077\n",
      "iteration 164\n",
      "index to remove (original): 62735\n",
      "fitted beta1: 0.04751638668857721\n",
      "iteration 165\n",
      "index to remove (original): 39042\n",
      "fitted beta1: 0.040445802102778435\n",
      "iteration 166\n",
      "index to remove (original): 36162\n",
      "fitted beta1: 0.03328989616894234\n",
      "iteration 167\n",
      "index to remove (original): 3379\n",
      "fitted beta1: 0.026466799953910176\n",
      "iteration 168\n",
      "index to remove (original): 21591\n",
      "fitted beta1: 0.01968239633729894\n",
      "iteration 169\n",
      "index to remove (original): 30461\n",
      "fitted beta1: 0.013578041996863553\n",
      "iteration 170\n",
      "index to remove (original): 434\n",
      "fitted beta1: 0.007440234979432492\n",
      "iteration 171\n",
      "index to remove (original): 28124\n",
      "fitted beta1: 0.001504687975359893\n",
      "iteration 172\n",
      "index to remove (original): 3680\n",
      "fitted beta1: -0.0027255263567384767\n",
      "iteration 173\n",
      "index to remove (original): 6052\n",
      "fitted beta1: -0.006979401122618222\n",
      "iteration 174\n",
      "index to remove (original): 4358\n",
      "fitted beta1: -0.011257135385285071\n",
      "iteration 175\n",
      "index to remove (original): 49956\n",
      "fitted beta1: -0.015558930447037489\n",
      "iteration 176\n",
      "index to remove (original): 5591\n",
      "fitted beta1: -0.019884989881139247\n",
      "iteration 177\n",
      "index to remove (original): 55688\n",
      "fitted beta1: -0.024239835897871046\n",
      "iteration 178\n",
      "index to remove (original): 6441\n",
      "fitted beta1: -0.02865721780488527\n",
      "iteration 179\n",
      "index to remove (original): 33580\n",
      "fitted beta1: -0.03142106768278947\n",
      "iteration 180\n",
      "index to remove (original): 61802\n",
      "fitted beta1: -0.034200821815411765\n",
      "iteration 181\n",
      "index to remove (original): 35448\n",
      "fitted beta1: -0.03699661787764234\n",
      "iteration 182\n",
      "index to remove (original): 30889\n",
      "fitted beta1: -0.03833034804505321\n",
      "iteration 183\n",
      "index to remove (original): 49820\n",
      "fitted beta1: -0.039766335128342\n",
      "iteration 184\n",
      "index to remove (original): 57283\n",
      "fitted beta1: -0.04115837268840815\n"
     ]
    }
   ],
   "source": [
    "# run greedy\n",
    "dropped_order, exact_changes_beta, beta_estimates_greedy = algorithms.Run_Greedy(orig_x, orig_y, orig_inds_if, orig_inds_newton, lr, True, method='1Exact')"
   ]
  },
  {
   "cell_type": "code",
   "execution_count": 126,
   "id": "031dd5de",
   "metadata": {},
   "outputs": [
    {
     "data": {
      "text/plain": [
       "-0.0027255263567384767"
      ]
     },
     "execution_count": 126,
     "metadata": {},
     "output_type": "execute_result"
    }
   ],
   "source": [
    "beta_estimates_greedy[172]"
   ]
  },
  {
   "cell_type": "code",
   "execution_count": 127,
   "id": "9d84102e",
   "metadata": {},
   "outputs": [],
   "source": [
    "greedy_inds = dropped_order[:173]"
   ]
  },
  {
   "cell_type": "code",
   "execution_count": 128,
   "id": "3aa55fc0",
   "metadata": {},
   "outputs": [
    {
     "data": {
      "text/plain": [
       "((65539, 2), (65366, 2))"
      ]
     },
     "execution_count": 128,
     "metadata": {},
     "output_type": "execute_result"
    }
   ],
   "source": [
    "#### Refit after Removing Flagged Points.\n",
    "new_x= np.delete(orig_x, greedy_inds, axis=0)\n",
    "new_y= np.delete(orig_y, greedy_inds, axis=0)\n",
    "orig_x.shape, new_x.shape"
   ]
  },
  {
   "cell_type": "code",
   "execution_count": 129,
   "id": "ec5aebc7",
   "metadata": {},
   "outputs": [
    {
     "name": "stdout",
     "output_type": "stream",
     "text": [
      "Estimated beta1 with full dataset: 0.535506124899345\n",
      "Estimated beta1 after removing subset: -0.0027255263567384767\n"
     ]
    }
   ],
   "source": [
    "# Refit after removing the points specified by NetApprox (these indices are the same).\n",
    "lr = LinearRegression(x=orig_x.T, y=orig_y)\n",
    "lr.fit()\n",
    "\n",
    "print(\n",
    "    f\"Estimated beta1 with full dataset: {lr.beta[1]}\"\n",
    ")  # We care about first coefficient (pop A: y is perfectly correlated (slope=1) with x1.)\n",
    "\n",
    "modified_lr = LinearRegression(x=new_x.T, y=new_y)\n",
    "modified_lr.fit()\n",
    "print(\n",
    "    f\"Estimated beta1 after removing subset: {modified_lr.beta[1]}\"\n",
    ")"
   ]
  },
  {
   "cell_type": "code",
   "execution_count": 130,
   "id": "55af2f52",
   "metadata": {},
   "outputs": [],
   "source": [
    "# retrieve all x values that that are in mis_inds.\n",
    "mis_df = genome_data.iloc[greedy_inds]\n",
    "# retrieve the x values.\n",
    "mis_x = mis_df['vip'].to_numpy()\n",
    "# retrieve the y values.\n",
    "mis_y = mis_df['gad1'].to_numpy()\n",
    "\n",
    "# retrieve the x values that are not in mis_inds.\n",
    "not_mis_df = genome_data.drop(greedy_inds)\n",
    "# retrieve the x values.\n",
    "not_mis_x = not_mis_df['vip'].to_numpy()\n",
    "# retrieve the y values.\n",
    "not_mis_y = not_mis_df['gad1'].to_numpy()"
   ]
  },
  {
   "cell_type": "code",
   "execution_count": null,
   "id": "e6568346",
   "metadata": {},
   "outputs": [
    {
     "data": {
      "image/png": "[encoded data removed]",
      "text/plain": [
       "<Figure size 900x700 with 1 Axes>"
      ]
     },
     "metadata": {},
     "output_type": "display_data"
    }
   ],
   "source": [
    "### create scatter plot.\n",
    "plt.figure(figsize=(9, 7))\n",
    "\n",
    "plt.scatter(not_mis_x, not_mis_y, marker='x', color='red', label='Kept by Greedy', s=56)\n",
    "plt.scatter(mis_x, mis_y, marker='o', color='black', label='Dropped by Greedy', s=56)\n",
    "\n",
    "x_values = np.linspace(-1, 7, 100)\n",
    "y_values_full = lr.beta[1] * x_values + lr.beta[0]\n",
    "y_value_red_crosses = modified_lr.beta[1] * x_values + modified_lr.beta[0]\n",
    "plt.plot(x_values, y_values_full, color='black', linestyle='--') \n",
    "plt.plot(x_values, y_value_red_crosses, color='black')\n",
    "\n",
    "plt.xlabel('Vip', fontsize=26)\n",
    "plt.ylabel('Gad1', fontsize=26)\n",
    "\n",
    "plt.xticks(fontsize=22) \n",
    "plt.yticks(fontsize=22)\n",
    "# plt.legend(fontsize=22)\n",
    "# plt.savefig('genomics_scatter.pdf')\n",
    "plt.show()"
   ]
  }
 ],
 "metadata": {
  "kernelspec": {
   "display_name": "base",
   "language": "python",
   "name": "python3"
  },
  "language_info": {
   "codemirror_mode": {
    "name": "ipython",
    "version": 3
   },
   "file_extension": ".py",
   "mimetype": "text/x-python",
   "name": "python",
   "nbconvert_exporter": "python",
   "pygments_lexer": "ipython3",
   "version": "3.10.12"
  }
 },
 "nbformat": 4,
 "nbformat_minor": 5
}
