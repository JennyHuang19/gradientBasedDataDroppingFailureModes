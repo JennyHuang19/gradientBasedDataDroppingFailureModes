{
 "cells": [
  {
   "cell_type": "code",
   "execution_count": 1,
   "metadata": {},
   "outputs": [],
   "source": [
    "from dataclasses import dataclass\n",
    "from typing import Optional, Tuple\n",
    "\n",
    "import numpy as np\n",
    "import numpy.typing\n",
    "\n",
    "import numpy as np\n",
    "import matplotlib.pyplot as plt\n",
    "import pandas as pd\n",
    "import linear_regression\n",
    "from linear_regression import LinearRegression"
   ]
  },
  {
   "cell_type": "markdown",
   "metadata": {},
   "source": [
    "# Helper Functions"
   ]
  },
  {
   "cell_type": "code",
   "execution_count": 2,
   "metadata": {},
   "outputs": [],
   "source": [
    "def create_orig_df(x, lr):\n",
    "    '''\n",
    "    x: design matrix.\n",
    "    lr: linear regression object.\n",
    "    '''\n",
    "    scores = -lr.influence_scores()[1]\n",
    "    newton_scores = -lr.one_step_newton()[1]\n",
    "\n",
    "    # sort indices in ascending order (influence scores are negative, so the largest magnitude scores appear first.)\n",
    "    inds = np.argsort(scores)\n",
    "    print(\"inds\", inds[:10])\n",
    "    original_inds = inds # original_inds\n",
    "\n",
    "    newton_inds = np.argsort(newton_scores)\n",
    "    print(\"newton inds\", newton_inds[:10])\n",
    "    original_newton_inds = newton_inds \n",
    "\n",
    "    # sort scores.\n",
    "    sorted_scores = scores[inds]\n",
    "    print(\"sorted_scores\", sorted(scores)[:10])\n",
    "    original_sorted_scores = sorted_scores\n",
    "\n",
    "    sorted_newton_scores = newton_scores[inds]\n",
    "    print(\"sorted_newton_scores\", sorted_newton_scores[:10])\n",
    "    original_sorted_newton_scores = sorted_newton_scores\n",
    "\n",
    "    # residuals\n",
    "    residuals = lr.residual()\n",
    "    # print(\"residuals\", residuals[:10])\n",
    "    # leverages\n",
    "    leverages = lr.leverage_scores()\n",
    "    # print(\"leverages\", leverages[:10])\n",
    "\n",
    "    # x's\n",
    "    intercept = [pt[0] for pt in x]\n",
    "    x1 = [pt[1] for pt in x]\n",
    "    # x2 = [pt[2] for pt in x]\n",
    "\n",
    "    # x1 = [pt[0] for pt in x]\n",
    "    # x2 = [pt[1] for pt in x]\n",
    "\n",
    "    # create a df with residuals, leverages, and coordinates.\n",
    "    orig_df = pd.DataFrame({'x1': x1, 'y': y, \n",
    "                                      'residual': residuals, 'leverage': leverages, \n",
    "                            'influence': scores, 'newton': newton_scores})\n",
    "    \n",
    "    print(orig_df[:13])\n",
    "    \n",
    "    return orig_df, inds, scores, newton_inds, newton_scores\n",
    "\n",
    "\n",
    "def create_plot(orig_df):\n",
    "    '''\n",
    "    orig_df: output from the helper function above.\n",
    "    '''\n",
    "    \n",
    "    # IV. Sort DF by influence score\n",
    "    sorted_if_df = orig_df.sort_values(by='influence', ascending=True)\n",
    "    print(\"index 0 in create_plot\", sorted_if_df.index[0])\n",
    "    \n",
    "    # sorted_if_df # the indices here are the order which amip drops points.\n",
    "    index = range(0, len(sorted_if_df))\n",
    "    \n",
    "    sorted_if_df['sorted_idx'] = index\n",
    "    \n",
    "    # V. Plot Points Dropped\n",
    "    plt.figure(figsize=(9, 7))\n",
    "\n",
    "    plt.scatter(orig_df[:10]['x1'], orig_df[:10]['y'], marker='x', color='black', label='Pop. A') # pop A\n",
    "    plt.scatter(orig_df[10:]['x1'], orig_df[10:]['y'], marker='x', color='r', label='Pop. B') # pop B\n",
    "\n",
    "\n",
    "    # Add dropped order positioned by each point\n",
    "    for index, row in sorted_if_df.iterrows():\n",
    "        if row['sorted_idx'] <= 9: # indices 2,3,4 are right on top of one another.\n",
    "            plt.text(row['x1'], row['y'], int(row['sorted_idx']), ha='left', va='top', fontsize=20)\n",
    "\n",
    "\n",
    "    plt.xlabel('x1')\n",
    "    plt.ylabel('y')\n",
    "    plt.title('Scores Ordered')\n",
    "    plt.legend()\n",
    "    plt.show()\n",
    "    \n",
    "    return\n",
    "\n",
    "def plot_dropped_point(x, y, index_to_remove):\n",
    "    '''\n",
    "    orig_df: df sorted by original indexing (where the outlier population comes first).\n",
    "    index_to_drop: index returned from sorting by influence (or one-step newton) scores.\n",
    "    method: \"influence\" or \"newton\"\n",
    "    '''\n",
    "    \n",
    "    # V. Plot Dropped Point at Current Iteration\n",
    "    plt.figure(figsize=(9, 7))\n",
    "    plt.scatter(x.T[1][index_to_remove], y[index_to_remove], marker='x', color='black', label='Dropped point')\n",
    "    \n",
    "    # match the window of the original plot.\n",
    "    plt.xlim(-2, 0.05)\n",
    "    plt.ylim(-7, 3)\n",
    "    \n",
    "    plt.xlabel('x1')\n",
    "    plt.ylabel('y')\n",
    "    plt.title('Dropped Point')\n",
    "    plt.legend()\n",
    "    \n",
    "    plt.show()\n",
    "    \n",
    "    return\n"
   ]
  },
  {
   "cell_type": "markdown",
   "metadata": {},
   "source": [
    "# Generate Data"
   ]
  },
  {
   "cell_type": "code",
   "execution_count": 3,
   "metadata": {},
   "outputs": [],
   "source": [
    "np.random.seed(0)\n",
    "\n",
    "# I. Generate the data.\n",
    "num_dimensions = 1\n",
    "total_observations = 1010\n",
    "\n",
    "# NOISE ON X.\n",
    "eps_pop_1 = 0.25\n",
    "eps_pop_2 = 0.25 \n",
    "\n",
    "# Mixing proportions\n",
    "num_observations_pop_1 = 10 # A (small fraction)\n",
    "num_observations_pop_2 = total_observations - num_observations_pop_1 # B\n",
    "\n",
    "mean_pop_1 = np.array([25]) # ADJUST DISTANCE OF OUTLIER CLUMP 4/22: in order for AMIP/Newton to fail, if suffices to \n",
    "# adjust the location of the outlier group to be far away, relative to the noise.\n",
    "mean_pop_2 = np.array([0])\n",
    "\n",
    "vars_pop_1 = np.array([[eps_pop_1]])\n",
    "vars_pop_2 = np.array([[eps_pop_2]])\n"
   ]
  },
  {
   "cell_type": "code",
   "execution_count": 4,
   "metadata": {},
   "outputs": [
    {
     "data": {
      "text/plain": [
       "array([[ 2.58820262e+01],\n",
       "       [ 2.52000786e+01],\n",
       "       [ 2.54893690e+01],\n",
       "       ...,\n",
       "       [-9.09038815e-01],\n",
       "       [-2.46620351e-02],\n",
       "       [ 1.19516801e-01]])"
      ]
     },
     "execution_count": 4,
     "metadata": {},
     "output_type": "execute_result"
    }
   ],
   "source": [
    "# generate the X values for two populations.\n",
    "x1 = np.random.multivariate_normal(mean_pop_1, vars_pop_1, num_observations_pop_1)\n",
    "x2 = np.random.multivariate_normal(mean_pop_2, vars_pop_2, num_observations_pop_2)\n",
    "x = np.append(x1, x2, axis=0)\n",
    "x"
   ]
  },
  {
   "cell_type": "code",
   "execution_count": 5,
   "metadata": {},
   "outputs": [],
   "source": [
    "# add intercept term. NDArray -> df -> NDArray\n",
    "df = pd.DataFrame(x)\n",
    "df.insert(0, 'Ones', 1)\n",
    "arr = df.values\n",
    "x = arr\n",
    "x\n",
    "# (3/20: make sure that x1, x2 come from this new design matrix.)\n",
    "x1 = x[:10]\n",
    "x2 = x[10:]"
   ]
  },
  {
   "cell_type": "code",
   "execution_count": 6,
   "metadata": {},
   "outputs": [],
   "source": [
    "orig_x = x # (4/01: save this for after running the greedy loop.)"
   ]
  },
  {
   "cell_type": "code",
   "execution_count": 7,
   "metadata": {},
   "outputs": [],
   "source": [
    "x1_0 = [pt[0] for pt in x1]\n",
    "x1_1 = [pt[1] for pt in x1]\n",
    "x2_0 = [pt[0] for pt in x2]\n",
    "x2_1 = [pt[1] for pt in x2]"
   ]
  },
  {
   "cell_type": "code",
   "execution_count": 8,
   "metadata": {},
   "outputs": [],
   "source": [
    "# Generating the Y values.\n",
    "eps1 = 1\n",
    "epsilon1 = np.random.normal(0, eps1, num_observations_pop_1) # eps is the variance of the outlier distribution.\n",
    "slope1 = -1 # (-1, -1, 5)\n",
    "intercept1 = 40 # (-10, 10, 20)\n",
    "y1 = []\n",
    "for i in range(num_observations_pop_1):\n",
    "    y1.append(slope1*x1_1[i] + intercept1 + epsilon1[i]) # May 16: we were indexing the wrong x1 (intercept rather than slope).\n",
    "    # print(x1_1[i], slope1*x1_1[i], epsilon1[i])\n",
    "\n",
    "eps2 = 1\n",
    "epsilon2 = np.random.normal(0, eps2, num_observations_pop_2) # eps is the variance of the outlier distribution.\n",
    "slope2 = -1\n",
    "intercept2 = 0\n",
    "y2 = []\n",
    "for i in range(num_observations_pop_2):\n",
    "    y2.append(slope2*x2_1[i] + intercept2 + epsilon2[i])\n",
    "\n",
    "y = np.concatenate([y1, y2], axis=0)"
   ]
  },
  {
   "cell_type": "code",
   "execution_count": 9,
   "metadata": {},
   "outputs": [
    {
     "data": {
      "text/plain": [
       "[13.117643478062464,\n",
       " 16.4739071028271,\n",
       " 14.672190275185297,\n",
       " 15.4429581454282,\n",
       " 13.275697983091938,\n",
       " 14.581338818412878,\n",
       " 14.749208012202885,\n",
       " 13.396990241320191,\n",
       " 15.266575016522872,\n",
       " 14.89191998103373]"
      ]
     },
     "execution_count": 9,
     "metadata": {},
     "output_type": "execute_result"
    }
   ],
   "source": [
    "y1"
   ]
  },
  {
   "cell_type": "code",
   "execution_count": null,
   "metadata": {},
   "outputs": [],
   "source": []
  },
  {
   "cell_type": "code",
   "execution_count": 10,
   "metadata": {},
   "outputs": [
    {
     "name": "stdout",
     "output_type": "stream",
     "text": [
      "Estimated beta1 with full dataset: 0.5159066036556261\n",
      "Estimated beta1 pop A: -0.40383763026701697\n",
      "Estimated beta1 pop B: -0.989510932401851\n"
     ]
    }
   ],
   "source": [
    "# II. Fit the regression.\n",
    "lr = LinearRegression(x=x.T, y=y)\n",
    "lr.fit()\n",
    "\n",
    "print(\n",
    "    f\"Estimated beta1 with full dataset: {lr.beta[1]}\"\n",
    ")  # We care about first coefficient (pop A: y is perfectly correlated (slope=1) with x1.)\n",
    "\n",
    "# print(\n",
    "#     f\"Estimated intercept with full dataset: {lr.beta[0]}\"\n",
    "# )\n",
    "\n",
    "modified_lr_a = LinearRegression(x=x1.T, y=y1)\n",
    "modified_lr_a.fit()\n",
    "print(\n",
    "    f\"Estimated beta1 pop A: {modified_lr_a.beta[1]}\"\n",
    ")\n",
    "\n",
    "modified_lr = LinearRegression(x=x2.T, y=y2)\n",
    "modified_lr.fit()\n",
    "print(\n",
    "    f\"Estimated beta1 pop B: {modified_lr.beta[1]}\"\n",
    ")"
   ]
  },
  {
   "cell_type": "code",
   "execution_count": 11,
   "metadata": {},
   "outputs": [
    {
     "name": "stdout",
     "output_type": "stream",
     "text": [
      "A 0.005776252556924636 B 7.388402600927519e-05\n",
      "inds [  1   8   3   9   5   6   2   7 907 260]\n",
      "newton inds [  1   8   3   9   5   6   2   7 907 260]\n",
      "sorted_scores [-0.01285197575131666, -0.008703673485621347, -0.007443140167824765, -0.006882728796325371, -0.006865290194940167, -0.005883322752717006, -0.005564948194915445, -0.001775112253622737, -0.00015887891918680498, -0.00015780060600212659]\n",
      "sorted_newton_scores [-0.01420247 -0.00959825 -0.00828998 -0.0076063  -0.00754403 -0.00651655\n",
      " -0.00616465 -0.00195717 -0.00015905 -0.00015797]\n",
      "residuals [-0.29704011  3.41104477  1.46008112  1.90527189 -0.16568523  1.87379041\n",
      "  1.54448911  0.47639287  2.3335602   1.82636428]\n",
      "leverages [0.10029768 0.0950887  0.09728128 0.10215193 0.10069872 0.08997043\n",
      " 0.09717211 0.0930222  0.09320166 0.09512805]\n",
      "inds [  1   8   3   9   5   6   2   7 907 260]\n",
      "newton inds [  1   8   3   9   5   6   2   7 907 260]\n",
      "sorted_scores [-0.01285197575131666, -0.008703673485621347, -0.007443140167824765, -0.006882728796325371, -0.006865290194940167, -0.005883322752717006, -0.005564948194915445, -0.001775112253622737, -0.00015887891918680498, -0.00015780060600212659]\n",
      "sorted_newton_scores [-0.01420247 -0.00959825 -0.00828998 -0.0076063  -0.00754403 -0.00651655\n",
      " -0.00616465 -0.00195717 -0.00015905 -0.00015797]\n",
      "           x1          y  residual  leverage  influence    newton\n",
      "0   25.882026  13.117643 -0.297040  0.100298   0.001150  0.001278\n",
      "1   25.200079  16.473907  3.411045  0.095089  -0.012852 -0.014202\n",
      "2   25.489369  14.672190  1.460081  0.097281  -0.005565 -0.006165\n",
      "3   26.120447  15.442958  1.905272  0.102152  -0.007443 -0.008290\n",
      "4   25.933779  13.275698 -0.165685  0.100699   0.000643  0.000715\n",
      "5   24.511361  14.581339  1.873790  0.089970  -0.006865 -0.007544\n",
      "6   25.475044  14.749208  1.544489  0.097172  -0.005883 -0.006517\n",
      "7   24.924321  13.396990  0.476393  0.093022  -0.001775 -0.001957\n",
      "8   24.948391  15.266575  2.333560  0.093202  -0.008704 -0.009598\n",
      "9   25.205299  14.891920  1.826364  0.095128  -0.006883 -0.007606\n",
      "10   0.072022   0.943643  0.844512  0.000994   0.000020  0.000020\n",
      "11   0.727137  -0.026095 -0.463205  0.001028   0.000035  0.000035\n",
      "12   0.380519  -0.797996 -1.056284  0.000994   0.000025  0.000025\n"
     ]
    },
    {
     "data": {
      "text/html": [
       "<div>\n",
       "<style scoped>\n",
       "    .dataframe tbody tr th:only-of-type {\n",
       "        vertical-align: middle;\n",
       "    }\n",
       "\n",
       "    .dataframe tbody tr th {\n",
       "        vertical-align: top;\n",
       "    }\n",
       "\n",
       "    .dataframe thead th {\n",
       "        text-align: right;\n",
       "    }\n",
       "</style>\n",
       "<table border=\"1\" class=\"dataframe\">\n",
       "  <thead>\n",
       "    <tr style=\"text-align: right;\">\n",
       "      <th></th>\n",
       "      <th>x1</th>\n",
       "      <th>y</th>\n",
       "      <th>residual</th>\n",
       "      <th>leverage</th>\n",
       "      <th>influence</th>\n",
       "      <th>newton</th>\n",
       "    </tr>\n",
       "  </thead>\n",
       "  <tbody>\n",
       "    <tr>\n",
       "      <th>0</th>\n",
       "      <td>25.882026</td>\n",
       "      <td>13.117643</td>\n",
       "      <td>-0.297040</td>\n",
       "      <td>0.100298</td>\n",
       "      <td>0.001150</td>\n",
       "      <td>0.001278</td>\n",
       "    </tr>\n",
       "    <tr>\n",
       "      <th>1</th>\n",
       "      <td>25.200079</td>\n",
       "      <td>16.473907</td>\n",
       "      <td>3.411045</td>\n",
       "      <td>0.095089</td>\n",
       "      <td>-0.012852</td>\n",
       "      <td>-0.014202</td>\n",
       "    </tr>\n",
       "    <tr>\n",
       "      <th>2</th>\n",
       "      <td>25.489369</td>\n",
       "      <td>14.672190</td>\n",
       "      <td>1.460081</td>\n",
       "      <td>0.097281</td>\n",
       "      <td>-0.005565</td>\n",
       "      <td>-0.006165</td>\n",
       "    </tr>\n",
       "    <tr>\n",
       "      <th>3</th>\n",
       "      <td>26.120447</td>\n",
       "      <td>15.442958</td>\n",
       "      <td>1.905272</td>\n",
       "      <td>0.102152</td>\n",
       "      <td>-0.007443</td>\n",
       "      <td>-0.008290</td>\n",
       "    </tr>\n",
       "    <tr>\n",
       "      <th>4</th>\n",
       "      <td>25.933779</td>\n",
       "      <td>13.275698</td>\n",
       "      <td>-0.165685</td>\n",
       "      <td>0.100699</td>\n",
       "      <td>0.000643</td>\n",
       "      <td>0.000715</td>\n",
       "    </tr>\n",
       "    <tr>\n",
       "      <th>5</th>\n",
       "      <td>24.511361</td>\n",
       "      <td>14.581339</td>\n",
       "      <td>1.873790</td>\n",
       "      <td>0.089970</td>\n",
       "      <td>-0.006865</td>\n",
       "      <td>-0.007544</td>\n",
       "    </tr>\n",
       "    <tr>\n",
       "      <th>6</th>\n",
       "      <td>25.475044</td>\n",
       "      <td>14.749208</td>\n",
       "      <td>1.544489</td>\n",
       "      <td>0.097172</td>\n",
       "      <td>-0.005883</td>\n",
       "      <td>-0.006517</td>\n",
       "    </tr>\n",
       "    <tr>\n",
       "      <th>7</th>\n",
       "      <td>24.924321</td>\n",
       "      <td>13.396990</td>\n",
       "      <td>0.476393</td>\n",
       "      <td>0.093022</td>\n",
       "      <td>-0.001775</td>\n",
       "      <td>-0.001957</td>\n",
       "    </tr>\n",
       "    <tr>\n",
       "      <th>8</th>\n",
       "      <td>24.948391</td>\n",
       "      <td>15.266575</td>\n",
       "      <td>2.333560</td>\n",
       "      <td>0.093202</td>\n",
       "      <td>-0.008704</td>\n",
       "      <td>-0.009598</td>\n",
       "    </tr>\n",
       "    <tr>\n",
       "      <th>9</th>\n",
       "      <td>25.205299</td>\n",
       "      <td>14.891920</td>\n",
       "      <td>1.826364</td>\n",
       "      <td>0.095128</td>\n",
       "      <td>-0.006883</td>\n",
       "      <td>-0.007606</td>\n",
       "    </tr>\n",
       "  </tbody>\n",
       "</table>\n",
       "</div>"
      ],
      "text/plain": [
       "          x1          y  residual  leverage  influence    newton\n",
       "0  25.882026  13.117643 -0.297040  0.100298   0.001150  0.001278\n",
       "1  25.200079  16.473907  3.411045  0.095089  -0.012852 -0.014202\n",
       "2  25.489369  14.672190  1.460081  0.097281  -0.005565 -0.006165\n",
       "3  26.120447  15.442958  1.905272  0.102152  -0.007443 -0.008290\n",
       "4  25.933779  13.275698 -0.165685  0.100699   0.000643  0.000715\n",
       "5  24.511361  14.581339  1.873790  0.089970  -0.006865 -0.007544\n",
       "6  25.475044  14.749208  1.544489  0.097172  -0.005883 -0.006517\n",
       "7  24.924321  13.396990  0.476393  0.093022  -0.001775 -0.001957\n",
       "8  24.948391  15.266575  2.333560  0.093202  -0.008704 -0.009598\n",
       "9  25.205299  14.891920  1.826364  0.095128  -0.006883 -0.007606"
      ]
     },
     "execution_count": 11,
     "metadata": {},
     "output_type": "execute_result"
    }
   ],
   "source": [
    "# III. Compute influence scores for first coefficient.\n",
    "# scores = -lr.influence_scores()[0] # effect of removing a data point.\n",
    "scores = -lr.influence_scores()[1] # after adding an intercept term, take the scores of coefficient 1.\n",
    "newton_scores = -lr.one_step_newton()[1]\n",
    "\n",
    "print(\"A\", np.mean(np.abs(scores[:10])), \"B\", np.mean(np.abs(scores[10:1000])))\n",
    "\n",
    "# sort indices in ascending order (influence scores are negative, so the largest magnitude scores appear first.)\n",
    "inds = np.argsort(scores)\n",
    "print(\"inds\", inds[:10])\n",
    "original_inds = inds # original_inds\n",
    "\n",
    "newton_inds = np.argsort(newton_scores)\n",
    "print(\"newton inds\", newton_inds[:10])\n",
    "original_newton_inds = newton_inds \n",
    "\n",
    "# sort scores.\n",
    "sorted_scores = scores[inds]\n",
    "print(\"sorted_scores\", sorted(scores)[:10])\n",
    "original_sorted_scores = sorted_scores\n",
    "\n",
    "sorted_newton_scores = newton_scores[inds]\n",
    "print(\"sorted_newton_scores\", sorted_newton_scores[:10])\n",
    "original_sorted_newton_scores = sorted_newton_scores\n",
    "\n",
    "# residuals\n",
    "residuals = lr.residual()\n",
    "print(\"residuals\", residuals[:10])\n",
    "# leverages\n",
    "leverages = lr.leverage_scores()\n",
    "print(\"leverages\", leverages[:10])\n",
    "\n",
    "# create df\n",
    "orig_df, inds, scores, newton_inds, newton_scores = create_orig_df(x, lr)\n",
    "orig_df[:10]"
   ]
  },
  {
   "cell_type": "code",
   "execution_count": 12,
   "metadata": {},
   "outputs": [
    {
     "name": "stdout",
     "output_type": "stream",
     "text": [
      "additive influence score for pop A: -0.05628687112247243\n",
      "additive one-step newton score for pop A: -0.06219642620013911\n",
      "indices sorted according to influence score: [  1   8   3   9   5   6   2   7 907 260]\n",
      "indices sorted according to newton score: [  1   8   3   9   5   6   2   7 907 260]\n"
     ]
    }
   ],
   "source": [
    "# (4/01) Sum of influence and newton scores for population A\n",
    "print(f\"additive influence score for pop A: {sum(sorted_scores[:10])}\")\n",
    "print(f\"additive one-step newton score for pop A: {sum(sorted_newton_scores[:10])}\")\n",
    "\n",
    "print(f'indices sorted according to influence score: {original_inds[:10]}')\n",
    "print(f'indices sorted according to newton score: {original_newton_inds[:10]}')\n"
   ]
  },
  {
   "cell_type": "code",
   "execution_count": 13,
   "metadata": {},
   "outputs": [
    {
     "name": "stdout",
     "output_type": "stream",
     "text": [
      "predicted estimate:\n",
      "\n",
      "original estimate + amip additive scores: 0.4617287460303055\n",
      "original estimate + newton additive scores: 0.45601966254319964\n"
     ]
    }
   ],
   "source": [
    "# Predicted Estimate\n",
    "print('predicted estimate:\\n')\n",
    "print(f\"original estimate + amip additive scores: {lr.beta[1] + sum(scores[:10])}\")\n",
    "print(f'original estimate + newton additive scores: {lr.beta[1] + sum(newton_scores[:10])}')"
   ]
  },
  {
   "cell_type": "code",
   "execution_count": null,
   "metadata": {},
   "outputs": [],
   "source": []
  },
  {
   "cell_type": "code",
   "execution_count": 14,
   "metadata": {},
   "outputs": [
    {
     "name": "stdout",
     "output_type": "stream",
     "text": [
      "(1000, 2)\n",
      "(1000,)\n",
      "(1010, 2)\n"
     ]
    }
   ],
   "source": [
    "# Refit after Removing Flagged Points\n",
    "# AMIP inds [  1   8   3   9   5   6   2   7 907 260]\n",
    "AMIP_inds= [1,8,3,9,5,6,2,7,907,260]\n",
    "new_x_amip= np.delete(x, AMIP_inds, axis=0)\n",
    "new_y_amip= np.delete(y, AMIP_inds, axis=0)\n",
    "print(new_x_amip.shape)\n",
    "print(new_y_amip.shape)\n",
    "print(x.shape)\n",
    "\n",
    "# newton inds [  1   8   3   9   5   6   2   7 907 260] - SAME AS AMIP\n",
    "newton_inds= [1,8,3,9,5,6,2,7,907,260]\n",
    "new_x_1sN= np.delete(x, newton_inds, axis=0)\n",
    "new_y_1sN= np.delete(y, newton_inds, axis=0)"
   ]
  },
  {
   "cell_type": "code",
   "execution_count": 15,
   "metadata": {},
   "outputs": [
    {
     "name": "stdout",
     "output_type": "stream",
     "text": [
      "Estimated beta1 with full dataset: 0.5159066036556261\n",
      "Estimated beta1 after removing subset specified by AMIP: 0.2786236491272701\n",
      "Difference in quantities: 0.23728295452835602\n"
     ]
    }
   ],
   "source": [
    "# Refit after removing the points specified by AMIP and Additive 1sN (these indices are the same).\n",
    "lr = LinearRegression(x=x.T, y=y)\n",
    "lr.fit()\n",
    "\n",
    "print(\n",
    "    f\"Estimated beta1 with full dataset: {lr.beta[1]}\"\n",
    ")  # We care about first coefficient (pop A: y is perfectly correlated (slope=1) with x1.)\n",
    "\n",
    "modified_lr_amip = LinearRegression(x=new_x_amip.T, y=new_y_amip)\n",
    "modified_lr_amip.fit()\n",
    "print(\n",
    "    f\"Estimated beta1 after removing subset specified by AMIP: {modified_lr_amip.beta[1]}\"\n",
    ")\n",
    "print(\n",
    "    f\"Difference in quantities: {lr.beta[1] - modified_lr_amip.beta[1]}\"\n",
    ")"
   ]
  },
  {
   "cell_type": "code",
   "execution_count": null,
   "metadata": {},
   "outputs": [],
   "source": []
  },
  {
   "cell_type": "code",
   "execution_count": null,
   "metadata": {},
   "outputs": [],
   "source": []
  },
  {
   "cell_type": "code",
   "execution_count": 16,
   "metadata": {},
   "outputs": [
    {
     "data": {
      "text/html": [
       "<div>\n",
       "<style scoped>\n",
       "    .dataframe tbody tr th:only-of-type {\n",
       "        vertical-align: middle;\n",
       "    }\n",
       "\n",
       "    .dataframe tbody tr th {\n",
       "        vertical-align: top;\n",
       "    }\n",
       "\n",
       "    .dataframe thead th {\n",
       "        text-align: right;\n",
       "    }\n",
       "</style>\n",
       "<table border=\"1\" class=\"dataframe\">\n",
       "  <thead>\n",
       "    <tr style=\"text-align: right;\">\n",
       "      <th></th>\n",
       "      <th>x1</th>\n",
       "      <th>y</th>\n",
       "      <th>residual</th>\n",
       "      <th>leverage</th>\n",
       "      <th>influence</th>\n",
       "      <th>newton</th>\n",
       "      <th>sorted_idx</th>\n",
       "    </tr>\n",
       "  </thead>\n",
       "  <tbody>\n",
       "    <tr>\n",
       "      <th>1</th>\n",
       "      <td>25.200079</td>\n",
       "      <td>16.473907</td>\n",
       "      <td>3.411045</td>\n",
       "      <td>0.095089</td>\n",
       "      <td>-0.012852</td>\n",
       "      <td>-0.014202</td>\n",
       "      <td>0</td>\n",
       "    </tr>\n",
       "    <tr>\n",
       "      <th>8</th>\n",
       "      <td>24.948391</td>\n",
       "      <td>15.266575</td>\n",
       "      <td>2.333560</td>\n",
       "      <td>0.093202</td>\n",
       "      <td>-0.008704</td>\n",
       "      <td>-0.009598</td>\n",
       "      <td>1</td>\n",
       "    </tr>\n",
       "    <tr>\n",
       "      <th>3</th>\n",
       "      <td>26.120447</td>\n",
       "      <td>15.442958</td>\n",
       "      <td>1.905272</td>\n",
       "      <td>0.102152</td>\n",
       "      <td>-0.007443</td>\n",
       "      <td>-0.008290</td>\n",
       "      <td>2</td>\n",
       "    </tr>\n",
       "    <tr>\n",
       "      <th>9</th>\n",
       "      <td>25.205299</td>\n",
       "      <td>14.891920</td>\n",
       "      <td>1.826364</td>\n",
       "      <td>0.095128</td>\n",
       "      <td>-0.006883</td>\n",
       "      <td>-0.007606</td>\n",
       "      <td>3</td>\n",
       "    </tr>\n",
       "    <tr>\n",
       "      <th>5</th>\n",
       "      <td>24.511361</td>\n",
       "      <td>14.581339</td>\n",
       "      <td>1.873790</td>\n",
       "      <td>0.089970</td>\n",
       "      <td>-0.006865</td>\n",
       "      <td>-0.007544</td>\n",
       "      <td>4</td>\n",
       "    </tr>\n",
       "    <tr>\n",
       "      <th>6</th>\n",
       "      <td>25.475044</td>\n",
       "      <td>14.749208</td>\n",
       "      <td>1.544489</td>\n",
       "      <td>0.097172</td>\n",
       "      <td>-0.005883</td>\n",
       "      <td>-0.006517</td>\n",
       "      <td>5</td>\n",
       "    </tr>\n",
       "    <tr>\n",
       "      <th>2</th>\n",
       "      <td>25.489369</td>\n",
       "      <td>14.672190</td>\n",
       "      <td>1.460081</td>\n",
       "      <td>0.097281</td>\n",
       "      <td>-0.005565</td>\n",
       "      <td>-0.006165</td>\n",
       "      <td>6</td>\n",
       "    </tr>\n",
       "    <tr>\n",
       "      <th>7</th>\n",
       "      <td>24.924321</td>\n",
       "      <td>13.396990</td>\n",
       "      <td>0.476393</td>\n",
       "      <td>0.093022</td>\n",
       "      <td>-0.001775</td>\n",
       "      <td>-0.001957</td>\n",
       "      <td>7</td>\n",
       "    </tr>\n",
       "    <tr>\n",
       "      <th>907</th>\n",
       "      <td>-0.592343</td>\n",
       "      <td>-1.531547</td>\n",
       "      <td>-1.287928</td>\n",
       "      <td>0.001091</td>\n",
       "      <td>-0.000159</td>\n",
       "      <td>-0.000159</td>\n",
       "      <td>8</td>\n",
       "    </tr>\n",
       "    <tr>\n",
       "      <th>260</th>\n",
       "      <td>-0.594430</td>\n",
       "      <td>-1.520626</td>\n",
       "      <td>-1.275932</td>\n",
       "      <td>0.001091</td>\n",
       "      <td>-0.000158</td>\n",
       "      <td>-0.000158</td>\n",
       "      <td>9</td>\n",
       "    </tr>\n",
       "  </tbody>\n",
       "</table>\n",
       "</div>"
      ],
      "text/plain": [
       "            x1          y  residual  leverage  influence    newton  sorted_idx\n",
       "1    25.200079  16.473907  3.411045  0.095089  -0.012852 -0.014202           0\n",
       "8    24.948391  15.266575  2.333560  0.093202  -0.008704 -0.009598           1\n",
       "3    26.120447  15.442958  1.905272  0.102152  -0.007443 -0.008290           2\n",
       "9    25.205299  14.891920  1.826364  0.095128  -0.006883 -0.007606           3\n",
       "5    24.511361  14.581339  1.873790  0.089970  -0.006865 -0.007544           4\n",
       "6    25.475044  14.749208  1.544489  0.097172  -0.005883 -0.006517           5\n",
       "2    25.489369  14.672190  1.460081  0.097281  -0.005565 -0.006165           6\n",
       "7    24.924321  13.396990  0.476393  0.093022  -0.001775 -0.001957           7\n",
       "907  -0.592343  -1.531547 -1.287928  0.001091  -0.000159 -0.000159           8\n",
       "260  -0.594430  -1.520626 -1.275932  0.001091  -0.000158 -0.000158           9"
      ]
     },
     "execution_count": 16,
     "metadata": {},
     "output_type": "execute_result"
    }
   ],
   "source": [
    "# IV. Sort DF by influence score\n",
    "sorted_if_df = orig_df.sort_values(by='influence', ascending=True)\n",
    "# sorted_if_df # the indices here are the order which amip drops points.\n",
    "index = range(0, len(sorted_if_df))\n",
    "sorted_if_df['sorted_idx'] = index\n",
    "sorted_if_df[:10]"
   ]
  },
  {
   "cell_type": "code",
   "execution_count": 17,
   "metadata": {},
   "outputs": [
    {
     "data": {
      "image/png": "[encoded data removed]",
      "text/plain": [
       "<Figure size 648x504 with 1 Axes>"
      ]
     },
     "metadata": {
      "needs_background": "light"
     },
     "output_type": "display_data"
    }
   ],
   "source": [
    "# V. Plot Points Dropped\n",
    "\n",
    "plt.figure(figsize=(9, 7))\n",
    "\n",
    "plt.scatter(orig_df[:10]['x1'], orig_df[:10]['y'], marker='o', color='black', label='Pop. A', s=56) # pop A\n",
    "plt.scatter(orig_df[10:]['x1'], orig_df[10:]['y'], marker='x', color='r', label='Pop. B', s=56) # pop B\n",
    "\n",
    "plt.xlabel('x', fontsize=26) \n",
    "plt.ylabel('y', fontsize=26)\n",
    "\n",
    "# Set the size of tick marks\n",
    "plt.xticks(np.arange(0, 30, 5), fontsize=20) # custom range of ticks.\n",
    "plt.yticks(np.arange(-3, 20, 5), fontsize=20)\n",
    "\n",
    "# Line of best fit\n",
    "x_values = np.linspace(min(orig_df['x1']), max(orig_df['x1']), 100) # Define range of x values\n",
    "y_values = lr.beta[1] * x_values # Calculate corresponding y values based on y = 2x\n",
    "\n",
    "# plt.plot(x_values, y_values, color='gray', linestyle='--')\n",
    "\n",
    "\n",
    "# plt.title('Simpson`s paradox', fontsize=22)\n",
    "plt.legend(fontsize=22)\n",
    "# plt.savefig('simpsons_paradox_may26.pdf')\n",
    "plt.show()"
   ]
  },
  {
   "cell_type": "code",
   "execution_count": 18,
   "metadata": {},
   "outputs": [
    {
     "name": "stdout",
     "output_type": "stream",
     "text": [
      "Condition number of full dataset: 2.58516818699332\n",
      "Condition number Pop A: 1333.5416362663614 Pop B: 2.0390310495837616\n"
     ]
    }
   ],
   "source": [
    "# How/why is the condition number of pop B so much larger, just by shifting things over?\n",
    "\n",
    "print(\n",
    "    f\"Condition number of full dataset: {np.linalg.cond(x)}\"\n",
    ")\n",
    "\n",
    "print(\n",
    "    f\"Condition number Pop A: {np.linalg.cond(x1)} Pop B: {np.linalg.cond(x2)}\"\n",
    ")"
   ]
  },
  {
   "cell_type": "markdown",
   "metadata": {},
   "source": [
    "We define the failure of an approximation algorithm in two different ways: (i) when there exists a small fraction (alpha < 0.01) of data (which is user-predefined) that we can drop to change conclusions, yet the algorithm reports such a fraction does not exist or (ii) if there exists a small fraction of data that we can drop to change conclusions, and we remove the points suggested by the algorithm, but we do not see a change in conclusions. The second definition is motivated by the person who is willing to run their algorithm twice, such that even when the algorithm does not report a change in conclusions, the user is willing to rerun their analysis by removing the points suggested by the algorithm.\n",
    "\n",
    "We illustrate Simpson's paradox as a realistic data setting under which AMIP and 1sN may fail. This example is set up with two populations of points. Population A consisted of $<1%$ of the datapoints. The DGP for population A is $X \\sim N(5, 0.01)$ and $Y = -X + 20 + \\epsilon$, while that of population B is $X \\sim N(0, 0.01)$ and $Y = -X + \\epsilon$, where $\\epsilon \\sim N(0, 1)$.\n",
    "\n",
    "The regression on population A is $Y = -X + 20 + \\epsilon$ while that of population B is $Y = -X + \\epsilon$, where $\\epsilon \\sim N(0, 1)$. In this example, dropping only the 10 datapoints in population A suffices to flip the effect size of the regression from 2.82 to -1.05.\n",
    "\n",
    "We observe that AMIP fails in both the type (i) and type (ii) sense. That is, AMIP approximates that the largest effect size for the removal of 10 datapoints is -0.149 (failure type i), which is not enough to change the sign. In addition, AMIP fails to correctly identify subset A as the correct subset to remove (failure type ii). Similarly, 1sN fails in this case. That is, 1sN approximates that the largest effect size for the removal of 10 datapoints is -0.165 (failure type i). 1sN also fails to correctly identify subset A as the correct subset to remove (failure type ii). In running the greedy versions of these algorithms on this Simpson's paradox example, we find that both greedy AMIP and greedy 1sN are able to succeed in identifying population A as an influential subset that reverses the sign.\n"
   ]
  },
  {
   "cell_type": "markdown",
   "metadata": {},
   "source": [
    "# Eigenvectors: Mechanism For Failure"
   ]
  },
  {
   "cell_type": "code",
   "execution_count": 19,
   "metadata": {},
   "outputs": [],
   "source": [
    "def normalize_vector(v):\n",
    "    norm = np.linalg.norm(v)\n",
    "    if norm == 0:\n",
    "        return v \n",
    "    return v / norm"
   ]
  },
  {
   "cell_type": "code",
   "execution_count": 20,
   "metadata": {},
   "outputs": [],
   "source": [
    "# compute (xtxinv - x2tx2inv)\n",
    "xtxinv = np.linalg.inv(x.T @ x)\n",
    "x2tx2inv = np.linalg.inv(x2.T @ x2)\n",
    "M = xtxinv - x2tx2inv"
   ]
  },
  {
   "cell_type": "code",
   "execution_count": 21,
   "metadata": {},
   "outputs": [
    {
     "name": "stdout",
     "output_type": "stream",
     "text": [
      "[[ 9.97760517e-04 -3.39975790e-05]\n",
      " [-3.39975790e-05  1.50862666e-04]]\n",
      "[[0.00100282 0.00010825]\n",
      " [0.00010825 0.00415021]]\n"
     ]
    }
   ],
   "source": [
    "print(xtxinv)\n",
    "print(x2tx2inv)"
   ]
  },
  {
   "cell_type": "code",
   "execution_count": 22,
   "metadata": {},
   "outputs": [
    {
     "data": {
      "text/plain": [
       "array([[-5.06276549e-06, -1.42243630e-04],\n",
       "       [-1.42243630e-04, -3.99934473e-03]])"
      ]
     },
     "execution_count": 22,
     "metadata": {},
     "output_type": "execute_result"
    }
   ],
   "source": [
    "M"
   ]
  },
  {
   "cell_type": "code",
   "execution_count": 23,
   "metadata": {},
   "outputs": [
    {
     "data": {
      "text/plain": [
       "array([ 14.36826931, 362.35833158])"
      ]
     },
     "execution_count": 23,
     "metadata": {},
     "output_type": "execute_result"
    }
   ],
   "source": [
    "# Xs^Trs = (\\sum_i r_i , \\sum_i xiri)\n",
    "rs = (y1 - x1 @ lr.beta)\n",
    "rs\n",
    "xstrs = x1.T @ rs\n",
    "xstrs"
   ]
  },
  {
   "cell_type": "code",
   "execution_count": 24,
   "metadata": {},
   "outputs": [
    {
     "name": "stdout",
     "output_type": "stream",
     "text": [
      "norm of M: 0.004001873500834008\n",
      "norm of V: 362.6430857327517\n"
     ]
    }
   ],
   "source": [
    "# norm of M\n",
    "# M[1:2]\n",
    "print(f'norm of M: {np.linalg.norm(M[1:2])}')\n",
    "print(f'norm of V: {np.linalg.norm(xstrs)}')            "
   ]
  },
  {
   "cell_type": "markdown",
   "metadata": {},
   "source": [
    "## Verifying Error Term Expression (June 25th)"
   ]
  },
  {
   "cell_type": "code",
   "execution_count": 25,
   "metadata": {},
   "outputs": [
    {
     "name": "stdout",
     "output_type": "stream",
     "text": [
      "-1.4512396784321564\n",
      "[1.45123968]\n",
      "norm M: 0.004001873500834008\n",
      "norm v: 362.6430857327517\n",
      "theta in degrees: 0.23374336751129535\n",
      "[0.03554426 0.9993681 ]\n",
      "[0.03962097 0.99921478]\n"
     ]
    }
   ],
   "source": [
    "import math\n",
    "\n",
    "# empirical error: beta(w) - beta^{IF}(w) \n",
    "beta_w = modified_lr.beta[1]\n",
    "beta_IF_w = lr.beta[1] + sum(scores[:10])\n",
    "print(beta_w - beta_IF_w)\n",
    "\n",
    "# Xs^Trs = (\\sum_i r_i , \\sum_i xiri)\n",
    "rs = (y1 - x1 @ lr.beta)\n",
    "rs\n",
    "xstrs = x1.T @ rs\n",
    "xstrs\n",
    "\n",
    "# analytic error: etM2v\n",
    "print(-M[1:2] @ xstrs)\n",
    "\n",
    "# print norm values\n",
    "print('norm M:', np.linalg.norm(M[1:2]))\n",
    "print('norm v:', np.linalg.norm(xstrs))  \n",
    "\n",
    "# normed vectors\n",
    "norm_m_vec = normalize_vector(-M[1:2])[0]\n",
    "norm_v_vec = normalize_vector(xstrs)\n",
    "\n",
    "# cosine similarity\n",
    "costheta = norm_m_vec @ norm_v_vec\n",
    "theta = math.acos(costheta) * (180.0 / math.pi)\n",
    "print('theta in degrees:', theta)\n",
    "\n",
    "# new June 25th - should be the same as the old.\n",
    "print(norm_m_vec)\n",
    "print(norm_v_vec)"
   ]
  },
  {
   "cell_type": "code",
   "execution_count": 29,
   "metadata": {},
   "outputs": [
    {
     "data": {
      "image/png": "[encoded data removed]",
      "text/plain": [
       "<Figure size 576x432 with 1 Axes>"
      ]
     },
     "metadata": {
      "needs_background": "light"
     },
     "output_type": "display_data"
    }
   ],
   "source": [
    "import numpy as np\n",
    "import matplotlib.pyplot as plt\n",
    "\n",
    "# Define three vectors\n",
    "# v1 = np.array([-1.42243630e-04, -3.99934473e-03]) # M[:, 1]\n",
    "# v1 = largest_eigenvector\n",
    "# v2 = np.array([[-0.03937332, -0.99922457]]) # error vector\n",
    "# v2 = norm_error_vector\n",
    "\n",
    "# Plotting\n",
    "plt.figure(figsize=(8, 6))\n",
    "plt.quiver(0, 0, norm_m_vec[0], norm_m_vec[1], angles='xy', scale_units='xy', scale=1, color=\"blue\", label=r'$\\vec{m}_{\\mathrm{Err}}$')\n",
    "plt.quiver(0, 0, norm_v_vec[0], norm_v_vec[1], angles='xy', scale_units='xy', scale=1, color=\"red\", label=r'$\\vec{v}_{\\mathrm{Err}}$')\n",
    "\n",
    "textstring = '\\n'.join((\n",
    "    r'$\\vec{m}_{\\mathrm{Err}} \\cdot \\vec{v}_{\\mathrm{Err}}$ = 1.45',\n",
    "    r'$\\|\\vec{m}_{\\mathrm{Err}}\\|$ = 0.004',\n",
    "    r'$\\|\\vec{v}_{\\mathrm{Err}}\\|$ = 362.64',\n",
    "    r'$\\measuredangle{ (\\vec{m}_{\\mathrm{Err}}\\, , \\vec{v}_{\\mathrm{Err}}) } = 0.23^{\\circ} $'\n",
    ")) \n",
    "\n",
    "# Adding a text box\n",
    "plt.text(-1.42, -1.36, textstring, fontsize = 15, \n",
    "         bbox = dict(facecolor = 'white', alpha = 0.5))\n",
    "\n",
    "# Setting the limits and labels\n",
    "plt.xlim(-1.5, 1.5)\n",
    "plt.ylim(-1.5, 1.5)\n",
    "plt.axhline(0, color='black', linewidth=0.5)\n",
    "plt.axvline(0, color='black', linewidth=0.5)\n",
    "plt.grid(True)\n",
    "plt.xlabel('e0', fontsize=16)  # Larger font for x-axis label\n",
    "plt.ylabel('e1', fontsize=16)  # Larger font for y-axis label\n",
    "\n",
    "# Set the size of tick marks\n",
    "plt.xticks(fontsize=14)  # Larger ticks for x-axis\n",
    "plt.yticks(fontsize=14)  # Larger ticks for y-axis\n",
    "\n",
    "# plt.title('Plot of Simpson`s Paradox', fontsize=22)\n",
    "plt.legend(fontsize=16)\n",
    "\n",
    "# plt.savefig('simpsons_vector_june25.pdf')\n",
    "plt.savefig('mv.simpsons.failure.pdf')\n",
    "plt.show()"
   ]
  },
  {
   "cell_type": "code",
   "execution_count": null,
   "metadata": {},
   "outputs": [],
   "source": []
  },
  {
   "cell_type": "code",
   "execution_count": null,
   "metadata": {},
   "outputs": [],
   "source": []
  },
  {
   "cell_type": "code",
   "execution_count": null,
   "metadata": {},
   "outputs": [],
   "source": []
  },
  {
   "cell_type": "code",
   "execution_count": 27,
   "metadata": {},
   "outputs": [
    {
     "name": "stdout",
     "output_type": "stream",
     "text": [
      "eigenvalues: [4.00440388e-03 3.61956546e-09]\n",
      "0.004004403875550985\n",
      "[-0.03554429 -0.9993681 ]\n"
     ]
    }
   ],
   "source": [
    "# compute the Singular Value Decomposition\n",
    "U, s, V = np.linalg.svd(M)\n",
    "print(f'eigenvalues: {s}')\n",
    "\n",
    "# The operator norm is the largest singular value\n",
    "normM = np.max(s)\n",
    "print(normM)\n",
    "\n",
    "largest_eigenvector = U[:, 0] # Simpson's Paradox: Largest eigenvalue is 4.00e-03.\n",
    "second_eigenvector = U[:, 1]\n",
    "\n",
    "print(largest_eigenvector)"
   ]
  },
  {
   "cell_type": "code",
   "execution_count": 28,
   "metadata": {},
   "outputs": [
    {
     "data": {
      "image/png": "[encoded data removed]",
      "text/plain": [
       "<Figure size 576x432 with 1 Axes>"
      ]
     },
     "metadata": {
      "needs_background": "light"
     },
     "output_type": "display_data"
    }
   ],
   "source": [
    "import numpy as np\n",
    "import matplotlib.pyplot as plt\n",
    "\n",
    "# Define three vectors\n",
    "v1 = np.array([-5.06276549e-06, -1.42243630e-04])\n",
    "v2 = np.array([-1.42243630e-04, -3.99934473e-03])\n",
    "\n",
    "# Plotting\n",
    "plt.figure(figsize=(8, 6))\n",
    "plt.quiver(0, 0, 10*v1[0], 10*v1[1], angles='xy', scale_units='xy', scale=1, color=\"blue\", label=r'$\\vec{m}_{\\mathrm{Err}}$')\n",
    "plt.quiver(0, 0, 10*v2[0], 10*v2[1], angles='xy', scale_units='xy', scale=1, color=\"red\", label=r'$\\vec{v}_{\\mathrm{Err}}$')\n",
    "\n",
    "textstring = '\\n'.join((\n",
    "    r'$\\|\\vec{m}_{\\mathrm{Err}}\\|$ = 0.004',\n",
    "    r'$\\measuredangle{ (\\vec{m}_{\\mathrm{Err}}\\, , \\vec{v}_{\\mathrm{Err}}) } = <1^{\\circ} $'\n",
    "))\n",
    "\n",
    "# Adding a text box\n",
    "plt.text(-0.052, -0.05, textstring, fontsize = 15, \n",
    "         bbox = dict(facecolor = 'white', alpha = 0.5))\n",
    "\n",
    "# Setting the limits and labels\n",
    "# plt.xlim(-1, 1)\n",
    "# plt.ylim(-1, 1)\n",
    "plt.axhline(0, color='black', linewidth=0.5)\n",
    "plt.axvline(0, color='black', linewidth=0.5)\n",
    "plt.grid(True)\n",
    "plt.xlabel('e0', fontsize=16)  # Larger font for x-axis label\n",
    "plt.ylabel('e1', fontsize=16)  # Larger font for y-axis label\n",
    "\n",
    "# Set the size of tick marks\n",
    "plt.xticks(fontsize=14)  # Larger ticks for x-axis\n",
    "plt.yticks(fontsize=14)  # Larger ticks for y-axis\n",
    "\n",
    "plt.title('Plot of Simpson`s Paradox', fontsize=22)\n",
    "plt.legend(fontsize=16)\n",
    "\n",
    "plt.savefig('simpsons_vector_june25.pdf')\n",
    "plt.show()"
   ]
  },
  {
   "cell_type": "code",
   "execution_count": 39,
   "metadata": {},
   "outputs": [],
   "source": [
    "### Compute the Error Vector.\n",
    "x1y1 = x1.T @ y1\n",
    "Sigma_s = x1.T @ x1\n",
    "Sigma_inv = np.linalg.inv(x.T @ x)\n",
    "xty = x.T @ y"
   ]
  },
  {
   "cell_type": "code",
   "execution_count": 40,
   "metadata": {},
   "outputs": [],
   "source": [
    "error_vec = x1y1 - Sigma_s @ Sigma_inv @ Sigma_s @ xty"
   ]
  },
  {
   "cell_type": "code",
   "execution_count": 41,
   "metadata": {},
   "outputs": [
    {
     "data": {
      "text/plain": [
       "array([-0.03937332, -0.99922457])"
      ]
     },
     "execution_count": 41,
     "metadata": {},
     "output_type": "execute_result"
    }
   ],
   "source": [
    "norm_error_vec = normalize_vector(error_vec)\n",
    "norm_error_vec"
   ]
  },
  {
   "cell_type": "code",
   "execution_count": null,
   "metadata": {},
   "outputs": [],
   "source": []
  },
  {
   "cell_type": "markdown",
   "metadata": {},
   "source": [
    "Simpson's paradox: the largest eigenvector aligns closely with Xsys"
   ]
  },
  {
   "cell_type": "code",
   "execution_count": 105,
   "metadata": {},
   "outputs": [
    {
     "data": {
      "text/plain": [
       "0.9999926589878864"
      ]
     },
     "execution_count": 105,
     "metadata": {},
     "output_type": "execute_result"
    }
   ],
   "source": [
    "largest_ev_dot_error_vec=largest_eigenvector.T @ norm_error_vec\n",
    "largest_ev_dot_error_vec"
   ]
  },
  {
   "cell_type": "code",
   "execution_count": 106,
   "metadata": {},
   "outputs": [],
   "source": [
    "# second_ev_dot_x1y1=second_eigenvector.T @ norm_x1y1\n",
    "# second_ev_dot_x1y1\n",
    "# second_ev_dot_x2y2=second_eigenvector.T @ norm_x2y2\n",
    "# second_ev_dot_x2y2"
   ]
  },
  {
   "cell_type": "code",
   "execution_count": 57,
   "metadata": {},
   "outputs": [
    {
     "data": {
      "text/plain": [
       "0.0038317059303912618"
      ]
     },
     "execution_count": 57,
     "metadata": {},
     "output_type": "execute_result"
    }
   ],
   "source": [
    "second_ev_dot_error_vec=second_eigenvector.T @ norm_error_vec\n",
    "second_ev_dot_error_vec"
   ]
  },
  {
   "cell_type": "code",
   "execution_count": 63,
   "metadata": {
    "scrolled": false
   },
   "outputs": [
    {
     "data": {
      "image/png": "[encoded data removed]",
      "text/plain": [
       "<Figure size 432x288 with 1 Axes>"
      ]
     },
     "metadata": {
      "needs_background": "light"
     },
     "output_type": "display_data"
    }
   ],
   "source": [
    "import matplotlib.pyplot as plt\n",
    "\n",
    "# Values from the outputs related to dot products\n",
    "eigenvalues = [largest_ev_dot_error_vec, second_ev_dot_error_vec]\n",
    "eigenvectors = ['largest_eigenvector', 'second_eigenvector']\n",
    "\n",
    "# Creating the bar plot with thinner bars\n",
    "plt.bar(eigenvectors, eigenvalues, color=['black', 'black'], width=0.4)  # Adjust the width here\n",
    "plt.ylabel('Dot Product')\n",
    "plt.title('Dot Product of Eigenvector with Error Vector')\n",
    "plt.savefig('simpsons_barplot.pdf')\n",
    "plt.show()"
   ]
  },
  {
   "cell_type": "markdown",
   "metadata": {},
   "source": [
    "We illustrate Multicollinearity as another data setting under which AMIP and 1sN may fail. This example is also set up with two populations of points. Population A consisted of $<1%$ of the datapoints. The DGP for population A is $X \\sim N(-1, 0.01)$ and $Y = -5X - 10 + \\epsilon$, while that of population B is $X \\sim N(0, 0.001)$ and $Y = -X + \\epsilon$, where $\\epsilon \\sim N(0, 1)$.\n"
   ]
  },
  {
   "cell_type": "code",
   "execution_count": 64,
   "metadata": {},
   "outputs": [
    {
     "name": "stdout",
     "output_type": "stream",
     "text": [
      "Condition number of full dataset: 2.58516818699332\n",
      "Condition number Pop A: 1333.5416362663614 Pop B: 2.0390310495837616\n"
     ]
    }
   ],
   "source": [
    "print(\n",
    "    f\"Condition number of full dataset: {np.linalg.cond(x)}\"\n",
    ")\n",
    "\n",
    "print(\n",
    "    f\"Condition number Pop A: {np.linalg.cond(x1)} Pop B: {np.linalg.cond(x2)}\"\n",
    ")"
   ]
  },
  {
   "cell_type": "markdown",
   "metadata": {},
   "source": [
    "# Why does the error vector align with the largest eigenvector of the diff in inverse hessians?\n",
    "\n",
    "notice that the largest eigenvector aligns well with the vector e1 = (0, 1). this is why the error is large in x, but is it large in the intercept?\n",
    "\n",
    "This is because Xs^Trs = (\\sum r_i , \\sum r_i x_i). In order for Xs^Trs \\approx (0, 1), and more generally (0, 1, 0, 0, 0) when our axis of interest is ei, we must have that \\sum r_i x_i >> \\sum r_i x_j. This means that the reason this counterexample is happening is because the outlier blob has super large (xi values) (in the case where the inliers are mean-centered, it means they are far from the inlier blob in the ei direction, relative to the other directions.)"
   ]
  },
  {
   "cell_type": "code",
   "execution_count": null,
   "metadata": {},
   "outputs": [],
   "source": []
  },
  {
   "cell_type": "code",
   "execution_count": 33,
   "metadata": {
    "scrolled": true
   },
   "outputs": [
    {
     "data": {
      "text/plain": [
       "array([[-5.06276549e-06, -1.42243630e-04],\n",
       "       [-1.42243630e-04, -3.99934473e-03]])"
      ]
     },
     "execution_count": 33,
     "metadata": {},
     "output_type": "execute_result"
    }
   ],
   "source": [
    "M"
   ]
  },
  {
   "cell_type": "code",
   "execution_count": 59,
   "metadata": {},
   "outputs": [
    {
     "name": "stdout",
     "output_type": "stream",
     "text": [
      "eigenvalues: [4.00440388e-03 3.61956546e-09]\n",
      "[[-0.03554429 -0.9993681 ]\n",
      " [-0.9993681   0.03554429]]\n"
     ]
    }
   ],
   "source": [
    "# compute the Singular Value Decomposition\n",
    "U, s, V = np.linalg.svd(M)\n",
    "print(f'eigenvalues: {s}')\n",
    "print(U)\n",
    "\n",
    "# The operator norm is the largest singular value\n",
    "normM = np.max(s)\n",
    "# print(s)\n",
    "\n",
    "largest_eigenvector = U[:, 0] # Simpson's Paradox: Largest eigenvalue is 4.00e-03.\n",
    "second_eigenvector = U[:, 1]"
   ]
  },
  {
   "cell_type": "code",
   "execution_count": 51,
   "metadata": {},
   "outputs": [
    {
     "data": {
      "text/plain": [
       "0.004001873500834008"
      ]
     },
     "execution_count": 51,
     "metadata": {},
     "output_type": "execute_result"
    }
   ],
   "source": [
    "# vector norm of M[:, 1]\n",
    "np.sqrt(M[0,1]**2 + M[1,1]**2)"
   ]
  },
  {
   "cell_type": "code",
   "execution_count": 53,
   "metadata": {},
   "outputs": [
    {
     "data": {
      "text/plain": [
       "0.00014233369897324402"
      ]
     },
     "execution_count": 53,
     "metadata": {},
     "output_type": "execute_result"
    }
   ],
   "source": [
    "# vector norm of M[:, 0]\n",
    "np.sqrt(M[0,0]**2 + M[1,0]**2)"
   ]
  },
  {
   "cell_type": "code",
   "execution_count": 37,
   "metadata": {},
   "outputs": [
    {
     "data": {
      "text/plain": [
       "array([-0.03554426, -0.9993681 ])"
      ]
     },
     "execution_count": 37,
     "metadata": {},
     "output_type": "execute_result"
    }
   ],
   "source": [
    "M1_norm = normalize_vector(M[:,1])\n",
    "M1_norm"
   ]
  },
  {
   "cell_type": "code",
   "execution_count": 52,
   "metadata": {},
   "outputs": [
    {
     "data": {
      "image/png": "[encoded data removed]",
      "text/plain": [
       "<Figure size 576x432 with 1 Axes>"
      ]
     },
     "metadata": {
      "needs_background": "light"
     },
     "output_type": "display_data"
    }
   ],
   "source": [
    "import numpy as np\n",
    "import matplotlib.pyplot as plt\n",
    "\n",
    "# Define three vectors\n",
    "# v1 = np.array([-1.42243630e-04, -3.99934473e-03]) # M[:, 1]\n",
    "v1 = M1_norm\n",
    "# v2 = np.array([[-0.03937332, -0.99922457]]) # error vector\n",
    "v2 = norm_error_vec\n",
    "\n",
    "# Plotting\n",
    "plt.figure(figsize=(8, 6))\n",
    "plt.quiver(0, 0, v1[0], v1[1], angles='xy', scale_units='xy', scale=1, color=\"blue\", label=\"M[:, 1]\")\n",
    "plt.quiver(0, 0, v2[0], v2[1], angles='xy', scale_units='xy', scale=1, color=\"red\", label=\"error vector\")\n",
    "\n",
    "# Setting the limits and labels\n",
    "plt.xlim(-1.5, 1.5)\n",
    "plt.ylim(-1.5, 1.5)\n",
    "plt.axhline(0, color='black', linewidth=0.5)\n",
    "plt.axvline(0, color='black', linewidth=0.5)\n",
    "plt.grid(True)\n",
    "plt.xlabel('e0', fontsize=16)  # Larger font for x-axis label\n",
    "plt.ylabel('e1', fontsize=16)  # Larger font for y-axis label\n",
    "\n",
    "# Set the size of tick marks\n",
    "plt.xticks(fontsize=14)  # Larger ticks for x-axis\n",
    "plt.yticks(fontsize=14)  # Larger ticks for y-axis\n",
    "\n",
    "plt.title('Plot of Simpson`s Paradox', fontsize=22)\n",
    "plt.legend(fontsize=16)\n",
    "plt.show()"
   ]
  },
  {
   "cell_type": "code",
   "execution_count": 22,
   "metadata": {},
   "outputs": [
    {
     "data": {
      "text/plain": [
       "array([ 14.36826931, 362.35833158])"
      ]
     },
     "execution_count": 22,
     "metadata": {},
     "output_type": "execute_result"
    }
   ],
   "source": [
    "# Xs^Trs = (\\sum_i r_i , \\sum_i xiri)\n",
    "rs = (y1 - x1 @ lr.beta)\n",
    "rs\n",
    "xstrs = x1.T @ rs\n",
    "xstrs"
   ]
  },
  {
   "cell_type": "code",
   "execution_count": 28,
   "metadata": {},
   "outputs": [
    {
     "data": {
      "text/plain": [
       "array([-0.29704011,  3.41104477,  1.46008112,  1.90527189, -0.16568523,\n",
       "        1.87379041,  1.54448911,  0.47639287,  2.3335602 ,  1.82636428])"
      ]
     },
     "execution_count": 28,
     "metadata": {},
     "output_type": "execute_result"
    }
   ],
   "source": [
    "rs"
   ]
  },
  {
   "cell_type": "code",
   "execution_count": 31,
   "metadata": {},
   "outputs": [
    {
     "data": {
      "text/plain": [
       "array([-7.68799989, 85.95859631, 37.21654643, 49.76655253, -4.29684407,\n",
       "       45.92915338, 39.34592829, 11.87376906, 58.21857129, 46.03405825])"
      ]
     },
     "execution_count": 31,
     "metadata": {},
     "output_type": "execute_result"
    }
   ],
   "source": [
    "x1[:, 1] *  rs"
   ]
  },
  {
   "cell_type": "code",
   "execution_count": 32,
   "metadata": {},
   "outputs": [
    {
     "data": {
      "text/plain": [
       "array([25.88202617, 25.2000786 , 25.48936899, 26.1204466 , 25.933779  ,\n",
       "       24.51136106, 25.47504421, 24.9243214 , 24.94839057, 25.20529925])"
      ]
     },
     "execution_count": 32,
     "metadata": {},
     "output_type": "execute_result"
    }
   ],
   "source": [
    "x1[:, 1]"
   ]
  },
  {
   "cell_type": "markdown",
   "metadata": {},
   "source": [
    "## Extra Plots"
   ]
  },
  {
   "cell_type": "code",
   "execution_count": 62,
   "metadata": {},
   "outputs": [
    {
     "data": {
      "image/png": "[encoded data removed]",
      "text/plain": [
       "<Figure size 648x504 with 1 Axes>"
      ]
     },
     "metadata": {
      "needs_background": "light"
     },
     "output_type": "display_data"
    }
   ],
   "source": [
    "# V. Plot Points Dropped\n",
    "\n",
    "plt.figure(figsize=(9, 7))\n",
    "\n",
    "plt.scatter(orig_df[:10]['x1'], orig_df[:10]['y'], marker='o', color='black', label='Pop. A', s=56) # pop A\n",
    "plt.scatter(orig_df[10:]['x1'], orig_df[10:]['y'], marker='x', color='r', label='Pop. B', s=56) # pop B\n",
    "\n",
    "plt.xlabel('x', fontsize=22)  # Larger font for x-axis label\n",
    "plt.ylabel('y', fontsize=22)  # Larger font for y-axis label\n",
    "\n",
    "# Set the size of tick marks\n",
    "plt.xticks(fontsize=12)  # Larger ticks for x-axis\n",
    "plt.yticks(fontsize=12)  # Larger ticks for y-axis\n",
    "\n",
    "plt.xlabel('x')\n",
    "plt.ylabel('y')\n",
    "\n",
    "# Line of best fit\n",
    "x_values = np.linspace(min(orig_df['x1']), max(orig_df['x1']), 100) # Define range of x values\n",
    "y_values = lr.beta[1] * x_values + lr.beta[0] # Calculate corresponding y values based on y = 2x\n",
    "\n",
    "# Define the vector x\\sy\\s\n",
    "vector_x = 5*norm_error_vec[0] \n",
    "vector_y = 5*norm_error_vec[1] \n",
    "\n",
    "# Plot the vector starting from the origin (0,0)\n",
    "plt.quiver(0, 0, vector_x, vector_y, angles='xy', scale_units='xy', scale=1, color='blue', label='X\\sy\\s vector')\n",
    "\n",
    "# Define the vector largest_eigenvector\n",
    "eigvec_x = 5*largest_eigenvector[0] \n",
    "eigvec_y = 5*largest_eigenvector[1] \n",
    "\n",
    "# Plot the vector starting from the origin (0,0)\n",
    "plt.quiver(0, 0, eigvec_x, eigvec_y, angles='xy', scale_units='xy', scale=1, color='gray', \n",
    "           label='largest eigenvector of (xtxinv - x\\stx\\sinv)')\n",
    "\n",
    "\n",
    "\n",
    "plt.plot(x_values, y_values, color='black', linestyle='--', label='line-of-best-fit full data')\n",
    "plt.legend(fontsize=12)\n",
    "# plt.savefig('simpsons_may17.pdf')\n",
    "# plt.savefig('simpsons_may18.pdf')\n",
    "\n",
    "plt.show()"
   ]
  },
  {
   "cell_type": "markdown",
   "metadata": {},
   "source": [
    "### Operator Norm of M\n",
    "Largest eigenvalue is 4.00e-03"
   ]
  },
  {
   "cell_type": "markdown",
   "metadata": {},
   "source": [
    "### Cos(theta)\n",
    "the cosine similarity between the largest eigenvector and the error vector is 0.99."
   ]
  },
  {
   "cell_type": "code",
   "execution_count": 103,
   "metadata": {},
   "outputs": [
    {
     "data": {
      "image/png": "[encoded data removed]",
      "text/plain": [
       "<Figure size 576x432 with 1 Axes>"
      ]
     },
     "metadata": {
      "needs_background": "light"
     },
     "output_type": "display_data"
    }
   ],
   "source": [
    "import numpy as np\n",
    "import matplotlib.pyplot as plt\n",
    "\n",
    "# Define three vectors\n",
    "v1 = np.array([-0.03554429, -0.9993681])\n",
    "v2 = np.array([-0.03937332, -0.99922457])\n",
    "\n",
    "# Plotting\n",
    "plt.figure(figsize=(8, 6))\n",
    "plt.quiver(0, 0, v1[0], v1[1], angles='xy', scale_units='xy', scale=1, color=\"blue\", label=\"largest eigenvector\")\n",
    "plt.quiver(0, 0, v2[0], v2[1], angles='xy', scale_units='xy', scale=1, color=\"red\", label=\"error vector\")\n",
    "\n",
    "# Setting the limits and labels\n",
    "plt.xlim(-1, 1)\n",
    "plt.ylim(-1, 1)\n",
    "plt.axhline(0, color='black', linewidth=0.5)\n",
    "plt.axvline(0, color='black', linewidth=0.5)\n",
    "plt.grid(True)\n",
    "plt.xlabel('e0', fontsize=16)  # Larger font for x-axis label\n",
    "plt.ylabel('e1', fontsize=16)  # Larger font for y-axis label\n",
    "\n",
    "# Set the size of tick marks\n",
    "plt.xticks(fontsize=14)  # Larger ticks for x-axis\n",
    "plt.yticks(fontsize=14)  # Larger ticks for y-axis\n",
    "\n",
    "plt.title('Simpson`s Paradox', fontsize=22)\n",
    "plt.legend(fontsize=16)\n",
    "plt.savefig('simpsons_paradox_vector_plot.pdf')\n",
    "plt.show()"
   ]
  },
  {
   "cell_type": "code",
   "execution_count": null,
   "metadata": {},
   "outputs": [],
   "source": []
  },
  {
   "cell_type": "code",
   "execution_count": null,
   "metadata": {},
   "outputs": [],
   "source": []
  }
 ],
 "metadata": {
  "kernelspec": {
   "display_name": "Python 3",
   "language": "python",
   "name": "python3"
  },
  "language_info": {
   "codemirror_mode": {
    "name": "ipython",
    "version": 3
   },
   "file_extension": ".py",
   "mimetype": "text/x-python",
   "name": "python",
   "nbconvert_exporter": "python",
   "pygments_lexer": "ipython3",
   "version": "3.8.5"
  }
 },
 "nbformat": 4,
 "nbformat_minor": 4
}
