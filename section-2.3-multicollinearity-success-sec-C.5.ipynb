{
 "cells": [
  {
   "cell_type": "markdown",
   "metadata": {},
   "source": [
    "# Helper Functions"
   ]
  },
  {
   "cell_type": "code",
   "execution_count": 1,
   "metadata": {},
   "outputs": [],
   "source": [
    "def normalize_vector(v):\n",
    "    norm = np.linalg.norm(v)\n",
    "    if norm == 0:\n",
    "        return v  # Cannot normalize a zero vector\n",
    "    return v / norm\n",
    "\n",
    "def create_orig_df(x, lr):\n",
    "    '''\n",
    "    x: design matrix.\n",
    "    lr: linear regression object.\n",
    "    '''\n",
    "    scores = -lr.influence_scores()[1]\n",
    "    newton_scores = -lr.one_step_newton()[1]\n",
    "\n",
    "    # sort indices in ascending order (influence scores are negative, so the largest magnitude scores appear first.)\n",
    "    inds = np.argsort(scores)\n",
    "    print(\"inds\", inds[:10])\n",
    "    original_inds = inds # original_inds\n",
    "\n",
    "    newton_inds = np.argsort(newton_scores)\n",
    "    print(\"newton inds\", newton_inds[:10])\n",
    "    original_newton_inds = newton_inds \n",
    "\n",
    "    # sort scores.\n",
    "    sorted_scores = scores[inds]\n",
    "    print(\"sorted_scores\", sorted(scores)[:10])\n",
    "    original_sorted_scores = sorted_scores\n",
    "\n",
    "    sorted_newton_scores = newton_scores[inds]\n",
    "    print(\"sorted_newton_scores\", sorted_newton_scores[:10])\n",
    "    original_sorted_newton_scores = sorted_newton_scores\n",
    "\n",
    "    # residuals\n",
    "    residuals = lr.residual()\n",
    "    # print(\"residuals\", residuals[:10])\n",
    "    # leverages\n",
    "    leverages = lr.leverage_scores()\n",
    "    # print(\"leverages\", leverages[:10])\n",
    "\n",
    "    # x's\n",
    "    intercept = [pt[0] for pt in x]\n",
    "    x1 = [pt[1] for pt in x]\n",
    "    # x2 = [pt[2] for pt in x]\n",
    "\n",
    "    # x1 = [pt[0] for pt in x]\n",
    "    # x2 = [pt[1] for pt in x]\n",
    "\n",
    "    # create a df with residuals, leverages, and coordinates.\n",
    "    orig_df = pd.DataFrame({'x1': x1, 'y': y, \n",
    "                                      'residual': residuals, 'leverage': leverages, \n",
    "                            'influence': scores, 'newton': newton_scores})\n",
    "    \n",
    "    print(orig_df[:13])\n",
    "    \n",
    "    return orig_df, inds, scores, newton_inds, newton_scores\n",
    "\n",
    "def plot_dropped_point(x, y, index_to_remove):\n",
    "    '''\n",
    "    orig_df: df sorted by original indexing (where the outlier population comes first).\n",
    "    index_to_drop: index returned from sorting by influence (or one-step newton) scores.\n",
    "    method: \"influence\" or \"newton\"\n",
    "    '''\n",
    "    \n",
    "    # V. Plot Dropped Point at Current Iteration\n",
    "    plt.figure(figsize=(9, 7))\n",
    "    plt.scatter(x.T[1][index_to_remove], y[index_to_remove], marker='x', color='black', label='Dropped point')\n",
    "    \n",
    "    # match the window of the original plot.\n",
    "    plt.xlim(-2, 0.05)\n",
    "    plt.ylim(-7, 3)\n",
    "    \n",
    "    plt.xlabel('x1')\n",
    "    plt.ylabel('y')\n",
    "    plt.title('Dropped Point')\n",
    "    plt.legend()\n",
    "    \n",
    "    plt.show()\n",
    "    \n",
    "    return\n",
    "\n",
    "def create_plot(orig_df):\n",
    "    '''\n",
    "    orig_df: output from the helper function above.\n",
    "    '''\n",
    "    \n",
    "    # IV. Sort DF by influence score\n",
    "    sorted_if_df = orig_df.sort_values(by='influence', ascending=True)\n",
    "    print(\"index 0 in create_plot\", sorted_if_df.index[0])\n",
    "    \n",
    "    # sorted_if_df # the indices here are the order which amip drops points.\n",
    "    index = range(0, len(sorted_if_df))\n",
    "    \n",
    "    sorted_if_df['sorted_idx'] = index\n",
    "    \n",
    "    # V. Plot Points Dropped\n",
    "    plt.figure(figsize=(9, 7))\n",
    "\n",
    "    plt.scatter(orig_df[:10]['x1'], orig_df[:10]['y'], marker='x', color='black', label='Pop. A') # pop A\n",
    "    plt.scatter(orig_df[10:]['x1'], orig_df[10:]['y'], marker='x', color='r', label='Pop. B') # pop B\n",
    "\n",
    "\n",
    "    # Add dropped order positioned by each point\n",
    "    for index, row in sorted_if_df.iterrows():\n",
    "        if row['sorted_idx'] <= 9: # indices 2,3,4 are right on top of one another.\n",
    "            plt.text(row['x1'], row['y'], int(row['sorted_idx']), ha='left', va='top', fontsize=20)\n",
    "\n",
    "\n",
    "    plt.xlabel('x1')\n",
    "    plt.ylabel('y')\n",
    "    plt.title('Scores Ordered')\n",
    "    plt.legend()\n",
    "    plt.show()\n",
    "    \n",
    "    return"
   ]
  },
  {
   "cell_type": "code",
   "execution_count": 2,
   "metadata": {},
   "outputs": [],
   "source": [
    "from dataclasses import dataclass\n",
    "from typing import Optional, Tuple\n",
    "\n",
    "import numpy as np\n",
    "import numpy.typing\n",
    "\n",
    "import numpy as np\n",
    "import matplotlib.pyplot as plt\n",
    "import pandas as pd\n",
    "import linear_regression\n",
    "from linear_regression import LinearRegression"
   ]
  },
  {
   "cell_type": "markdown",
   "metadata": {},
   "source": [
    "# Multicollinearity Example with Noise"
   ]
  },
  {
   "cell_type": "markdown",
   "metadata": {},
   "source": [
    "In this example of multicollinearity, we present two Gaussian distributions, where the smaller population (population A) consists of $<1\\%$ of the datapoints. Upon dropping population A, most of the variation along the x axis is lost, and collinearity becomes a concern between x and the intercept. Here, dropping only 10 datapoints in population A suffices to flip the sign of the effect size from 3.90 to -0.79.\n",
    "\n",
    "This is another example in which AMIP fails in both type (i) and type (ii) sense. That is, AMIP approximates that the largest effect size for the removal of 10 datapoints is -0.48 (failure type i), which is not enough to change the sign. In addition, AMIP fails to correctly identify subset A as the correct subset to remove (failure type ii). Similarly, 1sN fails in this case. That is, 1sN approximates that the largest effect size for the removal of 10 datapoints is -0.52 (failure type i). 1sN also fails to correctly identify subset A as the correct subset to remove (failure type ii). In running the greedy versions of these algorithms on this Simpson's paradox example, we find that both greedy AMIP and greedy 1sN are able to succeed in identifying population A as an influential subset that reverses the sign.\n",
    "\n",
    "In running the greedy versions of these algorithms on this multicollinearity example, we find that both greedy AMIP and greedy 1sN are able to successfully identify population A as the influential subset that reverses the sign.\n",
    "\n",
    "\n",
    "The variance in x for population A is 0.01 while the variance for population B is 1e-3. The residual for population A is 1.\n",
    "The estimated fit for the full dataset is 3.90. The fit for pop A is -9.25 and the fit for pop B is -0.79. "
   ]
  },
  {
   "cell_type": "code",
   "execution_count": 3,
   "metadata": {},
   "outputs": [
    {
     "name": "stdout",
     "output_type": "stream",
     "text": [
      "<class 'numpy.ndarray'>\n"
     ]
    }
   ],
   "source": [
    "np.random.seed(2)\n",
    "# Mixing proportions\n",
    "total_observations = 1010\n",
    "num_observations_pop_1 = 10 # A (small fraction)\n",
    "num_observations_pop_2 = total_observations - num_observations_pop_1 # B\n",
    "\n",
    "# I. Generate the data.\n",
    "mean_pop_1 = np.array([-1])\n",
    "mean_pop_2 = np.array([0])\n",
    "vars_pop_1 = np.array([[.01]])\n",
    "vars_pop_2 = np.array([[1e-1]])\n",
    "\n",
    "# generate the X values for two populations.\n",
    "x1 = np.random.multivariate_normal(mean_pop_1, vars_pop_1, num_observations_pop_1)\n",
    "x2 = np.random.multivariate_normal(mean_pop_2, vars_pop_2, num_observations_pop_2)\n",
    "\n",
    "x = np.append(x1, x2, axis=0) # All x samples\n",
    "print(type(x))\n",
    "x1_0 = [pt[0] for pt in x1]\n",
    "# x1_1 = [pt[1] for pt in x1]\n",
    "x2_0 = [pt[0] for pt in x2]\n",
    "# x2_1 = [pt[1] for pt in x2]\n",
    "\n",
    "\n",
    "# add intercept term.\n",
    "df = pd.DataFrame(x)\n",
    "df.insert(0, 'Ones', 1)\n",
    "arr = df.values\n",
    "x = arr\n",
    "# (3/20: make sure that x1, x2 come from this new design matrix.)\n",
    "x1 = x[:10]\n",
    "x2 = x[10:]\n",
    "\n",
    "# Generating the Y values.\n",
    "epsilon = np.random.normal(0, 1, num_observations_pop_1) # eps is the variance of the noise distribution.\n",
    "slope = -1\n",
    "intercept = -10\n",
    "\n",
    "y1 = []\n",
    "for i in range(num_observations_pop_1):\n",
    "    y1.append(slope*x1_0[i] + intercept + epsilon[i]) # change here to add residual noise.\n",
    "\n",
    "y2 = np.random.randn(1, num_observations_pop_2) # No(0, 1)\n",
    "y2 = y2[0] # format results of np.randn \n",
    "y = np.concatenate([y1, y2], axis=0)"
   ]
  },
  {
   "cell_type": "code",
   "execution_count": 4,
   "metadata": {},
   "outputs": [
    {
     "data": {
      "text/plain": [
       "array([[ 1.        , -1.04167578],\n",
       "       [ 1.        , -1.00562668],\n",
       "       [ 1.        , -1.21361961],\n",
       "       [ 1.        , -0.83597292],\n",
       "       [ 1.        , -1.17934356],\n",
       "       [ 1.        , -1.08417474],\n",
       "       [ 1.        , -0.94971186],\n",
       "       [ 1.        , -1.12452881],\n",
       "       [ 1.        , -1.10579522],\n",
       "       [ 1.        , -1.09090076]])"
      ]
     },
     "execution_count": 4,
     "metadata": {},
     "output_type": "execute_result"
    }
   ],
   "source": [
    "x1"
   ]
  },
  {
   "cell_type": "code",
   "execution_count": 5,
   "metadata": {},
   "outputs": [
    {
     "name": "stdout",
     "output_type": "stream",
     "text": [
      "Condition number of full dataset: 3.0229481911122917\n",
      "Condition number Pop A: 20.258489328645037 Pop B: 3.1686185456950287\n"
     ]
    }
   ],
   "source": [
    "# Compute condition numbers\n",
    "print(\n",
    "    f\"Condition number of full dataset: {np.linalg.cond(x)}\"\n",
    ")\n",
    "\n",
    "print(\n",
    "    f\"Condition number Pop A: {np.linalg.cond(x1)} Pop B: {np.linalg.cond(x2)}\"\n",
    ")"
   ]
  },
  {
   "cell_type": "code",
   "execution_count": 6,
   "metadata": {},
   "outputs": [
    {
     "name": "stdout",
     "output_type": "stream",
     "text": [
      "Estimated beta1 with full dataset: 0.7264567487721101\n",
      "Estimated beta1 pop A: -0.018852211447998105\n",
      "Estimated beta1 pop B: -0.10492493650237363\n",
      "inds [5 4 0 7 2 1 8 6 9 3]\n",
      "newton inds [5 4 7 2 0 1 8 6 9 3]\n",
      "sorted_scores [-0.08389003375397606, -0.08317945307976625, -0.07986912219233053, -0.0798542654088231, -0.07964384389665789, -0.07413543161702782, -0.07127236246874613, -0.06752252382789564, -0.06620398702130213, -0.05556694924147882]\n",
      "sorted_newton_scores [-0.08483626 -0.08428011 -0.08070485 -0.08081939 -0.08075716 -0.07486188\n",
      " -0.0721068  -0.06811786 -0.06695948 -0.05595601]\n",
      "          x1         y  residual  leverage  influence    newton\n",
      "0  -1.041676 -9.512121 -8.682056  0.010355  -0.079869 -0.080705\n",
      "1  -1.005627 -9.158502 -8.354625  0.009704  -0.074135 -0.074862\n",
      "2  -1.213620 -8.361579 -7.406605  0.013786  -0.079644 -0.080757\n",
      "3  -0.835973 -8.250522 -7.569891  0.006953  -0.055567 -0.055956\n",
      "4  -1.179344 -8.894897 -7.964823  0.013059  -0.083179 -0.084280\n",
      "5  -1.084175 -9.614648 -8.753709  0.011154  -0.083890 -0.084836\n",
      "6  -0.949712 -8.832092 -8.068835  0.008740  -0.067523 -0.068118\n",
      "7  -1.124529 -8.917402 -8.027147  0.011942  -0.079854 -0.080819\n",
      "8  -1.105795 -8.165146 -7.288501  0.011572  -0.071272 -0.072107\n",
      "9  -1.090901 -7.730504 -6.864679  0.011283  -0.066204 -0.066959\n",
      "10  0.174385  1.915679  1.862328  0.001344  -0.003333 -0.003337\n",
      "11  0.724860 -1.660405 -2.113651  0.006053   0.014296  0.014383\n",
      "12  0.013136 -0.492985 -0.429195  0.001002   0.000143  0.000143\n",
      "amip additive scores: -0.7411379725080045\n",
      "newton additive scores: -0.7493997874908962\n",
      "A 0.07411379725080045 B 0.001919740995507507\n",
      "inds [5 4 0 7 2 1 8 6 9 3]\n"
     ]
    }
   ],
   "source": [
    "# II. Fit the regression.\n",
    "lr = LinearRegression(x=x.T, y=y)\n",
    "lr.fit()\n",
    "\n",
    "print(\n",
    "    f\"Estimated beta1 with full dataset: {lr.beta[1]}\"\n",
    ")  # We care about first coefficient (pop A: y is perfectly correlated (slope=1) with x1.)\n",
    "\n",
    "modified_lr_a = LinearRegression(x=x1.T, y=y1)\n",
    "modified_lr_a.fit()\n",
    "print(\n",
    "    f\"Estimated beta1 pop A: {modified_lr_a.beta[1]}\"\n",
    ")\n",
    "\n",
    "modified_lr = LinearRegression(x=x2.T, y=y2)\n",
    "modified_lr.fit()\n",
    "print(\n",
    "    f\"Estimated beta1 pop B: {modified_lr.beta[1]}\"\n",
    ")\n",
    "\n",
    "### V. CREATE DF\n",
    "orig_df, inds, scores, newton_inds, newton_scores = create_orig_df(x, lr)\n",
    "print(f\"amip additive scores: {sum(scores[:10])}\")\n",
    "print(f'newton additive scores: {sum(newton_scores[:10])}')\n",
    "\n",
    "\n",
    "# III. Compute influence scores for first coefficient.\n",
    "# scores = -lr.influence_scores()[0] # effect of removing a data point.\n",
    "scores = -lr.influence_scores()[1] # after adding an intercept term, take the scores of coefficient 1.\n",
    "\n",
    "print(\"A\", np.mean(np.abs(scores[:10])), \"B\", np.mean(np.abs(scores[10:1000])))\n",
    "\n",
    "# sort indices in ascending order (influence scores are negative, so the largest magnitude scores appear first.)\n",
    "inds = np.argsort(scores)\n",
    "print(\"inds\", inds[:10])\n",
    "original_inds = inds\n",
    "\n",
    "# ### V. Plot coordinates by AMIP drop order.\n",
    "# plt.figure(figsize=(9, 7))\n",
    "# plt.scatter(orig_df[:10]['x1'], orig_df[:10]['y'], marker='x', color='black', label='Pop. A') # pop A\n",
    "# plt.scatter(orig_df[10:]['x1'], orig_df[10:]['y'], marker='x', color='r', label='Pop. B') # pop B\n",
    "\n",
    "# # Add dropped order positioned by each point\n",
    "# #     for index, row in sorted_if_df.iterrows():\n",
    "# #         if row['sorted_idx'] < 10:\n",
    "# #             plt.text(row['x1']-0.01, row['y'], int(row['sorted_idx']), ha='right', va='bottom', fontsize=20)\n",
    "\n",
    "\n",
    "# plt.xlim(-2.5, 2.5)\n",
    "\n",
    "# plt.xlabel('x', fontsize=22)  # Larger font for x-axis label\n",
    "# plt.ylabel('y', fontsize=22)  # Larger font for y-axis label\n",
    "\n",
    "# # Set the size of tick marks\n",
    "# plt.xticks(fontsize=20)  # Larger ticks for x-axis\n",
    "# plt.yticks(fontsize=20)  # Larger ticks for y-axis\n",
    "\n",
    "# plt.title('Modified Poor Conditioning Example', fontsize=22)\n",
    "\n",
    "# plt.legend(fontsize=22)\n",
    "\n",
    "\n",
    "# plt.savefig('modified_poor_conditioning_example_data.pdf')\n",
    "# plt.show() "
   ]
  },
  {
   "cell_type": "code",
   "execution_count": 7,
   "metadata": {},
   "outputs": [],
   "source": [
    "# June 25\n",
    "amip_beta = lr.beta[1] + sum(scores[:10])"
   ]
  },
  {
   "cell_type": "code",
   "execution_count": 8,
   "metadata": {},
   "outputs": [
    {
     "data": {
      "text/plain": [
       "-0.0902437127664792"
      ]
     },
     "execution_count": 8,
     "metadata": {},
     "output_type": "execute_result"
    }
   ],
   "source": [
    "modified_lr.beta[1] - amip_beta"
   ]
  },
  {
   "cell_type": "code",
   "execution_count": 16,
   "metadata": {},
   "outputs": [
    {
     "data": {
      "image/png": "[encoded data removed]",
      "text/plain": [
       "<Figure size 648x504 with 1 Axes>"
      ]
     },
     "metadata": {
      "needs_background": "light"
     },
     "output_type": "display_data"
    }
   ],
   "source": [
    "### V. Plot coordinates by AMIP drop order.\n",
    "plt.figure(figsize=(9, 7))\n",
    "plt.scatter(orig_df[:10]['x1'], orig_df[:10]['y'], marker='o', color='black', label='Pop. A') # pop A\n",
    "plt.scatter(orig_df[10:]['x1'], orig_df[10:]['y'], marker='x', color='r', label='Pop. B') # pop B\n",
    "\n",
    "# Add dropped order positioned by each point\n",
    "#     for index, row in sorted_if_df.iterrows():\n",
    "#         if row['sorted_idx'] < 10:\n",
    "#             plt.text(row['x1']-0.01, row['y'], int(row['sorted_idx']), ha='right', va='bottom', fontsize=20)\n",
    "\n",
    "\n",
    "plt.xlim(-2.5, 2.5)\n",
    "\n",
    "plt.xlabel('x', fontsize=26)  # Larger font for x-axis label\n",
    "plt.ylabel('y', fontsize=26)  # Larger font for y-axis label\n",
    "\n",
    "# Set the size of tick marks\n",
    "plt.xticks(fontsize=20)  # Larger ticks for x-axis\n",
    "plt.yticks(fontsize=20)  # Larger ticks for y-axis\n",
    "\n",
    "# plt.title('Modified Poor Conditioning Example', fontsize=22)\n",
    "plt.legend(fontsize=22)\n",
    "plt.savefig('modified_poor_conditioning_example_data.pdf')\n",
    "plt.show()\n"
   ]
  },
  {
   "cell_type": "code",
   "execution_count": 17,
   "metadata": {},
   "outputs": [
    {
     "data": {
      "text/plain": [
       "0.83"
      ]
     },
     "execution_count": 17,
     "metadata": {},
     "output_type": "execute_result"
    }
   ],
   "source": [
    "# True change in fit.\n",
    "0.726 - -0.104"
   ]
  },
  {
   "cell_type": "code",
   "execution_count": 18,
   "metadata": {},
   "outputs": [
    {
     "data": {
      "text/plain": [
       "-0.014681223735894422"
      ]
     },
     "execution_count": 18,
     "metadata": {},
     "output_type": "execute_result"
    }
   ],
   "source": [
    "# (June 25th) influence function new fit.\n",
    "lr.beta[1] + sum(scores[:10])"
   ]
  },
  {
   "cell_type": "code",
   "execution_count": 19,
   "metadata": {},
   "outputs": [
    {
     "name": "stdout",
     "output_type": "stream",
     "text": [
      "(1000, 2)\n",
      "(1000,)\n",
      "(1010, 2)\n"
     ]
    }
   ],
   "source": [
    "# Refit after Removing Flagged Points\n",
    "# AMIP inds [  0   5   1   3   6   7   4 775 237 405]\n",
    "AMIP_inds= [0,5,1,3,6,7,4,775,237,405]\n",
    "new_x_amip= np.delete(x, AMIP_inds, axis=0)\n",
    "new_y_amip= np.delete(y, AMIP_inds, axis=0)\n",
    "print(new_x_amip.shape)\n",
    "print(new_y_amip.shape)\n",
    "print(x.shape)\n",
    "\n",
    "# newton inds [  0   5   1   6   3   7   4 775 237 405]\n",
    "newton_inds= [0,5,1,6,3,7,4,775,237,405]\n",
    "new_x_1sN= np.delete(x, newton_inds, axis=0)\n",
    "new_y_1sN= np.delete(y, newton_inds, axis=0)\n"
   ]
  },
  {
   "cell_type": "code",
   "execution_count": 20,
   "metadata": {},
   "outputs": [
    {
     "name": "stdout",
     "output_type": "stream",
     "text": [
      "Estimated beta1 with full dataset: 0.7264567487721101\n",
      "Estimated beta1 after removing subset specified by AMIP: 0.1283554732812241\n",
      "Difference in quantities: 0.598101275490886\n"
     ]
    }
   ],
   "source": [
    "# Refit after removing the points specified by AMIP and Additive 1sN (these indices are the same).\n",
    "lr = LinearRegression(x=x.T, y=y)\n",
    "lr.fit()\n",
    "\n",
    "print(\n",
    "    f\"Estimated beta1 with full dataset: {lr.beta[1]}\"\n",
    ")  # We care about first coefficient (pop A: y is perfectly correlated (slope=1) with x1.)\n",
    "\n",
    "modified_lr_amip = LinearRegression(x=new_x_amip.T, y=new_y_amip)\n",
    "modified_lr_amip.fit()\n",
    "print(\n",
    "    f\"Estimated beta1 after removing subset specified by AMIP: {modified_lr_amip.beta[1]}\"\n",
    ")\n",
    "print(\n",
    "    f\"Difference in quantities: {lr.beta[1] - modified_lr_amip.beta[1]}\"\n",
    ")"
   ]
  },
  {
   "cell_type": "code",
   "execution_count": 21,
   "metadata": {},
   "outputs": [],
   "source": [
    "def normalize_vector(v):\n",
    "    norm = np.linalg.norm(v)\n",
    "    if norm == 0:\n",
    "        return v  # Cannot normalize a zero vector\n",
    "    return v / norm"
   ]
  },
  {
   "cell_type": "code",
   "execution_count": 22,
   "metadata": {},
   "outputs": [],
   "source": [
    "# May 16th: compute (xtxinv - x2tx2inv)\n",
    "xtxinv = np.linalg.inv(x.T @ x)\n",
    "x2tx2inv = np.linalg.inv(x2.T @ x2)\n",
    "M = xtxinv - x2tx2inv"
   ]
  },
  {
   "cell_type": "code",
   "execution_count": 23,
   "metadata": {},
   "outputs": [
    {
     "name": "stdout",
     "output_type": "stream",
     "text": [
      "0.0010063524827340436\n",
      "[-0.08044497  0.99675905]\n"
     ]
    }
   ],
   "source": [
    "# compute the Singular Value Decomposition\n",
    "U, s, V = np.linalg.svd(M)\n",
    "\n",
    "# The operator norm is the largest singular value\n",
    "normM = np.max(s)\n",
    "print(normM) # in the multicollinearity example, we find that the largest eigenvalue is much larger than in the simpson's paradox example.\n",
    "\n",
    "largest_eigenvector = U[:, 0]\n",
    "second_eigenvector = U[:, 1]\n",
    "\n",
    "print(largest_eigenvector) # Multicollinearity: Largest eigenvalue of 0.922.\n",
    "# print(U)"
   ]
  },
  {
   "cell_type": "code",
   "execution_count": 24,
   "metadata": {},
   "outputs": [],
   "source": [
    "# x1y1 = x1.T @ y1\n",
    "# x1y1\n",
    "# x2y2 = x2.T @ y2\n",
    "# x2y2"
   ]
  },
  {
   "cell_type": "code",
   "execution_count": 25,
   "metadata": {},
   "outputs": [],
   "source": [
    "x1y1 = x1.T @ y1\n",
    "Sigma_s = x1.T @ x1\n",
    "Sigma_inv = np.linalg.inv(x.T @ x)\n",
    "xty = x.T @ y"
   ]
  },
  {
   "cell_type": "code",
   "execution_count": 26,
   "metadata": {},
   "outputs": [],
   "source": [
    "error_vec = x1y1 - Sigma_s @ Sigma_inv @ Sigma_s @ xty"
   ]
  },
  {
   "cell_type": "code",
   "execution_count": 27,
   "metadata": {},
   "outputs": [
    {
     "data": {
      "text/plain": [
       "array([ 0.67911133, -0.73403529])"
      ]
     },
     "execution_count": 27,
     "metadata": {},
     "output_type": "execute_result"
    }
   ],
   "source": [
    "norm_error_vec = normalize_vector(error_vec)\n",
    "norm_error_vec"
   ]
  },
  {
   "cell_type": "code",
   "execution_count": null,
   "metadata": {},
   "outputs": [],
   "source": []
  },
  {
   "cell_type": "code",
   "execution_count": 28,
   "metadata": {},
   "outputs": [],
   "source": [
    "# norm_x1y1 = normalize_vector(x1y1)\n",
    "# norm_x1y1\n",
    "# norm_x2y2 = normalize_vector(x2y2)\n",
    "# norm_x2y2"
   ]
  },
  {
   "cell_type": "code",
   "execution_count": 29,
   "metadata": {},
   "outputs": [],
   "source": [
    "# largest_eigenvector dot XsYs # Multicollinearity - the largest eigenvector does not align closely with error_vec.\n",
    "# largest_ev_dot_x1y1=largest_eigenvector.T @ norm_x1y1\n",
    "# largest_ev_dot_x1y1"
   ]
  },
  {
   "cell_type": "code",
   "execution_count": 30,
   "metadata": {},
   "outputs": [],
   "source": [
    "# largest_ev_dot_x2y2=largest_eigenvector.T @ norm_x2y2\n",
    "# largest_ev_dot_x2y2"
   ]
  },
  {
   "cell_type": "code",
   "execution_count": 31,
   "metadata": {},
   "outputs": [
    {
     "data": {
      "text/plain": [
       "-0.7862874103234133"
      ]
     },
     "execution_count": 31,
     "metadata": {},
     "output_type": "execute_result"
    }
   ],
   "source": [
    "largest_ev_dot_error_vec=largest_eigenvector.T @ norm_error_vec\n",
    "largest_ev_dot_error_vec"
   ]
  },
  {
   "cell_type": "code",
   "execution_count": 32,
   "metadata": {},
   "outputs": [
    {
     "data": {
      "text/plain": [
       "0.6178609134480835"
      ]
     },
     "execution_count": 32,
     "metadata": {},
     "output_type": "execute_result"
    }
   ],
   "source": [
    "second_ev_dot_error_vec=second_eigenvector.T @ norm_error_vec\n",
    "second_ev_dot_error_vec"
   ]
  },
  {
   "cell_type": "code",
   "execution_count": 33,
   "metadata": {},
   "outputs": [],
   "source": [
    "# second_ev_dot_x1y1=second_eigenvector.T @ norm_x1y1\n",
    "# second_ev_dot_x1y1"
   ]
  },
  {
   "cell_type": "code",
   "execution_count": 34,
   "metadata": {},
   "outputs": [],
   "source": [
    "# second_ev_dot_x1y1=second_eigenvector.T @ norm_x1y1\n",
    "# second_ev_dot_x1y1"
   ]
  },
  {
   "cell_type": "code",
   "execution_count": 35,
   "metadata": {},
   "outputs": [],
   "source": [
    "# second_ev_dot_x2y2=second_eigenvector.T @ norm_x2y2\n",
    "# second_ev_dot_x2y2"
   ]
  },
  {
   "cell_type": "markdown",
   "metadata": {},
   "source": [
    "# Create Barplot"
   ]
  },
  {
   "cell_type": "code",
   "execution_count": 36,
   "metadata": {},
   "outputs": [
    {
     "data": {
      "image/png": "[encoded data removed]",
      "text/plain": [
       "<Figure size 432x288 with 1 Axes>"
      ]
     },
     "metadata": {
      "needs_background": "light"
     },
     "output_type": "display_data"
    }
   ],
   "source": [
    "import matplotlib.pyplot as plt\n",
    "\n",
    "# Values from the outputs related to dot products\n",
    "eigenvalues = [largest_ev_dot_error_vec, second_ev_dot_error_vec]\n",
    "eigenvectors = ['largest_eigenvector', 'second_eigenvector']\n",
    "\n",
    "# Creating the bar plot with thinner bars\n",
    "plt.bar(eigenvectors, eigenvalues, color=['black', 'black'], width=0.4)  # Adjust the width here\n",
    "plt.ylabel('Cos(theta)')\n",
    "plt.title('Cos(theta) of Eigenvectors with Error Vector')\n",
    "plt.savefig('multicollinearity_barplot.pdf')\n",
    "plt.show()"
   ]
  },
  {
   "cell_type": "markdown",
   "metadata": {},
   "source": [
    "Since the error term vector does not align well with the eigenvector of the largest eigenvalue as in the simpson's paradox case, we attribute the error to mechanism 1."
   ]
  },
  {
   "cell_type": "markdown",
   "metadata": {},
   "source": [
    "## Verifying the Error Term Expression (June 25th)"
   ]
  },
  {
   "cell_type": "code",
   "execution_count": 37,
   "metadata": {
    "scrolled": true
   },
   "outputs": [
    {
     "data": {
      "text/plain": [
       "-0.0902437127664792"
      ]
     },
     "execution_count": 37,
     "metadata": {},
     "output_type": "execute_result"
    }
   ],
   "source": [
    "# empirical error: beta(w) - beta^{IF}(w) \n",
    "beta_w = modified_lr.beta[1]\n",
    "beta_IF_w = lr.beta[1] + sum(scores[:10])\n",
    "beta_w - beta_IF_w"
   ]
  },
  {
   "cell_type": "code",
   "execution_count": 38,
   "metadata": {},
   "outputs": [
    {
     "data": {
      "text/plain": [
       "array([-78.9808702 ,  83.88445766])"
      ]
     },
     "execution_count": 38,
     "metadata": {},
     "output_type": "execute_result"
    }
   ],
   "source": [
    "# Xs^Trs = (\\sum_i r_i , \\sum_i xiri)\n",
    "rs = (y1 - x1 @ lr.beta)\n",
    "rs\n",
    "xstrs = x1.T @ rs\n",
    "xstrs "
   ]
  },
  {
   "cell_type": "code",
   "execution_count": 39,
   "metadata": {},
   "outputs": [
    {
     "data": {
      "text/plain": [
       "array([-0.09024371])"
      ]
     },
     "execution_count": 39,
     "metadata": {},
     "output_type": "execute_result"
    }
   ],
   "source": [
    "# analytic error: etM2v\n",
    "M[1:2] @ xstrs"
   ]
  },
  {
   "cell_type": "markdown",
   "metadata": {},
   "source": [
    "The error is large when m_err or v_err has a large norm or \\angle(m_err, v_err) is large."
   ]
  },
  {
   "cell_type": "code",
   "execution_count": 40,
   "metadata": {},
   "outputs": [
    {
     "data": {
      "text/plain": [
       "0.001003090945831283"
      ]
     },
     "execution_count": 40,
     "metadata": {},
     "output_type": "execute_result"
    }
   ],
   "source": [
    "np.linalg.norm(M[1:2])"
   ]
  },
  {
   "cell_type": "code",
   "execution_count": 41,
   "metadata": {
    "scrolled": true
   },
   "outputs": [
    {
     "data": {
      "text/plain": [
       "115.21536396617104"
      ]
     },
     "execution_count": 41,
     "metadata": {},
     "output_type": "execute_result"
    }
   ],
   "source": [
    "np.linalg.norm(xstrs)"
   ]
  },
  {
   "cell_type": "code",
   "execution_count": 42,
   "metadata": {},
   "outputs": [],
   "source": [
    "norm_m_vec = normalize_vector(M[1:2])[0]\n",
    "norm_v_vec = normalize_vector(xstrs)"
   ]
  },
  {
   "cell_type": "code",
   "execution_count": 43,
   "metadata": {},
   "outputs": [
    {
     "data": {
      "text/plain": [
       "-0.7808475429712625"
      ]
     },
     "execution_count": 43,
     "metadata": {},
     "output_type": "execute_result"
    }
   ],
   "source": [
    "# angle\n",
    "# normalize_vector(v)\n",
    "cosine_theta = norm_m_vec @ norm_v_vec\n",
    "cosine_theta"
   ]
  },
  {
   "cell_type": "markdown",
   "metadata": {},
   "source": [
    "# Why does the error vector align with the largest eigenvector of the diff in inverse hessians?\n",
    "\n",
    "notice that the largest eigenvector aligns well with the vector e1 = (0, 1). this is why the error is large in x, but is it large in the intercept?"
   ]
  },
  {
   "cell_type": "code",
   "execution_count": 44,
   "metadata": {},
   "outputs": [
    {
     "name": "stdout",
     "output_type": "stream",
     "text": [
      "[1.00635248e-03 9.92090885e-08]\n",
      "[[-0.08044497  0.99675905]\n",
      " [ 0.99675905  0.08044497]]\n",
      "[[ 0.08044497 -0.99675905]\n",
      " [-0.99675905 -0.08044497]]\n",
      "[-0.08044497  0.99675905]\n"
     ]
    }
   ],
   "source": [
    "# what is the relationship between M and the eigenvectors of M?\n",
    "\n",
    "# compute the Singular Value Decomposition\n",
    "U, s, V = np.linalg.svd(M)\n",
    "\n",
    "# The operator norm is the largest singular value\n",
    "normM = np.max(s)\n",
    "# print(normM) # in the multicollinearity example, we find that the largest eigenvalue is much larger than in the simpson's paradox example.\n",
    "\n",
    "largest_eigenvector = U[:, 0]\n",
    "second_eigenvector = U[:, 1]\n",
    "\n",
    "print(s)\n",
    "print(U)\n",
    "print(V)\n",
    "print(largest_eigenvector) \n",
    "# print(second_eigenvector)\n",
    "# print(V)"
   ]
  },
  {
   "cell_type": "code",
   "execution_count": 45,
   "metadata": {},
   "outputs": [
    {
     "name": "stdout",
     "output_type": "stream",
     "text": [
      "[[-6.61107046e-06  8.06856709e-05]\n",
      " [ 8.06856709e-05 -9.99840621e-04]]\n",
      "[[-0.08044497  0.99675905]\n",
      " [ 0.99675905  0.08044497]]\n"
     ]
    }
   ],
   "source": [
    "print(M)\n",
    "print(U) # eigenvector 1 , eigenvector 2"
   ]
  },
  {
   "cell_type": "code",
   "execution_count": 46,
   "metadata": {},
   "outputs": [
    {
     "name": "stdout",
     "output_type": "stream",
     "text": [
      "eigenvalues: [1.00635248e-03 9.92090885e-08]\n",
      "0.0010063524827340436\n",
      "[-0.08044497  0.99675905]\n"
     ]
    }
   ],
   "source": [
    "# compute the Singular Value Decomposition\n",
    "U, s, V = np.linalg.svd(M)\n",
    "print(f'eigenvalues: {s}')\n",
    "\n",
    "# The operator norm is the largest singular value\n",
    "normM = np.max(s)\n",
    "print(normM)\n",
    "\n",
    "largest_eigenvector = U[:, 0] # Simpson's Paradox: Largest eigenvalue is 4.00e-03.\n",
    "second_eigenvector = U[:, 1]\n",
    "\n",
    "print(largest_eigenvector)"
   ]
  },
  {
   "cell_type": "code",
   "execution_count": null,
   "metadata": {},
   "outputs": [],
   "source": []
  },
  {
   "cell_type": "markdown",
   "metadata": {},
   "source": [
    "### Using M1 Rather than the Eigenvector"
   ]
  },
  {
   "cell_type": "code",
   "execution_count": 47,
   "metadata": {},
   "outputs": [
    {
     "data": {
      "text/plain": [
       "array([-8.68205568, -8.35462539, -7.40660453, -7.56989077, -7.96482275,\n",
       "       -8.753709  , -8.06883512, -8.02714742, -7.28850067, -6.86467888])"
      ]
     },
     "execution_count": 47,
     "metadata": {},
     "output_type": "execute_result"
    }
   ],
   "source": [
    "rs"
   ]
  },
  {
   "cell_type": "code",
   "execution_count": 48,
   "metadata": {},
   "outputs": [
    {
     "data": {
      "text/plain": [
       "array([9.04388716, 8.40163422, 8.9888005 , 6.32822368, 9.3932624 ,\n",
       "       9.49055015, 7.6630684 , 9.02675852, 8.05958921, 7.48868342])"
      ]
     },
     "execution_count": 48,
     "metadata": {},
     "output_type": "execute_result"
    }
   ],
   "source": [
    "x1[:, 1] *  rs"
   ]
  },
  {
   "cell_type": "code",
   "execution_count": 49,
   "metadata": {},
   "outputs": [
    {
     "data": {
      "text/plain": [
       "array([-1.04167578, -1.00562668, -1.21361961, -0.83597292, -1.17934356,\n",
       "       -1.08417474, -0.94971186, -1.12452881, -1.10579522, -1.09090076])"
      ]
     },
     "execution_count": 49,
     "metadata": {},
     "output_type": "execute_result"
    }
   ],
   "source": [
    "x1[:, 1] # the x's are on the same magnitude as the r's."
   ]
  },
  {
   "cell_type": "code",
   "execution_count": 50,
   "metadata": {},
   "outputs": [
    {
     "data": {
      "text/plain": [
       "array([[-6.61107046e-06,  8.06856709e-05],\n",
       "       [ 8.06856709e-05, -9.99840621e-04]])"
      ]
     },
     "execution_count": 50,
     "metadata": {},
     "output_type": "execute_result"
    }
   ],
   "source": [
    "M"
   ]
  },
  {
   "cell_type": "code",
   "execution_count": 51,
   "metadata": {},
   "outputs": [
    {
     "data": {
      "text/plain": [
       "0.001003090945831283"
      ]
     },
     "execution_count": 51,
     "metadata": {},
     "output_type": "execute_result"
    }
   ],
   "source": [
    "# vector norm of M[:, 1]\n",
    "np.sqrt(M[0,1]**2 + M[1,1]**2)"
   ]
  },
  {
   "cell_type": "code",
   "execution_count": 52,
   "metadata": {},
   "outputs": [
    {
     "data": {
      "text/plain": [
       "array([ 0.08043704, -0.99675969])"
      ]
     },
     "execution_count": 52,
     "metadata": {},
     "output_type": "execute_result"
    }
   ],
   "source": [
    "M1_norm = normalize_vector(M[:,1])\n",
    "M1_norm"
   ]
  },
  {
   "cell_type": "code",
   "execution_count": 53,
   "metadata": {},
   "outputs": [
    {
     "ename": "ValueError",
     "evalue": "matmul: Input operand 1 does not have enough dimensions (has 0, gufunc core with signature (n?,k),(k,m?)->(n?,m?) requires 1)",
     "output_type": "error",
     "traceback": [
      "\u001b[0;31m---------------------------------------------------------------------------\u001b[0m",
      "\u001b[0;31mValueError\u001b[0m                                Traceback (most recent call last)",
      "\u001b[0;32m<ipython-input-53-c4cab9f9e6c4>\u001b[0m in \u001b[0;36m<module>\u001b[0;34m\u001b[0m\n\u001b[1;32m      1\u001b[0m \u001b[0;31m# Xs^Trs = (\\sum_i r_i , \\sum_i xiri)\u001b[0m\u001b[0;34m\u001b[0m\u001b[0;34m\u001b[0m\u001b[0;34m\u001b[0m\u001b[0m\n\u001b[0;32m----> 2\u001b[0;31m \u001b[0mrs\u001b[0m \u001b[0;34m=\u001b[0m \u001b[0;34m(\u001b[0m\u001b[0my1\u001b[0m \u001b[0;34m-\u001b[0m \u001b[0mx1\u001b[0m \u001b[0;34m@\u001b[0m \u001b[0mlr\u001b[0m\u001b[0;34m.\u001b[0m\u001b[0mbeta\u001b[0m\u001b[0;34m[\u001b[0m\u001b[0;36m1\u001b[0m\u001b[0;34m]\u001b[0m\u001b[0;34m)\u001b[0m\u001b[0;34m\u001b[0m\u001b[0;34m\u001b[0m\u001b[0m\n\u001b[0m\u001b[1;32m      3\u001b[0m \u001b[0mrs\u001b[0m\u001b[0;34m\u001b[0m\u001b[0;34m\u001b[0m\u001b[0m\n\u001b[1;32m      4\u001b[0m \u001b[0mxstrs\u001b[0m \u001b[0;34m=\u001b[0m \u001b[0mx1\u001b[0m\u001b[0;34m.\u001b[0m\u001b[0mT\u001b[0m \u001b[0;34m@\u001b[0m \u001b[0mrs\u001b[0m\u001b[0;34m\u001b[0m\u001b[0;34m\u001b[0m\u001b[0m\n\u001b[1;32m      5\u001b[0m \u001b[0mxstrs\u001b[0m\u001b[0;34m\u001b[0m\u001b[0;34m\u001b[0m\u001b[0m\n",
      "\u001b[0;31mValueError\u001b[0m: matmul: Input operand 1 does not have enough dimensions (has 0, gufunc core with signature (n?,k),(k,m?)->(n?,m?) requires 1)"
     ]
    }
   ],
   "source": [
    "# Xs^Trs = (\\sum_i r_i , \\sum_i xiri)\n",
    "rs = (y1 - x1 @ lr.beta[1])\n",
    "rs\n",
    "xstrs = x1.T @ rs\n",
    "xstrs"
   ]
  },
  {
   "cell_type": "code",
   "execution_count": 54,
   "metadata": {},
   "outputs": [
    {
     "data": {
      "text/plain": [
       "0.7264567487721101"
      ]
     },
     "execution_count": 54,
     "metadata": {},
     "output_type": "execute_result"
    }
   ],
   "source": [
    "lr.beta[1]"
   ]
  },
  {
   "cell_type": "code",
   "execution_count": 55,
   "metadata": {},
   "outputs": [
    {
     "name": "stdout",
     "output_type": "stream",
     "text": [
      "norm of M: 0.001003090945831283\n",
      "norm of V: 115.21536396617104\n"
     ]
    }
   ],
   "source": [
    "# norm of M\n",
    "# M[1:2]\n",
    "print(f'norm of M: {np.linalg.norm(M[1:2])}')\n",
    "print(f'norm of V: {np.linalg.norm(xstrs)}') "
   ]
  },
  {
   "cell_type": "markdown",
   "metadata": {},
   "source": [
    "## Verifying Error Term Expression (June 25th)"
   ]
  },
  {
   "cell_type": "code",
   "execution_count": 56,
   "metadata": {},
   "outputs": [
    {
     "name": "stdout",
     "output_type": "stream",
     "text": [
      "0.0902437127664792\n",
      "[0.09024371]\n",
      "norm M: 0.001003090945831283\n",
      "norm v: 115.21536396617104\n",
      "theta in degrees: 38.66175873081972\n",
      "[-0.08043704  0.99675969]\n",
      "[-0.68550641  0.72806659]\n"
     ]
    }
   ],
   "source": [
    "import math\n",
    "\n",
    "# empirical error: beta(w) - beta^{IF}(w) \n",
    "beta_w = modified_lr.beta[1]\n",
    "beta_IF_w = lr.beta[1] + sum(scores[:10])\n",
    "print(beta_IF_w - beta_w)\n",
    "\n",
    "# Xs^Trs = (\\sum_i r_i , \\sum_i xiri)\n",
    "rs = (y1 - x1 @ lr.beta)\n",
    "rs\n",
    "xstrs = x1.T @ rs\n",
    "xstrs\n",
    "\n",
    "# analytic error: etM2v\n",
    "print(-M[1:2] @ xstrs)\n",
    "\n",
    "# print norm values\n",
    "print('norm M:', np.linalg.norm(M[1:2]))\n",
    "print('norm v:', np.linalg.norm(xstrs))  \n",
    "\n",
    "# normed vectors\n",
    "norm_m_vec = normalize_vector(-M[1:2])[0]\n",
    "norm_v_vec = normalize_vector(xstrs)\n",
    "\n",
    "# cosine similarity\n",
    "costheta = norm_m_vec @ norm_v_vec\n",
    "theta = math.acos(costheta) * (180.0 / math.pi)\n",
    "print('theta in degrees:', theta)\n",
    "\n",
    "# new June 25th - should be the same as the old.\n",
    "print(norm_m_vec)\n",
    "print(norm_v_vec)"
   ]
  },
  {
   "cell_type": "code",
   "execution_count": 58,
   "metadata": {},
   "outputs": [
    {
     "data": {
      "image/png": "[encoded data removed]",
      "text/plain": [
       "<Figure size 576x432 with 1 Axes>"
      ]
     },
     "metadata": {
      "needs_background": "light"
     },
     "output_type": "display_data"
    }
   ],
   "source": [
    "import numpy as np\n",
    "import matplotlib.pyplot as plt\n",
    "\n",
    "# Define three vectors\n",
    "# v1 = np.array([-1.42243630e-04, -3.99934473e-03]) # M[:, 1]\n",
    "v1 = norm_m_vec\n",
    "# v2 = np.array([[-0.03937332, -0.99922457]]) # error vector\n",
    "v2 = norm_v_vec\n",
    "\n",
    "# Plotting\n",
    "plt.figure(figsize=(8, 6))\n",
    "plt.quiver(0, 0, v1[0], v1[1], angles='xy', scale_units='xy', scale=1, color=\"blue\", label=r'$\\vec{m}_{\\mathrm{Err}}$')\n",
    "plt.quiver(0, 0, v2[0], v2[1], angles='xy', scale_units='xy', scale=1, color=\"red\", label=r'$\\vec{v}_{\\mathrm{Err}}$')\n",
    "\n",
    "textstring = '\\n'.join((\n",
    "    r'$\\vec{m}_{\\mathrm{Err}} \\cdot \\vec{v}_{\\mathrm{Err}}$ = 0.09',\n",
    "    r'$\\|\\vec{m}_{\\mathrm{Err}}\\|$ = 0.001',\n",
    "    r'$\\|\\vec{v}_{\\mathrm{Err}}\\|$ = 115.22',\n",
    "    r'$\\measuredangle{ (\\vec{m}_{\\mathrm{Err}}\\, , \\vec{v}_{\\mathrm{Err}}) } = 38.66^{\\circ} $'\n",
    ")) \n",
    "\n",
    "# Adding a text box\n",
    "plt.text(-1.42, -1.36, textstring, fontsize = 15, \n",
    "         bbox = dict(facecolor = 'white', alpha = 0.5))\n",
    "\n",
    "# Setting the limits and labels\n",
    "plt.xlim(-1.5, 1.5)\n",
    "plt.ylim(-1.5, 1.5)\n",
    "plt.axhline(0, color='black', linewidth=0.5)\n",
    "plt.axvline(0, color='black', linewidth=0.5)\n",
    "plt.grid(True)\n",
    "plt.xlabel('e0', fontsize=16)  # Larger font for x-axis label\n",
    "plt.ylabel('e1', fontsize=16)  # Larger font for y-axis label\n",
    "\n",
    "# Set the size of tick marks\n",
    "plt.xticks(fontsize=14)  # Larger ticks for x-axis\n",
    "plt.yticks(fontsize=14)  # Larger ticks for y-axis\n",
    "\n",
    "# plt.title('Modified Poor Conditioning Example', fontsize=22)\n",
    "plt.legend(fontsize=16)\n",
    "plt.savefig('mv.poorconditioning.success.pdf')\n",
    "plt.show()"
   ]
  },
  {
   "cell_type": "code",
   "execution_count": null,
   "metadata": {},
   "outputs": [],
   "source": []
  },
  {
   "cell_type": "code",
   "execution_count": null,
   "metadata": {},
   "outputs": [],
   "source": []
  },
  {
   "cell_type": "code",
   "execution_count": null,
   "metadata": {},
   "outputs": [],
   "source": []
  },
  {
   "cell_type": "markdown",
   "metadata": {},
   "source": [
    "### Plotting the eigenvectors"
   ]
  },
  {
   "cell_type": "code",
   "execution_count": 38,
   "metadata": {},
   "outputs": [],
   "source": [
    "### Multicollinearity Success\n",
    "largest_eigenvalue = 1.00635248e-03\n",
    "largest_eigenvector = np.array([-3.95757454e-04, -9.99999922e-01])\n",
    "norm_error_vector = np.array([0.67911133, -0.73403529])"
   ]
  },
  {
   "cell_type": "code",
   "execution_count": 107,
   "metadata": {},
   "outputs": [
    {
     "data": {
      "image/png": "[encoded data removed]",
      "text/plain": [
       "<Figure size 576x432 with 1 Axes>"
      ]
     },
     "metadata": {
      "needs_background": "light"
     },
     "output_type": "display_data"
    }
   ],
   "source": [
    "import numpy as np\n",
    "import matplotlib.pyplot as plt\n",
    "\n",
    "# Define three vectors\n",
    "# v1 = np.array([-1.42243630e-04, -3.99934473e-03]) # M[:, 1]\n",
    "# v1 = largest_eigenvector\n",
    "# v2 = np.array([[-0.03937332, -0.99922457]]) # error vector\n",
    "# v2 = norm_error_vector\n",
    "\n",
    "# Plotting\n",
    "plt.figure(figsize=(8, 6))\n",
    "plt.quiver(0, 0, norm_m_vec[0], norm_m_vec[1], angles='xy', scale_units='xy', scale=1, color=\"blue\", label=r'$\\vec{m}_{\\mathrm{Err}}$')\n",
    "plt.quiver(0, 0, norm_v_vec[0], norm_v_vec[1], angles='xy', scale_units='xy', scale=1, color=\"red\", label=r'$\\vec{v}_{\\mathrm{Err}}$')\n",
    "\n",
    "textstring = '\\n'.join((\n",
    "    r'$\\|\\vec{m}_{\\mathrm{Err}}\\|$ = 0.001',\n",
    "    r'$\\|\\vec{v}_{\\mathrm{Err}}\\|$ = 115.22',\n",
    "    r'$\\measuredangle{ (\\vec{m}_{\\mathrm{Err}}\\, , \\vec{v}_{\\mathrm{Err}}) } = 141^{\\circ} $'\n",
    ")) \n",
    "\n",
    "# Adding a text box\n",
    "plt.text(-1.42, -1.36, textstring, fontsize = 15, \n",
    "         bbox = dict(facecolor = 'white', alpha = 0.5))\n",
    "\n",
    "# Setting the limits and labels\n",
    "plt.xlim(-1.5, 1.5)\n",
    "plt.ylim(-1.5, 1.5)\n",
    "plt.axhline(0, color='black', linewidth=0.5)\n",
    "plt.axvline(0, color='black', linewidth=0.5)\n",
    "plt.grid(True)\n",
    "plt.xlabel('e0', fontsize=16)  # Larger font for x-axis label\n",
    "plt.ylabel('e1', fontsize=16)  # Larger font for y-axis label\n",
    "\n",
    "# Set the size of tick marks\n",
    "plt.xticks(fontsize=14)  # Larger ticks for x-axis\n",
    "plt.yticks(fontsize=14)  # Larger ticks for y-axis\n",
    "\n",
    "plt.title('Modified Poor Conditioning Example', fontsize=22)\n",
    "plt.legend(fontsize=16)\n",
    "# plt.savefig('modified_poor_conditioning_vectors.pdf')\n",
    "plt.savefig('modified_poor_conditioning_vectors_june25.pdf')\n",
    "plt.show()"
   ]
  },
  {
   "cell_type": "code",
   "execution_count": null,
   "metadata": {},
   "outputs": [],
   "source": []
  },
  {
   "cell_type": "code",
   "execution_count": null,
   "metadata": {},
   "outputs": [],
   "source": []
  },
  {
   "cell_type": "markdown",
   "metadata": {},
   "source": [
    "# Run Code Below to Generate Paper Figures"
   ]
  },
  {
   "cell_type": "code",
   "execution_count": 26,
   "metadata": {},
   "outputs": [
    {
     "data": {
      "image/png": "[encoded data removed]",
      "text/plain": [
       "<Figure size 648x504 with 1 Axes>"
      ]
     },
     "metadata": {
      "needs_background": "light"
     },
     "output_type": "display_data"
    }
   ],
   "source": [
    "### V. FIGURE FOR PAPER.\n",
    "plt.figure(figsize=(9, 7))\n",
    "plt.scatter(orig_df[:10]['x1'], orig_df[:10]['y'], marker='o', color='black', label='Pop. A', s=65) # pop A\n",
    "plt.scatter(orig_df[10:]['x1'], orig_df[10:]['y'], marker='x', color='r', label='Pop. B', s=65) # pop B\n",
    "\n",
    "# Add dropped order positioned by each point\n",
    "#     for index, row in sorted_if_df.iterrows():\n",
    "#         if row['sorted_idx'] < 10:\n",
    "#             plt.text(row['x1']-0.01, row['y'], int(row['sorted_idx']), ha='right', va='bottom', fontsize=20)\n",
    "\n",
    "\n",
    "plt.xlim(-1.5, 0.5)\n",
    "\n",
    "plt.xlabel('x', fontsize=22)  # Larger font for x-axis label\n",
    "plt.ylabel('y', fontsize=22)  # Larger font for y-axis label\n",
    "\n",
    "# Set the size of tick marks\n",
    "plt.xticks(fontsize=12)  # Larger ticks for x-axis\n",
    "plt.yticks(fontsize=12)  # Larger ticks for y-axis\n",
    "\n",
    "plt.title('Multicollinearity', fontsize=22)\n",
    "plt.legend(fontsize=22)\n",
    "# plt.savefig('multicollinearity_example_may23.pdf')\n",
    "plt.show()\n"
   ]
  },
  {
   "cell_type": "code",
   "execution_count": 28,
   "metadata": {},
   "outputs": [
    {
     "data": {
      "text/plain": [
       "array([ 0.68139114, -0.73191947])"
      ]
     },
     "execution_count": 28,
     "metadata": {},
     "output_type": "execute_result"
    }
   ],
   "source": [
    "norm_error_vec"
   ]
  },
  {
   "cell_type": "markdown",
   "metadata": {},
   "source": [
    "### Operator Norm of M\n",
    "Largest eigenvalue is 0.922"
   ]
  },
  {
   "cell_type": "markdown",
   "metadata": {},
   "source": [
    "### Cos(theta)\n",
    "the cosine similarity between the largest eigenvector and the error vector is 0.7316; angle = "
   ]
  },
  {
   "cell_type": "code",
   "execution_count": null,
   "metadata": {},
   "outputs": [],
   "source": []
  },
  {
   "cell_type": "code",
   "execution_count": 41,
   "metadata": {},
   "outputs": [
    {
     "data": {
      "image/png": "[encoded data removed]",
      "text/plain": [
       "<Figure size 576x432 with 1 Axes>"
      ]
     },
     "metadata": {
      "needs_background": "light"
     },
     "output_type": "display_data"
    }
   ],
   "source": [
    "import numpy as np\n",
    "import matplotlib.pyplot as plt\n",
    "\n",
    "# Define three vectors\n",
    "v1 = np.array([-3.95757454e-04, -9.99999922e-01])\n",
    "v2 = np.array([0.68139114, -0.73191947])\n",
    "\n",
    "# Plotting\n",
    "plt.figure(figsize=(8, 6))\n",
    "plt.quiver(0, 0, v1[0], v1[1], angles='xy', scale_units='xy', scale=1, color=\"blue\", label=\"largest eigenvector\")\n",
    "plt.quiver(0, 0, v2[0], v2[1], angles='xy', scale_units='xy', scale=1, color=\"red\", label=\"error vector\")\n",
    "\n",
    "# Setting the limits and labels\n",
    "plt.xlim(-1, 1)\n",
    "plt.ylim(-1, 1)\n",
    "plt.axhline(0, color='black', linewidth=0.5)\n",
    "plt.axvline(0, color='black', linewidth=0.5)\n",
    "plt.grid(True)\n",
    "plt.xlabel('e0', fontsize=16)  # Larger font for x-axis label\n",
    "plt.ylabel('e1', fontsize=16)  # Larger font for y-axis label\n",
    "\n",
    "# Set the size of tick marks\n",
    "plt.xticks(fontsize=14)  # Larger ticks for x-axis\n",
    "plt.yticks(fontsize=14)  # Larger ticks for y-axis\n",
    "\n",
    "plt.title('Multicollinearity', fontsize=22)\n",
    "plt.legend(fontsize=16)\n",
    "\n",
    "\n",
    "plt.savefig('multicollinearity_vector_plot.pdf')\n",
    "plt.show()"
   ]
  },
  {
   "cell_type": "code",
   "execution_count": null,
   "metadata": {},
   "outputs": [],
   "source": []
  },
  {
   "cell_type": "code",
   "execution_count": null,
   "metadata": {},
   "outputs": [],
   "source": []
  },
  {
   "cell_type": "code",
   "execution_count": 27,
   "metadata": {},
   "outputs": [
    {
     "data": {
      "image/png": "[encoded data removed]",
      "text/plain": [
       "<Figure size 648x504 with 1 Axes>"
      ]
     },
     "metadata": {
      "needs_background": "light"
     },
     "output_type": "display_data"
    }
   ],
   "source": [
    "# V. Plot Points Dropped\n",
    "\n",
    "plt.figure(figsize=(9, 7))\n",
    "\n",
    "plt.scatter(orig_df[:10]['x1'], orig_df[:10]['y'], marker='o', color='black', label='Pop. A', s=56) # pop A\n",
    "plt.scatter(orig_df[10:]['x1'], orig_df[10:]['y'], marker='x', color='r', label='Pop. B', s=56) # pop B\n",
    "\n",
    "plt.xlabel('x', fontsize=22)  # Larger font for x-axis label\n",
    "plt.ylabel('y', fontsize=22)  # Larger font for y-axis label\n",
    "\n",
    "# Set the size of tick marks\n",
    "plt.xticks(fontsize=12)  # Larger ticks for x-axis\n",
    "plt.yticks(fontsize=12)  # Larger ticks for y-axis\n",
    "\n",
    "plt.xlabel('x')\n",
    "plt.ylabel('y')\n",
    "\n",
    "# Line of best fit\n",
    "x_values = np.linspace(min(orig_df['x1']), max(orig_df['x1']), 100) # Define range of x values\n",
    "y_values = lr.beta[1] * x_values + lr.beta[0] # Calculate corresponding y values based on y = 2x\n",
    "\n",
    "# Define the vector x1y1\n",
    "vector_x = 0.2*norm_error_vec[0]\n",
    "vector_y = 0.2*norm_error_vec[1] \n",
    "\n",
    "# Plot the vector starting from the origin (0,0)\n",
    "plt.quiver(0, 0, vector_x, vector_y, angles='xy', scale_units='xy', scale=1, color='blue', label='X\\sy\\s vector')\n",
    "\n",
    "# Define the vector largest_eigenvector\n",
    "eigvec_x = 2*largest_eigenvector[0]\n",
    "eigvec_y = 2*largest_eigenvector[1]\n",
    "\n",
    "# Plot the vector starting from the origin (0,0)\n",
    "plt.quiver(0, 0, eigvec_x, eigvec_y, angles='xy', scale_units='xy', scale=1, color='gray', \n",
    "           label='largest eigenvector of (xtxinv - x\\stx\\sinv)')\n",
    "\n",
    "\n",
    "\n",
    "plt.plot(x_values, y_values, color='black', linestyle='--', label='line-of-best-fit full data')\n",
    "plt.legend(fontsize=12)\n",
    "# plt.savefig('multicollinearity_may17.pdf')\n",
    "# plt.savefig('multicollinearity_may18.pdf')\n",
    "plt.show()"
   ]
  },
  {
   "cell_type": "code",
   "execution_count": null,
   "metadata": {},
   "outputs": [],
   "source": []
  },
  {
   "cell_type": "code",
   "execution_count": null,
   "metadata": {},
   "outputs": [],
   "source": []
  }
 ],
 "metadata": {
  "kernelspec": {
   "display_name": "Python 3",
   "language": "python",
   "name": "python3"
  },
  "language_info": {
   "codemirror_mode": {
    "name": "ipython",
    "version": 3
   },
   "file_extension": ".py",
   "mimetype": "text/x-python",
   "name": "python",
   "nbconvert_exporter": "python",
   "pygments_lexer": "ipython3",
   "version": "3.8.5"
  }
 },
 "nbformat": 4,
 "nbformat_minor": 4
}
