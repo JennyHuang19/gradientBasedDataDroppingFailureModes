{
 "cells": [
  {
   "cell_type": "code",
   "execution_count": 2,
   "metadata": {},
   "outputs": [],
   "source": [
    "# inspecting the quality of the IF in higher dimensions.\n",
    "import numpy as np\n",
    "import pandas as pd\n",
    "import seaborn as sns\n",
    "from sklearn.linear_model import LinearRegression\n",
    "import matplotlib.pyplot as plt"
   ]
  },
  {
   "cell_type": "code",
   "execution_count": 14,
   "metadata": {},
   "outputs": [],
   "source": [
    "# function definitions.\n",
    "def simulate_gaussian_data(n, p, noise_std=1.0):\n",
    "    \"\"\"\n",
    "    Simulate multivariate Gaussian dataset and a response vector \n",
    "    according to a standard Gaussian linear model.\n",
    "    \"\"\"\n",
    "    X = np.random.multivariate_normal(mean=np.zeros(p), cov=np.eye(p), size=n) # X ~ MVN(0, I_p)\n",
    "    # true_coefficients = np.random.randn(p) # coeff ~ No(0, 1)\n",
    "    true_coefficients = np.random.uniform(-1, 1, p) # coeff ~ unif(-1, 1)\n",
    "    y = X @ true_coefficients + np.random.normal(0, noise_std, n) # e ~ N(0, noise_std^2)\n",
    "    return X, y, true_coefficients\n",
    "\n",
    "def compute_influence_function_old(X, y, index): # non-vectorized version.\n",
    "    \"\"\"\n",
    "    X (NDArray): [n, p]; data matrix.\n",
    "    y (Array): [n]; response variable.\n",
    "    index (int): index of the dropped point.\n",
    "    Output (Array): [p]; the influence function approximation for the point at index.\n",
    "    \"\"\"\n",
    "    # Fit the model to the full dataset\n",
    "    model1 = LinearRegression(fit_intercept=False)\n",
    "    model1.fit(X, y)\n",
    "    \n",
    "    # Coefficients from the full model\n",
    "    beta_full = model1.coef_\n",
    "    \n",
    "    # Compute the gradient of the loss function w.r.t the parameters\n",
    "    residuals = y - model1.predict(X)\n",
    "    gradient = X[index] * residuals[index]\n",
    "    hessian = np.linalg.inv(X.T @ X)\n",
    "\n",
    "    # Influence function approximation to dropping a data point.\n",
    "    return beta_full - (hessian @ gradient)\n",
    "\n",
    "def compute_influence_function(X, y, model): # vectorized version.\n",
    "    \"\"\"\n",
    "    X (NDArray): [n, p]; data matrix.\n",
    "    y (Array): [n]; response variable.\n",
    "    Output (Array): [n, p]; the influence function approximation for each point in the dataset.\n",
    "    \"\"\"\n",
    "    # Coefficients from the full model\n",
    "    beta_full = model.coef_\n",
    "    # Compute the hession*gradient of the loss function w.r.t \\theta.\n",
    "    residuals = y - model.predict(X)\n",
    "    XtX = X.T @ X # [P, P]\n",
    "    XtXinvX = np.linalg.solve(XtX, X.T)  # [P, N]\n",
    "    XtXinvX * residuals.T # [P, N]\n",
    "    # Influence function approximation to dropping a data point.\n",
    "    beta_full = beta_full[:, np.newaxis]\n",
    "    if_approx = beta_full - (XtXinvX * residuals.T)\n",
    "    return if_approx.T\n",
    "\n",
    "def compute_dfbeta_old(X, y, index): # non-vectorized version.\n",
    "    \"\"\"\n",
    "    X (NDArray): [n, p]; data matrix.\n",
    "    y (Array): [n]; response variable.\n",
    "    index (int): index of the dropped point.\n",
    "    Output (Array): [p]; the refit after dropping the point at position index.\n",
    "    \"\"\"\n",
    "    # Fit the model to the full dataset\n",
    "    model1 = LinearRegression(fit_intercept=False)\n",
    "    model1.fit(X, y)\n",
    "    \n",
    "    # Coefficients from the full model\n",
    "    beta_full = model1.coef_\n",
    "    \n",
    "    # Compute the gradient of the loss function w.r.t the parameters\n",
    "    residuals = y - model1.predict(X)\n",
    "    gradient = X[index] * residuals[index]\n",
    "    hessian = np.linalg.inv(X.T @ X)\n",
    "    leverage = X[index] @ np.linalg.inv(X.T @ X) @ X[index]\n",
    "    change = (hessian @ gradient) / (1 - leverage)\n",
    "\n",
    "    # Influence function approximation to dropping a data point.\n",
    "    return beta_full - change\n",
    "\n",
    "def compute_dfbeta(X, y, model): # vectorized version.\n",
    "    '''\n",
    "    X (NDArray): [n, p]; data matrix.\n",
    "    y (Array): [n]; response variable.\n",
    "    index (int): index of the dropped point.\n",
    "    Output (Array): [n, p]; the refits for all n data points.\n",
    "    '''\n",
    "    # Coefficients from the full model\n",
    "    beta_full = model.coef_\n",
    "    # Compute the hession*gradient of the loss function w.r.t \\theta.\n",
    "    residuals = y - model.predict(X)\n",
    "    leverage_mat = X @ (np.linalg.inv(X.T @ X)) @ X.T\n",
    "    diag_leverage = np.diag(1 / (1 - np.diag(leverage_mat))) # 1/(1-h_ii)\n",
    "    diag_leverage @ residuals # [N, 1]\n",
    "    \n",
    "    XtX = X.T @ X # [P, P]\n",
    "    XtXinvX = np.linalg.solve(XtX, X.T)  # [P, N]\n",
    "    XtXinvX * (diag_leverage @ residuals).T # [P, N]\n",
    "    # Influence function approximation to dropping a data point.\n",
    "    beta_full = beta_full[:, np.newaxis]\n",
    "    refit_approx = beta_full - (XtXinvX * (diag_leverage @ residuals).T)\n",
    "    return refit_approx.T\n",
    "\n",
    "def compute_IF_and_refits_smw(X, y):\n",
    "    \"\"\"\n",
    "    X (NDArray): [n, p]; data matrix.\n",
    "    y (Array): [n]; response variable.\n",
    "    Output (Array): \n",
    "    - [n, p]; the influence function approximation for each dropped point.\n",
    "    - [n, p]; the refit coefficients for each dropped point.\n",
    "    - [p]; the coefficients from the model fit to full data.\n",
    "    \"\"\"\n",
    "    n = X.shape[0]\n",
    "    p = X.shape[1]\n",
    "\n",
    "    model_full = LinearRegression(fit_intercept=False)\n",
    "    model_full_fit = model_full.fit(X, y)\n",
    "    model_full_coef = model_full_fit.coef_\n",
    "\n",
    "    # Compute the eigenvalues of X^T * X\n",
    "    XtX = np.dot(X.T, X)\n",
    "    eigenvalues_XtX = np.linalg.eigvals(XtX)\n",
    "\n",
    "    influence_functions = compute_influence_function(X, y, model_full)\n",
    "    refit_coefficients = compute_dfbeta(X, y, model_full)\n",
    "\n",
    "    return influence_functions, refit_coefficients, model_full_coef, eigenvalues_XtX"
   ]
  },
  {
   "cell_type": "code",
   "execution_count": 7,
   "metadata": {},
   "outputs": [
    {
     "name": "stdout",
     "output_type": "stream",
     "text": [
      "dfbeta:  [0.6116577  0.57808222]\n",
      "refit coefficients:  [0.6116577  0.57808222]\n"
     ]
    }
   ],
   "source": [
    "# unit testing. dfbeta implemented correctly.\n",
    "n=10\n",
    "p=2\n",
    "index = 6\n",
    "testX, testy, testcoeff = simulate_gaussian_data(n, p, noise_std=1.0)\n",
    "dfbeta = compute_dfbeta_old(testX, testy, index)\n",
    "print(\"dfbeta: \", dfbeta)\n",
    "\n",
    "# refit the model without the ith data point.\n",
    "deleted_i_X = np.delete(testX, index, axis=0)\n",
    "deleted_i_y = np.delete(testy, index)\n",
    "model_d = LinearRegression(fit_intercept=False)\n",
    "model_d.fit(deleted_i_X, deleted_i_y)\n",
    "model_d.coef_\n",
    "print(\"refit coefficients: \", model_d.coef_)"
   ]
  },
  {
   "cell_type": "code",
   "execution_count": 8,
   "metadata": {},
   "outputs": [
    {
     "name": "stdout",
     "output_type": "stream",
     "text": [
      "IF:  [[0.62689211 0.72369372]\n",
      " [0.73636877 0.8063281 ]\n",
      " [0.66868725 0.75028516]\n",
      " [0.69495289 0.74966372]\n",
      " [0.5330989  0.71804785]\n",
      " [0.79725951 0.81190899]\n",
      " [0.64041528 0.68061745]\n",
      " [0.61796401 0.82526515]\n",
      " [0.67162878 0.74720829]\n",
      " [0.62035584 0.7186306 ]]\n",
      "IF w out broadcasting:  [[0.62689211 0.72369372]\n",
      " [0.73636877 0.8063281 ]\n",
      " [0.66868725 0.75028516]\n",
      " [0.69495289 0.74966372]\n",
      " [0.5330989  0.71804785]\n",
      " [0.79725951 0.81190899]\n",
      " [0.64041528 0.68061745]\n",
      " [0.61796401 0.82526515]\n",
      " [0.67162878 0.74720829]\n",
      " [0.62035584 0.7186306 ]]\n"
     ]
    }
   ],
   "source": [
    "# UNIT TEST: BROADCASTING IF COMPUTATION, compare to non-broadcasting.\n",
    "# Fit the model to the full dataset\n",
    "model1 = LinearRegression(fit_intercept=False)\n",
    "model1.fit(testX, testy)\n",
    "\n",
    "# Coefficients from the full model\n",
    "beta_full = model1.coef_\n",
    "# Compute the hession*gradient of the loss function w.r.t \\theta.\n",
    "residuals = testy - model1.predict(testX)\n",
    "XtX = testX.T @ testX # [P, P]\n",
    "XtXinvX = np.linalg.solve(XtX, testX.T)  # [P, N]\n",
    "XtXinvX * residuals.T # [P, N]\n",
    "# Influence function approximation to dropping a data point.\n",
    "beta_full = beta_full[:, np.newaxis]\n",
    "if_approx = (beta_full - (XtXinvX * residuals.T)).T\n",
    "print(\"IF: \", if_approx)\n",
    "\n",
    "influence_functions = np.zeros((n, p))\n",
    "# compare to implementation of IF without broadcasting.\n",
    "for i in range(0, testX.shape[0]):\n",
    "    # compute influence functions and refit values.\n",
    "    influence_functions[i] = compute_influence_function_old(testX, testy, i)\n",
    "print(\"IF w out broadcasting: \", influence_functions)"
   ]
  },
  {
   "cell_type": "code",
   "execution_count": 10,
   "metadata": {},
   "outputs": [
    {
     "name": "stdout",
     "output_type": "stream",
     "text": [
      "refit_approx:  [[0.62001558 0.71771031]\n",
      " [0.75147839 0.81695254]\n",
      " [0.66961797 0.74994696]\n",
      " [0.70066536 0.74907875]\n",
      " [0.50446044 0.71017012]\n",
      " [0.84402395 0.83203494]\n",
      " [0.6116577  0.57808222]\n",
      " [0.61067223 0.83754926]\n",
      " [0.67221716 0.74688576]\n",
      " [0.61054056 0.71024176]]\n",
      "Refit w out broadcasting:  [[0.62001558 0.71771031]\n",
      " [0.75147839 0.81695254]\n",
      " [0.66961797 0.74994696]\n",
      " [0.70066536 0.74907875]\n",
      " [0.50446044 0.71017012]\n",
      " [0.84402395 0.83203494]\n",
      " [0.6116577  0.57808222]\n",
      " [0.61067223 0.83754926]\n",
      " [0.67221716 0.74688576]\n",
      " [0.61054056 0.71024176]]\n"
     ]
    }
   ],
   "source": [
    "# UNIT TEST: BROADCASTING DFBETA COMPUTATION, compared to non-broadcasting.\n",
    "# Fit the model to the full dataset\n",
    "model1 = LinearRegression(fit_intercept=False)\n",
    "model1.fit(testX, testy)\n",
    "\n",
    "# Coefficients from the full model\n",
    "beta_full = model1.coef_\n",
    "# Compute the hession*gradient of the loss function w.r.t \\theta.\n",
    "residuals = testy - model1.predict(testX)\n",
    "leverage_mat = testX @ (np.linalg.inv(testX.T @ testX)) @ testX.T\n",
    "diag_leverage = np.diag(1 / (1 - np.diag(leverage_mat))) # 1/(1-h_ii)\n",
    "diag_leverage @ residuals # [N, 1]\n",
    "# print(\"diag leverage x residuals: \", diag_leverage @ residuals)\n",
    "XtX = testX.T @ testX # [P, P]\n",
    "XtXinvX = np.linalg.solve(XtX, testX.T)  # [P, N]\n",
    "XtXinvX * (diag_leverage @ residuals).T # [P, N]\n",
    "# Influence function approximation to dropping a data point.\n",
    "beta_full = beta_full[:, np.newaxis]\n",
    "refit_approx = beta_full - (XtXinvX * (diag_leverage @ residuals).T)\n",
    "print(\"refit_approx: \", refit_approx.T)\n",
    "\n",
    "refits = np.zeros((n, p))\n",
    "# compare to implementation of IF without broadcasting.\n",
    "for i in range(0, testX.shape[0]):\n",
    "    # compute influence functions and refit values.\n",
    "    refits[i] = compute_dfbeta_old(testX, testy, i)\n",
    "print(\"Refit w out broadcasting: \", refits)\n",
    "\n"
   ]
  },
  {
   "cell_type": "code",
   "execution_count": 40,
   "metadata": {},
   "outputs": [],
   "source": [
    "# set hyperparameters.\n",
    "np.random.seed(6) # set a seed.\n",
    "GAMMA = 2 # n / p (the IF decreases in accuracy for smaller GAMMA due to sparsity of data points).\n",
    "N_SIM = 100\n",
    "# P_LIST = [10, 50, 100, 500, 1000, 5000] # >1.5 hours. then kernel crashed.\n",
    "P_LIST = [1, 10, 50, 100] # 8 seconds."
   ]
  },
  {
   "cell_type": "code",
   "execution_count": 41,
   "metadata": {},
   "outputs": [
    {
     "name": "stdout",
     "output_type": "stream",
     "text": [
      "wrapped up simulations for p =  1\n",
      "wrapped up simulations for p =  10\n",
      "wrapped up simulations for p =  50\n",
      "wrapped up simulations for p =  100\n"
     ]
    }
   ],
   "source": [
    "ALL_SIMS = []\n",
    "\n",
    "for size in P_LIST:\n",
    "    p = size\n",
    "    n = GAMMA * p\n",
    "    # list of simulations for a given n and p. \n",
    "    NP_CURR = [] # length N_sim.\n",
    "    for s in range(N_SIM):\n",
    "        # simulate data set.\n",
    "        X, y, true_coefficients = simulate_gaussian_data(n, p)\n",
    "        # compute influence functions and refit coefficients.\n",
    "        influence_functions, refit_coefficients, model_full_coef, eigenvalues_XtX = compute_IF_and_refits_smw(X, y)\n",
    "        # append simulation results.\n",
    "        simulation = {'simulation': s, 'if': influence_functions, \n",
    "        'refit': refit_coefficients, 'model_full_coef': model_full_coef, \n",
    "        'eigenvalues_XtX': eigenvalues_XtX}\n",
    "        NP_CURR.append(simulation)\n",
    "\n",
    "    THIS_NP_SIM = {'p': size, 'results': NP_CURR}\n",
    "    ALL_SIMS.append(THIS_NP_SIM)\n",
    "    print(\"wrapped up simulations for p = \", size)\n"
   ]
  },
  {
   "cell_type": "code",
   "execution_count": 42,
   "metadata": {},
   "outputs": [
    {
     "name": "stdout",
     "output_type": "stream",
     "text": [
      "Results for p = 1, Simulation #1.\n",
      "\n",
      "Coefficients from the full model: [-0.39422878].\n",
      "\n",
      "The condition number of X^TX: [4.00894661].\n",
      "\n",
      "Influence functions: \n",
      " -0.17412882013723593.\n",
      "\n",
      "Refit coefficients: \n",
      " 0.730365029842329.\n",
      "\n",
      "IF - Refit: \n",
      " [[-0.90449385]\n",
      " [ 0.05355923]].\n",
      "\n"
     ]
    }
   ],
   "source": [
    "### Results (p, simulation number).\n",
    "# indexing order: index of p, simulation results for p, simulation number, refit coefficients.\n",
    "print(f\"Results for p = {ALL_SIMS[0]['p']}, Simulation #{ALL_SIMS[1]['results'][1]['simulation']}.\\n\")\n",
    "print(f\"Coefficients from the full model: {ALL_SIMS[0]['results'][1]['model_full_coef']}.\\n\")\n",
    "print(f\"The condition number of X^TX: {ALL_SIMS[0]['results'][1]['eigenvalues_XtX']}.\\n\")\n",
    "print(f\"Influence functions: \\n {ALL_SIMS[0]['results'][1]['if'][0][0]}.\\n\")\n",
    "print(f\"Refit coefficients: \\n {ALL_SIMS[0]['results'][1]['refit'][0][0]}.\\n\")\n",
    "print(f\"IF - Refit: \\n {ALL_SIMS[0]['results'][1]['if'] - ALL_SIMS[0]['results'][1]['refit']}.\\n\")"
   ]
  },
  {
   "cell_type": "code",
   "execution_count": 43,
   "metadata": {},
   "outputs": [
    {
     "name": "stdout",
     "output_type": "stream",
     "text": [
      "     p   if_mean     if_sd  refit_mean  refit_sd  diff_mean   diff_sd\n",
      "0    1 -0.237374  2.462576   -0.626986  9.516768   0.389612  7.857492\n",
      "1   10 -0.049283  0.696911   -0.053291  0.699225   0.004008  0.053868\n",
      "2   50 -0.074369  0.604085   -0.073406  0.602841   0.000963  0.009806\n",
      "3  100  0.012938  0.574420    0.013239  0.574011   0.000301  0.005423\n"
     ]
    }
   ],
   "source": [
    "# the |IF - refit| of the first data point in the first dimension for all simulations.\n",
    "experiment_1 = []\n",
    "for p in range(len(P_LIST)):\n",
    "    if_mean = np.mean([ALL_SIMS[p]['results'][sim_num]['if'][0][0] for sim_num in range(N_SIM)])\n",
    "    if_sd = np.std([ALL_SIMS[p]['results'][sim_num]['if'][0][0] for sim_num in range(N_SIM)])\n",
    "    refit_mean = np.mean([ALL_SIMS[p]['results'][sim_num]['refit'][0][0] for sim_num in range(N_SIM)])\n",
    "    refit_sd = np.std([ALL_SIMS[p]['results'][sim_num]['refit'][0][0] for sim_num in range(N_SIM)])\n",
    "    diff_mean = np.abs(np.mean([ALL_SIMS[p]['results'][sim_num]['if'][0][0] - ALL_SIMS[p]['results'][sim_num]['refit'][0][0] for sim_num in range(N_SIM)]))\n",
    "    diff_sd = np.std([ALL_SIMS[p]['results'][sim_num]['if'][0][0] - ALL_SIMS[p]['results'][sim_num]['refit'][0][0] for sim_num in range(N_SIM)])\n",
    "    p_curr = {'p': P_LIST[p], 'if_mean': if_mean, 'if_sd': if_sd, 'refit_mean': refit_mean, 'refit_sd': refit_sd, 'diff_mean': diff_mean, 'diff_sd': diff_sd}\n",
    "    experiment_1.append(p_curr)\n",
    "experiment_1_df = pd.DataFrame(experiment_1)\n",
    "print(experiment_1_df)"
   ]
  },
  {
   "cell_type": "code",
   "execution_count": 45,
   "metadata": {},
   "outputs": [
    {
     "data": {
      "image/png": "[encoded data removed]",
      "text/plain": [
       "<Figure size 640x480 with 1 Axes>"
      ]
     },
     "metadata": {},
     "output_type": "display_data"
    }
   ],
   "source": [
    "# create a plot for experiment 1.\n",
    "experiment_1_data = pd.DataFrame(experiment_1_df)\n",
    "\n",
    "# Extracting p, mean, and standard deviation\n",
    "dimensions = np.array(experiment_1_data['p'])\n",
    "if_means = np.array(experiment_1_data['if_mean'])\n",
    "if_sds = np.array(experiment_1_data['if_sd'])\n",
    "refit_means = np.array(experiment_1_data['refit_mean'])\n",
    "refit_sds = np.array(experiment_1_data['refit_sd'])\n",
    "\n",
    "# Calculating confidence intervals (95% CI)\n",
    "if_ci_lower = [mean - 1.96 * sd for mean, sd in zip(if_means, if_sds)]\n",
    "if_ci_upper = [mean + 1.96 * sd for mean, sd in zip(if_means, if_sds)]\n",
    "refit_ci_lower = [mean - 1.96 * sd for mean, sd in zip(refit_means, refit_sds)]\n",
    "refit_ci_upper = [mean + 1.96 * sd for mean, sd in zip(refit_means, refit_sds)]\n",
    "\n",
    "# Create offsets for side-by-side positioning\n",
    "offset = 2.0\n",
    "x_pos1 = dimensions - offset\n",
    "x_pos2 = dimensions + offset\n",
    "\n",
    "# Plotting\n",
    "plt.errorbar(x_pos1, if_means, \n",
    "             yerr=[if_means - if_ci_lower, if_ci_upper - if_means], \n",
    "             fmt='o', capsize=5, label='IF Mean with 95% CI', color='blue')\n",
    "plt.errorbar(x_pos2, refit_means, \n",
    "             yerr=[refit_means - refit_ci_lower, refit_ci_upper - refit_means], \n",
    "             fmt='o', capsize=5, label='Refit Mean with 95% CI', color='red')\n",
    "\n",
    "# Labels and legend\n",
    "plt.xticks(dimensions)\n",
    "plt.xlabel('dimensions')\n",
    "plt.ylabel('beta(w)')\n",
    "plt.title('if refit: a side-by-side comparison')\n",
    "plt.legend()\n",
    "plt.savefig('plotc.1.pdf')\n",
    "plt.show()"
   ]
  },
  {
   "cell_type": "code",
   "execution_count": 46,
   "metadata": {},
   "outputs": [
    {
     "data": {
      "image/png": "[encoded data removed]",
      "text/plain": [
       "<Figure size 640x480 with 1 Axes>"
      ]
     },
     "metadata": {},
     "output_type": "display_data"
    }
   ],
   "source": [
    "# create a plot for experiment 1.\n",
    "experiment_1_data = pd.DataFrame(experiment_1_df)\n",
    "\n",
    "# Extracting p, mean, and standard deviation\n",
    "dimension = np.array(experiment_1_data['p'])\n",
    "diff_means = np.array(experiment_1_data['diff_mean'])\n",
    "diff_sds = np.array(experiment_1_data['diff_sd'])\n",
    "\n",
    "# Calculating confidence intervals (95% CI)\n",
    "ci_lower = [mean - 1.96 * sd for mean, sd in zip(diff_means, diff_sds)]\n",
    "ci_upper = [mean + 1.96 * sd for mean, sd in zip(diff_means, diff_sds)]\n",
    "\n",
    "# Plotting\n",
    "# plt.figure(figsize=(8, 5))\n",
    "plt.errorbar(dimension, diff_means, yerr=[np.array(diff_means) - np.array(ci_lower), np.array(ci_upper) - np.array(diff_means)], \n",
    "                 fmt='o', capsize=5, label='Mean with 95% CI', color='blue')\n",
    "\n",
    "# Adding titles and labels\n",
    "plt.title('Difference Between Refit and Influence Function Approx.\\n (for the First Data Point in the First Dimension)')\n",
    "plt.xlabel('dimension')\n",
    "plt.ylabel('|if - refit|')\n",
    "plt.xticks(dimension)  # Set x-ticks to dimension.\n",
    "plt.grid(True)\n",
    "plt.legend()\n",
    "plt.tight_layout()\n",
    "# Show plot\n",
    "plt.savefig('plotc.2.pdf')\n",
    "plt.show()"
   ]
  },
  {
   "cell_type": "code",
   "execution_count": 47,
   "metadata": {},
   "outputs": [
    {
     "name": "stdout",
     "output_type": "stream",
     "text": [
      "     p  max_diff_mean  max_diff_sd\n",
      "0    1       0.389612     7.857492\n",
      "1   10       0.024515     0.064824\n",
      "2   50       0.004612     0.014342\n",
      "3  100       0.002152     0.004685\n"
     ]
    }
   ],
   "source": [
    "# the |IF - refit| avg worst case error across data points and dimensions.\n",
    "# average |IF - refit| across all simulations. pick out the worst case.\n",
    "experiment_2 = []\n",
    "for p in range(len(P_LIST)):\n",
    "    diff_mean = np.mean([ALL_SIMS[p]['results'][sim_num]['if'] -  ALL_SIMS[p]['results'][sim_num]['refit'] for sim_num in range(N_SIM)], axis=0) # computes the mean IF-Refit matrix (NxP).\n",
    "    # print(type(diff_mean))\n",
    "    max_diff_mean = np.max(diff_mean)\n",
    "    max_diff_index = np.argmax(diff_mean)\n",
    "    max_index_2d = np.unravel_index(max_diff_index, diff_mean.shape)\n",
    "\n",
    "    diff_sd = np.std([ALL_SIMS[p]['results'][sim_num]['if'] - ALL_SIMS[p]['results'][sim_num]['refit'] for sim_num in range(N_SIM)], axis=0)\n",
    "    max_diff_sd = diff_sd[max_index_2d[0]][max_index_2d[1]]\n",
    "\n",
    "    p_curr = {'p': P_LIST[p], 'max_diff_mean': max_diff_mean, 'max_diff_sd': max_diff_sd}\n",
    "    experiment_2.append(p_curr)\n",
    "experiment_2_df = pd.DataFrame(experiment_2)\n",
    "print(experiment_2_df)"
   ]
  },
  {
   "cell_type": "code",
   "execution_count": 48,
   "metadata": {},
   "outputs": [
    {
     "data": {
      "image/png": "[encoded data removed]",
      "text/plain": [
       "<Figure size 640x480 with 1 Axes>"
      ]
     },
     "metadata": {},
     "output_type": "display_data"
    }
   ],
   "source": [
    "# create a plot for experiment 2.\n",
    "experiment_2_data = pd.DataFrame(experiment_2_df)\n",
    "\n",
    "# Extracting p, mean, and standard deviation\n",
    "dimension = np.array(experiment_2_data['p'])\n",
    "max_diff_means = np.array(experiment_2_data['max_diff_mean'])\n",
    "max_diff_sds = np.array(experiment_2_data['max_diff_sd'])\n",
    "\n",
    "# Calculating confidence intervals (95% CI)\n",
    "ci_lower = [mean - 1.96 * sd for mean, sd in zip(diff_means, diff_sds)]\n",
    "ci_upper = [mean + 1.96 * sd for mean, sd in zip(diff_means, diff_sds)]\n",
    "\n",
    "# Plotting\n",
    "# plt.figure(figsize=(8, 5))\n",
    "plt.errorbar(dimension, max_diff_means, yerr=[np.array(max_diff_means) - np.array(ci_lower), np.array(ci_upper) - np.array(max_diff_means)], \n",
    "                 fmt='o', capsize=5, label='Mean with 95% CI', color='blue')\n",
    "\n",
    "# Adding titles and labels\n",
    "plt.title('Difference between Refit and Influence Function Approx.\\n (worst case over all data points and dimensions)')\n",
    "plt.xlabel('dimension')\n",
    "plt.ylabel('|if - refit|')\n",
    "plt.xticks(dimension)  # Set x-ticks to dimension.\n",
    "plt.grid(True)\n",
    "plt.legend()\n",
    "plt.tight_layout()\n",
    "\n",
    "# plt.savefig('plotb.2.pdf')\n",
    "# Show plot\n",
    "plt.show()"
   ]
  },
  {
   "cell_type": "code",
   "execution_count": 29,
   "metadata": {},
   "outputs": [],
   "source": [
    "# experiment_1_df.to_csv('experiment_1_oct24.csv', index=False)\n",
    "# experiment_2_df.to_csv('experiment_2_oct24.csv', index=False)"
   ]
  }
 ],
 "metadata": {
  "kernelspec": {
   "display_name": "Python 3",
   "language": "python",
   "name": "python3"
  },
  "language_info": {
   "codemirror_mode": {
    "name": "ipython",
    "version": 3
   },
   "file_extension": ".py",
   "mimetype": "text/x-python",
   "name": "python",
   "nbconvert_exporter": "python",
   "pygments_lexer": "ipython3",
   "version": "3.11.10"
  }
 },
 "nbformat": 4,
 "nbformat_minor": 2
}
