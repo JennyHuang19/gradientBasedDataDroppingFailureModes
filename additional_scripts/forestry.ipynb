{
 "cells": [
  {
   "cell_type": "code",
   "execution_count": 41,
   "metadata": {},
   "outputs": [],
   "source": [
    "import numpy as np\n",
    "import pandas as pd\n",
    "import matplotlib.pyplot as plt\n",
    "import linear_regression\n",
    "from linear_regression import LinearRegression\n",
    "import algorithms\n",
    "import gurobipy as gp\n",
    "from gurobipy import GRB\n",
    "import scipy.linalg\n",
    "import itertools"
   ]
  },
  {
   "cell_type": "markdown",
   "metadata": {},
   "source": [
    "## Forestry Data."
   ]
  },
  {
   "cell_type": "code",
   "execution_count": 42,
   "metadata": {},
   "outputs": [
    {
     "data": {
      "text/html": [
       "<div>\n",
       "<style scoped>\n",
       "    .dataframe tbody tr th:only-of-type {\n",
       "        vertical-align: middle;\n",
       "    }\n",
       "\n",
       "    .dataframe tbody tr th {\n",
       "        vertical-align: top;\n",
       "    }\n",
       "\n",
       "    .dataframe thead th {\n",
       "        text-align: right;\n",
       "    }\n",
       "</style>\n",
       "<table border=\"1\" class=\"dataframe\">\n",
       "  <thead>\n",
       "    <tr style=\"text-align: right;\">\n",
       "      <th></th>\n",
       "      <th>Soil</th>\n",
       "      <th>H2O</th>\n",
       "      <th>P</th>\n",
       "      <th>SpID</th>\n",
       "      <th>Ind</th>\n",
       "      <th>Diam</th>\n",
       "      <th>Ht</th>\n",
       "      <th>Lv</th>\n",
       "      <th>Lft</th>\n",
       "      <th>SF</th>\n",
       "      <th>SLA</th>\n",
       "      <th>Lf</th>\n",
       "      <th>Stem</th>\n",
       "      <th>Root</th>\n",
       "      <th>Cot</th>\n",
       "      <th>Sht</th>\n",
       "      <th>Tot</th>\n",
       "    </tr>\n",
       "  </thead>\n",
       "  <tbody>\n",
       "    <tr>\n",
       "      <th>0</th>\n",
       "      <td>0</td>\n",
       "      <td>0</td>\n",
       "      <td>0</td>\n",
       "      <td>Gg</td>\n",
       "      <td>2</td>\n",
       "      <td>2.14</td>\n",
       "      <td>27.5</td>\n",
       "      <td>60</td>\n",
       "      <td>NaN</td>\n",
       "      <td>359.7</td>\n",
       "      <td>63.88987567</td>\n",
       "      <td>0.563</td>\n",
       "      <td>0.289</td>\n",
       "      <td>0.383</td>\n",
       "      <td>NaN</td>\n",
       "      <td>0.852</td>\n",
       "      <td>1.235</td>\n",
       "    </tr>\n",
       "    <tr>\n",
       "      <th>1</th>\n",
       "      <td>0</td>\n",
       "      <td>0</td>\n",
       "      <td>0</td>\n",
       "      <td>Gg</td>\n",
       "      <td>5</td>\n",
       "      <td>1.93</td>\n",
       "      <td>17.0</td>\n",
       "      <td>46</td>\n",
       "      <td>NaN</td>\n",
       "      <td>264.7</td>\n",
       "      <td>61.27314815</td>\n",
       "      <td>0.432</td>\n",
       "      <td>0.222</td>\n",
       "      <td>0.303</td>\n",
       "      <td>NaN</td>\n",
       "      <td>0.654</td>\n",
       "      <td>0.957</td>\n",
       "    </tr>\n",
       "    <tr>\n",
       "      <th>2</th>\n",
       "      <td>0</td>\n",
       "      <td>0</td>\n",
       "      <td>0</td>\n",
       "      <td>Gg</td>\n",
       "      <td>1</td>\n",
       "      <td>2.48</td>\n",
       "      <td>26.0</td>\n",
       "      <td>87</td>\n",
       "      <td>NaN</td>\n",
       "      <td>656.8</td>\n",
       "      <td>84.42159383</td>\n",
       "      <td>0.778</td>\n",
       "      <td>0.415</td>\n",
       "      <td>0.606</td>\n",
       "      <td>NaN</td>\n",
       "      <td>1.193</td>\n",
       "      <td>1.799</td>\n",
       "    </tr>\n",
       "    <tr>\n",
       "      <th>3</th>\n",
       "      <td>0</td>\n",
       "      <td>0</td>\n",
       "      <td>0</td>\n",
       "      <td>Gg</td>\n",
       "      <td>2</td>\n",
       "      <td>1.85</td>\n",
       "      <td>24.0</td>\n",
       "      <td>57</td>\n",
       "      <td>NaN</td>\n",
       "      <td>306.3</td>\n",
       "      <td>66.01293103</td>\n",
       "      <td>0.464</td>\n",
       "      <td>0.308</td>\n",
       "      <td>0.394</td>\n",
       "      <td>NaN</td>\n",
       "      <td>0.772</td>\n",
       "      <td>1.166</td>\n",
       "    </tr>\n",
       "    <tr>\n",
       "      <th>4</th>\n",
       "      <td>0</td>\n",
       "      <td>0</td>\n",
       "      <td>0</td>\n",
       "      <td>Gg</td>\n",
       "      <td>3</td>\n",
       "      <td>2.09</td>\n",
       "      <td>23.0</td>\n",
       "      <td>40</td>\n",
       "      <td>NaN</td>\n",
       "      <td>369.4</td>\n",
       "      <td>53.9270073</td>\n",
       "      <td>0.685</td>\n",
       "      <td>0.352</td>\n",
       "      <td>0.434</td>\n",
       "      <td>NaN</td>\n",
       "      <td>1.037</td>\n",
       "      <td>1.471</td>\n",
       "    </tr>\n",
       "  </tbody>\n",
       "</table>\n",
       "</div>"
      ],
      "text/plain": [
       "   Soil  H2O  P SpID  Ind  Diam    Ht  Lv  Lft     SF          SLA     Lf  \\\n",
       "0     0    0  0   Gg    2  2.14  27.5  60  NaN  359.7  63.88987567  0.563   \n",
       "1     0    0  0   Gg    5  1.93  17.0  46  NaN  264.7  61.27314815  0.432   \n",
       "2     0    0  0   Gg    1  2.48  26.0  87  NaN  656.8  84.42159383  0.778   \n",
       "3     0    0  0   Gg    2  1.85  24.0  57  NaN  306.3  66.01293103  0.464   \n",
       "4     0    0  0   Gg    3  2.09  23.0  40  NaN  369.4   53.9270073  0.685   \n",
       "\n",
       "    Stem   Root  Cot    Sht    Tot  \n",
       "0  0.289  0.383  NaN  0.852  1.235  \n",
       "1  0.222  0.303  NaN  0.654  0.957  \n",
       "2  0.415  0.606  NaN  1.193  1.799  \n",
       "3  0.308  0.394  NaN  0.772  1.166  \n",
       "4  0.352  0.434  NaN  1.037  1.471  "
      ]
     },
     "execution_count": 42,
     "metadata": {},
     "output_type": "execute_result"
    }
   ],
   "source": [
    "forestry = pd.read_csv('data/forestry.csv')\n",
    "forestry.head()"
   ]
  },
  {
   "cell_type": "code",
   "execution_count": 43,
   "metadata": {},
   "outputs": [
    {
     "data": {
      "image/png": "[encoded data removed]",
      "text/plain": [
       "<Figure size 640x480 with 1 Axes>"
      ]
     },
     "metadata": {},
     "output_type": "display_data"
    }
   ],
   "source": [
    "# create a scatterplot of Cot vs. Diam\n",
    "plt.scatter(forestry['Diam'], forestry['Cot'])\n",
    "plt.xlabel('Diam')\n",
    "plt.ylabel('Cot')\n",
    "plt.show()"
   ]
  },
  {
   "cell_type": "code",
   "execution_count": 44,
   "metadata": {},
   "outputs": [
    {
     "data": {
      "text/html": [
       "<div>\n",
       "<style scoped>\n",
       "    .dataframe tbody tr th:only-of-type {\n",
       "        vertical-align: middle;\n",
       "    }\n",
       "\n",
       "    .dataframe tbody tr th {\n",
       "        vertical-align: top;\n",
       "    }\n",
       "\n",
       "    .dataframe thead th {\n",
       "        text-align: right;\n",
       "    }\n",
       "</style>\n",
       "<table border=\"1\" class=\"dataframe\">\n",
       "  <thead>\n",
       "    <tr style=\"text-align: right;\">\n",
       "      <th></th>\n",
       "      <th>Soil</th>\n",
       "      <th>H2O</th>\n",
       "      <th>P</th>\n",
       "      <th>SpID</th>\n",
       "      <th>Ind</th>\n",
       "      <th>Diam</th>\n",
       "      <th>Ht</th>\n",
       "      <th>Lv</th>\n",
       "      <th>Lft</th>\n",
       "      <th>SF</th>\n",
       "      <th>SLA</th>\n",
       "      <th>Lf</th>\n",
       "      <th>Stem</th>\n",
       "      <th>Root</th>\n",
       "      <th>Cot</th>\n",
       "      <th>Sht</th>\n",
       "      <th>Tot</th>\n",
       "    </tr>\n",
       "  </thead>\n",
       "  <tbody>\n",
       "    <tr>\n",
       "      <th>198</th>\n",
       "      <td>1</td>\n",
       "      <td>0</td>\n",
       "      <td>0</td>\n",
       "      <td>Qr</td>\n",
       "      <td>1</td>\n",
       "      <td>1.28</td>\n",
       "      <td>10.0</td>\n",
       "      <td>14</td>\n",
       "      <td>NaN</td>\n",
       "      <td>31.4</td>\n",
       "      <td>23.43283582</td>\n",
       "      <td>0.134</td>\n",
       "      <td>0.074</td>\n",
       "      <td>0.069</td>\n",
       "      <td>0.020</td>\n",
       "      <td>0.208</td>\n",
       "      <td>0.297</td>\n",
       "    </tr>\n",
       "    <tr>\n",
       "      <th>200</th>\n",
       "      <td>1</td>\n",
       "      <td>0</td>\n",
       "      <td>0</td>\n",
       "      <td>Qr</td>\n",
       "      <td>5</td>\n",
       "      <td>1.29</td>\n",
       "      <td>8.5</td>\n",
       "      <td>2</td>\n",
       "      <td>NaN</td>\n",
       "      <td>7.9</td>\n",
       "      <td>25.48387097</td>\n",
       "      <td>0.031</td>\n",
       "      <td>0.050</td>\n",
       "      <td>0.061</td>\n",
       "      <td>0.053</td>\n",
       "      <td>0.081</td>\n",
       "      <td>0.195</td>\n",
       "    </tr>\n",
       "    <tr>\n",
       "      <th>689</th>\n",
       "      <td>1</td>\n",
       "      <td>0</td>\n",
       "      <td>0</td>\n",
       "      <td>Ef</td>\n",
       "      <td>3</td>\n",
       "      <td>4.20</td>\n",
       "      <td>37.0</td>\n",
       "      <td>8</td>\n",
       "      <td>24.0</td>\n",
       "      <td>486.4</td>\n",
       "      <td>19.27099842</td>\n",
       "      <td>2.524</td>\n",
       "      <td>1.702</td>\n",
       "      <td>2.404</td>\n",
       "      <td>7.224</td>\n",
       "      <td>4.226</td>\n",
       "      <td>13.854</td>\n",
       "    </tr>\n",
       "    <tr>\n",
       "      <th>690</th>\n",
       "      <td>1</td>\n",
       "      <td>0</td>\n",
       "      <td>0</td>\n",
       "      <td>Ef</td>\n",
       "      <td>4</td>\n",
       "      <td>4.56</td>\n",
       "      <td>42.5</td>\n",
       "      <td>6</td>\n",
       "      <td>22.0</td>\n",
       "      <td>511.9</td>\n",
       "      <td>18.23005698</td>\n",
       "      <td>2.808</td>\n",
       "      <td>2.265</td>\n",
       "      <td>2.389</td>\n",
       "      <td>9.193</td>\n",
       "      <td>5.073</td>\n",
       "      <td>16.655</td>\n",
       "    </tr>\n",
       "    <tr>\n",
       "      <th>729</th>\n",
       "      <td>0</td>\n",
       "      <td>1</td>\n",
       "      <td>0</td>\n",
       "      <td>Ef</td>\n",
       "      <td>2</td>\n",
       "      <td>3.16</td>\n",
       "      <td>13.0</td>\n",
       "      <td>3</td>\n",
       "      <td>8.0</td>\n",
       "      <td>94.9</td>\n",
       "      <td>16.1669506</td>\n",
       "      <td>0.587</td>\n",
       "      <td>0.565</td>\n",
       "      <td>0.969</td>\n",
       "      <td>0.310</td>\n",
       "      <td>1.152</td>\n",
       "      <td>2.431</td>\n",
       "    </tr>\n",
       "  </tbody>\n",
       "</table>\n",
       "</div>"
      ],
      "text/plain": [
       "     Soil  H2O  P SpID  Ind  Diam    Ht  Lv   Lft     SF          SLA     Lf  \\\n",
       "198     1    0  0   Qr    1  1.28  10.0  14   NaN   31.4  23.43283582  0.134   \n",
       "200     1    0  0   Qr    5  1.29   8.5   2   NaN    7.9  25.48387097  0.031   \n",
       "689     1    0  0   Ef    3  4.20  37.0   8  24.0  486.4  19.27099842  2.524   \n",
       "690     1    0  0   Ef    4  4.56  42.5   6  22.0  511.9  18.23005698  2.808   \n",
       "729     0    1  0   Ef    2  3.16  13.0   3   8.0   94.9   16.1669506  0.587   \n",
       "\n",
       "      Stem   Root    Cot    Sht     Tot  \n",
       "198  0.074  0.069  0.020  0.208   0.297  \n",
       "200  0.050  0.061  0.053  0.081   0.195  \n",
       "689  1.702  2.404  7.224  4.226  13.854  \n",
       "690  2.265  2.389  9.193  5.073  16.655  \n",
       "729  0.565  0.969  0.310  1.152   2.431  "
      ]
     },
     "execution_count": 44,
     "metadata": {},
     "output_type": "execute_result"
    }
   ],
   "source": [
    "# delete missing values from Cot and Diam.\n",
    "forestry = forestry.dropna(subset=['Cot', 'Diam'])\n",
    "forestry.head()"
   ]
  },
  {
   "cell_type": "code",
   "execution_count": 32,
   "metadata": {},
   "outputs": [
    {
     "data": {
      "text/plain": [
       "92"
      ]
     },
     "execution_count": 32,
     "metadata": {},
     "output_type": "execute_result"
    }
   ],
   "source": [
    "len(forestry)"
   ]
  },
  {
   "cell_type": "code",
   "execution_count": 45,
   "metadata": {},
   "outputs": [
    {
     "data": {
      "text/plain": [
       "(7.390898876404494, 7.534719101123596)"
      ]
     },
     "execution_count": 45,
     "metadata": {},
     "output_type": "execute_result"
    }
   ],
   "source": [
    "# Augment Option 1: find the mean of the inlier dataset.\n",
    "x = forestry['Diam'].to_numpy()\n",
    "sorted_forestry = np.sort(x)\n",
    "inlier_mean_x = np.mean(sorted_forestry[3:])\n",
    "y = forestry['Cot'].to_numpy()\n",
    "sorted_forestry_y = np.sort(y)\n",
    "inlier_mean_y = np.mean(sorted_forestry_y[3:])\n",
    "inlier_mean_x, inlier_mean_y\n",
    "# Augment Option 2: replicate the inlier mean 109 times.\n",
    "# inlier_mean_lst = np.repeat(inlier_mean, 9) # this gets us to 101.\n",
    "# # append the inlier mean to the end of x.\n",
    "# x = np.append(x, inlier_mean_lst)\n",
    "# pick the 9 closest points to the inlier mean.\n",
    "\n",
    "# Augment Option 3: repeat the inlier dataset one time over.\n",
    "# x = np.append(x, x)\n",
    "# # Augment Option 4: pick 9 random points from the inlier dataset to remove.\n",
    "# inlier_df = forestry[forestry['Diam'] > 4]\n",
    "# rand9 = inlier_df.sample(9, random_state=1)\n",
    "# rand9x = rand9['Diam'].to_numpy()\n",
    "# rand9y = rand9['Cot'].to_numpy()\n",
    "# # append the random points to the end of x.\n",
    "# x = np.append(x, rand9x)\n",
    "# y = forestry['Cot'].to_numpy()\n",
    "# # append the random points to the end of y.\n",
    "# y = np.append(y, rand9y)"
   ]
  },
  {
   "cell_type": "code",
   "execution_count": 46,
   "metadata": {},
   "outputs": [],
   "source": [
    "def find_nearest_neighbors(df: pd.DataFrame, x: float, y: float, k: int = 9) -> list:\n",
    "    \"\"\"\n",
    "    Finds the indices of the k closest points to (x, y) in a DataFrame with 'x' and 'y' columns.\n",
    "\n",
    "    Parameters:\n",
    "        df (pd.DataFrame): DataFrame containing 'x' and 'y' columns.\n",
    "        x (float): x-coordinate of the query point.\n",
    "        y (float): y-coordinate of the query point.\n",
    "        k (int): Number of nearest neighbors to find (default is 9).\n",
    "\n",
    "    Returns:\n",
    "        List[int]: Indices of the k nearest neighbors.\n",
    "    \"\"\"\n",
    "    # Compute squared L2 distances\n",
    "    distances = (df['Diam'] - x)**2 + (df['Cot'] - y)**2\n",
    "\n",
    "    # Get the *row labels* of the k nearest neighbors\n",
    "    closest_labels = distances.nsmallest(k).index\n",
    "\n",
    "    # Convert to positional indices\n",
    "    return [df.index.get_loc(label) for label in closest_labels]"
   ]
  },
  {
   "cell_type": "code",
   "execution_count": 47,
   "metadata": {},
   "outputs": [
    {
     "name": "stdout",
     "output_type": "stream",
     "text": [
      "[72, 36, 35, 37, 69, 44, 47, 9, 32]\n"
     ]
    }
   ],
   "source": [
    "neighbors = find_nearest_neighbors(forestry, 7.390898876404494, 7.534719101123596)\n",
    "print(neighbors)"
   ]
  },
  {
   "cell_type": "code",
   "execution_count": 48,
   "metadata": {},
   "outputs": [
    {
     "data": {
      "text/html": [
       "<div>\n",
       "<style scoped>\n",
       "    .dataframe tbody tr th:only-of-type {\n",
       "        vertical-align: middle;\n",
       "    }\n",
       "\n",
       "    .dataframe tbody tr th {\n",
       "        vertical-align: top;\n",
       "    }\n",
       "\n",
       "    .dataframe thead th {\n",
       "        text-align: right;\n",
       "    }\n",
       "</style>\n",
       "<table border=\"1\" class=\"dataframe\">\n",
       "  <thead>\n",
       "    <tr style=\"text-align: right;\">\n",
       "      <th></th>\n",
       "      <th>Soil</th>\n",
       "      <th>H2O</th>\n",
       "      <th>P</th>\n",
       "      <th>SpID</th>\n",
       "      <th>Ind</th>\n",
       "      <th>Diam</th>\n",
       "      <th>Ht</th>\n",
       "      <th>Lv</th>\n",
       "      <th>Lft</th>\n",
       "      <th>SF</th>\n",
       "      <th>SLA</th>\n",
       "      <th>Lf</th>\n",
       "      <th>Stem</th>\n",
       "      <th>Root</th>\n",
       "      <th>Cot</th>\n",
       "      <th>Sht</th>\n",
       "      <th>Tot</th>\n",
       "    </tr>\n",
       "  </thead>\n",
       "  <tbody>\n",
       "    <tr>\n",
       "      <th>847</th>\n",
       "      <td>0</td>\n",
       "      <td>1</td>\n",
       "      <td>1</td>\n",
       "      <td>Eg</td>\n",
       "      <td>5</td>\n",
       "      <td>7.54</td>\n",
       "      <td>40.0</td>\n",
       "      <td>5</td>\n",
       "      <td>18.0</td>\n",
       "      <td>558.2</td>\n",
       "      <td>13.47658136</td>\n",
       "      <td>4.142</td>\n",
       "      <td>4.780</td>\n",
       "      <td>5.860</td>\n",
       "      <td>7.350</td>\n",
       "      <td>8.922</td>\n",
       "      <td>22.132</td>\n",
       "    </tr>\n",
       "    <tr>\n",
       "      <th>811</th>\n",
       "      <td>0</td>\n",
       "      <td>1</td>\n",
       "      <td>0</td>\n",
       "      <td>Eg</td>\n",
       "      <td>3</td>\n",
       "      <td>7.19</td>\n",
       "      <td>30.0</td>\n",
       "      <td>4</td>\n",
       "      <td>15.0</td>\n",
       "      <td>465.4</td>\n",
       "      <td>12.79274327</td>\n",
       "      <td>3.638</td>\n",
       "      <td>3.670</td>\n",
       "      <td>7.230</td>\n",
       "      <td>7.780</td>\n",
       "      <td>7.308</td>\n",
       "      <td>22.318</td>\n",
       "    </tr>\n",
       "    <tr>\n",
       "      <th>810</th>\n",
       "      <td>0</td>\n",
       "      <td>1</td>\n",
       "      <td>0</td>\n",
       "      <td>Eg</td>\n",
       "      <td>2</td>\n",
       "      <td>7.52</td>\n",
       "      <td>38.5</td>\n",
       "      <td>5</td>\n",
       "      <td>20.0</td>\n",
       "      <td>593.8</td>\n",
       "      <td>13.61926606</td>\n",
       "      <td>4.360</td>\n",
       "      <td>5.060</td>\n",
       "      <td>7.380</td>\n",
       "      <td>7.870</td>\n",
       "      <td>9.420</td>\n",
       "      <td>24.670</td>\n",
       "    </tr>\n",
       "    <tr>\n",
       "      <th>812</th>\n",
       "      <td>0</td>\n",
       "      <td>1</td>\n",
       "      <td>0</td>\n",
       "      <td>Eg</td>\n",
       "      <td>4</td>\n",
       "      <td>7.88</td>\n",
       "      <td>44.0</td>\n",
       "      <td>5</td>\n",
       "      <td>19.0</td>\n",
       "      <td>808.4</td>\n",
       "      <td>11.21998612</td>\n",
       "      <td>7.205</td>\n",
       "      <td>7.970</td>\n",
       "      <td>12.410</td>\n",
       "      <td>7.610</td>\n",
       "      <td>15.175</td>\n",
       "      <td>35.195</td>\n",
       "    </tr>\n",
       "    <tr>\n",
       "      <th>844</th>\n",
       "      <td>0</td>\n",
       "      <td>1</td>\n",
       "      <td>1</td>\n",
       "      <td>Eg</td>\n",
       "      <td>2</td>\n",
       "      <td>7.94</td>\n",
       "      <td>47.0</td>\n",
       "      <td>6</td>\n",
       "      <td>24.0</td>\n",
       "      <td>769.5</td>\n",
       "      <td>13.04237288</td>\n",
       "      <td>5.900</td>\n",
       "      <td>7.010</td>\n",
       "      <td>8.590</td>\n",
       "      <td>7.160</td>\n",
       "      <td>12.910</td>\n",
       "      <td>28.660</td>\n",
       "    </tr>\n",
       "    <tr>\n",
       "      <th>819</th>\n",
       "      <td>0</td>\n",
       "      <td>1</td>\n",
       "      <td>0</td>\n",
       "      <td>Eg</td>\n",
       "      <td>2</td>\n",
       "      <td>7.80</td>\n",
       "      <td>41.5</td>\n",
       "      <td>5</td>\n",
       "      <td>20.0</td>\n",
       "      <td>675.0</td>\n",
       "      <td>12.36037356</td>\n",
       "      <td>5.461</td>\n",
       "      <td>6.613</td>\n",
       "      <td>4.997</td>\n",
       "      <td>6.877</td>\n",
       "      <td>12.074</td>\n",
       "      <td>23.948</td>\n",
       "    </tr>\n",
       "    <tr>\n",
       "      <th>822</th>\n",
       "      <td>0</td>\n",
       "      <td>1</td>\n",
       "      <td>0</td>\n",
       "      <td>Eg</td>\n",
       "      <td>5</td>\n",
       "      <td>8.03</td>\n",
       "      <td>52.0</td>\n",
       "      <td>7</td>\n",
       "      <td>25.0</td>\n",
       "      <td>920.0</td>\n",
       "      <td>14.77436968</td>\n",
       "      <td>6.227</td>\n",
       "      <td>5.946</td>\n",
       "      <td>10.898</td>\n",
       "      <td>6.978</td>\n",
       "      <td>12.173</td>\n",
       "      <td>30.049</td>\n",
       "    </tr>\n",
       "    <tr>\n",
       "      <th>782</th>\n",
       "      <td>0</td>\n",
       "      <td>0</td>\n",
       "      <td>0</td>\n",
       "      <td>Eg</td>\n",
       "      <td>1</td>\n",
       "      <td>6.59</td>\n",
       "      <td>44.0</td>\n",
       "      <td>6</td>\n",
       "      <td>22.0</td>\n",
       "      <td>689.3</td>\n",
       "      <td>12.56700091</td>\n",
       "      <td>5.485</td>\n",
       "      <td>4.649</td>\n",
       "      <td>6.005</td>\n",
       "      <td>7.928</td>\n",
       "      <td>10.134</td>\n",
       "      <td>24.067</td>\n",
       "    </tr>\n",
       "    <tr>\n",
       "      <th>807</th>\n",
       "      <td>1</td>\n",
       "      <td>0</td>\n",
       "      <td>1</td>\n",
       "      <td>Eg</td>\n",
       "      <td>3</td>\n",
       "      <td>6.82</td>\n",
       "      <td>57.0</td>\n",
       "      <td>3</td>\n",
       "      <td>7.0</td>\n",
       "      <td>133.5</td>\n",
       "      <td>14.88294314</td>\n",
       "      <td>0.897</td>\n",
       "      <td>4.586</td>\n",
       "      <td>3.645</td>\n",
       "      <td>8.240</td>\n",
       "      <td>5.483</td>\n",
       "      <td>17.368</td>\n",
       "    </tr>\n",
       "  </tbody>\n",
       "</table>\n",
       "</div>"
      ],
      "text/plain": [
       "     Soil  H2O  P SpID  Ind  Diam    Ht  Lv   Lft     SF          SLA     Lf  \\\n",
       "847     0    1  1   Eg    5  7.54  40.0   5  18.0  558.2  13.47658136  4.142   \n",
       "811     0    1  0   Eg    3  7.19  30.0   4  15.0  465.4  12.79274327  3.638   \n",
       "810     0    1  0   Eg    2  7.52  38.5   5  20.0  593.8  13.61926606  4.360   \n",
       "812     0    1  0   Eg    4  7.88  44.0   5  19.0  808.4  11.21998612  7.205   \n",
       "844     0    1  1   Eg    2  7.94  47.0   6  24.0  769.5  13.04237288  5.900   \n",
       "819     0    1  0   Eg    2  7.80  41.5   5  20.0  675.0  12.36037356  5.461   \n",
       "822     0    1  0   Eg    5  8.03  52.0   7  25.0  920.0  14.77436968  6.227   \n",
       "782     0    0  0   Eg    1  6.59  44.0   6  22.0  689.3  12.56700091  5.485   \n",
       "807     1    0  1   Eg    3  6.82  57.0   3   7.0  133.5  14.88294314  0.897   \n",
       "\n",
       "      Stem    Root    Cot     Sht     Tot  \n",
       "847  4.780   5.860  7.350   8.922  22.132  \n",
       "811  3.670   7.230  7.780   7.308  22.318  \n",
       "810  5.060   7.380  7.870   9.420  24.670  \n",
       "812  7.970  12.410  7.610  15.175  35.195  \n",
       "844  7.010   8.590  7.160  12.910  28.660  \n",
       "819  6.613   4.997  6.877  12.074  23.948  \n",
       "822  5.946  10.898  6.978  12.173  30.049  \n",
       "782  4.649   6.005  7.928  10.134  24.067  \n",
       "807  4.586   3.645  8.240   5.483  17.368  "
      ]
     },
     "execution_count": 48,
     "metadata": {},
     "output_type": "execute_result"
    }
   ],
   "source": [
    "forestry.iloc[neighbors]"
   ]
  },
  {
   "cell_type": "code",
   "execution_count": 49,
   "metadata": {},
   "outputs": [],
   "source": [
    "forestry_aug = pd.concat([forestry, forestry.iloc[neighbors]], ignore_index=True)"
   ]
  },
  {
   "cell_type": "code",
   "execution_count": 50,
   "metadata": {},
   "outputs": [
    {
     "data": {
      "text/plain": [
       "(101, 17)"
      ]
     },
     "execution_count": 50,
     "metadata": {},
     "output_type": "execute_result"
    }
   ],
   "source": [
    "forestry_aug.shape"
   ]
  },
  {
   "cell_type": "code",
   "execution_count": 51,
   "metadata": {},
   "outputs": [],
   "source": [
    "x = forestry_aug['Diam'].to_numpy()\n",
    "y = forestry_aug['Cot'].to_numpy()"
   ]
  },
  {
   "cell_type": "code",
   "execution_count": 52,
   "metadata": {},
   "outputs": [],
   "source": [
    "# reshape x to be a 2D array\n",
    "x = x.reshape(-1, 1)\n",
    "# Add an intercept term.\n",
    "df = pd.DataFrame(x)\n",
    "df.insert(0, 'Ones', 1)\n",
    "arr = df.values\n",
    "x = arr"
   ]
  },
  {
   "cell_type": "code",
   "execution_count": 63,
   "metadata": {},
   "outputs": [
    {
     "data": {
      "image/png": "[encoded data removed]",
      "text/plain": [
       "<Figure size 900x700 with 1 Axes>"
      ]
     },
     "metadata": {},
     "output_type": "display_data"
    }
   ],
   "source": [
    "plt.figure(figsize=(9, 7))\n",
    "plt.scatter(x[:,1][1:], y[1:], marker='x', color='r', s=56) # pop A\n",
    "# plt.scatter(x[:,1][-9:], y[-9:], marker='o', color='black', label='augmented data', s=56)\n",
    "plt.scatter(x[:,1][:1], y[:1], marker='o', color='black', label='dropped point', s=56)\n",
    "\n",
    "plt.xticks(fontsize=22) \n",
    "plt.yticks(fontsize=22)\n",
    "\n",
    "x_values = np.linspace(-0.1, 12, 100)\n",
    "y_values_full = lr.beta[1] * x_values + lr.beta[0]\n",
    "y_value_red_crosses = modified_lr.beta[1] * x_values + modified_lr.beta[0]\n",
    "plt.plot(x_values, y_values_full, color='black', linestyle='--', label='full data') \n",
    "plt.plot(x_values, y_value_red_crosses, color='black', linestyle='-', label='after dropping points')\n",
    "\n",
    "plt.xlabel('Diam', fontsize=26)\n",
    "plt.ylabel('Cot', fontsize=26)\n",
    "\n",
    "# plt.savefig('fig/forestry_scatter.pdf', dpi=300, bbox_inches='tight')\n",
    "plt.show()"
   ]
  },
  {
   "cell_type": "code",
   "execution_count": null,
   "metadata": {},
   "outputs": [
    {
     "data": {
      "text/plain": [
       "(182,)"
      ]
     },
     "execution_count": 120,
     "metadata": {},
     "output_type": "execute_result"
    }
   ],
   "source": [
    "# outliers_to_remove = [1.28, 1.29]\n",
    "# (1.28, 0.02), (1.29, 0.053)"
   ]
  },
  {
   "cell_type": "code",
   "execution_count": null,
   "metadata": {},
   "outputs": [
    {
     "data": {
      "text/plain": [
       "(182,)"
      ]
     },
     "execution_count": 122,
     "metadata": {},
     "output_type": "execute_result"
    }
   ],
   "source": [
    "# y_list = y.tolist()\n",
    "# # remove outlier 1 time from inlier dataset.\n",
    "# for outlier in outliers_to_remove:\n",
    "#     if outlier in y:\n",
    "#         y_list.remove(outlier)\n",
    "# y = np.array(y_list)\n",
    "# y.shape"
   ]
  },
  {
   "cell_type": "code",
   "execution_count": 56,
   "metadata": {},
   "outputs": [
    {
     "name": "stdout",
     "output_type": "stream",
     "text": [
      "Estimated beta1 with full dataset: 0.17005012917697562\n"
     ]
    }
   ],
   "source": [
    "# fit the model\n",
    "lr = LinearRegression(x=x.T, y=y)\n",
    "lr.fit()\n",
    "print(\n",
    "    f\"Estimated beta1 with full dataset: {lr.beta[1]}\"\n",
    ")  # We care about first coefficient (pop A: y is perfectly correlated (slope=1) with x1.)"
   ]
  },
  {
   "cell_type": "code",
   "execution_count": 57,
   "metadata": {},
   "outputs": [
    {
     "name": "stdout",
     "output_type": "stream",
     "text": [
      "Estimated beta1 with full dataset: -0.011479423925396581\n"
     ]
    }
   ],
   "source": [
    "# fit the model\n",
    "modified_lr = LinearRegression(x=x[1:].T, y=y[1:])\n",
    "modified_lr.fit()\n",
    "print(\n",
    "    f\"Estimated beta1 with full dataset: {modified_lr.beta[1]}\"\n",
    ")  # We care about first coefficient (pop A: y is perfectly correlated (slope=1) with x1.)"
   ]
  },
  {
   "cell_type": "markdown",
   "metadata": {},
   "source": [
    "## Net Approx. Algorithm"
   ]
  },
  {
   "cell_type": "code",
   "execution_count": 65,
   "metadata": {},
   "outputs": [],
   "source": [
    "# Design matrix, slope then intercept.\n",
    "Xnet = np.zeros((x.shape[0],x.shape[1]))\n",
    "Xnet[:,0] = x[:,1]\n",
    "Xnet[:,1] = x[:,0]"
   ]
  },
  {
   "cell_type": "code",
   "execution_count": 66,
   "metadata": {},
   "outputs": [
    {
     "name": "stdout",
     "output_type": "stream",
     "text": [
      "Set parameter Username\n",
      "Set parameter LicenseID to value 2617160\n",
      "Academic license - for non-commercial use only - expires 2026-02-01\n",
      "Number of points needed to be removed to zero-out the OLS solution: 1.0092878211103482\n",
      "Indices that are less than one (the size of the MIS) [0 4].\n"
     ]
    }
   ],
   "source": [
    "trials = 1000\n",
    "n_sumwstar, wstar = algorithms.net_algorithm(Xnet, y,trials)\n",
    "print(f\"Number of points needed to be removed to zero-out the OLS solution: {n_sumwstar}\")\n",
    "# find the indice of wstar that are non-one.\n",
    "mis_inds = np.where(wstar != 1)[0]\n",
    "print(f'Indices that are less than one (the size of the MIS) {mis_inds}.')"
   ]
  },
  {
   "cell_type": "code",
   "execution_count": 89,
   "metadata": {},
   "outputs": [
    {
     "data": {
      "text/plain": [
       "array([0.17683475, 1.        , 1.        , 1.        , 0.81387743,\n",
       "       1.        , 1.        , 1.        , 1.        , 1.        ,\n",
       "       1.        , 1.        , 1.        , 1.        , 1.        ,\n",
       "       1.        , 1.        , 1.        , 1.        , 1.        ,\n",
       "       1.        , 1.        , 1.        , 1.        , 1.        ,\n",
       "       1.        , 1.        , 1.        , 1.        , 1.        ,\n",
       "       1.        , 1.        , 1.        , 1.        , 1.        ,\n",
       "       1.        , 1.        , 1.        , 1.        , 1.        ,\n",
       "       1.        , 1.        , 1.        , 1.        , 1.        ,\n",
       "       1.        , 1.        , 1.        , 1.        , 1.        ,\n",
       "       1.        , 1.        , 1.        , 1.        , 1.        ,\n",
       "       1.        , 1.        , 1.        , 1.        , 1.        ,\n",
       "       1.        , 1.        , 1.        , 1.        , 1.        ,\n",
       "       1.        , 1.        , 1.        , 1.        , 1.        ,\n",
       "       1.        , 1.        , 1.        , 1.        , 1.        ,\n",
       "       1.        , 1.        , 1.        , 1.        , 1.        ,\n",
       "       1.        , 1.        , 1.        , 1.        , 1.        ,\n",
       "       1.        , 1.        , 1.        , 1.        , 1.        ,\n",
       "       1.        , 1.        , 1.        , 1.        , 1.        ,\n",
       "       1.        , 1.        , 1.        , 1.        , 1.        ,\n",
       "       1.        ])"
      ]
     },
     "execution_count": 89,
     "metadata": {},
     "output_type": "execute_result"
    }
   ],
   "source": [
    "wstar"
   ]
  },
  {
   "cell_type": "code",
   "execution_count": 67,
   "metadata": {},
   "outputs": [
    {
     "name": "stdout",
     "output_type": "stream",
     "text": [
      "Number of points needed to be removed to zero-out the OLS solution: 1.0092878211103482\n"
     ]
    },
    {
     "data": {
      "text/plain": [
       "array([0, 4])"
      ]
     },
     "execution_count": 67,
     "metadata": {},
     "output_type": "execute_result"
    }
   ],
   "source": [
    "print(f\"Number of points needed to be removed to zero-out the OLS solution: {n_sumwstar}\")\n",
    "# find the indice of wstar that are non-one.\n",
    "mis_inds = np.where(wstar != 1)[0] # round down.\n",
    "mis_inds"
   ]
  },
  {
   "cell_type": "code",
   "execution_count": 86,
   "metadata": {},
   "outputs": [
    {
     "name": "stdout",
     "output_type": "stream",
     "text": [
      "(99, 2)\n",
      "(99,)\n"
     ]
    }
   ],
   "source": [
    "na_inds= mis_inds\n",
    "new_x= np.delete(x, na_inds, axis=0)\n",
    "new_y= np.delete(y, na_inds, axis=0)\n",
    "print(new_x.shape)\n",
    "print(new_y.shape)"
   ]
  },
  {
   "cell_type": "code",
   "execution_count": 88,
   "metadata": {},
   "outputs": [
    {
     "name": "stdout",
     "output_type": "stream",
     "text": [
      "Estimated beta1 with full dataset: 0.17005012917697562\n",
      "Estimated beta1 after removing subset specified by net_approx: -0.16739765538784684\n"
     ]
    }
   ],
   "source": [
    "# Refit after removing the points specified by NetApprox (these indices are the same).\n",
    "lr = LinearRegression(x=x.T, y=y)\n",
    "lr.fit()\n",
    "\n",
    "print(\n",
    "    f\"Estimated beta1 with full dataset: {lr.beta[1]}\"\n",
    ")  # We care about first coefficient (pop A: y is perfectly correlated (slope=1) with x1.)\n",
    "\n",
    "modified_lr_na = LinearRegression(x=new_x.T, y=new_y)\n",
    "modified_lr_na.fit()\n",
    "print(\n",
    "    f\"Estimated beta1 after removing subset specified by net_approx: {modified_lr_na.beta[1]}\"\n",
    ")"
   ]
  },
  {
   "cell_type": "markdown",
   "metadata": {},
   "source": [
    "## Gurobi [FH23]"
   ]
  },
  {
   "cell_type": "code",
   "execution_count": 68,
   "metadata": {},
   "outputs": [
    {
     "name": "stdout",
     "output_type": "stream",
     "text": [
      "set residual constraints\n",
      "Set parameter NonConvex to value 2\n",
      "Set parameter TimeLimit to value 30\n",
      "start solving\n",
      "Gurobi Optimizer version 12.0.1 build v12.0.1rc0 (mac64[arm] - Darwin 21.6.0 21H1320)\n",
      "\n",
      "CPU model: Apple M1 Pro\n",
      "Thread count: 10 physical cores, 10 logical processors, using up to 10 threads\n",
      "\n",
      "Non-default parameters:\n",
      "TimeLimit  30\n",
      "NonConvex  2\n",
      "\n",
      "Optimize a model with 202 rows, 103 columns and 202 nonzeros\n",
      "Model fingerprint: 0x38c45e2d\n",
      "Model has 3 quadratic constraints\n",
      "Coefficient statistics:\n",
      "  Matrix range     [1e+00, 1e+00]\n",
      "  QMatrix range    [1e+00, 1e+01]\n",
      "  QLMatrix range   [2e-02, 1e+02]\n",
      "  Objective range  [1e+00, 1e+00]\n",
      "  Bounds range     [0e+00, 0e+00]\n",
      "  RHS range        [1e+00, 1e+00]\n",
      "Presolve removed 202 rows and 0 columns\n",
      "\n",
      "Continuous model is non-convex -- solving as a MIP\n",
      "\n",
      "Found heuristic solution: objective -0.0000000\n",
      "Presolve removed 202 rows and 0 columns\n",
      "Presolve time: 0.00s\n",
      "Presolved: 810 rows, 306 columns, 2222 nonzeros\n",
      "Presolved model has 202 bilinear constraint(s)\n",
      "Warning: Model contains variables with very large bounds participating\n",
      "         in product terms.\n",
      "         Presolve was not able to compute smaller bounds for these variables.\n",
      "         Consider bounding these variables or reformulating the model.\n",
      "\n",
      "Variable types: 306 continuous, 0 integer (0 binary)\n",
      "Found heuristic solution: objective 100.0539468\n",
      "\n",
      "Root relaxation: objective 1.010000e+02, 375 iterations, 0.00 seconds (0.01 work units)\n",
      "\n",
      "    Nodes    |    Current Node    |     Objective Bounds      |     Work\n",
      " Expl Unexpl |  Obj  Depth IntInf | Incumbent    BestBd   Gap | It/Node Time\n",
      "\n",
      "     0     0  101.00000    0  202  100.05395  101.00000  0.95%     -    0s\n",
      "     0     0  101.00000    0  202  100.05395  101.00000  0.95%     -    0s\n",
      "     0     2  101.00000    0  202  100.05395  101.00000  0.95%     -    0s\n",
      "H    6     6                     100.0539469  101.00000  0.95%  48.2    0s\n",
      "* 2508  1524              55     100.0539470  101.00000  0.95%  29.6    0s\n",
      "* 2560  1438              52     100.0539470  101.00000  0.95%  30.0    0s\n",
      "* 2627  1420              56     100.0539470  101.00000  0.95%  30.6    0s\n",
      "*11984  6505             534     100.0539470  101.00000  0.95%  71.8    3s\n",
      "*12806  6798             509     100.0539471  101.00000  0.95%  71.8    3s\n",
      " 15131  8070 infeasible  407       100.05395  101.00000  0.95%  80.6    5s\n",
      " 30465 15079  100.99762  128    1  100.05395  101.00000  0.95%  91.9   10s\n",
      "*45972 21783             444     100.0539471  100.99999  0.95%  88.5   14s\n",
      " 47432 22678     cutoff  460       100.05395  100.99999  0.95%  88.4   15s\n",
      "*51115 24027             437     100.0539471  100.99999  0.95%  88.2   16s\n",
      "*63297 29926             379     100.0539471  100.99998  0.95%  84.7   19s\n",
      " 65268 30622     cutoff  409       100.05395  100.99998  0.95%  84.5   20s\n",
      "*68602 31485             408     100.0539471  100.99998  0.95%  84.5   21s\n",
      " 82856 36482  100.21971  327    4  100.05395  100.99994  0.95%  83.0   25s\n",
      " 100989 42778  100.29768  112    6  100.05395  100.99985  0.95%  82.2   30s\n",
      "\n",
      "Explored 101483 nodes (8346793 simplex iterations) in 30.00 seconds (76.86 work units)\n",
      "Thread count was 10 (of 10 available processors)\n",
      "\n",
      "Solution count 10: 100.054 100.054 100.054 ... 100.054\n",
      "\n",
      "Time limit reached\n",
      "Best objective 1.000539471366e+02, best bound 1.009998519354e+02, gap 0.9454%\n"
     ]
    }
   ],
   "source": [
    "model_objbound_frac, model_objval_frac, weights_frac, model_frac = algorithms.solve_regression_fractional(x,y, intercept=True,time_limit=30, warm_start=None, verbose=True,\n",
    "                               greater_one_constraint=False, pairs=None)\n",
    "weights_from_fractional_gurobi = np.array([w.X for w in weights_frac])"
   ]
  },
  {
   "cell_type": "code",
   "execution_count": 69,
   "metadata": {},
   "outputs": [
    {
     "name": "stdout",
     "output_type": "stream",
     "text": [
      "Set parameter NonConvex to value 2\n",
      "Set parameter TimeLimit to value 30\n",
      "Gurobi Optimizer version 12.0.1 build v12.0.1rc0 (mac64[arm] - Darwin 21.6.0 21H1320)\n",
      "\n",
      "CPU model: Apple M1 Pro\n",
      "Thread count: 10 physical cores, 10 logical processors, using up to 10 threads\n",
      "\n",
      "Non-default parameters:\n",
      "TimeLimit  30\n",
      "NonConvex  2\n",
      "\n",
      "Optimize a model with 1 rows, 104 columns and 1 nonzeros\n",
      "Model fingerprint: 0xcb146507\n",
      "Model has 3 quadratic constraints\n",
      "Variable types: 3 continuous, 101 integer (101 binary)\n",
      "Coefficient statistics:\n",
      "  Matrix range     [1e+00, 1e+00]\n",
      "  QMatrix range    [1e+00, 1e+02]\n",
      "  QLMatrix range   [2e-02, 1e+02]\n",
      "  Objective range  [1e+00, 1e+00]\n",
      "  Bounds range     [1e+00, 1e+00]\n",
      "  RHS range        [0e+00, 0e+00]\n",
      "\n",
      "User MIP start produced solution with objective 100 (0.00s)\n",
      "Loaded user MIP start with objective 100\n",
      "\n",
      "Presolve removed 1 rows and 0 columns\n",
      "Presolve time: 0.00s\n",
      "Presolved: 608 rows, 1013 columns, 2323 nonzeros\n",
      "Presolved model has 606 SOS constraint(s)\n",
      "Variable types: 609 continuous, 404 integer (404 binary)\n",
      "\n",
      "Explored 1 nodes (0 simplex iterations) in 0.01 seconds (0.00 work units)\n",
      "Thread count was 10 (of 10 available processors)\n",
      "\n",
      "Solution count 1: 100 \n",
      "\n",
      "Optimal solution found (tolerance 1.00e-04)\n",
      "Best objective 1.000000000000e+02, best bound 1.000000000000e+02, gap 0.0000%\n"
     ]
    }
   ],
   "source": [
    "model_objbound, model_objval, weights, model = algorithms.solve_regression_integral(x,y, intercept=True,time_limit=30, warm_start=weights_from_fractional_gurobi, verbose=True, #beta_sign=1,\n",
    "                                warm_start_ub=None, pairs = None)\n",
    "integer_weights = np.array([w.X for w in weights])"
   ]
  },
  {
   "cell_type": "code",
   "execution_count": 70,
   "metadata": {},
   "outputs": [
    {
     "data": {
      "text/plain": [
       "(array([0]), 1)"
      ]
     },
     "execution_count": 70,
     "metadata": {},
     "output_type": "execute_result"
    }
   ],
   "source": [
    "# select the indices of the points with weight 0.\n",
    "indices_to_remove = np.where(integer_weights == 0)[0]\n",
    "indices_to_remove, len(indices_to_remove)"
   ]
  },
  {
   "cell_type": "markdown",
   "metadata": {},
   "source": [
    "## Gurobi (no warm start)"
   ]
  },
  {
   "cell_type": "code",
   "execution_count": 71,
   "metadata": {},
   "outputs": [
    {
     "name": "stdout",
     "output_type": "stream",
     "text": [
      "Set parameter NonConvex to value 2\n",
      "Set parameter TimeLimit to value 30\n",
      "Gurobi Optimizer version 12.0.1 build v12.0.1rc0 (mac64[arm] - Darwin 21.6.0 21H1320)\n",
      "\n",
      "CPU model: Apple M1 Pro\n",
      "Thread count: 10 physical cores, 10 logical processors, using up to 10 threads\n",
      "\n",
      "Non-default parameters:\n",
      "TimeLimit  30\n",
      "NonConvex  2\n",
      "\n",
      "Optimize a model with 1 rows, 104 columns and 1 nonzeros\n",
      "Model fingerprint: 0x0c81468b\n",
      "Model has 3 quadratic constraints\n",
      "Variable types: 3 continuous, 101 integer (101 binary)\n",
      "Coefficient statistics:\n",
      "  Matrix range     [1e+00, 1e+00]\n",
      "  QMatrix range    [1e+00, 1e+02]\n",
      "  QLMatrix range   [2e-02, 1e+02]\n",
      "  Objective range  [1e+00, 1e+00]\n",
      "  Bounds range     [1e+00, 1e+00]\n",
      "  RHS range        [0e+00, 0e+00]\n",
      "Found heuristic solution: objective -0.0000000\n",
      "Presolve removed 1 rows and 0 columns\n",
      "Presolve time: 0.00s\n",
      "Presolved: 608 rows, 1013 columns, 2323 nonzeros\n",
      "Presolved model has 606 SOS constraint(s)\n",
      "Variable types: 609 continuous, 404 integer (404 binary)\n",
      "\n",
      "Root relaxation: objective 1.010000e+02, 1 iterations, 0.00 seconds (0.00 work units)\n",
      "\n",
      "    Nodes    |    Current Node    |     Objective Bounds      |     Work\n",
      " Expl Unexpl |  Obj  Depth IntInf | Incumbent    BestBd   Gap | It/Node Time\n",
      "\n",
      "     0     0  101.00000    0    2   -0.00000  101.00000      -     -    0s\n",
      "     0     0  101.00000    0    2   -0.00000  101.00000      -     -    0s\n",
      "     0     2  101.00000    0    2   -0.00000  101.00000      -     -    0s\n",
      "H   27    76                       1.0000000  101.00000      -   1.2    0s\n",
      "* 1608  1679             101      95.0000000  101.00000  6.32%   1.5    0s\n",
      "* 1832  1217             101      96.0000000  101.00000  5.21%   1.6    0s\n",
      "* 1910   688             101      97.0000000  101.00000  4.12%   1.9    0s\n",
      "* 1911   671             101      98.0000000  101.00000  3.06%   2.0    0s\n",
      "H 2196   700                     100.0000000  101.00000  1.00%   2.3    0s\n",
      "\n",
      "Explored 2276 nodes (5363 simplex iterations) in 0.22 seconds (0.39 work units)\n",
      "Thread count was 10 (of 10 available processors)\n",
      "\n",
      "Solution count 7: 100 98 97 ... -0\n",
      "\n",
      "Optimal solution found (tolerance 1.00e-04)\n",
      "Best objective 1.000000000000e+02, best bound 1.000000000000e+02, gap 0.0000%\n"
     ]
    }
   ],
   "source": [
    "model_objbound, model_objval, weights, model = algorithms.solve_regression_integral(x,y, intercept=True,time_limit=30, warm_start=None, verbose=True, #beta_sign=1,\n",
    "                            warm_start_ub=None, pairs = None)"
   ]
  },
  {
   "cell_type": "code",
   "execution_count": 72,
   "metadata": {},
   "outputs": [],
   "source": [
    "weights_array = np.array([w.X for w in weights])"
   ]
  },
  {
   "cell_type": "code",
   "execution_count": 73,
   "metadata": {},
   "outputs": [
    {
     "data": {
      "text/plain": [
       "array([1])"
      ]
     },
     "execution_count": 73,
     "metadata": {},
     "output_type": "execute_result"
    }
   ],
   "source": [
    "# select the indices of the points with weight 0.\n",
    "indices_to_remove = np.where(weights_array == 0)[0]\n",
    "indices_to_remove"
   ]
  },
  {
   "cell_type": "markdown",
   "metadata": {},
   "source": [
    "#### Refit after Removing Flagged Points."
   ]
  },
  {
   "cell_type": "code",
   "execution_count": 74,
   "metadata": {},
   "outputs": [
    {
     "name": "stdout",
     "output_type": "stream",
     "text": [
      "(100, 2)\n",
      "(100,)\n"
     ]
    }
   ],
   "source": [
    "Gurobi_inds= indices_to_remove\n",
    "new_x= np.delete(x, Gurobi_inds, axis=0)\n",
    "new_y= np.delete(y, Gurobi_inds, axis=0)\n",
    "print(new_x.shape)\n",
    "print(new_y.shape)"
   ]
  },
  {
   "cell_type": "code",
   "execution_count": 75,
   "metadata": {},
   "outputs": [
    {
     "name": "stdout",
     "output_type": "stream",
     "text": [
      "Estimated beta1 with full dataset: 0.17005012917697562\n",
      "Estimated beta1 after removing subset specified by gurobi: -0.010167586632008846\n"
     ]
    }
   ],
   "source": [
    "# Refit after removing the points specified by NetApprox (these indices are the same).\n",
    "lr = LinearRegression(x=x.T, y=y)\n",
    "lr.fit()\n",
    "\n",
    "print(\n",
    "    f\"Estimated beta1 with full dataset: {lr.beta[1]}\"\n",
    ")  # We care about first coefficient (pop A: y is perfectly correlated (slope=1) with x1.)\n",
    "\n",
    "modified_lr_na = LinearRegression(x=new_x.T, y=new_y)\n",
    "modified_lr_na.fit()\n",
    "print(\n",
    "    f\"Estimated beta1 after removing subset specified by gurobi: {modified_lr_na.beta[1]}\"\n",
    ")"
   ]
  },
  {
   "cell_type": "markdown",
   "metadata": {},
   "source": [
    "## Additive and Greedy algorithms."
   ]
  },
  {
   "cell_type": "code",
   "execution_count": 76,
   "metadata": {},
   "outputs": [],
   "source": [
    "def compute_scores(x, y, lr, positivebeta):\n",
    "    '''\n",
    "    x: design matrix.\n",
    "    y: response vector.\n",
    "    lr: linear regression model.\n",
    "    '''\n",
    "    if_scores = -lr.influence_scores()[1]\n",
    "    newton_scores = -lr.one_step_newton()[1]\n",
    "\n",
    "    # sort indices in ascending order.\n",
    "    if positivebeta:\n",
    "        # sort indices in ascending order.\n",
    "        if_inds = np.argsort(if_scores)\n",
    "        newton_inds = np.argsort(newton_scores)\n",
    "    else:\n",
    "        # sort indices in descending order.\n",
    "        if_inds = np.argsort(if_scores)[::-1]\n",
    "        newton_inds = np.argsort(newton_scores)[::-1]\n",
    "\n",
    "    # sort scores according to indices.\n",
    "    sorted_scores = if_scores[if_inds]\n",
    "    sorted_newton_scores = newton_scores[newton_inds]\n",
    "\n",
    "    # compute residuals and leverages.\n",
    "    residuals = lr.residual()\n",
    "    leverages = lr.leverage_scores()\n",
    "\n",
    "    x1 = [pt[0] for pt in x]\n",
    "\n",
    "    # create a df with residuals, leverages, and coordinates.\n",
    "    orig_df = pd.DataFrame({'x': x1, 'y': y, \n",
    "                            'residual': residuals, 'leverage': leverages, \n",
    "                            'IF': if_scores, '1Exact': newton_scores,\n",
    "                            'sorted_IF_indices': if_inds, 'sorted_1Exact_indices': newton_inds,\n",
    "                            'sorted_IF_scores': sorted_scores, 'sorted_1Exact_scores': sorted_newton_scores})\n",
    "    return orig_df"
   ]
  },
  {
   "cell_type": "code",
   "execution_count": 82,
   "metadata": {},
   "outputs": [],
   "source": [
    "import postprocessing\n",
    "scores_df = postprocessing.compute_scores(x, y, lr, True)"
   ]
  },
  {
   "cell_type": "code",
   "execution_count": 83,
   "metadata": {},
   "outputs": [
    {
     "data": {
      "text/html": [
       "<div>\n",
       "<style scoped>\n",
       "    .dataframe tbody tr th:only-of-type {\n",
       "        vertical-align: middle;\n",
       "    }\n",
       "\n",
       "    .dataframe tbody tr th {\n",
       "        vertical-align: top;\n",
       "    }\n",
       "\n",
       "    .dataframe thead th {\n",
       "        text-align: right;\n",
       "    }\n",
       "</style>\n",
       "<table border=\"1\" class=\"dataframe\">\n",
       "  <thead>\n",
       "    <tr style=\"text-align: right;\">\n",
       "      <th></th>\n",
       "      <th>x</th>\n",
       "      <th>y</th>\n",
       "      <th>residual</th>\n",
       "      <th>leverage</th>\n",
       "      <th>IF</th>\n",
       "      <th>1Exact</th>\n",
       "      <th>sorted_IF_indices</th>\n",
       "      <th>sorted_1Exact_indices</th>\n",
       "      <th>sorted_IF_scores</th>\n",
       "      <th>sorted_1Exact_scores</th>\n",
       "    </tr>\n",
       "  </thead>\n",
       "  <tbody>\n",
       "    <tr>\n",
       "      <th>0</th>\n",
       "      <td>1.0</td>\n",
       "      <td>0.020</td>\n",
       "      <td>-6.281706</td>\n",
       "      <td>0.155289</td>\n",
       "      <td>-0.153340</td>\n",
       "      <td>-0.181530</td>\n",
       "      <td>0</td>\n",
       "      <td>0</td>\n",
       "      <td>-0.153340</td>\n",
       "      <td>-0.181530</td>\n",
       "    </tr>\n",
       "    <tr>\n",
       "      <th>1</th>\n",
       "      <td>1.0</td>\n",
       "      <td>0.053</td>\n",
       "      <td>-6.250407</td>\n",
       "      <td>0.154801</td>\n",
       "      <td>-0.152320</td>\n",
       "      <td>-0.180218</td>\n",
       "      <td>1</td>\n",
       "      <td>1</td>\n",
       "      <td>-0.152320</td>\n",
       "      <td>-0.180218</td>\n",
       "    </tr>\n",
       "    <tr>\n",
       "      <th>2</th>\n",
       "      <td>1.0</td>\n",
       "      <td>7.224</td>\n",
       "      <td>0.425747</td>\n",
       "      <td>0.047677</td>\n",
       "      <td>0.005298</td>\n",
       "      <td>0.005563</td>\n",
       "      <td>4</td>\n",
       "      <td>4</td>\n",
       "      <td>-0.105434</td>\n",
       "      <td>-0.114353</td>\n",
       "    </tr>\n",
       "    <tr>\n",
       "      <th>3</th>\n",
       "      <td>1.0</td>\n",
       "      <td>9.193</td>\n",
       "      <td>2.333529</td>\n",
       "      <td>0.039249</td>\n",
       "      <td>0.025593</td>\n",
       "      <td>0.026638</td>\n",
       "      <td>42</td>\n",
       "      <td>42</td>\n",
       "      <td>-0.033749</td>\n",
       "      <td>-0.035063</td>\n",
       "    </tr>\n",
       "    <tr>\n",
       "      <th>4</th>\n",
       "      <td>1.0</td>\n",
       "      <td>0.310</td>\n",
       "      <td>-6.311401</td>\n",
       "      <td>0.077991</td>\n",
       "      <td>-0.105434</td>\n",
       "      <td>-0.114353</td>\n",
       "      <td>66</td>\n",
       "      <td>66</td>\n",
       "      <td>-0.014110</td>\n",
       "      <td>-0.014332</td>\n",
       "    </tr>\n",
       "  </tbody>\n",
       "</table>\n",
       "</div>"
      ],
      "text/plain": [
       "     x      y  residual  leverage        IF    1Exact  sorted_IF_indices  \\\n",
       "0  1.0  0.020 -6.281706  0.155289 -0.153340 -0.181530                  0   \n",
       "1  1.0  0.053 -6.250407  0.154801 -0.152320 -0.180218                  1   \n",
       "2  1.0  7.224  0.425747  0.047677  0.005298  0.005563                  4   \n",
       "3  1.0  9.193  2.333529  0.039249  0.025593  0.026638                 42   \n",
       "4  1.0  0.310 -6.311401  0.077991 -0.105434 -0.114353                 66   \n",
       "\n",
       "   sorted_1Exact_indices  sorted_IF_scores  sorted_1Exact_scores  \n",
       "0                      0         -0.153340             -0.181530  \n",
       "1                      1         -0.152320             -0.180218  \n",
       "2                      4         -0.105434             -0.114353  \n",
       "3                     42         -0.033749             -0.035063  \n",
       "4                     66         -0.014110             -0.014332  "
      ]
     },
     "execution_count": 83,
     "metadata": {},
     "output_type": "execute_result"
    }
   ],
   "source": [
    "scores_df.head()"
   ]
  },
  {
   "cell_type": "code",
   "execution_count": 84,
   "metadata": {},
   "outputs": [
    {
     "name": "stdout",
     "output_type": "stream",
     "text": [
      "The original fit is 0.17005012917697562.\n"
     ]
    }
   ],
   "source": [
    "print(f'The original fit is {lr.beta[1]}.')"
   ]
  },
  {
   "cell_type": "code",
   "execution_count": 85,
   "metadata": {},
   "outputs": [
    {
     "name": "stdout",
     "output_type": "stream",
     "text": [
      "The AMIP approximation of the refit is 0.016710099.\n",
      "The Add-1Exact approximation of the refit is -0.011479424.\n"
     ]
    }
   ],
   "source": [
    "print(f'The AMIP approximation of the refit is {round(lr.beta[1] + sum(scores_df[\"sorted_IF_scores\"][:1]), 9)}.')\n",
    "print(f'The Add-1Exact approximation of the refit is {round(lr.beta[1] + sum(scores_df[\"sorted_1Exact_scores\"][:1]), 9)}.')"
   ]
  },
  {
   "cell_type": "markdown",
   "metadata": {},
   "source": [
    "#### Greedy Algorithms."
   ]
  },
  {
   "cell_type": "code",
   "execution_count": 77,
   "metadata": {},
   "outputs": [],
   "source": [
    "def create_orig_df(x, y, lr, positivebeta):\n",
    "    '''\n",
    "    x: design matrix.\n",
    "    y: response vector.\n",
    "    lr: linear regression object.\n",
    "    '''\n",
    "    # compute IF/1Exact scores.\n",
    "    if_scores = -lr.influence_scores()[1]\n",
    "    newton_scores = -lr.one_step_newton()[1]\n",
    "\n",
    "    if positivebeta:\n",
    "        # sort indices in ascending order.\n",
    "        if_inds = np.argsort(if_scores)\n",
    "        newton_inds = np.argsort(newton_scores)\n",
    "    else:\n",
    "        # sort indices in descending order.\n",
    "        if_inds = np.argsort(if_scores)[::-1]\n",
    "        newton_inds = np.argsort(newton_scores)[::-1]\n",
    "\n",
    "    # residuals\n",
    "    residuals = lr.residual()\n",
    "    # leverages\n",
    "    leverages = lr.leverage_scores()\n",
    "    # x's\n",
    "    x1 = [pt[1] for pt in x]\n",
    "\n",
    "    # create a df with residuals, leverages, and coordinates.\n",
    "    orig_df = pd.DataFrame({'x1': x1, 'y': y, \n",
    "                                      'residual': residuals, 'leverage': leverages, \n",
    "                            'influence': if_scores, 'newton': newton_scores})\n",
    "    \n",
    "    print(orig_df[:5])\n",
    "    return orig_df, if_inds, if_scores, newton_inds, newton_scores\n",
    "\n",
    "def create_plot(orig_df, index_to_remove):\n",
    "    '''\n",
    "    orig_df: output from the helper function above.\n",
    "    '''\n",
    "\n",
    "    # Sort DF by influence score\n",
    "    sorted_if_df = orig_df.sort_values(by='influence', ascending=True)\n",
    "    # print(\"Point to Drop: \", sorted_if_df.index[0])\n",
    "    \n",
    "    # sorted_if_df: the indices here are the order which amip drops points.\n",
    "    index = range(0, len(sorted_if_df))\n",
    "    sorted_if_df['sorted_idx'] = index\n",
    "    \n",
    "    # Plot points dropped\n",
    "    plt.figure(figsize=(5, 3))\n",
    "    plt.scatter(orig_df['x1'], orig_df['y'], marker='x', color='black') # pop A\n",
    "    # Plot point to drop\n",
    "    plt.scatter(orig_df['x1'][index_to_remove], orig_df['y'][index_to_remove], marker='o', color='red', s=20, label='Point to Delete')\n",
    "\n",
    "\n",
    "    # Add dropped order positioned by each point\n",
    "    # for index, row in sorted_if_df.iterrows():\n",
    "    #     if row['sorted_idx'] <= 9: # indices 2,3,4 are right on top of one another.\n",
    "    #         plt.text(row['x1'], row['y'], int(row['sorted_idx']), ha='left', va='top', fontsize=20)\n",
    "\n",
    "\n",
    "    plt.xlabel('treatment')\n",
    "    plt.ylabel('profit')\n",
    "    plt.legend()\n",
    "    plt.show()\n",
    "    \n",
    "    return\n",
    "\n",
    "def Run_Greedy(x, y, orig_if_inds, orig_newton_inds, lr, method='IF'):\n",
    "    '''\n",
    "    x: design matrix.\n",
    "    y: response vector.\n",
    "    orig_inds: indices sorted by the first round.\n",
    "    lr: linear regression object.\n",
    "    method: 'IF' or '1Exact'.\n",
    "    '''\n",
    "    ctr = 0\n",
    "    prev_beta = lr.beta[1] # initialize to the original beta estimate.\n",
    "    dropped_order = []\n",
    "    exact_changes_beta = []\n",
    "    beta_estimates_greedy = []\n",
    "    if_inds = orig_if_inds\n",
    "    newton_inds = orig_newton_inds\n",
    "\n",
    "    for _ in range(17):\n",
    "        print(f'interation {ctr}')\n",
    "\n",
    "        if method == 'IF':\n",
    "            inds = if_inds\n",
    "        else:\n",
    "            inds = newton_inds\n",
    "        \n",
    "        # 1. drop the datapoint with the most negative influence:\n",
    "        index_to_remove = inds[0]\n",
    "        print(\"index to remove\", index_to_remove)\n",
    "\n",
    "        dropped_order.append(index_to_remove)\n",
    "\n",
    "        new_x = np.concatenate((x[:index_to_remove], x[index_to_remove + 1:]))\n",
    "        new_y = np.concatenate((y[:index_to_remove], y[index_to_remove + 1:]))\n",
    "\n",
    "        x = new_x\n",
    "        y = new_y\n",
    "\n",
    "        # 2. calculate the exact perturbation (ie. refit the lr to get the change in the coefficient.)\n",
    "        lr = LinearRegression(x=x.T, y=y)\n",
    "        lr.fit()\n",
    "        print(f'fitted beta1: {lr.beta[1]}')\n",
    "\n",
    "        # 3. compute scores and create plot.\n",
    "        orig_df, if_inds, if_scores, newton_inds, newton_scores = create_orig_df(x, y, lr)\n",
    "        create_plot(orig_df, index_to_remove)\n",
    "\n",
    "        # 4. record: the exact change in beta.\n",
    "        beta_change = lr.beta[1] - prev_beta\n",
    "        exact_changes_beta.append(beta_change)\n",
    "        prev_beta = lr.beta[1]\n",
    "        beta_estimates_greedy.append(lr.beta[1])\n",
    "\n",
    "        # counter\n",
    "        ctr += 1\n",
    "\n",
    "    return dropped_order, exact_changes_beta, beta_estimates_greedy\n"
   ]
  },
  {
   "cell_type": "code",
   "execution_count": null,
   "metadata": {},
   "outputs": [
    {
     "name": "stdout",
     "output_type": "stream",
     "text": [
      "   x1         y  residual  leverage  influence    newton\n",
      "0   0  0.000000  0.678307  0.003846   0.002609  0.002619\n",
      "1   0  0.000000  0.678307  0.003846   0.002609  0.002619\n",
      "2   0  0.000000  0.678307  0.003846   0.002609  0.002619\n",
      "3   0 -2.547916 -1.869609  0.003846  -0.007191 -0.007219\n",
      "4   0 -7.119177 -6.440869  0.003846  -0.024773 -0.024868\n",
      "inds [359  34 526  19 342  41 800 534  35 382]\n",
      "newton_inds [359  34 526  19 342  41 800 534  35 382]\n"
     ]
    }
   ],
   "source": [
    "# store the original x and y.\n",
    "orig_x = x\n",
    "orig_y = y\n",
    "\n",
    "# compute scores for initial round of the greedy algorithm.\n",
    "orig_df, if_inds, if_scores, newton_inds, newton_scores = create_orig_df(orig_x, orig_y, lr, False)\n",
    "\n",
    "orig_inds_if = if_inds\n",
    "orig_inds_newton = newton_inds\n",
    "# compute influence scores.\n",
    "if_scores = -lr.influence_scores()[1]\n",
    "# sort indices in ascending order.\n",
    "if_inds = np.argsort(if_scores)\n",
    "print(\"inds\", if_inds[:10])\n",
    "newton_inds = np.argsort(newton_scores)\n",
    "print(\"newton_inds\", newton_inds[:10])\n",
    "\n",
    "# reset greedy loop.\n",
    "x = orig_x\n",
    "y = orig_y"
   ]
  },
  {
   "cell_type": "code",
   "execution_count": null,
   "metadata": {},
   "outputs": [],
   "source": [
    "# run greedy\n",
    "dropped_order, exact_changes_beta, beta_estimates_greedy = Run_Greedy(orig_x, orig_y, orig_inds_if, orig_inds_newton, lr, method='IF')\n",
    "\n",
    "print(\"dropped order: \\n\", dropped_order[:15])\n",
    "print(\"exact (greedy) beta estimates: \\n\", beta_estimates_greedy[:15])"
   ]
  },
  {
   "cell_type": "markdown",
   "metadata": {},
   "source": [
    "### Run AMIP on Forestry Data."
   ]
  },
  {
   "cell_type": "code",
   "execution_count": 23,
   "metadata": {},
   "outputs": [
    {
     "data": {
      "text/html": [
       "<div>\n",
       "<style scoped>\n",
       "    .dataframe tbody tr th:only-of-type {\n",
       "        vertical-align: middle;\n",
       "    }\n",
       "\n",
       "    .dataframe tbody tr th {\n",
       "        vertical-align: top;\n",
       "    }\n",
       "\n",
       "    .dataframe thead th {\n",
       "        text-align: right;\n",
       "    }\n",
       "</style>\n",
       "<table border=\"1\" class=\"dataframe\">\n",
       "  <thead>\n",
       "    <tr style=\"text-align: right;\">\n",
       "      <th></th>\n",
       "      <th>x</th>\n",
       "      <th>y</th>\n",
       "      <th>residual</th>\n",
       "      <th>leverage</th>\n",
       "      <th>IF</th>\n",
       "      <th>1Exact</th>\n",
       "      <th>sorted_IF_indices</th>\n",
       "      <th>sorted_1Exact_indices</th>\n",
       "      <th>sorted_IF_scores</th>\n",
       "      <th>sorted_1Exact_scores</th>\n",
       "    </tr>\n",
       "  </thead>\n",
       "  <tbody>\n",
       "    <tr>\n",
       "      <th>0</th>\n",
       "      <td>1.0</td>\n",
       "      <td>0.020</td>\n",
       "      <td>-6.281706</td>\n",
       "      <td>0.155289</td>\n",
       "      <td>-0.153340</td>\n",
       "      <td>-0.181530</td>\n",
       "      <td>0</td>\n",
       "      <td>0</td>\n",
       "      <td>-0.153340</td>\n",
       "      <td>-0.181530</td>\n",
       "    </tr>\n",
       "    <tr>\n",
       "      <th>1</th>\n",
       "      <td>1.0</td>\n",
       "      <td>0.053</td>\n",
       "      <td>-6.250407</td>\n",
       "      <td>0.154801</td>\n",
       "      <td>-0.152320</td>\n",
       "      <td>-0.180218</td>\n",
       "      <td>1</td>\n",
       "      <td>1</td>\n",
       "      <td>-0.152320</td>\n",
       "      <td>-0.180218</td>\n",
       "    </tr>\n",
       "    <tr>\n",
       "      <th>2</th>\n",
       "      <td>1.0</td>\n",
       "      <td>7.224</td>\n",
       "      <td>0.425747</td>\n",
       "      <td>0.047677</td>\n",
       "      <td>0.005298</td>\n",
       "      <td>0.005563</td>\n",
       "      <td>4</td>\n",
       "      <td>4</td>\n",
       "      <td>-0.105434</td>\n",
       "      <td>-0.114353</td>\n",
       "    </tr>\n",
       "    <tr>\n",
       "      <th>3</th>\n",
       "      <td>1.0</td>\n",
       "      <td>9.193</td>\n",
       "      <td>2.333529</td>\n",
       "      <td>0.039249</td>\n",
       "      <td>0.025593</td>\n",
       "      <td>0.026638</td>\n",
       "      <td>42</td>\n",
       "      <td>42</td>\n",
       "      <td>-0.033749</td>\n",
       "      <td>-0.035063</td>\n",
       "    </tr>\n",
       "    <tr>\n",
       "      <th>4</th>\n",
       "      <td>1.0</td>\n",
       "      <td>0.310</td>\n",
       "      <td>-6.311401</td>\n",
       "      <td>0.077991</td>\n",
       "      <td>-0.105434</td>\n",
       "      <td>-0.114353</td>\n",
       "      <td>66</td>\n",
       "      <td>66</td>\n",
       "      <td>-0.014110</td>\n",
       "      <td>-0.014332</td>\n",
       "    </tr>\n",
       "  </tbody>\n",
       "</table>\n",
       "</div>"
      ],
      "text/plain": [
       "     x      y  residual  leverage        IF    1Exact  sorted_IF_indices  \\\n",
       "0  1.0  0.020 -6.281706  0.155289 -0.153340 -0.181530                  0   \n",
       "1  1.0  0.053 -6.250407  0.154801 -0.152320 -0.180218                  1   \n",
       "2  1.0  7.224  0.425747  0.047677  0.005298  0.005563                  4   \n",
       "3  1.0  9.193  2.333529  0.039249  0.025593  0.026638                 42   \n",
       "4  1.0  0.310 -6.311401  0.077991 -0.105434 -0.114353                 66   \n",
       "\n",
       "   sorted_1Exact_indices  sorted_IF_scores  sorted_1Exact_scores  \n",
       "0                      0         -0.153340             -0.181530  \n",
       "1                      1         -0.152320             -0.180218  \n",
       "2                      4         -0.105434             -0.114353  \n",
       "3                     42         -0.033749             -0.035063  \n",
       "4                     66         -0.014110             -0.014332  "
      ]
     },
     "execution_count": 23,
     "metadata": {},
     "output_type": "execute_result"
    }
   ],
   "source": [
    "import postprocessing\n",
    "forestry_df = postprocessing.compute_scores(x, y, lr, True)\n",
    "forestry_df.head()"
   ]
  },
  {
   "cell_type": "code",
   "execution_count": 24,
   "metadata": {},
   "outputs": [
    {
     "name": "stdout",
     "output_type": "stream",
     "text": [
      "The original fit is 0.17005012917697562.\n"
     ]
    }
   ],
   "source": [
    "print(f'The original fit is {lr.beta[1]}.')"
   ]
  },
  {
   "cell_type": "code",
   "execution_count": 25,
   "metadata": {},
   "outputs": [
    {
     "name": "stdout",
     "output_type": "stream",
     "text": [
      "The AMIP approximation of the refit is 0.0167.\n",
      "The Add-1Exact for the change induced by dropping the worst-case subset of size at most 1 is -0.0115.\n"
     ]
    }
   ],
   "source": [
    "print(f'The AMIP approximation of the refit is {round(lr.beta[1] + sum(forestry_df[\"sorted_IF_scores\"][:1]), 4)}.')\n",
    "print(f'The Add-1Exact for the change induced by dropping the worst-case subset of size at most 1 is {round(lr.beta[1] + sum(forestry_df[\"sorted_1Exact_scores\"][:1]), 4)}.')"
   ]
  },
  {
   "cell_type": "markdown",
   "metadata": {},
   "source": [
    "#### Refit after Removing Flagged Points."
   ]
  },
  {
   "cell_type": "code",
   "execution_count": 26,
   "metadata": {},
   "outputs": [
    {
     "name": "stdout",
     "output_type": "stream",
     "text": [
      "(100, 2)\n",
      "(100,)\n",
      "Estimated beta1 with full dataset: 0.17005012917697562\n",
      "Estimated beta1 after removing subset specified by AMIP: -0.011479423925396581\n"
     ]
    }
   ],
   "source": [
    "# Delete the point at index 0. \n",
    "indices_to_remove = [0]\n",
    "inds = indices_to_remove\n",
    "new_x= np.delete(x, inds, axis=0)\n",
    "new_y= np.delete(y, inds, axis=0)\n",
    "print(new_x.shape)\n",
    "print(new_y.shape)\n",
    "\n",
    "lr = LinearRegression(x=x.T, y=y)\n",
    "lr.fit()\n",
    "\n",
    "print(\n",
    "    f\"Estimated beta1 with full dataset: {lr.beta[1]}\"\n",
    ")  # We care about first coefficient (pop A: y is perfectly correlated (slope=1) with x1.)\n",
    "\n",
    "modified_lr_na = LinearRegression(x=new_x.T, y=new_y)\n",
    "modified_lr_na.fit()\n",
    "print(\n",
    "    f\"Estimated beta1 after removing subset specified by AMIP: {modified_lr_na.beta[1]}\"\n",
    ")"
   ]
  }
 ],
 "metadata": {
  "kernelspec": {
   "display_name": "base",
   "language": "python",
   "name": "python3"
  },
  "language_info": {
   "codemirror_mode": {
    "name": "ipython",
    "version": 3
   },
   "file_extension": ".py",
   "mimetype": "text/x-python",
   "name": "python",
   "nbconvert_exporter": "python",
   "pygments_lexer": "ipython3",
   "version": "3.10.12"
  }
 },
 "nbformat": 4,
 "nbformat_minor": 4
}
