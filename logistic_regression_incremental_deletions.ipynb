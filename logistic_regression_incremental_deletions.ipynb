{
 "cells": [
  {
   "cell_type": "code",
   "execution_count": 5,
   "metadata": {},
   "outputs": [],
   "source": [
    "import numpy as np\n",
    "import pandas as pd\n",
    "import matplotlib.pyplot as plt\n",
    "from sklearn.linear_model import LogisticRegression\n",
    "from sklearn.datasets import make_classification\n",
    "from sklearn.metrics import accuracy_score"
   ]
  },
  {
   "cell_type": "code",
   "execution_count": 47,
   "metadata": {},
   "outputs": [],
   "source": [
    "# Step 1: Run logistic regression\n",
    "def run_logistic_regression(X, y):\n",
    "    model = LogisticRegression(fit_intercept = False)\n",
    "    model.fit(X, y)\n",
    "    return model\n",
    "\n",
    "# Step 2: Compute Logistic regression\n",
    "def compute_if(pos_p_hats, X, index, y):\n",
    "    '''\n",
    "    computation of influence function for logistic regression.\n",
    "    '''\n",
    "    v_lst = pos_p_hats * (1 - pos_p_hats)\n",
    "    V = np.diag(v_lst)\n",
    "    influence_function = np.linalg.inv(X.T @ V @ X) * (y[index] - pos_p_hats[index]) * X[index][0]\n",
    "    return influence_function"
   ]
  },
  {
   "cell_type": "markdown",
   "metadata": {},
   "source": [
    "# First, we present an example where the sign flips upon dropping a single data point in 1D logistic regression.\n",
    "\n",
    "In this example, the influence function approximation does predict the sign change."
   ]
  },
  {
   "cell_type": "code",
   "execution_count": 102,
   "metadata": {},
   "outputs": [],
   "source": [
    "X = np.array([-1,0,1,2,3,4]) \n",
    "X = X.reshape(-1, 1)\n",
    "y = np.array([1,0,1,0,1,0])"
   ]
  },
  {
   "cell_type": "code",
   "execution_count": 103,
   "metadata": {},
   "outputs": [
    {
     "data": {
      "text/plain": [
       "array([[-0.17583667]])"
      ]
     },
     "execution_count": 103,
     "metadata": {},
     "output_type": "execute_result"
    }
   ],
   "source": [
    "model_1 = run_logistic_regression(X, y)\n",
    "model_1.coef_"
   ]
  },
  {
   "cell_type": "code",
   "execution_count": 104,
   "metadata": {},
   "outputs": [
    {
     "data": {
      "text/plain": [
       "array([0.])"
      ]
     },
     "execution_count": 104,
     "metadata": {},
     "output_type": "execute_result"
    }
   ],
   "source": [
    "model_1.intercept_"
   ]
  },
  {
   "cell_type": "code",
   "execution_count": 105,
   "metadata": {},
   "outputs": [],
   "source": [
    "# compute predicted values\n",
    "p_hats = model_1.predict_proba(X) # (pr(Y=0), pr(Y=1))\n",
    "pos_p_hats = p_hats[:,1]"
   ]
  },
  {
   "cell_type": "code",
   "execution_count": 106,
   "metadata": {},
   "outputs": [
    {
     "name": "stdout",
     "output_type": "stream",
     "text": [
      "The influence function approximation for the change induced by dropping the point at (4, 0) is 0.186.\n"
     ]
    }
   ],
   "source": [
    "# influence of (X, y) = (4, 0)\n",
    "index=5\n",
    "inf_func_4 = compute_if(pos_p_hats, X, index, y)\n",
    "print(f'The influence function approximation for the change induced by dropping the point at {(X[index][0], y[index])} is {round(-inf_func_4[0][0],3)}.')\n"
   ]
  },
  {
   "cell_type": "code",
   "execution_count": 73,
   "metadata": {},
   "outputs": [
    {
     "data": {
      "image/png": "[encoded data removed]",
      "text/plain": [
       "<Figure size 720x360 with 1 Axes>"
      ]
     },
     "metadata": {
      "needs_background": "light"
     },
     "output_type": "display_data"
    }
   ],
   "source": [
    "# Create a range of values for plotting the decision boundary\n",
    "X_range = np.linspace(-2, 6, 100).reshape(-1, 1)\n",
    "y_prob = model_1.predict_proba(X_range)[:, 1]  # Get the probability of the positive class\n",
    "\n",
    "# Plotting\n",
    "plt.figure(figsize=(10, 5))\n",
    "plt.scatter(X, y, c=y, alpha=0.5, label='Original Data')\n",
    "plt.plot(X_range, y_prob, color='red', label='Logistic Regression Fit')\n",
    "plt.title('Six Points')\n",
    "plt.xlabel('Feature')\n",
    "plt.ylabel('Probability')\n",
    "plt.axhline(0.5, color='grey', linestyle='--', label='Decision Boundary (y=0.5)')\n",
    "# plt.legend()\n",
    "plt.show()"
   ]
  },
  {
   "cell_type": "code",
   "execution_count": 74,
   "metadata": {},
   "outputs": [],
   "source": [
    "X = np.array([-1,0,1,2,3])\n",
    "X = X.reshape(-1, 1)\n",
    "y = np.array([1,0,1,0,1])"
   ]
  },
  {
   "cell_type": "code",
   "execution_count": 75,
   "metadata": {},
   "outputs": [],
   "source": [
    "model_2 = run_logistic_regression(X, y)"
   ]
  },
  {
   "cell_type": "code",
   "execution_count": 76,
   "metadata": {},
   "outputs": [
    {
     "data": {
      "text/plain": [
       "0.10577240208238955"
      ]
     },
     "execution_count": 76,
     "metadata": {},
     "output_type": "execute_result"
    }
   ],
   "source": [
    "model_2.coef_[0][0]"
   ]
  },
  {
   "cell_type": "code",
   "execution_count": 77,
   "metadata": {},
   "outputs": [
    {
     "data": {
      "image/png": "[encoded data removed]",
      "text/plain": [
       "<Figure size 720x360 with 1 Axes>"
      ]
     },
     "metadata": {
      "needs_background": "light"
     },
     "output_type": "display_data"
    }
   ],
   "source": [
    "# Create a range of values for plotting the decision boundary\n",
    "X_range = np.linspace(-2, 5, 100).reshape(-1, 1)\n",
    "y_prob = model_2.predict_proba(X_range)[:, 1]  # Get the probability of the positive class\n",
    "\n",
    "# Plotting\n",
    "plt.figure(figsize=(10, 5))\n",
    "plt.scatter(X, y, c=y, alpha=0.5, label='Original Data')\n",
    "plt.plot(X_range, y_prob, color='red', label='Logistic Regression Fit')\n",
    "plt.title('Five Points')\n",
    "plt.xlabel('Feature')\n",
    "plt.ylabel('Probability')\n",
    "plt.axhline(0.5, color='grey', linestyle='--', label='Decision Boundary (y=0.5)')\n",
    "# plt.legend()\n",
    "plt.show()"
   ]
  },
  {
   "cell_type": "code",
   "execution_count": 78,
   "metadata": {},
   "outputs": [
    {
     "name": "stdout",
     "output_type": "stream",
     "text": [
      "The regression coefficient for the original dataset is: -0.176.\n",
      "The regression coefficient for the new dataset is: 0.106.\n"
     ]
    }
   ],
   "source": [
    "print(f'The regression coefficient for the original dataset is: {round(model_1.coef_[0][0], 3)}.')\n",
    "print(f'The regression coefficient for the new dataset is: {round(model_2.coef_[0][0], 3)}.')"
   ]
  },
  {
   "cell_type": "code",
   "execution_count": 82,
   "metadata": {},
   "outputs": [
    {
     "name": "stdout",
     "output_type": "stream",
     "text": [
      "The refit value is: 0.1058.\n",
      "The influence function approximation to refitting is: 0.0104.\n",
      "The change in the regression coefficient from refitting is: 0.2816.\n",
      "The change in the regression coefficient by influence function approximation is: 0.1863.\n"
     ]
    }
   ],
   "source": [
    "delta =  model_2.coef_[0][0] - model_1.coef_[0][0]\n",
    "print(f'The refit value is: {round(model_2.coef_[0][0],4)}.')\n",
    "print(f'The influence function approximation to refitting is: {round(model_1.coef_[0][0]-inf_func_5[0][0],4)}.')\n",
    "print(f'The change in the regression coefficient from refitting is: {round(delta,4)}.')\n",
    "print(f'The change in the regression coefficient by influence function approximation is: {round(-inf_func_4[0][0],4)}.')"
   ]
  },
  {
   "cell_type": "code",
   "execution_count": 50,
   "metadata": {},
   "outputs": [
    {
     "name": "stdout",
     "output_type": "stream",
     "text": [
      "The residual for the point at (4, 0) is 0.33107064266127545.\n"
     ]
    }
   ],
   "source": [
    "print(f'The residual for the point at (4, 0) is {pos_p_hats[5]}.')"
   ]
  },
  {
   "cell_type": "markdown",
   "metadata": {},
   "source": [
    "The deletion of the point at (4, 0) led to a change in sign, from positive to negative. The influence function approximation underestimated but still was able to predict the sign change."
   ]
  },
  {
   "cell_type": "markdown",
   "metadata": {},
   "source": [
    "# Next, we present an example in which the influence function approximation fails to predict a sign flip upon dropping a single datapoint."
   ]
  },
  {
   "cell_type": "code",
   "execution_count": 116,
   "metadata": {},
   "outputs": [],
   "source": [
    "X = np.array([-1,0,1,2,3,40])\n",
    "X = X.reshape(-1, 1)\n",
    "y = np.array([1,0,1,0,1,0])"
   ]
  },
  {
   "cell_type": "code",
   "execution_count": 117,
   "metadata": {},
   "outputs": [
    {
     "data": {
      "text/plain": [
       "array([[-0.09315216]])"
      ]
     },
     "execution_count": 117,
     "metadata": {},
     "output_type": "execute_result"
    }
   ],
   "source": [
    "# with the outlier point at 40 (large covariate) the logistic regression coefficient is closer to zero.\n",
    "model_3 = run_logistic_regression(X, y)\n",
    "model_3.coef_"
   ]
  },
  {
   "cell_type": "code",
   "execution_count": 118,
   "metadata": {},
   "outputs": [
    {
     "data": {
      "text/plain": [
       "array([[-0.02326194]])"
      ]
     },
     "execution_count": 118,
     "metadata": {},
     "output_type": "execute_result"
    }
   ],
   "source": [
    "# compute predicted values\n",
    "p_hats = model_3.predict_proba(X)\n",
    "pos_p_hats = p_hats[:,1]\n",
    "\n",
    "# influence of (X, y) = (400, 0)\n",
    "inf_func_40 = compute_if(pos_p_hats, X, 5, y)\n",
    "inf_func_40"
   ]
  },
  {
   "cell_type": "code",
   "execution_count": 119,
   "metadata": {},
   "outputs": [
    {
     "name": "stdout",
     "output_type": "stream",
     "text": [
      "The influence function approximation for the change induced by dropping the point at (40, 0) is -0.023.\n"
     ]
    }
   ],
   "source": [
    "print(f'The influence function approximation for the change induced by dropping the point at {(X[index][0], y[index])} is {round(inf_func_40[0][0],3)}.')"
   ]
  },
  {
   "cell_type": "code",
   "execution_count": 120,
   "metadata": {},
   "outputs": [
    {
     "data": {
      "image/png": "[encoded data removed]",
      "text/plain": [
       "<Figure size 720x360 with 1 Axes>"
      ]
     },
     "metadata": {
      "needs_background": "light"
     },
     "output_type": "display_data"
    }
   ],
   "source": [
    "# Create a range of values for plotting the decision boundary\n",
    "X_range = np.linspace(-2, 100, 100).reshape(-1, 1)\n",
    "y_prob = model_3.predict_proba(X_range)[:, 1]  # Get the probability of the positive class\n",
    "\n",
    "# Plotting\n",
    "plt.figure(figsize=(10, 5))\n",
    "plt.scatter(X, y, c=y, alpha=0.5, label='Original Data')\n",
    "plt.plot(X_range, y_prob, color='red', label='Logistic Regression Fit')\n",
    "plt.title('Six Points')\n",
    "plt.xlabel('Feature')\n",
    "plt.ylabel('Probability')\n",
    "plt.axhline(0.5, color='grey', linestyle='--', label='Decision Boundary (y=0.5)')\n",
    "# plt.legend()\n",
    "plt.show()"
   ]
  },
  {
   "cell_type": "code",
   "execution_count": 121,
   "metadata": {},
   "outputs": [
    {
     "data": {
      "text/plain": [
       "0.10577240208238955"
      ]
     },
     "execution_count": 121,
     "metadata": {},
     "output_type": "execute_result"
    }
   ],
   "source": [
    "X = np.array([-1,0,1,2,3])\n",
    "X = X.reshape(-1, 1)\n",
    "y = np.array([1,0,1,0,1])\n",
    "\n",
    "model_2 = run_logistic_regression(X, y)\n",
    "model_2.coef_[0][0]"
   ]
  },
  {
   "cell_type": "code",
   "execution_count": 122,
   "metadata": {},
   "outputs": [],
   "source": [
    "delta_40 =  model_2.coef_[0][0] - model_3.coef_[0][0]"
   ]
  },
  {
   "cell_type": "code",
   "execution_count": 123,
   "metadata": {},
   "outputs": [
    {
     "name": "stdout",
     "output_type": "stream",
     "text": [
      "The original fit value is: -0.0932.\n",
      "The refit value is: 0.1058.\n",
      "The change in the regression coefficient from refitting is: 0.1989.\n",
      "The influence function approximation to refitting is: -0.0699.\n",
      "The change in the regression coefficient by influence function approximation is: 0.0233.\n"
     ]
    }
   ],
   "source": [
    "print(f'The original fit value is: {round(model_3.coef_[0][0],4)}.')\n",
    "print(f'The refit value is: {round(model_2.coef_[0][0],4)}.')\n",
    "print(f'The change in the regression coefficient from refitting is: {round(delta_40,4)}.')\n",
    "print(f'The influence function approximation to refitting is: {round(model_3.coef_[0][0]-inf_func_40[0][0],4)}.')\n",
    "print(f'The change in the regression coefficient by influence function approximation is: {round(-inf_func_40[0][0],4)}.')"
   ]
  },
  {
   "cell_type": "markdown",
   "metadata": {},
   "source": [
    "The deletion of the point at (40, 0) leads to a change in sign, from negative (-0.093) to positive (0.11). The influence function approximation (0.023) majorly underestimates this change and is thus unable to predict the sign change."
   ]
  },
  {
   "cell_type": "markdown",
   "metadata": {},
   "source": [
    "Below are the values we obtain by increasing the X-value of the outlier datapoint by 10-fold (X = 40 --> X = 400).\n",
    "Two notable observations: the influence function approximation decreases in magnitude (to 0).\n",
    "\n",
    "The original fit value is: -0.0163.\n",
    "The refit value is: 0.1058.\n",
    "The change in the regression coefficient from refitting is: 0.1221.\n",
    "The influence function approximation to refitting is: -0.0139.\n",
    "The change in the regression coefficient by influence function approximation is: 0.0025."
   ]
  },
  {
   "cell_type": "code",
   "execution_count": null,
   "metadata": {},
   "outputs": [],
   "source": [
    "# Oct 7th: trying out different arrangements to more generally characterize the error."
   ]
  },
  {
   "cell_type": "code",
   "execution_count": 46,
   "metadata": {},
   "outputs": [],
   "source": [
    "X = np.array([-1,0,5,6,7,100]) # dragging the last point far enough, the regression will flip to a negative sign.\n",
    "X = X.reshape(-1, 1)\n",
    "y = np.array([0,0,1,1,1,0])"
   ]
  },
  {
   "cell_type": "code",
   "execution_count": 47,
   "metadata": {},
   "outputs": [
    {
     "data": {
      "text/plain": [
       "array([[-0.02810599]])"
      ]
     },
     "execution_count": 47,
     "metadata": {},
     "output_type": "execute_result"
    }
   ],
   "source": [
    "model_4 = run_logistic_regression(X, y)\n",
    "model_4.coef_"
   ]
  },
  {
   "cell_type": "code",
   "execution_count": 48,
   "metadata": {},
   "outputs": [],
   "source": [
    "# compute predicted values\n",
    "p_hats = model_4.predict_proba(X)\n",
    "pos_p_hats = p_hats[:,1]"
   ]
  },
  {
   "cell_type": "code",
   "execution_count": 49,
   "metadata": {},
   "outputs": [
    {
     "data": {
      "text/plain": [
       "-0.028105992214304373"
      ]
     },
     "execution_count": 49,
     "metadata": {},
     "output_type": "execute_result"
    }
   ],
   "source": [
    "model_4.coef_[0][0]"
   ]
  },
  {
   "cell_type": "code",
   "execution_count": 50,
   "metadata": {},
   "outputs": [
    {
     "data": {
      "text/plain": [
       "array([[-0.01055523]])"
      ]
     },
     "execution_count": 50,
     "metadata": {},
     "output_type": "execute_result"
    }
   ],
   "source": [
    "# influence of (X, y) = (100, 0)\n",
    "inf_func_4 = compute_if(pos_p_hats, X, 5, y)\n",
    "inf_func_4"
   ]
  },
  {
   "cell_type": "code",
   "execution_count": 52,
   "metadata": {},
   "outputs": [
    {
     "data": {
      "image/png": "[encoded data removed]",
      "text/plain": [
       "<Figure size 720x360 with 1 Axes>"
      ]
     },
     "metadata": {
      "needs_background": "light"
     },
     "output_type": "display_data"
    }
   ],
   "source": [
    "# Create a range of values for plotting the decision boundary\n",
    "X_range = np.linspace(-2, 5, 100).reshape(-1, 1)\n",
    "y_prob = model_4.predict_proba(X_range)[:, 1]  # Get the probability of the positive class\n",
    "\n",
    "# Plotting\n",
    "plt.figure(figsize=(10, 5))\n",
    "plt.scatter(X, y, c=y, alpha=0.5, label='Original Data')\n",
    "plt.plot(X_range, y_prob, color='red', label='Logistic Regression Fit')\n",
    "plt.title('Logistic Regression Data Points with Decision Boundary')\n",
    "plt.xlabel('Feature')\n",
    "plt.ylabel('Probability')\n",
    "plt.axhline(0.5, color='grey', linestyle='--', label='Decision Boundary (y=0.5)')\n",
    "plt.legend()\n",
    "plt.show()"
   ]
  },
  {
   "cell_type": "code",
   "execution_count": 83,
   "metadata": {},
   "outputs": [],
   "source": [
    "# Oct 2nd: When x = 4 the sign does change (upon removing the (X, y) = (4, 0)),\n",
    "# from -0.02 to 1.6e-5. the influence functiion is 0.38, so it does predict a change; it actually\n",
    "# predicts a slightly larger change than the refit.\n",
    "\n",
    "# Oct 7th: the influence function approximation for dropping the point at (4,0)\n",
    "# is actually -0.184, so it does *not* predict the change! this is because \n",
    "# the magnitude of the residual (which decreases to 0) outweighs the magnitude of the X value.\n",
    "\n",
    "# Oct 8th: there was an error in the computation of the influence function.\n",
    "# (1 - \\hat{p}_i) --> (y_i - \\hat{p}_i). After correcting for this error, \n",
    "# we now see that the influence function underestimates the refit; in some situations,\n",
    "# this leads to a failure of type 1 (i.e. the influence function approximation does not predict a sign change\n",
    "# when indeed one exists.)"
   ]
  },
  {
   "cell_type": "code",
   "execution_count": null,
   "metadata": {},
   "outputs": [],
   "source": []
  },
  {
   "cell_type": "code",
   "execution_count": null,
   "metadata": {},
   "outputs": [],
   "source": []
  }
 ],
 "metadata": {
  "kernelspec": {
   "display_name": "Python 3",
   "language": "python",
   "name": "python3"
  },
  "language_info": {
   "codemirror_mode": {
    "name": "ipython",
    "version": 3
   },
   "file_extension": ".py",
   "mimetype": "text/x-python",
   "name": "python",
   "nbconvert_exporter": "python",
   "pygments_lexer": "ipython3",
   "version": "3.8.5"
  }
 },
 "nbformat": 4,
 "nbformat_minor": 4
}
