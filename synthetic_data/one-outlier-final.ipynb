{
 "cells": [
  {
   "cell_type": "markdown",
   "metadata": {},
   "source": [
    "# One Outlier (Section 4.1)\n",
    "\n",
    "This file contains an experiment identifying a single influential point that can cause a sign flip, which AMIP fails to detect."
   ]
  },
  {
   "cell_type": "code",
   "execution_count": 1,
   "metadata": {},
   "outputs": [],
   "source": [
    "import numpy as np\n",
    "import pandas as pd\n",
    "import seaborn as sns\n",
    "import matplotlib.pyplot as plt\n",
    "import linear_regression\n",
    "from linear_regression import LinearRegression\n",
    "import algorithms\n",
    "import gurobipy as gp\n",
    "from gurobipy import GRB\n",
    "import postprocessing"
   ]
  },
  {
   "cell_type": "code",
   "execution_count": 2,
   "metadata": {},
   "outputs": [],
   "source": [
    "np.random.seed(0)\n",
    "\n",
    "# Generate Data\n",
    "num_observations_pop_1 = 1\n",
    "num_observations_pop_2 = 1000\n",
    "\n",
    "# Generate the X values.\n",
    "mean_pop_1 = np.array([1e6])\n",
    "mean_pop_2 = np.array([0])\n",
    "vars_pop_1 = np.array([[0]])\n",
    "vars_pop_2 = [[1]]\n",
    "x1 = np.random.multivariate_normal(mean_pop_1, vars_pop_1, num_observations_pop_1)\n",
    "x2 = np.random.multivariate_normal(mean_pop_2, vars_pop_2, num_observations_pop_2)\n",
    "\n",
    "x = np.append(x1, x2, axis=0) \n",
    "x1_0 = [pt[0] for pt in x1]\n",
    "x2_0 = [pt[0] for pt in x2]"
   ]
  },
  {
   "cell_type": "markdown",
   "metadata": {},
   "source": [
    "## Generate Data (w intercept)."
   ]
  },
  {
   "cell_type": "code",
   "execution_count": 23,
   "metadata": {},
   "outputs": [],
   "source": [
    "np.random.seed(0)\n",
    "\n",
    "# Generate Data\n",
    "num_observations_pop_1 = 1\n",
    "num_observations_pop_2 = 1000\n",
    "\n",
    "# Generate the X values.\n",
    "mean_pop_1 = np.array([1e6])\n",
    "mean_pop_2 = np.array([0])\n",
    "vars_pop_1 = np.array([[0]])\n",
    "vars_pop_2 = [[1]]\n",
    "x1 = np.random.multivariate_normal(mean_pop_1, vars_pop_1, num_observations_pop_1)\n",
    "x2 = np.random.multivariate_normal(mean_pop_2, vars_pop_2, num_observations_pop_2)\n",
    "\n",
    "x = np.append(x1, x2, axis=0) \n",
    "x1_0 = [pt[0] for pt in x1]\n",
    "x2_0 = [pt[0] for pt in x2] # picks out first column.\n",
    "\n",
    "# Add an intercept term.\n",
    "df = pd.DataFrame(x)\n",
    "df.insert(0, 'Ones', 1)\n",
    "arr = df.values\n",
    "x = arr\n",
    "x1 = x[:1]\n",
    "x2 = x[1:]\n",
    "\n",
    "# Generating the Y values.\n",
    "y1 = [1e6]\n",
    "\n",
    "epsilon2 = np.random.normal(0, 1, num_observations_pop_2) # eps is the variance of the noise distribution.\n",
    "slope = -1\n",
    "y2 = []\n",
    "for i in range(num_observations_pop_2):\n",
    "    y2.append(slope*x2_0[i] + epsilon2[i]) # change here to add residual noise.\n",
    "\n",
    "y = np.concatenate([y1, y2], axis=0)\n",
    "# y"
   ]
  },
  {
   "cell_type": "markdown",
   "metadata": {},
   "source": [
    "## (Option to) Generate data without intercept (i.e., w.o. an all-1's column)."
   ]
  },
  {
   "cell_type": "code",
   "execution_count": null,
   "metadata": {},
   "outputs": [
    {
     "name": "stdout",
     "output_type": "stream",
     "text": [
      "[[ 1.00000000e+06]\n",
      " [ 4.00157208e-01]\n",
      " [ 9.78737984e-01]\n",
      " ...\n",
      " [-1.14761094e+00]\n",
      " [-3.58114075e-01]\n",
      " [ 5.55962680e-01]]\n"
     ]
    },
    {
     "data": {
      "text/plain": [
       "array([ 1.00000000e+06,  4.92316679e-01, -1.40105281e+00, ...,\n",
       "        5.70952564e-03, -9.52856295e-01, -2.08888373e+00])"
      ]
     },
     "execution_count": 5,
     "metadata": {},
     "output_type": "execute_result"
    }
   ],
   "source": [
    "np.random.seed(0)\n",
    "\n",
    "# Generate Data\n",
    "num_observations_pop_1 = 1\n",
    "num_observations_pop_2 = 1000\n",
    "\n",
    "# Generate the X values.\n",
    "mean_pop_1 = np.array([1e6])\n",
    "mean_pop_2 = np.array([0])\n",
    "vars_pop_1 = np.array([[0]])\n",
    "vars_pop_2 = [[1]]\n",
    "x1 = np.random.multivariate_normal(mean_pop_1, vars_pop_1, num_observations_pop_1)\n",
    "x2 = np.random.multivariate_normal(mean_pop_2, vars_pop_2, num_observations_pop_2)\n",
    "\n",
    "x = np.append(x1, x2, axis=0)\n",
    "print(x)\n",
    "x1 = x[:1]\n",
    "x2 = x[1:]\n",
    "\n",
    "# Add an intercept term.\n",
    "# df = pd.DataFrame(x)\n",
    "# df.insert(0, 'Ones', 1)\n",
    "# arr = df.values\n",
    "# x = arr\n",
    "\n",
    "# Flatten x for ease of indexing.\n",
    "x1_0 = x1.flatten()\n",
    "x2_0 = x2.flatten()\n",
    "\n",
    "# Generating the Y values.\n",
    "y1 = [1e6]\n",
    "\n",
    "epsilon2 = np.random.normal(0, 1, num_observations_pop_2) # eps is the variance of the noise distribution.\n",
    "slope = -1\n",
    "intercept = 0\n",
    "y2 = []\n",
    "for i in range(num_observations_pop_2):\n",
    "    y2.append(slope*x2_0[i] + intercept + epsilon2[i]) # change here to add residual noise.\n",
    "\n",
    "y = np.concatenate([y1, y2], axis=0)\n",
    "y"
   ]
  },
  {
   "cell_type": "markdown",
   "metadata": {},
   "source": [
    "## Model Fitting\n",
    "\n",
    "Fit the data using OLS regression."
   ]
  },
  {
   "cell_type": "code",
   "execution_count": 24,
   "metadata": {},
   "outputs": [
    {
     "name": "stdout",
     "output_type": "stream",
     "text": [
      "Estimated beta1 with full dataset: 0.9999998935657151\n",
      "Estimated beta1 pop B: -1.0329686114061063\n"
     ]
    }
   ],
   "source": [
    "lr = LinearRegression(x=x.T, y=y)\n",
    "lr.fit()\n",
    "modified_lr = LinearRegression(x=x[1:,:].T, y=y2)\n",
    "modified_lr.fit()\n",
    "print(\n",
    "    f\"Estimated beta1 with full dataset: {lr.beta[1]}\\n\"\n",
    "    f\"Estimated beta1 pop B: {modified_lr.beta[1]}\"\n",
    ")"
   ]
  },
  {
   "cell_type": "code",
   "execution_count": 25,
   "metadata": {},
   "outputs": [
    {
     "data": {
      "image/png": "[encoded data removed]",
      "text/plain": [
       "<Figure size 900x700 with 2 Axes>"
      ]
     },
     "metadata": {},
     "output_type": "display_data"
    }
   ],
   "source": [
    "from matplotlib.ticker import ScalarFormatter\n",
    "from mpl_toolkits.axes_grid1.inset_locator import inset_axes\n",
    "\n",
    "plt.figure(figsize=(9, 7))\n",
    "\n",
    "x_values = np.linspace(-1.5e6, 1.5e6, 100)\n",
    "y_values_full = lr.beta[1] * x_values + lr.beta[0]\n",
    "y_value_red_crosses = modified_lr.beta[1] * x_values + modified_lr.beta[0]\n",
    "\n",
    "plt.plot(x_values, y_values_full, color='black', linestyle='--') \n",
    "plt.plot(x_values, y_value_red_crosses, color='black')\n",
    "plt.scatter(x[0,1], y1, marker='o', color='black', label='Pop. A', s=56)\n",
    "plt.scatter(x[1:,1], y2, marker='x', color='r', label='Pop. B', s=56)\n",
    "\n",
    "plt.ylim(-1.5e6, 1.5e6)\n",
    "\n",
    "plt.xlabel('x', fontsize=26) \n",
    "plt.ylabel('y', fontsize=26)\n",
    "\n",
    "plt.xticks(fontsize=21)\n",
    "plt.yticks(fontsize=21)\n",
    "plt.gca().yaxis.set_major_formatter(ScalarFormatter(useMathText=True))\n",
    "plt.gca().yaxis.get_offset_text().set_fontsize(26)\n",
    "plt.gca().xaxis.set_major_formatter(ScalarFormatter(useMathText=True))\n",
    "plt.gca().xaxis.get_offset_text().set_fontsize(26)\n",
    "\n",
    " # plt.legend(fontsize=22) # 16\n",
    "\n",
    "# Create inset of the red crosses.\n",
    "x_values_inset = np.linspace(-1.5e6, 1.5e6, 100)\n",
    "y_values_full_inset = lr.beta[1] * x_values_inset + lr.beta[0]\n",
    "y_value_red_crosses_inset = modified_lr.beta[1] * x_values_inset + modified_lr.beta[0]\n",
    "ax_inset = inset_axes(plt.gca(), width=\"30%\", height=\"30%\", loc='upper left', bbox_to_anchor=(0.113, -0.040, 1.0, 1), bbox_transform=plt.gca().transAxes)\n",
    "ax_inset.plot(x_values_inset, y_values_full_inset, color='black') \n",
    "ax_inset.plot(x_values_inset, y_value_red_crosses_inset, color='black')\n",
    "ax_inset.scatter(x[0, 1], y1, marker='o', color='black', s=56)\n",
    "ax_inset.scatter(x[1:, 1], y2, marker='x', color='r', s=56)\n",
    "ax_inset.set_xlim(-1.5e1, 1.5e1)  \n",
    "ax_inset.set_ylim(-1.5e1, 1.5e1)\n",
    "ax_inset.tick_params(axis='both', which='major', labelsize=22) # 12\n",
    "ax_inset.tick_params(axis='both', which='minor', labelsize=22)\n",
    "# set ticks to scientific notation\n",
    "ax_inset.yaxis.get_offset_text().set_fontsize(12)\n",
    "ax_inset.xaxis.get_offset_text().set_fontsize(12)\n",
    "\n",
    "# plt.savefig('one_outlier_example_10.pdf')\n",
    "plt.show()"
   ]
  },
  {
   "cell_type": "markdown",
   "metadata": {},
   "source": [
    "## Net Approx. Algorithm"
   ]
  },
  {
   "cell_type": "code",
   "execution_count": 26,
   "metadata": {},
   "outputs": [],
   "source": [
    "Xnet = np.zeros((x.shape[0],x.shape[1]))\n",
    "Xnet[:,0] =  x[:,1]\n",
    "Xnet[:,1] =  x[:,0]"
   ]
  },
  {
   "cell_type": "code",
   "execution_count": 27,
   "metadata": {},
   "outputs": [],
   "source": [
    "n_sumwstar, wstar = algorithms.net_algorithm(Xnet,y,1000)"
   ]
  },
  {
   "cell_type": "code",
   "execution_count": 29,
   "metadata": {},
   "outputs": [
    {
     "name": "stdout",
     "output_type": "stream",
     "text": [
      "Number of points needed to be removed to zero-out the OLS solution: 1001.0\n"
     ]
    },
    {
     "data": {
      "text/plain": [
       "array([0])"
      ]
     },
     "execution_count": 29,
     "metadata": {},
     "output_type": "execute_result"
    }
   ],
   "source": [
    "print(f\"Number of points needed to be removed to zero-out the OLS solution: {n_sumwstar}\")\n",
    "# find the indices of the MIS.\n",
    "alphaN = 1\n",
    "mis_inds = np.argsort(wstar)[:alphaN]\n",
    "mis_inds"
   ]
  },
  {
   "cell_type": "code",
   "execution_count": null,
   "metadata": {},
   "outputs": [],
   "source": []
  },
  {
   "cell_type": "markdown",
   "metadata": {},
   "source": [
    "## Gurobi [FH23]"
   ]
  },
  {
   "cell_type": "code",
   "execution_count": 9,
   "metadata": {},
   "outputs": [
    {
     "name": "stdout",
     "output_type": "stream",
     "text": [
      "set residual constraints\n",
      "Warning: zero or small (< 1e-13) coefficients in quadratic constraints, ignored\n",
      "Set parameter NonConvex to value 2\n",
      "Set parameter TimeLimit to value 30\n",
      "start solving\n",
      "Gurobi Optimizer version 12.0.1 build v12.0.1rc0 (mac64[arm] - Darwin 21.6.0 21H1320)\n",
      "\n",
      "CPU model: Apple M1 Pro\n",
      "Thread count: 10 physical cores, 10 logical processors, using up to 10 threads\n",
      "\n",
      "Non-default parameters:\n",
      "TimeLimit  30\n",
      "NonConvex  2\n",
      "\n",
      "Optimize a model with 2002 rows, 1002 columns and 2002 nonzeros\n",
      "Model fingerprint: 0xdb21fc8f\n",
      "Model has 2 quadratic constraints\n",
      "Coefficient statistics:\n",
      "  Matrix range     [1e+00, 1e+00]\n",
      "  QMatrix range    [1e-03, 1e+06]\n",
      "  QLMatrix range   [7e-04, 1e+12]\n",
      "  Objective range  [1e+00, 1e+00]\n",
      "  Bounds range     [0e+00, 0e+00]\n",
      "  RHS range        [1e+00, 1e+00]\n",
      "Warning: Quadratic constraints contain large coefficient range on linear part\n",
      "         Consider reformulating model or setting NumericFocus parameter\n",
      "         to avoid numerical issues.\n",
      "Presolve removed 2002 rows and 0 columns\n",
      "\n",
      "Continuous model is non-convex -- solving as a MIP\n",
      "\n",
      "Found heuristic solution: objective -0.0000000\n",
      "Presolve removed 2002 rows and 0 columns\n",
      "Presolve time: 0.00s\n",
      "Presolved: 4016 rows, 2006 columns, 22027 nonzeros\n",
      "Presolved model has 1003 bilinear constraint(s)\n",
      "Warning: Model contains variables with very large bounds participating\n",
      "         in product terms.\n",
      "         Presolve was not able to compute smaller bounds for these variables.\n",
      "         Consider bounding these variables or reformulating the model.\n",
      "\n",
      "Variable types: 2006 continuous, 0 integer (0 binary)\n",
      "Found heuristic solution: objective 999.9999990\n",
      "\n",
      "Root relaxation: interrupted, 1003 iterations, 0.00 seconds (0.00 work units)\n",
      "\n",
      "    Nodes    |    Current Node    |     Objective Bounds      |     Work\n",
      " Expl Unexpl |  Obj  Depth IntInf | Incumbent    BestBd   Gap | It/Node Time\n",
      "\n",
      "     0     0          -    0      1000.00000 1000.00000  0.00%     -    0s\n",
      "\n",
      "Explored 1 nodes (1003 simplex iterations) in 0.04 seconds (0.02 work units)\n",
      "Thread count was 10 (of 10 available processors)\n",
      "\n",
      "Solution count 2: 1000 -0 \n",
      "\n",
      "Optimal solution found (tolerance 1.00e-04)\n",
      "Best objective 9.999999990010e+02, best bound 1.000000000001e+03, gap 0.0000%\n"
     ]
    }
   ],
   "source": [
    "model_objbound_frac, model_objval_frac, weights_frac, model_frac = algorithms.solve_regression_fractional(x,y, intercept=False,time_limit=30, warm_start=None, verbose=True,\n",
    "                               greater_one_constraint=False, pairs=None)\n",
    "weights_from_fractional_gurobi = np.array([w.X for w in weights_frac])"
   ]
  },
  {
   "cell_type": "code",
   "execution_count": 10,
   "metadata": {},
   "outputs": [
    {
     "name": "stdout",
     "output_type": "stream",
     "text": [
      "Warning: zero or small (< 1e-13) coefficients in quadratic constraints, ignored\n",
      "Set parameter NonConvex to value 2\n",
      "Set parameter TimeLimit to value 30\n",
      "Gurobi Optimizer version 12.0.1 build v12.0.1rc0 (mac64[arm] - Darwin 21.6.0 21H1320)\n",
      "\n",
      "CPU model: Apple M1 Pro\n",
      "Thread count: 10 physical cores, 10 logical processors, using up to 10 threads\n",
      "\n",
      "Non-default parameters:\n",
      "TimeLimit  30\n",
      "NonConvex  2\n",
      "\n",
      "Optimize a model with 1 rows, 1004 columns and 1 nonzeros\n",
      "Model fingerprint: 0x8d93909a\n",
      "Model has 3 quadratic constraints\n",
      "Variable types: 3 continuous, 1001 integer (1001 binary)\n",
      "Coefficient statistics:\n",
      "  Matrix range     [1e+00, 1e+00]\n",
      "  QMatrix range    [2e-06, 1e+12]\n",
      "  QLMatrix range   [7e-04, 1e+12]\n",
      "  Objective range  [1e+00, 1e+00]\n",
      "  Bounds range     [1e+00, 1e+00]\n",
      "  RHS range        [0e+00, 0e+00]\n",
      "Warning: Quadratic constraints contain large coefficient range\n",
      "Warning: Quadratic constraints contain large coefficient range on linear part\n",
      "         Consider reformulating model or setting NumericFocus parameter\n",
      "         to avoid numerical issues.\n",
      "\n",
      "User MIP start produced solution with objective 1000 (0.01s)\n",
      "Loaded user MIP start with objective 1000\n",
      "\n",
      "Presolve removed 1 rows and 0 columns\n",
      "Presolve time: 0.00s\n",
      "Presolved: 6008 rows, 10013 columns, 23022 nonzeros\n",
      "Presolved model has 6006 SOS constraint(s)\n",
      "Variable types: 6009 continuous, 4004 integer (4004 binary)\n",
      "\n",
      "Explored 1 nodes (0 simplex iterations) in 0.08 seconds (0.08 work units)\n",
      "Thread count was 10 (of 10 available processors)\n",
      "\n",
      "Solution count 1: 1000 \n",
      "\n",
      "Optimal solution found (tolerance 1.00e-04)\n",
      "Best objective 1.000000000000e+03, best bound 1.000000000000e+03, gap 0.0000%\n"
     ]
    }
   ],
   "source": [
    "model_objbound, model_objval, weights, model = algorithms.solve_regression_integral(x,y, intercept=True,time_limit=30, warm_start=weights_from_fractional_gurobi, verbose=True, #beta_sign=1,\n",
    "                                warm_start_ub=None, pairs = None)\n",
    "integer_weights = np.array([w.X for w in weights])"
   ]
  },
  {
   "cell_type": "code",
   "execution_count": 11,
   "metadata": {},
   "outputs": [
    {
     "data": {
      "text/plain": [
       "array([0])"
      ]
     },
     "execution_count": 11,
     "metadata": {},
     "output_type": "execute_result"
    }
   ],
   "source": [
    "# select the indices of the points with weight 0.\n",
    "indices_to_remove = np.where(integer_weights == 0)[0]\n",
    "indices_to_remove"
   ]
  },
  {
   "cell_type": "markdown",
   "metadata": {},
   "source": [
    "## Gurobi (no warm start)"
   ]
  },
  {
   "cell_type": "code",
   "execution_count": 12,
   "metadata": {},
   "outputs": [
    {
     "name": "stdout",
     "output_type": "stream",
     "text": [
      "Warning: zero or small (< 1e-13) coefficients in quadratic constraints, ignored\n",
      "Set parameter NonConvex to value 2\n",
      "Set parameter TimeLimit to value 30\n",
      "Gurobi Optimizer version 12.0.1 build v12.0.1rc0 (mac64[arm] - Darwin 21.6.0 21H1320)\n",
      "\n",
      "CPU model: Apple M1 Pro\n",
      "Thread count: 10 physical cores, 10 logical processors, using up to 10 threads\n",
      "\n",
      "Non-default parameters:\n",
      "TimeLimit  30\n",
      "NonConvex  2\n",
      "\n",
      "Optimize a model with 1 rows, 1004 columns and 1 nonzeros\n",
      "Model fingerprint: 0x92d05d0c\n",
      "Model has 3 quadratic constraints\n",
      "Variable types: 3 continuous, 1001 integer (1001 binary)\n",
      "Coefficient statistics:\n",
      "  Matrix range     [1e+00, 1e+00]\n",
      "  QMatrix range    [2e-06, 1e+12]\n",
      "  QLMatrix range   [7e-04, 1e+12]\n",
      "  Objective range  [1e+00, 1e+00]\n",
      "  Bounds range     [1e+00, 1e+00]\n",
      "  RHS range        [0e+00, 0e+00]\n",
      "Warning: Quadratic constraints contain large coefficient range\n",
      "Warning: Quadratic constraints contain large coefficient range on linear part\n",
      "         Consider reformulating model or setting NumericFocus parameter\n",
      "         to avoid numerical issues.\n",
      "Found heuristic solution: objective -0.0000000\n",
      "Presolve removed 1 rows and 0 columns\n",
      "Presolve time: 0.00s\n",
      "Presolved: 6008 rows, 10013 columns, 23022 nonzeros\n",
      "Presolved model has 6006 SOS constraint(s)\n",
      "Variable types: 6009 continuous, 4004 integer (4004 binary)\n",
      "\n",
      "Root relaxation: objective 1.001000e+03, 1 iterations, 0.00 seconds (0.00 work units)\n",
      "\n",
      "    Nodes    |    Current Node    |     Objective Bounds      |     Work\n",
      " Expl Unexpl |  Obj  Depth IntInf | Incumbent    BestBd   Gap | It/Node Time\n",
      "\n",
      "     0     0 1001.00000    0    2   -0.00000 1001.00000      -     -    0s\n",
      "     0     0 1001.00000    0    2   -0.00000 1001.00000      -     -    0s\n",
      "     0     2 1001.00000    0    2   -0.00000 1001.00000      -     -    0s\n",
      "  1960  2020  996.00000   49  952   -0.00000 1001.00000      -   1.5    5s\n",
      "  7102  7203  995.00000  140  861   -0.00000 1001.00000      -   2.1   10s\n",
      "  8344  8302  996.00000   19  992   -0.00000 1000.00000      -   2.2   15s\n",
      "H12603 10868                       1.0000000 1000.00000      -   2.0   19s\n",
      "H12750 10602                       2.0000000 1000.00000      -   2.0   19s\n",
      " 13342 11057  995.00000   77  934    2.00000 1000.00000      -   1.9   20s\n",
      "H13802 10845                       3.0000000 1000.00000      -   1.9   20s\n",
      "H14390 10813                       4.0000000 1000.00000      -   1.9   21s\n",
      "H15451 11245                       5.0000000 1000.00000      -   1.9   24s\n",
      "H15689 11071                       6.0000000 1000.00000      -   1.9   24s\n",
      " 15741 11144  995.00000  160  851    6.00000 1000.00000      -   1.9   25s\n",
      "H16716 11559                       7.0000000 1000.00000      -   2.2   27s\n",
      " 17677 12466  996.00000  267  744    7.00000 1000.00000      -   2.2   30s\n",
      "H17890 12109                       8.0000000 1000.00000      -   2.2   30s\n",
      "\n",
      "Explored 18099 nodes (39151 simplex iterations) in 30.01 seconds (101.79 work units)\n",
      "Thread count was 10 (of 10 available processors)\n",
      "\n",
      "Solution count 9: 8 7 6 ... -0\n",
      "\n",
      "Time limit reached\n",
      "Warning: max constraint violation (7.2054e+00) exceeds tolerance\n",
      "         (model may be infeasible or unbounded - try turning presolve off)\n",
      "Best objective 8.000000000000e+00, best bound 1.000000000000e+03, gap 12400.0000%\n"
     ]
    }
   ],
   "source": [
    "model_objbound, model_objval, weights, model = algorithms.solve_regression_integral(x,y, intercept=True,time_limit=30, warm_start=None, verbose=True, #beta_sign=1,\n",
    "                            warm_start_ub=None, pairs = None)"
   ]
  },
  {
   "cell_type": "code",
   "execution_count": 13,
   "metadata": {},
   "outputs": [],
   "source": [
    "integer_weights = np.array([w.X for w in weights])"
   ]
  },
  {
   "cell_type": "code",
   "execution_count": 14,
   "metadata": {},
   "outputs": [
    {
     "data": {
      "text/plain": [
       "array([   0,    1,    2,    3,    4,    5,    6,    7,    8,    9,   10,\n",
       "         11,   12,   13,   14,   15,   16,   17,   18,   19,   20,   22,\n",
       "         23,   24,   25,   26,   27,   28,   29,   30,   31,   32,   33,\n",
       "         34,   35,   36,   37,   38,   39,   40,   41,   42,   43,   44,\n",
       "         45,   46,   47,   48,   49,   50,   51,   52,   53,   54,   55,\n",
       "         56,   57,   58,   59,   60,   61,   62,   63,   64,   65,   66,\n",
       "         67,   68,   69,   70,   71,   72,   73,   74,   75,   76,   77,\n",
       "         78,   79,   80,   81,   82,   83,   84,   85,   86,   87,   88,\n",
       "         89,   90,   91,   92,   93,   94,   95,   96,   97,   98,   99,\n",
       "        100,  101,  102,  103,  104,  105,  106,  107,  108,  109,  110,\n",
       "        111,  112,  113,  114,  115,  116,  117,  118,  119,  120,  121,\n",
       "        122,  123,  124,  125,  126,  127,  128,  129,  130,  131,  132,\n",
       "        133,  134,  135,  136,  137,  138,  139,  140,  141,  142,  143,\n",
       "        144,  145,  146,  147,  148,  149,  150,  151,  152,  153,  154,\n",
       "        155,  156,  157,  158,  159,  160,  161,  162,  163,  164,  165,\n",
       "        166,  167,  168,  169,  170,  171,  172,  173,  174,  175,  176,\n",
       "        177,  178,  179,  180,  181,  182,  183,  184,  185,  186,  187,\n",
       "        188,  189,  190,  191,  192,  193,  194,  195,  196,  197,  198,\n",
       "        199,  200,  201,  202,  203,  204,  205,  206,  207,  208,  209,\n",
       "        210,  211,  212,  213,  214,  215,  216,  217,  218,  219,  220,\n",
       "        221,  222,  223,  224,  225,  226,  227,  228,  229,  230,  231,\n",
       "        232,  233,  234,  235,  236,  237,  238,  239,  240,  241,  242,\n",
       "        243,  244,  245,  246,  247,  248,  249,  250,  251,  252,  253,\n",
       "        254,  255,  256,  257,  258,  259,  260,  261,  262,  263,  264,\n",
       "        265,  266,  267,  268,  269,  271,  272,  273,  274,  275,  276,\n",
       "        277,  278,  279,  280,  281,  282,  283,  284,  286,  287,  288,\n",
       "        289,  290,  291,  292,  293,  294,  295,  296,  297,  298,  299,\n",
       "        300,  301,  302,  303,  304,  305,  306,  307,  308,  309,  310,\n",
       "        311,  312,  313,  314,  315,  316,  317,  318,  319,  320,  321,\n",
       "        322,  323,  324,  325,  326,  327,  328,  329,  330,  331,  332,\n",
       "        333,  334,  335,  336,  337,  338,  339,  340,  341,  342,  343,\n",
       "        344,  345,  346,  347,  348,  349,  350,  351,  352,  353,  354,\n",
       "        355,  356,  357,  358,  359,  360,  361,  362,  363,  364,  365,\n",
       "        366,  368,  370,  371,  372,  373,  374,  375,  376,  377,  378,\n",
       "        379,  380,  381,  382,  383,  384,  385,  386,  387,  388,  389,\n",
       "        390,  391,  392,  393,  394,  395,  396,  397,  398,  399,  400,\n",
       "        401,  402,  403,  404,  405,  406,  407,  408,  409,  410,  411,\n",
       "        412,  413,  414,  415,  416,  417,  418,  419,  420,  421,  422,\n",
       "        423,  424,  425,  426,  427,  428,  429,  430,  431,  432,  433,\n",
       "        434,  435,  436,  437,  438,  439,  440,  441,  442,  443,  444,\n",
       "        445,  446,  447,  448,  449,  450,  451,  452,  453,  454,  455,\n",
       "        456,  457,  458,  459,  460,  461,  462,  463,  464,  465,  466,\n",
       "        467,  468,  469,  470,  471,  472,  473,  474,  475,  476,  477,\n",
       "        478,  479,  480,  481,  482,  483,  484,  485,  486,  487,  488,\n",
       "        489,  490,  491,  492,  493,  494,  495,  496,  497,  498,  499,\n",
       "        500,  501,  502,  503,  504,  505,  506,  507,  508,  509,  510,\n",
       "        511,  512,  513,  514,  515,  516,  517,  518,  519,  520,  521,\n",
       "        522,  523,  524,  525,  526,  527,  528,  529,  530,  531,  532,\n",
       "        533,  534,  535,  536,  537,  538,  539,  540,  541,  542,  543,\n",
       "        544,  545,  546,  547,  548,  549,  550,  551,  552,  553,  554,\n",
       "        555,  556,  557,  558,  559,  560,  561,  562,  563,  564,  565,\n",
       "        566,  567,  568,  569,  570,  571,  572,  573,  574,  575,  576,\n",
       "        577,  578,  579,  580,  581,  582,  583,  584,  585,  586,  587,\n",
       "        588,  589,  590,  591,  592,  593,  594,  595,  596,  597,  598,\n",
       "        599,  600,  601,  602,  603,  604,  605,  606,  607,  608,  609,\n",
       "        610,  611,  612,  613,  614,  615,  616,  617,  618,  619,  620,\n",
       "        621,  622,  623,  624,  625,  626,  627,  628,  629,  630,  631,\n",
       "        632,  633,  634,  635,  636,  638,  639,  640,  641,  642,  643,\n",
       "        644,  645,  646,  647,  648,  649,  650,  651,  652,  653,  654,\n",
       "        655,  656,  657,  658,  659,  660,  661,  662,  663,  664,  665,\n",
       "        666,  667,  668,  669,  670,  671,  672,  673,  674,  675,  676,\n",
       "        677,  678,  679,  680,  681,  682,  683,  684,  685,  686,  687,\n",
       "        688,  689,  690,  691,  692,  693,  694,  695,  696,  697,  698,\n",
       "        699,  700,  701,  702,  703,  704,  705,  706,  707,  708,  709,\n",
       "        710,  711,  712,  713,  714,  715,  716,  717,  718,  719,  720,\n",
       "        721,  722,  723,  724,  725,  726,  727,  728,  729,  730,  731,\n",
       "        732,  733,  734,  735,  736,  737,  738,  739,  740,  741,  742,\n",
       "        743,  744,  745,  746,  747,  748,  749,  750,  751,  752,  753,\n",
       "        754,  755,  756,  757,  758,  759,  760,  761,  762,  763,  764,\n",
       "        765,  766,  767,  768,  769,  770,  771,  772,  773,  774,  775,\n",
       "        776,  777,  778,  779,  780,  781,  782,  783,  784,  785,  786,\n",
       "        787,  788,  789,  790,  791,  792,  793,  794,  795,  796,  797,\n",
       "        798,  799,  800,  801,  802,  803,  804,  805,  806,  807,  808,\n",
       "        809,  810,  811,  812,  813,  814,  815,  816,  817,  818,  819,\n",
       "        820,  821,  822,  823,  824,  825,  826,  827,  828,  829,  830,\n",
       "        831,  832,  833,  834,  835,  837,  838,  839,  840,  841,  842,\n",
       "        843,  844,  845,  846,  847,  848,  849,  850,  851,  852,  853,\n",
       "        854,  855,  856,  857,  858,  859,  860,  861,  862,  863,  864,\n",
       "        865,  866,  867,  868,  869,  870,  871,  872,  873,  874,  875,\n",
       "        876,  877,  878,  879,  880,  881,  882,  883,  884,  885,  886,\n",
       "        887,  888,  889,  890,  891,  892,  893,  894,  895,  896,  897,\n",
       "        898,  899,  900,  901,  902,  903,  904,  905,  906,  907,  908,\n",
       "        909,  910,  911,  912,  913,  914,  915,  916,  917,  918,  919,\n",
       "        920,  921,  922,  923,  924,  925,  926,  927,  928,  929,  930,\n",
       "        931,  932,  933,  934,  936,  937,  938,  939,  940,  941,  942,\n",
       "        943,  944,  945,  946,  947,  948,  949,  950,  951,  952,  953,\n",
       "        954,  955,  956,  957,  958,  959,  960,  961,  962,  963,  964,\n",
       "        965,  966,  967,  968,  969,  970,  971,  972,  973,  974,  975,\n",
       "        976,  977,  978,  979,  980,  981,  982,  983,  984,  985,  986,\n",
       "        987,  988,  989,  990,  991,  992,  993,  994,  995,  996,  997,\n",
       "        998,  999, 1000])"
      ]
     },
     "execution_count": 14,
     "metadata": {},
     "output_type": "execute_result"
    }
   ],
   "source": [
    "# select the indices of the points with weight 0.\n",
    "indices_to_remove = np.where(integer_weights == 0)[0]\n",
    "indices_to_remove"
   ]
  },
  {
   "cell_type": "code",
   "execution_count": 15,
   "metadata": {},
   "outputs": [
    {
     "data": {
      "text/plain": [
       "993"
      ]
     },
     "execution_count": 15,
     "metadata": {},
     "output_type": "execute_result"
    }
   ],
   "source": [
    "len(indices_to_remove)"
   ]
  },
  {
   "cell_type": "markdown",
   "metadata": {},
   "source": [
    "## Checking each term in Prop C.2 (leverage and residual)"
   ]
  },
  {
   "cell_type": "markdown",
   "metadata": {},
   "source": [
    "## Checking s and t."
   ]
  },
  {
   "cell_type": "code",
   "execution_count": null,
   "metadata": {},
   "outputs": [
    {
     "name": "stdout",
     "output_type": "stream",
     "text": [
      "[[ 1.00000000e+10]\n",
      " [ 4.00157208e-01]\n",
      " [ 9.78737984e-01]\n",
      " ...\n",
      " [-1.14761094e+00]\n",
      " [-3.58114075e-01]\n",
      " [ 5.55962680e-01]]\n"
     ]
    },
    {
     "data": {
      "text/plain": [
       "array([ 1.00000000e+10,  4.92316679e-01, -1.40105281e+00, ...,\n",
       "        5.70952564e-03, -9.52856295e-01, -2.08888373e+00])"
      ]
     },
     "execution_count": 126,
     "metadata": {},
     "output_type": "execute_result"
    }
   ],
   "source": [
    "# dataset generation.\n",
    "np.random.seed(0)\n",
    "\n",
    "# Generate Data\n",
    "num_observations_pop_1 = 1\n",
    "num_observations_pop_2 = 1000\n",
    "\n",
    "# Generate the X values.\n",
    "# mean_pop_1 = np.array([1e10, 0, 0])\n",
    "# mean_pop_2 = np.array([0, 0, 0])\n",
    "# vars_pop_1 = np.array([[0, 0, 0], [0, 0, 0], [0, 0, 0]])\n",
    "# vars_pop_2 = np.array([[1, 0, 0], [0, 1, 0], [0, 0, 1]])\n",
    "mean_pop_1 = np.array([1e10])\n",
    "mean_pop_2 = np.array([0])\n",
    "vars_pop_1 = np.array([[0]])\n",
    "vars_pop_2 = np.array([[1]])\n",
    "\n",
    "x1 = np.random.multivariate_normal(mean_pop_1, vars_pop_1, num_observations_pop_1)\n",
    "x2 = np.random.multivariate_normal(mean_pop_2, vars_pop_2, num_observations_pop_2)\n",
    "\n",
    "x = np.append(x1, x2, axis=0)\n",
    "print(x)\n",
    "x1 = x[:1]\n",
    "x2 = x[1:]\n",
    "\n",
    "# Flatten x for ease of indexing.\n",
    "x1_0 = x1.flatten()\n",
    "x2_0 = x2.flatten()\n",
    "\n",
    "# Generating the Y values.\n",
    "y1 = [1e10]\n",
    "\n",
    "epsilon2 = np.random.normal(0, 1, num_observations_pop_2) # eps is the variance of the noise distribution.\n",
    "slope = -1\n",
    "intercept = 0\n",
    "y2 = []\n",
    "for i in range(num_observations_pop_2):\n",
    "    y2.append(slope*x2_0[i] + intercept + epsilon2[i]) # change here to add residual noise.\n",
    "\n",
    "y = np.concatenate([y1, y2], axis=0)\n",
    "y"
   ]
  },
  {
   "cell_type": "code",
   "execution_count": null,
   "metadata": {},
   "outputs": [
    {
     "name": "stdout",
     "output_type": "stream",
     "text": [
      "value of s: [[0.]]\n",
      "value of t: [[0.00308173]]\n"
     ]
    }
   ],
   "source": [
    "Lambda = 1e2\n",
    "xj = np.array([1]).reshape(-1, 1)\n",
    "yj = np.array([4]).reshape(-1, 1)\n",
    "v = np.array([1]).reshape(-1, 1)\n",
    "e = np.array([1]).reshape(-1, 1)\n",
    "xi = np.array([Lambda]).reshape(-1, 1)\n",
    "yi = np.array([Lambda]).reshape(-1, 1)\n",
    "Ainv = np.linalg.inv(x2.T @ x2)\n",
    "Bi = np.dot(y2, x2).reshape(-1, 1)\n",
    "\n",
    "s = v.T @ Ainv @ v * e.T @ Ainv @ xj - e.T @ Ainv @ v @ v.T @ Ainv @ xj\n",
    "print(f'value of s: {s}')\n",
    "t = yj * v.T @ Ainv @ v - v.T @ Ainv @ xj - Bi.T @ Ainv @ xj * v.T @ Ainv @ v + Bi.T @ Ainv @ v * v.T @ Ainv @ xj\n",
    "print(f'value of t: {t}')"
   ]
  },
  {
   "cell_type": "markdown",
   "metadata": {},
   "source": [
    "### Checking each term in Prop D.2: Influence Function"
   ]
  },
  {
   "cell_type": "code",
   "execution_count": 196,
   "metadata": {},
   "outputs": [],
   "source": [
    "Lambda = 1e6\n",
    "xj = np.array([1, 2.697]).reshape(-1, 1)\n",
    "yj = -4.854\n",
    "xi = np.array([1, Lambda]).reshape(-1, 1)\n",
    "v = np.array([1/Lambda, 1]).reshape(-1, 1)\n",
    "e = np.array([0, 1]).reshape(-1, 1)\n",
    "Ainv = np.linalg.inv(x2.T @ x2)\n",
    "Bi = np.dot(y2, x2)"
   ]
  },
  {
   "cell_type": "code",
   "execution_count": 197,
   "metadata": {},
   "outputs": [
    {
     "data": {
      "text/plain": [
       "array([[ 1001.        ,    53.53520284],\n",
       "       [   53.53520284, 10973.47983971]])"
      ]
     },
     "execution_count": 197,
     "metadata": {},
     "output_type": "execute_result"
    }
   ],
   "source": [
    "x.T @ x"
   ]
  },
  {
   "cell_type": "code",
   "execution_count": 198,
   "metadata": {},
   "outputs": [
    {
     "data": {
      "text/plain": [
       "array([[ 1001.        ,    53.53520284],\n",
       "       [   53.53520284, 10973.47983971]])"
      ]
     },
     "execution_count": 198,
     "metadata": {},
     "output_type": "execute_result"
    }
   ],
   "source": [
    "x2.T @ x2 + x1.T @ x1"
   ]
  },
  {
   "cell_type": "code",
   "execution_count": 199,
   "metadata": {},
   "outputs": [
    {
     "name": "stdout",
     "output_type": "stream",
     "text": [
      "[[0.00024096]]\n",
      "[[2.74346454e-06]]\n"
     ]
    }
   ],
   "source": [
    "# empirically correct.\n",
    "print(e.T @ np.linalg.inv(x.T @ x) @ xj)\n",
    "\n",
    "# end of derivation.\n",
    "print(Lambda * e.T @ Ainv @ xj / (1 + Lambda**2 * v.T @ Ainv @ v))"
   ]
  },
  {
   "cell_type": "markdown",
   "metadata": {},
   "source": [
    "### Checking the Rate of the Residual Term."
   ]
  },
  {
   "cell_type": "code",
   "execution_count": 209,
   "metadata": {},
   "outputs": [
    {
     "data": {
      "text/plain": [
       "(2, 1)"
      ]
     },
     "execution_count": 209,
     "metadata": {},
     "output_type": "execute_result"
    }
   ],
   "source": [
    "x2tx2inv = np.linalg.inv(x2.T @ x2)\n",
    "v = np.array([[0, 1]])\n",
    "v = v.T\n",
    "v.shape"
   ]
  },
  {
   "cell_type": "code",
   "execution_count": 210,
   "metadata": {},
   "outputs": [
    {
     "data": {
      "text/plain": [
       "(1, 2)"
      ]
     },
     "execution_count": 210,
     "metadata": {},
     "output_type": "execute_result"
    }
   ],
   "source": [
    "et = np.array([[0, 1]])\n",
    "et.shape"
   ]
  },
  {
   "cell_type": "code",
   "execution_count": 211,
   "metadata": {},
   "outputs": [
    {
     "data": {
      "text/plain": [
       "(2, 2)"
      ]
     },
     "execution_count": 211,
     "metadata": {},
     "output_type": "execute_result"
    }
   ],
   "source": [
    "xtxinv = np.linalg.inv(x.T @ x)\n",
    "xtxinv.shape"
   ]
  },
  {
   "cell_type": "markdown",
   "metadata": {},
   "source": [
    "## Additive and Greedy algorithms.\n"
   ]
  },
  {
   "cell_type": "markdown",
   "metadata": {},
   "source": [
    "#### Additive Algorithms."
   ]
  },
  {
   "cell_type": "code",
   "execution_count": 16,
   "metadata": {},
   "outputs": [
    {
     "data": {
      "text/html": [
       "<div>\n",
       "<style scoped>\n",
       "    .dataframe tbody tr th:only-of-type {\n",
       "        vertical-align: middle;\n",
       "    }\n",
       "\n",
       "    .dataframe tbody tr th {\n",
       "        vertical-align: top;\n",
       "    }\n",
       "\n",
       "    .dataframe thead th {\n",
       "        text-align: right;\n",
       "    }\n",
       "</style>\n",
       "<table border=\"1\" class=\"dataframe\">\n",
       "  <thead>\n",
       "    <tr style=\"text-align: right;\">\n",
       "      <th></th>\n",
       "      <th>x</th>\n",
       "      <th>y</th>\n",
       "      <th>residual</th>\n",
       "      <th>leverage</th>\n",
       "      <th>IF</th>\n",
       "      <th>1Exact</th>\n",
       "      <th>sorted_IF_indices</th>\n",
       "      <th>sorted_1Exact_indices</th>\n",
       "      <th>sorted_IF_scores</th>\n",
       "      <th>sorted_1Exact_scores</th>\n",
       "    </tr>\n",
       "  </thead>\n",
       "  <tbody>\n",
       "    <tr>\n",
       "      <th>0</th>\n",
       "      <td>1.0</td>\n",
       "      <td>1000000.000000</td>\n",
       "      <td>0.001975</td>\n",
       "      <td>1.000</td>\n",
       "      <td>-9.175429e-11</td>\n",
       "      <td>-0.094464</td>\n",
       "      <td>271</td>\n",
       "      <td>0</td>\n",
       "      <td>-0.006846</td>\n",
       "      <td>-0.094464</td>\n",
       "    </tr>\n",
       "    <tr>\n",
       "      <th>1</th>\n",
       "      <td>1.0</td>\n",
       "      <td>0.492317</td>\n",
       "      <td>-0.012300</td>\n",
       "      <td>0.001</td>\n",
       "      <td>1.230010e-05</td>\n",
       "      <td>0.000012</td>\n",
       "      <td>589</td>\n",
       "      <td>271</td>\n",
       "      <td>-0.006546</td>\n",
       "      <td>-0.006853</td>\n",
       "    </tr>\n",
       "    <tr>\n",
       "      <th>2</th>\n",
       "      <td>1.0</td>\n",
       "      <td>-1.401053</td>\n",
       "      <td>-2.484250</td>\n",
       "      <td>0.001</td>\n",
       "      <td>2.484248e-03</td>\n",
       "      <td>0.002487</td>\n",
       "      <td>427</td>\n",
       "      <td>589</td>\n",
       "      <td>-0.006353</td>\n",
       "      <td>-0.006552</td>\n",
       "    </tr>\n",
       "    <tr>\n",
       "      <th>3</th>\n",
       "      <td>1.0</td>\n",
       "      <td>-2.136179</td>\n",
       "      <td>-4.481532</td>\n",
       "      <td>0.001</td>\n",
       "      <td>4.481521e-03</td>\n",
       "      <td>0.004486</td>\n",
       "      <td>735</td>\n",
       "      <td>427</td>\n",
       "      <td>-0.006220</td>\n",
       "      <td>-0.006360</td>\n",
       "    </tr>\n",
       "    <tr>\n",
       "      <th>4</th>\n",
       "      <td>1.0</td>\n",
       "      <td>-1.639505</td>\n",
       "      <td>-3.611522</td>\n",
       "      <td>0.001</td>\n",
       "      <td>3.611515e-03</td>\n",
       "      <td>0.003615</td>\n",
       "      <td>20</td>\n",
       "      <td>735</td>\n",
       "      <td>-0.006017</td>\n",
       "      <td>-0.006226</td>\n",
       "    </tr>\n",
       "  </tbody>\n",
       "</table>\n",
       "</div>"
      ],
      "text/plain": [
       "     x               y  residual  leverage            IF    1Exact  \\\n",
       "0  1.0  1000000.000000  0.001975     1.000 -9.175429e-11 -0.094464   \n",
       "1  1.0        0.492317 -0.012300     0.001  1.230010e-05  0.000012   \n",
       "2  1.0       -1.401053 -2.484250     0.001  2.484248e-03  0.002487   \n",
       "3  1.0       -2.136179 -4.481532     0.001  4.481521e-03  0.004486   \n",
       "4  1.0       -1.639505 -3.611522     0.001  3.611515e-03  0.003615   \n",
       "\n",
       "   sorted_IF_indices  sorted_1Exact_indices  sorted_IF_scores  \\\n",
       "0                271                      0         -0.006846   \n",
       "1                589                    271         -0.006546   \n",
       "2                427                    589         -0.006353   \n",
       "3                735                    427         -0.006220   \n",
       "4                 20                    735         -0.006017   \n",
       "\n",
       "   sorted_1Exact_scores  \n",
       "0             -0.094464  \n",
       "1             -0.006853  \n",
       "2             -0.006552  \n",
       "3             -0.006360  \n",
       "4             -0.006226  "
      ]
     },
     "execution_count": 16,
     "metadata": {},
     "output_type": "execute_result"
    }
   ],
   "source": [
    "outlier_df = postprocessing.compute_scores(x, y, lr, True)\n",
    "outlier_df.head(5)"
   ]
  },
  {
   "cell_type": "markdown",
   "metadata": {},
   "source": [
    "if we consider the 1-outlier setting with no intercept, and (x,y) = (1e10, 1e10), then we find that for (x1, y1), the residual is zero while the leverage is 1e0, and for (x2, y2), the residual ranges from 1e-2 to 1 and the leverage ranges from 1e-21 to 1e-20. thus, the influence score for (x2, y2) is smaller."
   ]
  },
  {
   "cell_type": "markdown",
   "metadata": {},
   "source": [
    "- at x = y = 1e3 AMIP fails in type 1 but not type 2 (correct ordering).\n",
    "- at x = y = 1e6 AMIP fails in type 1 and type 2 (incorrect ordering)."
   ]
  },
  {
   "cell_type": "code",
   "execution_count": 18,
   "metadata": {},
   "outputs": [
    {
     "name": "stdout",
     "output_type": "stream",
     "text": [
      "The AMIP approximation of the refit is 0.9932.\n",
      "The Add-1Exact for the change induced by dropping the worst-case subset of size at most 1 is 0.9055.\n",
      "The true change induced by dropping the worst-case subset of size at most 1 is -1.033.\n"
     ]
    }
   ],
   "source": [
    "print(f'The AMIP approximation of the refit is {round(lr.beta[1] + sum(outlier_df[\"sorted_IF_scores\"][:1]), 4)}.')\n",
    "print(f'The Add-1Exact for the change induced by dropping the worst-case subset of size at most 1 is {round(lr.beta[1] + sum(outlier_df[\"sorted_1Exact_scores\"][:1]), 4)}.')\n",
    "print(f'The true change induced by dropping the worst-case subset of size at most 1 is {round((modified_lr.beta[1]), 4)}.')"
   ]
  },
  {
   "cell_type": "code",
   "execution_count": 14,
   "metadata": {},
   "outputs": [
    {
     "data": {
      "image/png": "[encoded data removed]",
      "text/plain": [
       "<Figure size 900x700 with 1 Axes>"
      ]
     },
     "metadata": {},
     "output_type": "display_data"
    }
   ],
   "source": [
    "plt.figure(figsize=(9, 7))\n",
    "\n",
    "plt.scatter(outlier_df['leverage'][:1], outlier_df['residual'][:1], marker='o', color='black', label='Pop. A', s=56)\n",
    "plt.scatter(outlier_df['leverage'][1:], outlier_df['residual'][1:], marker='x', color='r', label='Pop. B', s=56)\n",
    "\n",
    "plt.xlabel('Leverage', fontsize=26) \n",
    "plt.ylabel('Residual', fontsize=26)\n",
    "\n",
    "plt.xticks(fontsize=22) \n",
    "plt.yticks(fontsize=22)\n",
    "\n",
    "plt.legend(fontsize=22)\n",
    "# plt.savefig('one_outlier_levresid.pdf', bbox_inches='tight')\n",
    "plt.show()"
   ]
  },
  {
   "cell_type": "markdown",
   "metadata": {},
   "source": [
    "#### Greedy Algorithms.\n",
    "\n",
    "Results can be read from the additive approximations for the setting of removing one data point."
   ]
  },
  {
   "cell_type": "markdown",
   "metadata": {},
   "source": [
    "## Code for Creating the Table and Leverage Plot in Appendix."
   ]
  },
  {
   "cell_type": "code",
   "execution_count": 62,
   "metadata": {},
   "outputs": [],
   "source": [
    "### Helpers.\n",
    "def plot_regression(x, y, x1, y1, x2, y2):\n",
    "    ## X vs Y\n",
    "    plt.scatter(x1[0], y1, marker='o', color='black', label='Pop. A', s=56)\n",
    "    plt.scatter(x2[0], y2, marker='x', color='r', label='Pop. B', s=56)\n",
    "    # plt.title('One-dimensional Example')\n",
    "    \n",
    "    plt.xlabel('x', fontsize=22)  # Larger font for x-axis label\n",
    "    plt.ylabel('y', fontsize=22)  # Larger font for y-axis label\n",
    "    \n",
    "    # Set the size of tick marks\n",
    "    plt.xticks(fontsize=12)  # Larger ticks for x-axis\n",
    "    plt.yticks(fontsize=12)  # Larger ticks for y-axis\n",
    "    \n",
    "    plt.legend(fontsize=22)\n",
    "\n",
    "    plt.show()\n",
    "\n",
    "    x = x.T\n",
    "    lr = LinearRegression(x=x.T, y=y)\n",
    "    lr.fit()\n",
    "    print(\n",
    "        f\"Beta with full dataset: {lr.beta[0]}\"\n",
    "    )\n",
    "\n",
    "    # Dropping just x1 should change the analysis (based on data generating process)\n",
    "    modified_lr = LinearRegression(x=x2, y=y2) # Drop Pop_1 data\n",
    "    modified_lr.fit()\n",
    "    print(\n",
    "        f\"Beta with subset dropped: {modified_lr.beta[0]}\"\n",
    "    )\n",
    "    \n",
    "    return lr\n",
    "\n",
    "def make_df(lr):\n",
    "    # III. Compute influence scores and Newton scores for first coefficient.\n",
    "    scores = -lr.influence_scores()[0] # after adding an intercept term, take the scores of coefficient 1.\n",
    "    newton_scores = -lr.one_step_newton()[0]\n",
    "\n",
    "    # sort indices in ascending order (influence scores are negative, so the largest magnitude scores appear first.)\n",
    "    inds = np.argsort(scores)\n",
    "    # print(\"inds\", inds[:10])\n",
    "    original_inds = inds # original_inds\n",
    "\n",
    "    newton_inds = np.argsort(newton_scores)\n",
    "    # print(\"newton inds\", newton_inds[:10])\n",
    "    original_newton_inds = newton_inds \n",
    "\n",
    "    # sort scores.\n",
    "    sorted_scores = scores[inds]\n",
    "    # print(\"sorted_scores\", sorted(scores)[:10])\n",
    "    original_sorted_scores = sorted_scores\n",
    "\n",
    "    sorted_newton_scores = newton_scores[inds]\n",
    "    # print(\"sorted_newton_scores\", sorted_newton_scores[:10])\n",
    "    original_sorted_newton_scores = sorted_newton_scores\n",
    "    \n",
    "    # influential point\n",
    "    outlier_x = np.squeeze(x1[0][0])\n",
    "    outlier_y = np.squeeze(y1[0][0])\n",
    "    print(f\"outlier_x: {outlier_x}\")\n",
    "    print(f\"outlier_y: {outlier_y}\")\n",
    "    # residuals\n",
    "    residuals = lr.residual()\n",
    "    # print(f\"outlier_residual: {round(residuals[0], 4)}\")\n",
    "    # leverages\n",
    "    leverages = lr.leverage_scores()\n",
    "    # print(f\"outlier_leverage: {round(leverages[0], 4)}\")\n",
    "    # schmeverage e1\n",
    "    shmeverage_e1 = lr.schmeverage_scores([(1,)])\n",
    "    # print(f'schmeverage_e1: {round(shmeverage_e1[0], 4)}')\n",
    "    # Compute influence functions for first coefficient\n",
    "    scores = -lr.influence_scores()[0] # effect of removing a data point on beta1.\n",
    "    # print(\"outlier influence score:\", round(scores[0], 4))\n",
    "    leverage_correction = 1 / (1 - leverages)\n",
    "\n",
    "\n",
    "    # create a df with residuals, leverages, and coordinates.\n",
    "    orig_df = pd.DataFrame({'x': x.flatten(), 'y':y.flatten(),\n",
    "                            'residual': residuals, 'schmeverage': shmeverage_e1,\n",
    "                            'leverage': leverages, 'leverage_correction': leverage_correction,\n",
    "                            'influence': scores, 'newton': newton_scores})\n",
    "    \n",
    "    return orig_df"
   ]
  }
 ],
 "metadata": {
  "kernelspec": {
   "display_name": "base",
   "language": "python",
   "name": "python3"
  },
  "language_info": {
   "codemirror_mode": {
    "name": "ipython",
    "version": 3
   },
   "file_extension": ".py",
   "mimetype": "text/x-python",
   "name": "python",
   "nbconvert_exporter": "python",
   "pygments_lexer": "ipython3",
   "version": "3.10.12"
  }
 },
 "nbformat": 4,
 "nbformat_minor": 4
}
