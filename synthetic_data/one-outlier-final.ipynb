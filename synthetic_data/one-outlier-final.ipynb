{
 "cells": [
  {
   "cell_type": "markdown",
   "metadata": {},
   "source": [
    "# One Outlier (Section 4.1)\n",
    "\n",
    "This file contains an experiment identifying a single influential point that can cause a sign flip, which AMIP fails to detect."
   ]
  },
  {
   "cell_type": "code",
   "execution_count": 1,
   "metadata": {},
   "outputs": [],
   "source": [
    "import numpy as np\n",
    "import pandas as pd\n",
    "import seaborn as sns\n",
    "import matplotlib.pyplot as plt\n",
    "import linear_regression\n",
    "from linear_regression import LinearRegression\n",
    "import algorithms"
   ]
  },
  {
   "cell_type": "markdown",
   "metadata": {},
   "source": [
    "## Data Generation with intercept (i.e., an all-1's column)."
   ]
  },
  {
   "cell_type": "code",
   "execution_count": 4,
   "metadata": {},
   "outputs": [],
   "source": [
    "np.random.seed(0)\n",
    "\n",
    "# Generate Data\n",
    "num_observations_pop_1 = 1\n",
    "num_observations_pop_2 = 1000\n",
    "\n",
    "# Generate the X values.\n",
    "mean_pop_1 = np.array([1e6])\n",
    "mean_pop_2 = np.array([0])\n",
    "vars_pop_1 = np.array([[0]])\n",
    "vars_pop_2 = [[1]]\n",
    "x1 = np.random.multivariate_normal(mean_pop_1, vars_pop_1, num_observations_pop_1)\n",
    "x2 = np.random.multivariate_normal(mean_pop_2, vars_pop_2, num_observations_pop_2)\n",
    "\n",
    "x = np.append(x1, x2, axis=0) \n",
    "x1_0 = [pt[0] for pt in x1]\n",
    "x2_0 = [pt[0] for pt in x2]\n",
    "\n",
    "# Add an intercept term.\n",
    "df = pd.DataFrame(x)\n",
    "df.insert(0, 'Ones', 1)\n",
    "arr = df.values\n",
    "x = arr\n",
    "x1 = x[:1]\n",
    "x2 = x[1:]\n",
    "\n",
    "# Generating the Y values.\n",
    "y1 = [1e6]\n",
    "\n",
    "epsilon2 = np.random.normal(0, 1, num_observations_pop_2) # eps is the variance of the noise distribution.\n",
    "slope = -1\n",
    "intercept = 0\n",
    "y2 = []\n",
    "for i in range(num_observations_pop_2):\n",
    "    y2.append(slope*x2_0[i] + intercept + epsilon2[i]) # change here to add residual noise.\n",
    "\n",
    "y = np.concatenate([y1, y2], axis=0)\n",
    "# y"
   ]
  },
  {
   "cell_type": "markdown",
   "metadata": {},
   "source": [
    "## Data Generation without intercept (i.e., an all-1's column)."
   ]
  },
  {
   "cell_type": "code",
   "execution_count": 2,
   "metadata": {},
   "outputs": [
    {
     "name": "stdout",
     "output_type": "stream",
     "text": [
      "[[100.        ]\n",
      " [  0.40015721]\n",
      " [  0.97873798]\n",
      " ...\n",
      " [ -1.14761094]\n",
      " [ -0.35811408]\n",
      " [  0.55596268]]\n"
     ]
    },
    {
     "data": {
      "text/plain": [
       "array([ 1.00000000e+10,  4.92316679e-01, -1.40105281e+00, ...,\n",
       "        5.70952564e-03, -9.52856295e-01, -2.08888373e+00])"
      ]
     },
     "execution_count": 2,
     "metadata": {},
     "output_type": "execute_result"
    }
   ],
   "source": [
    "np.random.seed(0)\n",
    "\n",
    "# Generate Data\n",
    "num_observations_pop_1 = 1\n",
    "num_observations_pop_2 = 1000\n",
    "\n",
    "# Generate the X values.\n",
    "mean_pop_1 = np.array([1e2])\n",
    "mean_pop_2 = np.array([0])\n",
    "vars_pop_1 = np.array([[0]])\n",
    "vars_pop_2 = [[1]]\n",
    "x1 = np.random.multivariate_normal(mean_pop_1, vars_pop_1, num_observations_pop_1)\n",
    "x2 = np.random.multivariate_normal(mean_pop_2, vars_pop_2, num_observations_pop_2)\n",
    "\n",
    "x = np.append(x1, x2, axis=0)\n",
    "print(x)\n",
    "x1 = x[:1]\n",
    "x2 = x[1:]\n",
    "\n",
    "# Add an intercept term.\n",
    "# df = pd.DataFrame(x)\n",
    "# df.insert(0, 'Ones', 1)\n",
    "# arr = df.values\n",
    "# x = arr\n",
    "\n",
    "# Flatten x for ease of indexing.\n",
    "x1_0 = x1.flatten()\n",
    "x2_0 = x2.flatten()\n",
    "\n",
    "# Generating the Y values.\n",
    "y1 = [1e10]\n",
    "\n",
    "epsilon2 = np.random.normal(0, 1, num_observations_pop_2) # eps is the variance of the noise distribution.\n",
    "slope = -1\n",
    "intercept = 0\n",
    "y2 = []\n",
    "for i in range(num_observations_pop_2):\n",
    "    y2.append(slope*x2_0[i] + intercept + epsilon2[i]) # change here to add residual noise.\n",
    "\n",
    "y = np.concatenate([y1, y2], axis=0)\n",
    "y"
   ]
  },
  {
   "cell_type": "markdown",
   "metadata": {},
   "source": [
    "## Model Fitting\n",
    "\n",
    "Fit the data using OLS regression."
   ]
  },
  {
   "cell_type": "code",
   "execution_count": 5,
   "metadata": {},
   "outputs": [
    {
     "name": "stdout",
     "output_type": "stream",
     "text": [
      "Estimated beta1 with full dataset: 0.9999998935657151\n",
      "Estimated beta1 pop A: 0.999999999999\n",
      "Estimated beta1 pop B: -1.0329686114061063\n"
     ]
    }
   ],
   "source": [
    "lr = LinearRegression(x=x.T, y=y)\n",
    "lr.fit()\n",
    "modified_lr_a = LinearRegression(x=x1.T, y=y1)\n",
    "modified_lr_a.fit()\n",
    "modified_lr = LinearRegression(x=x2.T, y=y2)\n",
    "modified_lr.fit()\n",
    "print(\n",
    "    f\"Estimated beta1 with full dataset: {lr.beta[1]}\\n\" # with intercept (lr.beta[1]), without intercept (lr.beta[0])\n",
    "    f\"Estimated beta1 pop A: {modified_lr_a.beta[1]}\\n\"\n",
    "    f\"Estimated beta1 pop B: {modified_lr.beta[1]}\"\n",
    ")"
   ]
  },
  {
   "cell_type": "code",
   "execution_count": 6,
   "metadata": {},
   "outputs": [
    {
     "name": "stdout",
     "output_type": "stream",
     "text": [
      "Estimated beta1 with full dataset: 0.10445962061901884\n",
      "Estimated beta1 pop A: 9.999999999177334e-07\n",
      "Estimated beta1 pop B: 0.009996176741509325\n"
     ]
    }
   ],
   "source": [
    "lr = LinearRegression(x=x.T, y=y)\n",
    "lr.fit()\n",
    "modified_lr_a = LinearRegression(x=x1.T, y=y1)\n",
    "modified_lr_a.fit()\n",
    "modified_lr = LinearRegression(x=x2.T, y=y2)\n",
    "modified_lr.fit()\n",
    "print(\n",
    "    f\"Estimated beta1 with full dataset: {lr.beta[0]}\\n\" # with intercept (lr.beta[1]), without intercept (lr.beta[0])\n",
    "    f\"Estimated beta1 pop A: {modified_lr_a.beta[0]}\\n\"\n",
    "    f\"Estimated beta1 pop B: {modified_lr.beta[0]}\"\n",
    ")"
   ]
  },
  {
   "cell_type": "code",
   "execution_count": null,
   "metadata": {},
   "outputs": [
    {
     "data": {
      "image/png": "[encoded data removed]",
      "text/plain": [
       "<Figure size 900x700 with 2 Axes>"
      ]
     },
     "metadata": {},
     "output_type": "display_data"
    }
   ],
   "source": [
    "from matplotlib.ticker import ScalarFormatter\n",
    "from mpl_toolkits.axes_grid1.inset_locator import inset_axes\n",
    "\n",
    "plt.figure(figsize=(9, 7))\n",
    "\n",
    "x_values = np.linspace(-1.5e6, 1.5e6, 100)\n",
    "y_values_full = lr.beta[1] * x_values\n",
    "y_value_red_crosses = modified_lr.beta[1] * x_values\n",
    "\n",
    "plt.plot(x_values, y_values_full, color='black', linestyle='--') \n",
    "plt.plot(x_values, y_value_red_crosses, color='black')\n",
    "plt.scatter(x1_0, y1, marker='o', color='black', label='Pop. A', s=56)\n",
    "plt.scatter(x2_0, y2, marker='x', color='r', label='Pop. B', s=56)\n",
    "\n",
    "plt.ylim(-1.5e6, 1.5e6)\n",
    "\n",
    "plt.xlabel('x', fontsize=26) \n",
    "plt.ylabel('y', fontsize=26)\n",
    "\n",
    "plt.xticks(fontsize=21)\n",
    "plt.yticks(fontsize=21)\n",
    "plt.gca().yaxis.set_major_formatter(ScalarFormatter(useMathText=True))\n",
    "plt.gca().yaxis.get_offset_text().set_fontsize(26)\n",
    "plt.gca().xaxis.set_major_formatter(ScalarFormatter(useMathText=True))\n",
    "plt.gca().xaxis.get_offset_text().set_fontsize(26)\n",
    "\n",
    " # plt.legend(fontsize=22) # 16\n",
    "\n",
    "# Create inset of the red crosses.\n",
    "x_values_inset = np.linspace(-1.5e6, 1.5e6, 100)\n",
    "y_values_full_inset = lr.beta[1] * x_values_inset\n",
    "y_value_red_crosses_inset = modified_lr.beta[1] * x_values_inset\n",
    "\n",
    "ax_inset = inset_axes(plt.gca(), width=\"30%\", height=\"30%\", loc='upper left', bbox_to_anchor=(0.113, -0.040, 1.0, 1), bbox_transform=plt.gca().transAxes)\n",
    "ax_inset.plot(x_values_inset, y_values_full_inset, color='black') \n",
    "ax_inset.plot(x_values_inset, y_value_red_crosses_inset, color='black')\n",
    "ax_inset.scatter(x1_0, y1, marker='o', color='black', s=56)\n",
    "ax_inset.scatter(x2_0, y2, marker='x', color='r', s=56)\n",
    "ax_inset.set_xlim(-1.5e1, 1.5e1)  \n",
    "ax_inset.set_ylim(-1.5e1, 1.5e1)\n",
    "ax_inset.tick_params(axis='both', which='major', labelsize=22) # 12\n",
    "ax_inset.tick_params(axis='both', which='minor', labelsize=22)\n",
    "# set ticks to scientific notation\n",
    "ax_inset.yaxis.get_offset_text().set_fontsize(12)\n",
    "ax_inset.xaxis.get_offset_text().set_fontsize(12)\n",
    "\n",
    "# plt.savefig('one_outlier_example_10.pdf')\n",
    "plt.show()"
   ]
  },
  {
   "cell_type": "markdown",
   "metadata": {},
   "source": [
    "## Net Approx. Algorithm"
   ]
  },
  {
   "cell_type": "code",
   "execution_count": 5,
   "metadata": {},
   "outputs": [],
   "source": [
    "import numpy as np\n",
    "import gurobipy as gp\n",
    "from gurobipy import GRB\n",
    "import scipy.linalg\n",
    "import itertools"
   ]
  },
  {
   "cell_type": "code",
   "execution_count": 6,
   "metadata": {},
   "outputs": [],
   "source": [
    "'''\n",
    "For fixed lambda, compute maximum weight of any weight vector w\n",
    "that has lambda in OLS(X,y,w)\n",
    "'''\n",
    "def solve_fixed_lambda(X,XR,lam):\n",
    "    n = X.shape[0]\n",
    "    d = X.shape[1]\n",
    "    c = -np.ones((n))\n",
    "    A_eq = np.zeros((d,n))\n",
    "    b_eq = np.zeros((d))\n",
    "    for i in range(d):\n",
    "        A_eq[i] = (X.T)[i] * (XR@lam)\n",
    "    m = gp.Model(\"net-model\")\n",
    "    m.Params.OutputFlag = 0\n",
    "    w = m.addMVar(shape=n,vtype=GRB.CONTINUOUS,name=\"w\",lb=0,ub=1)\n",
    "    m.setObjective(c @ w, GRB.MINIMIZE)\n",
    "    m.addConstr(A_eq @ w == b_eq)\n",
    "    m.optimize()\n",
    "    return w.X\n",
    "\n",
    "'''\n",
    "NET UPPER BOUND\n",
    "\n",
    "Input:\n",
    "- X: n x d (covariate matrix)\n",
    "- y: n (response vector)\n",
    "- trials: integer\n",
    "\n",
    "Output:\n",
    "- Net upper bound on Stability(X,y)\n",
    "'''\n",
    "def net_algorithm(X,y,trials):\n",
    "    n = X.shape[0]\n",
    "    d = X.shape[1]\n",
    "    XR = np.zeros((d,n))\n",
    "    for i in range(d-1):\n",
    "        XR[i] = (X.T)[i+1]\n",
    "    XR[d-1] = y\n",
    "    XR = XR.T\n",
    "    assert(np.linalg.matrix_rank(XR)==d)\n",
    "    U,s,Vh = scipy.linalg.svd(XR, full_matrices=False)\n",
    "    A = Vh.T @ np.diag(1.0/s) @ np.eye(d)\n",
    "    wstar = np.zeros((n))\n",
    "    for i in range(trials):\n",
    "        v = np.random.multivariate_normal(np.zeros((d)),np.eye(d))\n",
    "        v = v / np.linalg.norm(v)\n",
    "        lam = A@v\n",
    "        w = solve_fixed_lambda(X,XR,lam)\n",
    "        if sum(w) > sum(wstar):\n",
    "            wstar = w\n",
    "    return n-sum(wstar), wstar"
   ]
  },
  {
   "cell_type": "code",
   "execution_count": 7,
   "metadata": {},
   "outputs": [
    {
     "name": "stdout",
     "output_type": "stream",
     "text": [
      "Set parameter Username\n",
      "Set parameter LicenseID to value 2617160\n",
      "Academic license - for non-commercial use only - expires 2026-02-01\n"
     ]
    }
   ],
   "source": [
    "n_sumwstar, wstar = net_algorithm(x[:,1:],y,1000)"
   ]
  },
  {
   "cell_type": "code",
   "execution_count": 8,
   "metadata": {},
   "outputs": [
    {
     "name": "stdout",
     "output_type": "stream",
     "text": [
      "Number of points needed to be removed to zero-out the OLS solution: 0.9999999989939852\n"
     ]
    },
    {
     "data": {
      "text/plain": [
       "array([0])"
      ]
     },
     "execution_count": 8,
     "metadata": {},
     "output_type": "execute_result"
    }
   ],
   "source": [
    "print(f\"Number of points needed to be removed to zero-out the OLS solution: {n_sumwstar}\")\n",
    "# find the indice of wstar that are non-one.\n",
    "mis_inds = np.where(wstar != 1)[0]\n",
    "mis_inds"
   ]
  },
  {
   "cell_type": "code",
   "execution_count": 102,
   "metadata": {},
   "outputs": [
    {
     "name": "stdout",
     "output_type": "stream",
     "text": [
      "Set parameter Username\n",
      "Set parameter LicenseID to value 2617160\n",
      "Academic license - for non-commercial use only - expires 2026-02-01\n"
     ]
    }
   ],
   "source": [
    "trials = 1000 # MR23: \"trials should be chosen as large as possible subject to computational constraints.\"\n",
    "n_sumwstar, wstar = net_algorithm(x,y,trials)"
   ]
  },
  {
   "cell_type": "code",
   "execution_count": 103,
   "metadata": {},
   "outputs": [
    {
     "name": "stdout",
     "output_type": "stream",
     "text": [
      "Number of points needed to be removed to zero-out the OLS solution: 19.92006216696666\n"
     ]
    },
    {
     "data": {
      "text/plain": [
       "array([  0,  20, 271, 351, 382, 422, 427, 470, 485, 547, 589, 611, 671,\n",
       "       685, 692, 735, 748, 751, 850, 856])"
      ]
     },
     "execution_count": 103,
     "metadata": {},
     "output_type": "execute_result"
    }
   ],
   "source": [
    "print(f\"Number of points needed to be removed to zero-out the OLS solution: {n_sumwstar}\")\n",
    "# find the indice of wstar that are non-one.\n",
    "mis_inds = np.where(wstar != 1)[0]\n",
    "mis_inds"
   ]
  },
  {
   "cell_type": "markdown",
   "metadata": {},
   "source": [
    "## Gurobi [FH23]"
   ]
  },
  {
   "cell_type": "code",
   "execution_count": 7,
   "metadata": {},
   "outputs": [
    {
     "name": "stdout",
     "output_type": "stream",
     "text": [
      "Set parameter Username\n",
      "Set parameter LicenseID to value 2617160\n",
      "Academic license - for non-commercial use only - expires 2026-02-01\n",
      "set residual constraints\n",
      "Set parameter NonConvex to value 2\n",
      "Set parameter TimeLimit to value 30\n",
      "start solving\n",
      "Gurobi Optimizer version 12.0.1 build v12.0.1rc0 (mac64[arm] - Darwin 21.0.1 21A344)\n",
      "\n",
      "CPU model: Apple M1 Pro\n",
      "Thread count: 10 physical cores, 10 logical processors, using up to 10 threads\n",
      "\n",
      "Non-default parameters:\n",
      "TimeLimit  30\n",
      "NonConvex  2\n",
      "\n",
      "Optimize a model with 2002 rows, 1003 columns and 2002 nonzeros\n",
      "Model fingerprint: 0xc2c7d959\n",
      "Model has 3 quadratic constraints\n",
      "Coefficient statistics:\n",
      "  Matrix range     [1e+00, 1e+00]\n",
      "  QMatrix range    [1e-03, 1e+02]\n",
      "  QLMatrix range   [8e-05, 1e+04]\n",
      "  Objective range  [1e+00, 1e+00]\n",
      "  Bounds range     [0e+00, 0e+00]\n",
      "  RHS range        [1e+00, 1e+00]\n",
      "Presolve removed 2002 rows and 0 columns\n",
      "\n",
      "Continuous model is non-convex -- solving as a MIP\n",
      "\n",
      "Found heuristic solution: objective -0.0000000\n",
      "Presolve removed 2002 rows and 0 columns\n",
      "Presolve time: 0.00s\n",
      "Presolved: 8010 rows, 3006 columns, 22022 nonzeros\n",
      "Presolved model has 2002 bilinear constraint(s)\n",
      "Warning: Model contains variables with very large bounds participating\n",
      "         in product terms.\n",
      "         Presolve was not able to compute smaller bounds for these variables.\n",
      "         Consider bounding these variables or reformulating the model.\n",
      "\n",
      "Variable types: 3006 continuous, 0 integer (0 binary)\n",
      "Found heuristic solution: objective 1000.1003544\n",
      "\n",
      "Root relaxation: objective 1.001000e+03, 3012 iterations, 0.24 seconds (0.98 work units)\n",
      "\n",
      "    Nodes    |    Current Node    |     Objective Bounds      |     Work\n",
      " Expl Unexpl |  Obj  Depth IntInf | Incumbent    BestBd   Gap | It/Node Time\n",
      "\n",
      "     0     0 1001.00000    0 2002 1000.10035 1001.00000  0.09%     -    0s\n",
      "     0     0 1001.00000    0 2002 1000.10035 1001.00000  0.09%     -    0s\n",
      "     0     2 1001.00000    0 2002 1000.10035 1001.00000  0.09%     -    0s\n",
      "H   46    31                    1000.1003561 1001.00000  0.09%  1287    4s\n",
      "    84    31     cutoff    8      1000.10036 1001.00000  0.09%   913    5s\n",
      "   449   175 1000.10054   36    1 1000.10036 1001.00000  0.09%   540   10s\n",
      "   857   277     cutoff   16      1000.10036 1001.00000  0.09%   526   15s\n",
      "  1364   476 1000.10755   28   34 1000.10036 1001.00000  0.09%   483   20s\n",
      "  1860   621 1000.50022   23  533 1000.10036 1001.00000  0.09%   467   25s\n",
      "  2298   693 1000.12576   42    4 1000.10036 1001.00000  0.09%   491   30s\n",
      "\n",
      "Explored 2372 nodes (1145617 simplex iterations) in 30.03 seconds (121.22 work units)\n",
      "Thread count was 10 (of 10 available processors)\n",
      "\n",
      "Solution count 3: 1000.1 1000.1 -0 \n",
      "\n",
      "Time limit reached\n",
      "Best objective 1.000100356062e+03, best bound 1.001000000000e+03, gap 0.0900%\n"
     ]
    }
   ],
   "source": [
    "model_objbound_frac, model_objval_frac, weights_frac, model_frac = algorithms.solve_regression_fractional(x,y, intercept=True,time_limit=30, warm_start=None, verbose=True,\n",
    "                               greater_one_constraint=False, pairs=None)\n",
    "weights_from_fractional_gurobi = np.array([w.X for w in weights_frac])"
   ]
  },
  {
   "cell_type": "code",
   "execution_count": 8,
   "metadata": {},
   "outputs": [
    {
     "name": "stdout",
     "output_type": "stream",
     "text": [
      "Set parameter NonConvex to value 2\n",
      "Set parameter TimeLimit to value 30\n",
      "Gurobi Optimizer version 12.0.1 build v12.0.1rc0 (mac64[arm] - Darwin 21.0.1 21A344)\n",
      "\n",
      "CPU model: Apple M1 Pro\n",
      "Thread count: 10 physical cores, 10 logical processors, using up to 10 threads\n",
      "\n",
      "Non-default parameters:\n",
      "TimeLimit  30\n",
      "NonConvex  2\n",
      "\n",
      "Optimize a model with 1 rows, 1004 columns and 1 nonzeros\n",
      "Model fingerprint: 0x31b79d02\n",
      "Model has 3 quadratic constraints\n",
      "Variable types: 3 continuous, 1001 integer (1001 binary)\n",
      "Coefficient statistics:\n",
      "  Matrix range     [1e+00, 1e+00]\n",
      "  QMatrix range    [2e-06, 1e+04]\n",
      "  QLMatrix range   [8e-05, 1e+04]\n",
      "  Objective range  [1e+00, 1e+00]\n",
      "  Bounds range     [1e+00, 1e+00]\n",
      "  RHS range        [0e+00, 0e+00]\n",
      "\n",
      "User MIP start produced solution with objective 1000 (0.00s)\n",
      "Loaded user MIP start with objective 1000\n",
      "\n",
      "Presolve removed 1 rows and 0 columns\n",
      "Presolve time: 0.00s\n",
      "Presolved: 6008 rows, 10013 columns, 23023 nonzeros\n",
      "Presolved model has 6006 SOS constraint(s)\n",
      "Variable types: 6009 continuous, 4004 integer (4004 binary)\n",
      "\n",
      "Explored 1 nodes (0 simplex iterations) in 0.06 seconds (0.08 work units)\n",
      "Thread count was 10 (of 10 available processors)\n",
      "\n",
      "Solution count 1: 1000 \n",
      "\n",
      "Optimal solution found (tolerance 1.00e-04)\n",
      "Best objective 1.000000000000e+03, best bound 1.000000000000e+03, gap 0.0000%\n"
     ]
    }
   ],
   "source": [
    "model_objbound, model_objval, weights, model = algorithms.solve_regression_integral(x,y, intercept=True,time_limit=30, warm_start=weights_from_fractional_gurobi, verbose=True, #beta_sign=1,\n",
    "                                warm_start_ub=None, pairs = None)\n",
    "integer_weights = np.array([w.X for w in weights])"
   ]
  },
  {
   "cell_type": "code",
   "execution_count": 9,
   "metadata": {},
   "outputs": [
    {
     "data": {
      "text/plain": [
       "array([0])"
      ]
     },
     "execution_count": 9,
     "metadata": {},
     "output_type": "execute_result"
    }
   ],
   "source": [
    "# select the indices of the points with weight 0.\n",
    "indices_to_remove = np.where(integer_weights == 0)[0]\n",
    "indices_to_remove"
   ]
  },
  {
   "cell_type": "markdown",
   "metadata": {},
   "source": [
    "## Gurobi (no warm start)"
   ]
  },
  {
   "cell_type": "code",
   "execution_count": 7,
   "metadata": {},
   "outputs": [
    {
     "name": "stdout",
     "output_type": "stream",
     "text": [
      "Set parameter Username\n",
      "Set parameter LicenseID to value 2617160\n",
      "Academic license - for non-commercial use only - expires 2026-02-01\n",
      "Set parameter NonConvex to value 2\n",
      "Set parameter TimeLimit to value 30\n",
      "Gurobi Optimizer version 12.0.1 build v12.0.1rc0 (mac64[arm] - Darwin 21.0.1 21A344)\n",
      "\n",
      "CPU model: Apple M1 Pro\n",
      "Thread count: 10 physical cores, 10 logical processors, using up to 10 threads\n",
      "\n",
      "Non-default parameters:\n",
      "TimeLimit  30\n",
      "NonConvex  2\n",
      "\n",
      "Optimize a model with 1 rows, 1004 columns and 1 nonzeros\n",
      "Model fingerprint: 0x8bb7c1d4\n",
      "Model has 3 quadratic constraints\n",
      "Variable types: 3 continuous, 1001 integer (1001 binary)\n",
      "Coefficient statistics:\n",
      "  Matrix range     [1e+00, 1e+00]\n",
      "  QMatrix range    [2e-06, 1e+04]\n",
      "  QLMatrix range   [8e-05, 1e+04]\n",
      "  Objective range  [1e+00, 1e+00]\n",
      "  Bounds range     [1e+00, 1e+00]\n",
      "  RHS range        [0e+00, 0e+00]\n",
      "Found heuristic solution: objective -0.0000000\n",
      "Presolve removed 1 rows and 0 columns\n",
      "Presolve time: 0.00s\n",
      "Presolved: 6008 rows, 10013 columns, 23023 nonzeros\n",
      "Presolved model has 6006 SOS constraint(s)\n",
      "Variable types: 6009 continuous, 4004 integer (4004 binary)\n",
      "\n",
      "Root relaxation: objective 1.001000e+03, 1 iterations, 0.00 seconds (0.00 work units)\n",
      "\n",
      "    Nodes    |    Current Node    |     Objective Bounds      |     Work\n",
      " Expl Unexpl |  Obj  Depth IntInf | Incumbent    BestBd   Gap | It/Node Time\n",
      "\n",
      "     0     0 1001.00000    0    2   -0.00000 1001.00000      -     -    0s\n",
      "     0     0 1001.00000    0    2   -0.00000 1001.00000      -     -    0s\n",
      "     0     2 1001.00000    0    2   -0.00000 1001.00000      -     -    0s\n",
      "  2681  2790  996.00000   46  955   -0.00000 1001.00000      -   1.5    5s\n",
      "  8169  8171 1000.00000   15    2   -0.00000 1000.00000      -   1.5   10s\n",
      "H12637 10860                       1.0000000 1000.00000      -   1.5   14s\n",
      "H12758 10653                       2.0000000 1000.00000      -   1.5   14s\n",
      "H12979 10446                       9.0000000 1000.00000      -   1.5   14s\n",
      " 13485 10815  996.00000   70  945    9.00000 1000.00000      -   1.5   15s\n",
      "H14031 10570                     176.0000000 1000.00000   468%   1.5   15s\n",
      "H15106 10996                     342.0000000 1000.00000   192%   1.5   16s\n",
      "H15150 10664                     343.0000000 1000.00000   192%   1.5   16s\n",
      "H16160 11047                     546.0000000 1000.00000  83.2%   1.5   18s\n",
      "H16168 10759                     559.0000000 1000.00000  78.9%   1.5   18s\n",
      " 16944 11641  995.00000  141  874  559.00000 1000.00000  78.9%   1.5   20s\n",
      "H17316 11275                     693.0000000 1000.00000  44.3%   1.5   21s\n",
      "H17323 11016                     695.0000000 1000.00000  43.9%   1.5   21s\n",
      "H17342 10765                     700.0000000 1000.00000  42.9%   1.5   21s\n",
      "H17392 10845                     839.0000000 1000.00000  19.2%   1.5   22s\n",
      "H18113 11007                     902.0000000 1000.00000  10.9%   1.5   23s\n",
      "H18152 10784                     907.0000000 1000.00000  10.3%   1.5   23s\n",
      "H18208 10566                     915.0000000 1000.00000  9.29%   1.5   23s\n",
      " 18769 11327  995.00000  226  789  915.00000 1000.00000  9.29%   1.5   25s\n",
      "H19245 11488                     921.0000000 1000.00000  8.58%   1.5   26s\n",
      "H19484 11488                     922.0000000 1000.00000  8.46%   1.5   26s\n",
      "H20682 12972                     928.0000000 1000.00000  7.76%   1.5   29s\n",
      "H20737 12972                     938.0000000 1000.00000  6.61%   1.5   29s\n",
      " 21139 13137  995.00000  358  657  938.00000 1000.00000  6.61%   1.5   30s\n",
      "\n",
      "Explored 21304 nodes (31903 simplex iterations) in 30.01 seconds (98.73 work units)\n",
      "Thread count was 10 (of 10 available processors)\n",
      "\n",
      "Solution count 10: 938 928 922 ... 695\n",
      "\n",
      "Time limit reached\n",
      "Best objective 9.380000000000e+02, best bound 1.000000000000e+03, gap 6.6098%\n"
     ]
    }
   ],
   "source": [
    "model_objbound, model_objval, weights, model = algorithms.solve_regression_integral(x,y, intercept=True,time_limit=30, warm_start=None, verbose=True, #beta_sign=1,\n",
    "                            warm_start_ub=None, pairs = None)"
   ]
  },
  {
   "cell_type": "code",
   "execution_count": 8,
   "metadata": {},
   "outputs": [],
   "source": [
    "integer_weights = np.array([w.X for w in weights])"
   ]
  },
  {
   "cell_type": "code",
   "execution_count": 9,
   "metadata": {},
   "outputs": [
    {
     "data": {
      "text/plain": [
       "array([  0,   1,   3,  15,  18,  46,  52,  55,  68,  80,  87,  92, 156,\n",
       "       175, 187, 200, 223, 267, 294, 317, 326, 337, 340, 362, 386, 397,\n",
       "       428, 458, 519, 526, 527, 535, 544, 546, 577, 585, 597, 689, 693,\n",
       "       723, 725, 780, 794, 816, 822, 824, 826, 839, 849, 850, 854, 866,\n",
       "       873, 888, 897, 929, 931, 940, 944, 968, 972, 988, 994])"
      ]
     },
     "execution_count": 9,
     "metadata": {},
     "output_type": "execute_result"
    }
   ],
   "source": [
    "# select the indices of the points with weight 0.\n",
    "indices_to_remove = np.where(integer_weights == 0)[0]\n",
    "indices_to_remove"
   ]
  },
  {
   "cell_type": "code",
   "execution_count": 10,
   "metadata": {},
   "outputs": [
    {
     "data": {
      "text/plain": [
       "63"
      ]
     },
     "execution_count": 10,
     "metadata": {},
     "output_type": "execute_result"
    }
   ],
   "source": [
    "len(indices_to_remove)"
   ]
  },
  {
   "cell_type": "markdown",
   "metadata": {},
   "source": [
    "## Checking each term in Prop C.2 (leverage and residual)"
   ]
  },
  {
   "cell_type": "markdown",
   "metadata": {},
   "source": [
    "## Checking s and t."
   ]
  },
  {
   "cell_type": "code",
   "execution_count": null,
   "metadata": {},
   "outputs": [
    {
     "name": "stdout",
     "output_type": "stream",
     "text": [
      "[[ 1.00000000e+10]\n",
      " [ 4.00157208e-01]\n",
      " [ 9.78737984e-01]\n",
      " ...\n",
      " [-1.14761094e+00]\n",
      " [-3.58114075e-01]\n",
      " [ 5.55962680e-01]]\n"
     ]
    },
    {
     "data": {
      "text/plain": [
       "array([ 1.00000000e+10,  4.92316679e-01, -1.40105281e+00, ...,\n",
       "        5.70952564e-03, -9.52856295e-01, -2.08888373e+00])"
      ]
     },
     "execution_count": 126,
     "metadata": {},
     "output_type": "execute_result"
    }
   ],
   "source": [
    "# dataset generation.\n",
    "np.random.seed(0)\n",
    "\n",
    "# Generate Data\n",
    "num_observations_pop_1 = 1\n",
    "num_observations_pop_2 = 1000\n",
    "\n",
    "# Generate the X values.\n",
    "# mean_pop_1 = np.array([1e10, 0, 0])\n",
    "# mean_pop_2 = np.array([0, 0, 0])\n",
    "# vars_pop_1 = np.array([[0, 0, 0], [0, 0, 0], [0, 0, 0]])\n",
    "# vars_pop_2 = np.array([[1, 0, 0], [0, 1, 0], [0, 0, 1]])\n",
    "mean_pop_1 = np.array([1e10])\n",
    "mean_pop_2 = np.array([0])\n",
    "vars_pop_1 = np.array([[0]])\n",
    "vars_pop_2 = np.array([[1]])\n",
    "\n",
    "x1 = np.random.multivariate_normal(mean_pop_1, vars_pop_1, num_observations_pop_1)\n",
    "x2 = np.random.multivariate_normal(mean_pop_2, vars_pop_2, num_observations_pop_2)\n",
    "\n",
    "x = np.append(x1, x2, axis=0)\n",
    "print(x)\n",
    "x1 = x[:1]\n",
    "x2 = x[1:]\n",
    "\n",
    "# Flatten x for ease of indexing.\n",
    "x1_0 = x1.flatten()\n",
    "x2_0 = x2.flatten()\n",
    "\n",
    "# Generating the Y values.\n",
    "y1 = [1e10]\n",
    "\n",
    "epsilon2 = np.random.normal(0, 1, num_observations_pop_2) # eps is the variance of the noise distribution.\n",
    "slope = -1\n",
    "intercept = 0\n",
    "y2 = []\n",
    "for i in range(num_observations_pop_2):\n",
    "    y2.append(slope*x2_0[i] + intercept + epsilon2[i]) # change here to add residual noise.\n",
    "\n",
    "y = np.concatenate([y1, y2], axis=0)\n",
    "y"
   ]
  },
  {
   "cell_type": "code",
   "execution_count": null,
   "metadata": {},
   "outputs": [
    {
     "name": "stdout",
     "output_type": "stream",
     "text": [
      "value of s: [[0.]]\n",
      "value of t: [[0.00308173]]\n"
     ]
    }
   ],
   "source": [
    "Lambda = 1e2\n",
    "xj = np.array([1]).reshape(-1, 1)\n",
    "yj = np.array([4]).reshape(-1, 1)\n",
    "v = np.array([1]).reshape(-1, 1)\n",
    "e = np.array([1]).reshape(-1, 1)\n",
    "xi = np.array([Lambda]).reshape(-1, 1)\n",
    "yi = np.array([Lambda]).reshape(-1, 1)\n",
    "Ainv = np.linalg.inv(x2.T @ x2)\n",
    "Bi = np.dot(y2, x2).reshape(-1, 1)\n",
    "\n",
    "s = v.T @ Ainv @ v * e.T @ Ainv @ xj - e.T @ Ainv @ v @ v.T @ Ainv @ xj\n",
    "print(f'value of s: {s}')\n",
    "t = yj * v.T @ Ainv @ v - v.T @ Ainv @ xj - Bi.T @ Ainv @ xj * v.T @ Ainv @ v + Bi.T @ Ainv @ v * v.T @ Ainv @ xj\n",
    "print(f'value of t: {t}')"
   ]
  },
  {
   "cell_type": "markdown",
   "metadata": {},
   "source": [
    "### Checking each term in Prop D.2: Influence Function"
   ]
  },
  {
   "cell_type": "code",
   "execution_count": 196,
   "metadata": {},
   "outputs": [],
   "source": [
    "Lambda = 1e6\n",
    "xj = np.array([1, 2.697]).reshape(-1, 1)\n",
    "yj = -4.854\n",
    "xi = np.array([1, Lambda]).reshape(-1, 1)\n",
    "v = np.array([1/Lambda, 1]).reshape(-1, 1)\n",
    "e = np.array([0, 1]).reshape(-1, 1)\n",
    "Ainv = np.linalg.inv(x2.T @ x2)\n",
    "Bi = np.dot(y2, x2)"
   ]
  },
  {
   "cell_type": "code",
   "execution_count": 197,
   "metadata": {},
   "outputs": [
    {
     "data": {
      "text/plain": [
       "array([[ 1001.        ,    53.53520284],\n",
       "       [   53.53520284, 10973.47983971]])"
      ]
     },
     "execution_count": 197,
     "metadata": {},
     "output_type": "execute_result"
    }
   ],
   "source": [
    "x.T @ x"
   ]
  },
  {
   "cell_type": "code",
   "execution_count": 198,
   "metadata": {},
   "outputs": [
    {
     "data": {
      "text/plain": [
       "array([[ 1001.        ,    53.53520284],\n",
       "       [   53.53520284, 10973.47983971]])"
      ]
     },
     "execution_count": 198,
     "metadata": {},
     "output_type": "execute_result"
    }
   ],
   "source": [
    "x2.T @ x2 + x1.T @ x1"
   ]
  },
  {
   "cell_type": "code",
   "execution_count": 199,
   "metadata": {},
   "outputs": [
    {
     "name": "stdout",
     "output_type": "stream",
     "text": [
      "[[0.00024096]]\n",
      "[[2.74346454e-06]]\n"
     ]
    }
   ],
   "source": [
    "# empirically correct.\n",
    "print(e.T @ np.linalg.inv(x.T @ x) @ xj)\n",
    "\n",
    "# end of derivation.\n",
    "print(Lambda * e.T @ Ainv @ xj / (1 + Lambda**2 * v.T @ Ainv @ v))"
   ]
  },
  {
   "cell_type": "markdown",
   "metadata": {},
   "source": [
    "### Checking the Rate of the Residual Term."
   ]
  },
  {
   "cell_type": "code",
   "execution_count": 209,
   "metadata": {},
   "outputs": [
    {
     "data": {
      "text/plain": [
       "(2, 1)"
      ]
     },
     "execution_count": 209,
     "metadata": {},
     "output_type": "execute_result"
    }
   ],
   "source": [
    "x2tx2inv = np.linalg.inv(x2.T @ x2)\n",
    "v = np.array([[0, 1]])\n",
    "v = v.T\n",
    "v.shape"
   ]
  },
  {
   "cell_type": "code",
   "execution_count": 210,
   "metadata": {},
   "outputs": [
    {
     "data": {
      "text/plain": [
       "(1, 2)"
      ]
     },
     "execution_count": 210,
     "metadata": {},
     "output_type": "execute_result"
    }
   ],
   "source": [
    "et = np.array([[0, 1]])\n",
    "et.shape"
   ]
  },
  {
   "cell_type": "code",
   "execution_count": 211,
   "metadata": {},
   "outputs": [
    {
     "data": {
      "text/plain": [
       "(2, 2)"
      ]
     },
     "execution_count": 211,
     "metadata": {},
     "output_type": "execute_result"
    }
   ],
   "source": [
    "xtxinv = np.linalg.inv(x.T @ x)\n",
    "xtxinv.shape"
   ]
  },
  {
   "cell_type": "markdown",
   "metadata": {},
   "source": [
    "## Additive and Greedy algorithms.\n"
   ]
  },
  {
   "cell_type": "code",
   "execution_count": 106,
   "metadata": {},
   "outputs": [],
   "source": [
    "def compute_scores(x, y, lr):\n",
    "    '''\n",
    "    x: design matrix.\n",
    "    y: response vector.\n",
    "    lr: linear regression model.\n",
    "    '''\n",
    "    # compute statistics.\n",
    "    # intercept = [pt[0] for pt in x]\n",
    "    xcoordinate = [pt[0] for pt in x]\n",
    "    xcoordinate = np.array(xcoordinate)\n",
    "    residuals = lr.residual()\n",
    "    leverages = lr.leverage_scores()\n",
    "    if_scores = -lr.influence_scores()[0]\n",
    "    newton_scores = -lr.one_step_newton()[0]\n",
    "    # xtxinvx = -lr.schmeverage_scores(np.array([[0], [1]])) # xtxinvx = -lr.schmeverage_scores(np.array([[1]])) \n",
    "    # xtxinvx = np.array(xtxinvx)\n",
    "\n",
    "    # sort indices in ascending order of influence scores.\n",
    "    # the most negative influence score corresponds to the most influential point.\n",
    "    if_inds = np.argsort(if_scores)\n",
    "    newton_inds = np.argsort(newton_scores)\n",
    "\n",
    "    # sort statistics according to influence score order.\n",
    "    sorted_x = xcoordinate[if_inds]\n",
    "    sorted_y = y[if_inds]\n",
    "    sorted_residuals = residuals[if_inds]\n",
    "    sorted_leverages = leverages[if_inds]\n",
    "    sorted_if_scores = if_scores[if_inds]\n",
    "    sorted_newton_scores = newton_scores[if_inds] # sort the 1Exact scores according to if_inds \n",
    "    # to see the true effect of dropping a point, ranked in ascending order of influence scores.\n",
    "    # sorted_xtxinvx = xtxinvx[if_inds]\n",
    "\n",
    "    # create a df with residuals, leverages, and coordinates.\n",
    "    orig_df = pd.DataFrame({'x': xcoordinate, 'y': y, \n",
    "                            'residual': residuals, 'leverage': leverages,\n",
    "                            'IF': if_scores, '1Exact': newton_scores,\n",
    "                            'sorted_IF_indices': if_inds, 'sorted_1Exact_indices': newton_inds, \n",
    "                            'sorted_x': sorted_x, 'sorted_y': sorted_y,\n",
    "                            \"sorted_residuals\": sorted_residuals, \"sorted_leverages\": sorted_leverages, \n",
    "                            # 'sorted_xtxinvx': sorted_xtxinvx,\n",
    "                            'sorted_IF_scores': sorted_if_scores, 'sorted_1Exact_scores': sorted_newton_scores,\n",
    "                            })\n",
    "    return orig_df"
   ]
  },
  {
   "cell_type": "markdown",
   "metadata": {},
   "source": [
    "#### Additive Algorithms."
   ]
  },
  {
   "cell_type": "code",
   "execution_count": 107,
   "metadata": {},
   "outputs": [
    {
     "data": {
      "text/html": [
       "<div>\n",
       "<style scoped>\n",
       "    .dataframe tbody tr th:only-of-type {\n",
       "        vertical-align: middle;\n",
       "    }\n",
       "\n",
       "    .dataframe tbody tr th {\n",
       "        vertical-align: top;\n",
       "    }\n",
       "\n",
       "    .dataframe thead th {\n",
       "        text-align: right;\n",
       "    }\n",
       "</style>\n",
       "<table border=\"1\" class=\"dataframe\">\n",
       "  <thead>\n",
       "    <tr style=\"text-align: right;\">\n",
       "      <th></th>\n",
       "      <th>x</th>\n",
       "      <th>y</th>\n",
       "      <th>residual</th>\n",
       "      <th>leverage</th>\n",
       "      <th>IF</th>\n",
       "      <th>1Exact</th>\n",
       "      <th>sorted_IF_indices</th>\n",
       "      <th>sorted_1Exact_indices</th>\n",
       "      <th>sorted_x</th>\n",
       "      <th>sorted_y</th>\n",
       "      <th>sorted_residuals</th>\n",
       "      <th>sorted_leverages</th>\n",
       "      <th>sorted_IF_scores</th>\n",
       "      <th>sorted_1Exact_scores</th>\n",
       "    </tr>\n",
       "  </thead>\n",
       "  <tbody>\n",
       "    <tr>\n",
       "      <th>0</th>\n",
       "      <td>100.000000</td>\n",
       "      <td>1.000000e+10</td>\n",
       "      <td>8.871205e+08</td>\n",
       "      <td>0.911288</td>\n",
       "      <td>-8.084222e+06</td>\n",
       "      <td>-9.112880e+07</td>\n",
       "      <td>0</td>\n",
       "      <td>0</td>\n",
       "      <td>100.000000</td>\n",
       "      <td>1.000000e+10</td>\n",
       "      <td>8.871205e+08</td>\n",
       "      <td>9.112880e-01</td>\n",
       "      <td>-8.084222e+06</td>\n",
       "      <td>-9.112880e+07</td>\n",
       "    </tr>\n",
       "    <tr>\n",
       "      <th>1</th>\n",
       "      <td>0.400157</td>\n",
       "      <td>4.923167e-01</td>\n",
       "      <td>-3.646584e+07</td>\n",
       "      <td>0.000015</td>\n",
       "      <td>1.329758e+03</td>\n",
       "      <td>1.329777e+03</td>\n",
       "      <td>629</td>\n",
       "      <td>629</td>\n",
       "      <td>-0.001385</td>\n",
       "      <td>1.416259e+00</td>\n",
       "      <td>1.262187e+05</td>\n",
       "      <td>1.748163e-10</td>\n",
       "      <td>1.593098e-02</td>\n",
       "      <td>1.593098e-02</td>\n",
       "    </tr>\n",
       "    <tr>\n",
       "      <th>2</th>\n",
       "      <td>0.978738</td>\n",
       "      <td>-1.401053e+00</td>\n",
       "      <td>-8.919121e+07</td>\n",
       "      <td>0.000087</td>\n",
       "      <td>7.955073e+03</td>\n",
       "      <td>7.955767e+03</td>\n",
       "      <td>361</td>\n",
       "      <td>361</td>\n",
       "      <td>0.003771</td>\n",
       "      <td>1.522187e+00</td>\n",
       "      <td>-3.436351e+05</td>\n",
       "      <td>1.295815e-09</td>\n",
       "      <td>1.180856e-01</td>\n",
       "      <td>1.180856e-01</td>\n",
       "    </tr>\n",
       "    <tr>\n",
       "      <th>3</th>\n",
       "      <td>2.240893</td>\n",
       "      <td>-2.136179e+00</td>\n",
       "      <td>-2.042099e+08</td>\n",
       "      <td>0.000458</td>\n",
       "      <td>4.170168e+04</td>\n",
       "      <td>4.172077e+04</td>\n",
       "      <td>437</td>\n",
       "      <td>437</td>\n",
       "      <td>0.005293</td>\n",
       "      <td>-1.203386e+00</td>\n",
       "      <td>-4.823137e+05</td>\n",
       "      <td>2.552709e-09</td>\n",
       "      <td>2.326259e-01</td>\n",
       "      <td>2.326259e-01</td>\n",
       "    </tr>\n",
       "    <tr>\n",
       "      <th>4</th>\n",
       "      <td>1.867558</td>\n",
       "      <td>-1.639505e+00</td>\n",
       "      <td>-1.701883e+08</td>\n",
       "      <td>0.000318</td>\n",
       "      <td>2.896406e+04</td>\n",
       "      <td>2.897327e+04</td>\n",
       "      <td>568</td>\n",
       "      <td>568</td>\n",
       "      <td>0.008628</td>\n",
       "      <td>8.419028e-01</td>\n",
       "      <td>-7.862492e+05</td>\n",
       "      <td>6.783686e-09</td>\n",
       "      <td>6.181885e-01</td>\n",
       "      <td>6.181885e-01</td>\n",
       "    </tr>\n",
       "  </tbody>\n",
       "</table>\n",
       "</div>"
      ],
      "text/plain": [
       "            x             y      residual  leverage            IF  \\\n",
       "0  100.000000  1.000000e+10  8.871205e+08  0.911288 -8.084222e+06   \n",
       "1    0.400157  4.923167e-01 -3.646584e+07  0.000015  1.329758e+03   \n",
       "2    0.978738 -1.401053e+00 -8.919121e+07  0.000087  7.955073e+03   \n",
       "3    2.240893 -2.136179e+00 -2.042099e+08  0.000458  4.170168e+04   \n",
       "4    1.867558 -1.639505e+00 -1.701883e+08  0.000318  2.896406e+04   \n",
       "\n",
       "         1Exact  sorted_IF_indices  sorted_1Exact_indices    sorted_x  \\\n",
       "0 -9.112880e+07                  0                      0  100.000000   \n",
       "1  1.329777e+03                629                    629   -0.001385   \n",
       "2  7.955767e+03                361                    361    0.003771   \n",
       "3  4.172077e+04                437                    437    0.005293   \n",
       "4  2.897327e+04                568                    568    0.008628   \n",
       "\n",
       "       sorted_y  sorted_residuals  sorted_leverages  sorted_IF_scores  \\\n",
       "0  1.000000e+10      8.871205e+08      9.112880e-01     -8.084222e+06   \n",
       "1  1.416259e+00      1.262187e+05      1.748163e-10      1.593098e-02   \n",
       "2  1.522187e+00     -3.436351e+05      1.295815e-09      1.180856e-01   \n",
       "3 -1.203386e+00     -4.823137e+05      2.552709e-09      2.326259e-01   \n",
       "4  8.419028e-01     -7.862492e+05      6.783686e-09      6.181885e-01   \n",
       "\n",
       "   sorted_1Exact_scores  \n",
       "0         -9.112880e+07  \n",
       "1          1.593098e-02  \n",
       "2          1.180856e-01  \n",
       "3          2.326259e-01  \n",
       "4          6.181885e-01  "
      ]
     },
     "execution_count": 107,
     "metadata": {},
     "output_type": "execute_result"
    }
   ],
   "source": [
    "outlier_df = compute_scores(x, y, lr)\n",
    "outlier_df.head(5)"
   ]
  },
  {
   "cell_type": "code",
   "execution_count": 42,
   "metadata": {},
   "outputs": [
    {
     "data": {
      "text/html": [
       "<div>\n",
       "<style scoped>\n",
       "    .dataframe tbody tr th:only-of-type {\n",
       "        vertical-align: middle;\n",
       "    }\n",
       "\n",
       "    .dataframe tbody tr th {\n",
       "        vertical-align: top;\n",
       "    }\n",
       "\n",
       "    .dataframe thead th {\n",
       "        text-align: right;\n",
       "    }\n",
       "</style>\n",
       "<table border=\"1\" class=\"dataframe\">\n",
       "  <thead>\n",
       "    <tr style=\"text-align: right;\">\n",
       "      <th></th>\n",
       "      <th>x</th>\n",
       "      <th>y</th>\n",
       "      <th>residual</th>\n",
       "      <th>leverage</th>\n",
       "      <th>IF</th>\n",
       "      <th>1Exact</th>\n",
       "      <th>sorted_IF_indices</th>\n",
       "      <th>sorted_1Exact_indices</th>\n",
       "      <th>sorted_x</th>\n",
       "      <th>sorted_y</th>\n",
       "      <th>sorted_residuals</th>\n",
       "      <th>sorted_leverages</th>\n",
       "      <th>sorted_IF_scores</th>\n",
       "      <th>sorted_1Exact_scores</th>\n",
       "    </tr>\n",
       "  </thead>\n",
       "  <tbody>\n",
       "    <tr>\n",
       "      <th>0</th>\n",
       "      <td>1000000.000000</td>\n",
       "      <td>1000000.000000</td>\n",
       "      <td>0.001975</td>\n",
       "      <td>1.000</td>\n",
       "      <td>-1.974664e-09</td>\n",
       "      <td>-2.032970e+00</td>\n",
       "      <td>494</td>\n",
       "      <td>0</td>\n",
       "      <td>2.696224</td>\n",
       "      <td>-4.854293</td>\n",
       "      <td>-7.654976</td>\n",
       "      <td>0.001</td>\n",
       "      <td>-7.633959e-09</td>\n",
       "      <td>-7.641601e-09</td>\n",
       "    </tr>\n",
       "    <tr>\n",
       "      <th>1</th>\n",
       "      <td>0.400157</td>\n",
       "      <td>0.492317</td>\n",
       "      <td>-0.012300</td>\n",
       "      <td>0.001</td>\n",
       "      <td>-1.229461e-11</td>\n",
       "      <td>-1.230691e-11</td>\n",
       "      <td>198</td>\n",
       "      <td>494</td>\n",
       "      <td>2.163236</td>\n",
       "      <td>-4.175116</td>\n",
       "      <td>-6.442812</td>\n",
       "      <td>0.001</td>\n",
       "      <td>-6.428560e-09</td>\n",
       "      <td>-6.434995e-09</td>\n",
       "    </tr>\n",
       "    <tr>\n",
       "      <th>2</th>\n",
       "      <td>0.978738</td>\n",
       "      <td>-1.401053</td>\n",
       "      <td>-2.484250</td>\n",
       "      <td>0.001</td>\n",
       "      <td>-2.481701e-09</td>\n",
       "      <td>-2.484185e-09</td>\n",
       "      <td>689</td>\n",
       "      <td>198</td>\n",
       "      <td>2.380745</td>\n",
       "      <td>-3.786850</td>\n",
       "      <td>-6.272055</td>\n",
       "      <td>0.001</td>\n",
       "      <td>-6.256816e-09</td>\n",
       "      <td>-6.263079e-09</td>\n",
       "    </tr>\n",
       "    <tr>\n",
       "      <th>3</th>\n",
       "      <td>2.240893</td>\n",
       "      <td>-2.136179</td>\n",
       "      <td>-4.481532</td>\n",
       "      <td>0.001</td>\n",
       "      <td>-4.471270e-09</td>\n",
       "      <td>-4.475746e-09</td>\n",
       "      <td>943</td>\n",
       "      <td>689</td>\n",
       "      <td>2.759355</td>\n",
       "      <td>-3.116934</td>\n",
       "      <td>-5.980749</td>\n",
       "      <td>0.001</td>\n",
       "      <td>-5.963951e-09</td>\n",
       "      <td>-5.969921e-09</td>\n",
       "    </tr>\n",
       "    <tr>\n",
       "      <th>4</th>\n",
       "      <td>1.867558</td>\n",
       "      <td>-1.639505</td>\n",
       "      <td>-3.611522</td>\n",
       "      <td>0.001</td>\n",
       "      <td>-3.604602e-09</td>\n",
       "      <td>-3.608211e-09</td>\n",
       "      <td>418</td>\n",
       "      <td>943</td>\n",
       "      <td>1.519995</td>\n",
       "      <td>-4.322198</td>\n",
       "      <td>-5.946652</td>\n",
       "      <td>0.001</td>\n",
       "      <td>-5.937327e-09</td>\n",
       "      <td>-5.943270e-09</td>\n",
       "    </tr>\n",
       "    <tr>\n",
       "      <th>5</th>\n",
       "      <td>-0.977278</td>\n",
       "      <td>1.178758</td>\n",
       "      <td>2.051576</td>\n",
       "      <td>0.001</td>\n",
       "      <td>2.053487e-09</td>\n",
       "      <td>2.055543e-09</td>\n",
       "      <td>218</td>\n",
       "      <td>418</td>\n",
       "      <td>2.259309</td>\n",
       "      <td>-3.454296</td>\n",
       "      <td>-5.818064</td>\n",
       "      <td>0.001</td>\n",
       "      <td>-5.804635e-09</td>\n",
       "      <td>-5.810446e-09</td>\n",
       "    </tr>\n",
       "    <tr>\n",
       "      <th>6</th>\n",
       "      <td>0.950088</td>\n",
       "      <td>-0.409315</td>\n",
       "      <td>-1.463863</td>\n",
       "      <td>0.001</td>\n",
       "      <td>-1.462402e-09</td>\n",
       "      <td>-1.463866e-09</td>\n",
       "      <td>465</td>\n",
       "      <td>218</td>\n",
       "      <td>2.412454</td>\n",
       "      <td>-3.067999</td>\n",
       "      <td>-5.584912</td>\n",
       "      <td>0.001</td>\n",
       "      <td>-5.571165e-09</td>\n",
       "      <td>-5.576742e-09</td>\n",
       "    </tr>\n",
       "    <tr>\n",
       "      <th>7</th>\n",
       "      <td>-0.151357</td>\n",
       "      <td>-1.666720</td>\n",
       "      <td>-1.619823</td>\n",
       "      <td>0.001</td>\n",
       "      <td>-1.619993e-09</td>\n",
       "      <td>-1.621614e-09</td>\n",
       "      <td>113</td>\n",
       "      <td>465</td>\n",
       "      <td>1.910065</td>\n",
       "      <td>-3.405744</td>\n",
       "      <td>-5.420269</td>\n",
       "      <td>0.001</td>\n",
       "      <td>-5.409653e-09</td>\n",
       "      <td>-5.415068e-09</td>\n",
       "    </tr>\n",
       "    <tr>\n",
       "      <th>8</th>\n",
       "      <td>-0.103219</td>\n",
       "      <td>0.053895</td>\n",
       "      <td>0.052654</td>\n",
       "      <td>0.001</td>\n",
       "      <td>5.265699e-11</td>\n",
       "      <td>5.270970e-11</td>\n",
       "      <td>952</td>\n",
       "      <td>113</td>\n",
       "      <td>1.401345</td>\n",
       "      <td>-3.580276</td>\n",
       "      <td>-5.086081</td>\n",
       "      <td>0.001</td>\n",
       "      <td>-5.078709e-09</td>\n",
       "      <td>-5.083793e-09</td>\n",
       "    </tr>\n",
       "    <tr>\n",
       "      <th>9</th>\n",
       "      <td>0.410599</td>\n",
       "      <td>-0.171565</td>\n",
       "      <td>-0.686623</td>\n",
       "      <td>0.001</td>\n",
       "      <td>-6.863088e-10</td>\n",
       "      <td>-6.869958e-10</td>\n",
       "      <td>151</td>\n",
       "      <td>952</td>\n",
       "      <td>1.713343</td>\n",
       "      <td>-3.244146</td>\n",
       "      <td>-5.061948</td>\n",
       "      <td>0.001</td>\n",
       "      <td>-5.053031e-09</td>\n",
       "      <td>-5.058089e-09</td>\n",
       "    </tr>\n",
       "    <tr>\n",
       "      <th>10</th>\n",
       "      <td>0.144044</td>\n",
       "      <td>-1.144374</td>\n",
       "      <td>-1.392877</td>\n",
       "      <td>0.001</td>\n",
       "      <td>-1.392611e-09</td>\n",
       "      <td>-1.394005e-09</td>\n",
       "      <td>815</td>\n",
       "      <td>151</td>\n",
       "      <td>1.735879</td>\n",
       "      <td>-3.182819</td>\n",
       "      <td>-5.023158</td>\n",
       "      <td>0.001</td>\n",
       "      <td>-5.014196e-09</td>\n",
       "      <td>-5.019215e-09</td>\n",
       "    </tr>\n",
       "    <tr>\n",
       "      <th>11</th>\n",
       "      <td>1.454274</td>\n",
       "      <td>0.219712</td>\n",
       "      <td>-1.339021</td>\n",
       "      <td>0.001</td>\n",
       "      <td>-1.337009e-09</td>\n",
       "      <td>-1.338348e-09</td>\n",
       "      <td>898</td>\n",
       "      <td>815</td>\n",
       "      <td>2.594425</td>\n",
       "      <td>-2.295711</td>\n",
       "      <td>-4.994595</td>\n",
       "      <td>0.001</td>\n",
       "      <td>-4.981391e-09</td>\n",
       "      <td>-4.986378e-09</td>\n",
       "    </tr>\n",
       "    <tr>\n",
       "      <th>12</th>\n",
       "      <td>0.761038</td>\n",
       "      <td>-0.599478</td>\n",
       "      <td>-1.464976</td>\n",
       "      <td>0.001</td>\n",
       "      <td>-1.463791e-09</td>\n",
       "      <td>-1.465257e-09</td>\n",
       "      <td>100</td>\n",
       "      <td>898</td>\n",
       "      <td>1.883151</td>\n",
       "      <td>-2.987767</td>\n",
       "      <td>-4.975377</td>\n",
       "      <td>0.001</td>\n",
       "      <td>-4.965767e-09</td>\n",
       "      <td>-4.970738e-09</td>\n",
       "    </tr>\n",
       "    <tr>\n",
       "      <th>13</th>\n",
       "      <td>0.121675</td>\n",
       "      <td>1.441730</td>\n",
       "      <td>1.215595</td>\n",
       "      <td>0.001</td>\n",
       "      <td>1.215390e-09</td>\n",
       "      <td>1.216607e-09</td>\n",
       "      <td>543</td>\n",
       "      <td>100</td>\n",
       "      <td>1.518261</td>\n",
       "      <td>-3.345173</td>\n",
       "      <td>-4.967893</td>\n",
       "      <td>0.001</td>\n",
       "      <td>-4.960112e-09</td>\n",
       "      <td>-4.965077e-09</td>\n",
       "    </tr>\n",
       "    <tr>\n",
       "      <th>14</th>\n",
       "      <td>0.443863</td>\n",
       "      <td>-1.234386</td>\n",
       "      <td>-1.782709</td>\n",
       "      <td>0.001</td>\n",
       "      <td>-1.781834e-09</td>\n",
       "      <td>-1.783618e-09</td>\n",
       "      <td>734</td>\n",
       "      <td>543</td>\n",
       "      <td>2.497200</td>\n",
       "      <td>-2.355394</td>\n",
       "      <td>-4.957053</td>\n",
       "      <td>0.001</td>\n",
       "      <td>-4.944432e-09</td>\n",
       "      <td>-4.949381e-09</td>\n",
       "    </tr>\n",
       "  </tbody>\n",
       "</table>\n",
       "</div>"
      ],
      "text/plain": [
       "                 x               y  residual  leverage            IF  \\\n",
       "0   1000000.000000  1000000.000000  0.001975     1.000 -1.974664e-09   \n",
       "1         0.400157        0.492317 -0.012300     0.001 -1.229461e-11   \n",
       "2         0.978738       -1.401053 -2.484250     0.001 -2.481701e-09   \n",
       "3         2.240893       -2.136179 -4.481532     0.001 -4.471270e-09   \n",
       "4         1.867558       -1.639505 -3.611522     0.001 -3.604602e-09   \n",
       "5        -0.977278        1.178758  2.051576     0.001  2.053487e-09   \n",
       "6         0.950088       -0.409315 -1.463863     0.001 -1.462402e-09   \n",
       "7        -0.151357       -1.666720 -1.619823     0.001 -1.619993e-09   \n",
       "8        -0.103219        0.053895  0.052654     0.001  5.265699e-11   \n",
       "9         0.410599       -0.171565 -0.686623     0.001 -6.863088e-10   \n",
       "10        0.144044       -1.144374 -1.392877     0.001 -1.392611e-09   \n",
       "11        1.454274        0.219712 -1.339021     0.001 -1.337009e-09   \n",
       "12        0.761038       -0.599478 -1.464976     0.001 -1.463791e-09   \n",
       "13        0.121675        1.441730  1.215595     0.001  1.215390e-09   \n",
       "14        0.443863       -1.234386 -1.782709     0.001 -1.781834e-09   \n",
       "\n",
       "          1Exact  sorted_IF_indices  sorted_1Exact_indices  sorted_x  \\\n",
       "0  -2.032970e+00                494                      0  2.696224   \n",
       "1  -1.230691e-11                198                    494  2.163236   \n",
       "2  -2.484185e-09                689                    198  2.380745   \n",
       "3  -4.475746e-09                943                    689  2.759355   \n",
       "4  -3.608211e-09                418                    943  1.519995   \n",
       "5   2.055543e-09                218                    418  2.259309   \n",
       "6  -1.463866e-09                465                    218  2.412454   \n",
       "7  -1.621614e-09                113                    465  1.910065   \n",
       "8   5.270970e-11                952                    113  1.401345   \n",
       "9  -6.869958e-10                151                    952  1.713343   \n",
       "10 -1.394005e-09                815                    151  1.735879   \n",
       "11 -1.338348e-09                898                    815  2.594425   \n",
       "12 -1.465257e-09                100                    898  1.883151   \n",
       "13  1.216607e-09                543                    100  1.518261   \n",
       "14 -1.783618e-09                734                    543  2.497200   \n",
       "\n",
       "    sorted_y  sorted_residuals  sorted_leverages  sorted_IF_scores  \\\n",
       "0  -4.854293         -7.654976             0.001     -7.633959e-09   \n",
       "1  -4.175116         -6.442812             0.001     -6.428560e-09   \n",
       "2  -3.786850         -6.272055             0.001     -6.256816e-09   \n",
       "3  -3.116934         -5.980749             0.001     -5.963951e-09   \n",
       "4  -4.322198         -5.946652             0.001     -5.937327e-09   \n",
       "5  -3.454296         -5.818064             0.001     -5.804635e-09   \n",
       "6  -3.067999         -5.584912             0.001     -5.571165e-09   \n",
       "7  -3.405744         -5.420269             0.001     -5.409653e-09   \n",
       "8  -3.580276         -5.086081             0.001     -5.078709e-09   \n",
       "9  -3.244146         -5.061948             0.001     -5.053031e-09   \n",
       "10 -3.182819         -5.023158             0.001     -5.014196e-09   \n",
       "11 -2.295711         -4.994595             0.001     -4.981391e-09   \n",
       "12 -2.987767         -4.975377             0.001     -4.965767e-09   \n",
       "13 -3.345173         -4.967893             0.001     -4.960112e-09   \n",
       "14 -2.355394         -4.957053             0.001     -4.944432e-09   \n",
       "\n",
       "    sorted_1Exact_scores  \n",
       "0          -7.641601e-09  \n",
       "1          -6.434995e-09  \n",
       "2          -6.263079e-09  \n",
       "3          -5.969921e-09  \n",
       "4          -5.943270e-09  \n",
       "5          -5.810446e-09  \n",
       "6          -5.576742e-09  \n",
       "7          -5.415068e-09  \n",
       "8          -5.083793e-09  \n",
       "9          -5.058089e-09  \n",
       "10         -5.019215e-09  \n",
       "11         -4.986378e-09  \n",
       "12         -4.970738e-09  \n",
       "13         -4.965077e-09  \n",
       "14         -4.949381e-09  "
      ]
     },
     "execution_count": 42,
     "metadata": {},
     "output_type": "execute_result"
    }
   ],
   "source": [
    "outlier_df.head(15)"
   ]
  },
  {
   "cell_type": "markdown",
   "metadata": {},
   "source": [
    "if we consider the 1-outlier setting with no intercept, and (x,y) = (1e10, 1e10), then we find that for (x1, y1), the residual is zero while the leverage is 1e0, and for (x2, y2), the residual ranges from 1e-2 to 1 and the leverage ranges from 1e-21 to 1e-20. thus, the influence score for (x2, y2) is smaller."
   ]
  },
  {
   "cell_type": "code",
   "execution_count": 8,
   "metadata": {},
   "outputs": [
    {
     "name": "stdout",
     "output_type": "stream",
     "text": [
      "Influence score for black dot 1.9746642773417103e-09\n",
      "Influence score for red cross with the largest influence score -0.002839131289055613\n"
     ]
    }
   ],
   "source": [
    "# Influence score for black dot.\n",
    "print('Influence score for black dot', (outlier_df['residual'][0] * outlier_df['leverage'][0]) / outlier_df['x'][0])\n",
    "# Influence score for red cross with the largest influence score.\n",
    "print('Influence score for red cross with the largest influence score', (outlier_df['sorted_residuals'][0] * outlier_df['sorted_leverages'][0]) / outlier_df['sorted_x'][0])"
   ]
  },
  {
   "cell_type": "markdown",
   "metadata": {},
   "source": [
    "- at x = y = 1e3 AMIP fails in type 1 but not type 2 (correct ordering).\n",
    "- at x = y = 1e6 AMIP fails in type 1 and type 2 (incorrect ordering)."
   ]
  },
  {
   "cell_type": "code",
   "execution_count": 9,
   "metadata": {},
   "outputs": [
    {
     "name": "stdout",
     "output_type": "stream",
     "text": [
      "The AMIP approximation of the refit is 1.0.\n",
      "The Add-1Exact for the change induced by dropping the worst-case subset of size at most 1 is 1.0.\n",
      "The true change induced by dropping the worst-case subset of size at most 1 is -1.033.\n"
     ]
    }
   ],
   "source": [
    "print(f'The AMIP approximation of the refit is {round(lr.beta[1] + sum(outlier_df[\"sorted_IF_scores\"][:1]), 4)}.')\n",
    "print(f'The Add-1Exact for the change induced by dropping the worst-case subset of size at most 1 is {round(lr.beta[1] + sum(outlier_df[\"sorted_1Exact_scores\"][:1]), 4)}.')\n",
    "print(f'The true change induced by dropping the worst-case subset of size at most 1 is {round((modified_lr.beta[1]), 4)}.')"
   ]
  },
  {
   "cell_type": "code",
   "execution_count": 14,
   "metadata": {},
   "outputs": [
    {
     "data": {
      "image/png": "[encoded data removed]",
      "text/plain": [
       "<Figure size 900x700 with 1 Axes>"
      ]
     },
     "metadata": {},
     "output_type": "display_data"
    }
   ],
   "source": [
    "plt.figure(figsize=(9, 7))\n",
    "\n",
    "plt.scatter(outlier_df['leverage'][:1], outlier_df['residual'][:1], marker='o', color='black', label='Pop. A', s=56)\n",
    "plt.scatter(outlier_df['leverage'][1:], outlier_df['residual'][1:], marker='x', color='r', label='Pop. B', s=56)\n",
    "\n",
    "plt.xlabel('Leverage', fontsize=26) \n",
    "plt.ylabel('Residual', fontsize=26)\n",
    "\n",
    "plt.xticks(fontsize=22) \n",
    "plt.yticks(fontsize=22)\n",
    "\n",
    "plt.legend(fontsize=22)\n",
    "# plt.savefig('one_outlier_levresid.pdf', bbox_inches='tight')\n",
    "plt.show()"
   ]
  },
  {
   "cell_type": "markdown",
   "metadata": {},
   "source": [
    "#### Greedy Algorithms.\n",
    "\n",
    "Greedy approximations for 1 data point is the same as the additive approximations.\n"
   ]
  },
  {
   "cell_type": "markdown",
   "metadata": {},
   "source": [
    "## For Creating the Table and Leverage Plot in Appendix."
   ]
  },
  {
   "cell_type": "code",
   "execution_count": 62,
   "metadata": {},
   "outputs": [],
   "source": [
    "### Helpers.\n",
    "def plot_regression(x, y, x1, y1, x2, y2):\n",
    "    ## X vs Y\n",
    "    plt.scatter(x1[0], y1, marker='o', color='black', label='Pop. A', s=56)\n",
    "    plt.scatter(x2[0], y2, marker='x', color='r', label='Pop. B', s=56)\n",
    "    # plt.title('One-dimensional Example')\n",
    "    \n",
    "    plt.xlabel('x', fontsize=22)  # Larger font for x-axis label\n",
    "    plt.ylabel('y', fontsize=22)  # Larger font for y-axis label\n",
    "    \n",
    "    # Set the size of tick marks\n",
    "    plt.xticks(fontsize=12)  # Larger ticks for x-axis\n",
    "    plt.yticks(fontsize=12)  # Larger ticks for y-axis\n",
    "    \n",
    "    plt.legend(fontsize=22)\n",
    "\n",
    "    plt.show()\n",
    "\n",
    "    x = x.T\n",
    "    lr = LinearRegression(x=x.T, y=y)\n",
    "    lr.fit()\n",
    "    print(\n",
    "        f\"Beta with full dataset: {lr.beta[0]}\"\n",
    "    )\n",
    "\n",
    "    # Dropping just x1 should change the analysis (based on data generating process)\n",
    "    modified_lr = LinearRegression(x=x2, y=y2) # Drop Pop_1 data\n",
    "    modified_lr.fit()\n",
    "    print(\n",
    "        f\"Beta with subset dropped: {modified_lr.beta[0]}\"\n",
    "    )\n",
    "    \n",
    "    return lr\n",
    "\n",
    "def make_df(lr):\n",
    "    # III. Compute influence scores and Newton scores for first coefficient.\n",
    "    scores = -lr.influence_scores()[0] # after adding an intercept term, take the scores of coefficient 1.\n",
    "    newton_scores = -lr.one_step_newton()[0]\n",
    "\n",
    "    # sort indices in ascending order (influence scores are negative, so the largest magnitude scores appear first.)\n",
    "    inds = np.argsort(scores)\n",
    "    # print(\"inds\", inds[:10])\n",
    "    original_inds = inds # original_inds\n",
    "\n",
    "    newton_inds = np.argsort(newton_scores)\n",
    "    # print(\"newton inds\", newton_inds[:10])\n",
    "    original_newton_inds = newton_inds \n",
    "\n",
    "    # sort scores.\n",
    "    sorted_scores = scores[inds]\n",
    "    # print(\"sorted_scores\", sorted(scores)[:10])\n",
    "    original_sorted_scores = sorted_scores\n",
    "\n",
    "    sorted_newton_scores = newton_scores[inds]\n",
    "    # print(\"sorted_newton_scores\", sorted_newton_scores[:10])\n",
    "    original_sorted_newton_scores = sorted_newton_scores\n",
    "    \n",
    "    # influential point\n",
    "    outlier_x = np.squeeze(x1[0][0])\n",
    "    outlier_y = np.squeeze(y1[0][0])\n",
    "    print(f\"outlier_x: {outlier_x}\")\n",
    "    print(f\"outlier_y: {outlier_y}\")\n",
    "    # residuals\n",
    "    residuals = lr.residual()\n",
    "    # print(f\"outlier_residual: {round(residuals[0], 4)}\")\n",
    "    # leverages\n",
    "    leverages = lr.leverage_scores()\n",
    "    # print(f\"outlier_leverage: {round(leverages[0], 4)}\")\n",
    "    # schmeverage e1\n",
    "    shmeverage_e1 = lr.schmeverage_scores([(1,)])\n",
    "    # print(f'schmeverage_e1: {round(shmeverage_e1[0], 4)}')\n",
    "    # Compute influence functions for first coefficient\n",
    "    scores = -lr.influence_scores()[0] # effect of removing a data point on beta1.\n",
    "    # print(\"outlier influence score:\", round(scores[0], 4))\n",
    "    leverage_correction = 1 / (1 - leverages)\n",
    "\n",
    "\n",
    "    # create a df with residuals, leverages, and coordinates.\n",
    "    orig_df = pd.DataFrame({'x': x.flatten(), 'y':y.flatten(),\n",
    "                            'residual': residuals, 'schmeverage': shmeverage_e1,\n",
    "                            'leverage': leverages, 'leverage_correction': leverage_correction,\n",
    "                            'influence': scores, 'newton': newton_scores})\n",
    "    \n",
    "    return orig_df"
   ]
  }
 ],
 "metadata": {
  "kernelspec": {
   "display_name": "base",
   "language": "python",
   "name": "python3"
  },
  "language_info": {
   "codemirror_mode": {
    "name": "ipython",
    "version": 3
   },
   "file_extension": ".py",
   "mimetype": "text/x-python",
   "name": "python",
   "nbconvert_exporter": "python",
   "pygments_lexer": "ipython3",
   "version": "3.10.12"
  }
 },
 "nbformat": 4,
 "nbformat_minor": 4
}
