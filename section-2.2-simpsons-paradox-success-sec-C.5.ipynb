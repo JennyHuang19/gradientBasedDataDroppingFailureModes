{
 "cells": [
  {
   "cell_type": "code",
   "execution_count": 1,
   "metadata": {},
   "outputs": [],
   "source": [
    "from dataclasses import dataclass\n",
    "from typing import Optional, Tuple\n",
    "\n",
    "import numpy as np\n",
    "import numpy.typing\n",
    "\n",
    "import numpy as np\n",
    "import matplotlib.pyplot as plt\n",
    "import pandas as pd\n",
    "import linear_regression\n",
    "from linear_regression import LinearRegression"
   ]
  },
  {
   "cell_type": "markdown",
   "metadata": {},
   "source": [
    "# Helper Functions"
   ]
  },
  {
   "cell_type": "code",
   "execution_count": 2,
   "metadata": {},
   "outputs": [],
   "source": [
    "def create_orig_df(x, lr):\n",
    "    '''\n",
    "    x: design matrix.\n",
    "    lr: linear regression object.\n",
    "    '''\n",
    "    scores = -lr.influence_scores()[1]\n",
    "    newton_scores = -lr.one_step_newton()[1]\n",
    "\n",
    "    # sort indices in ascending order (influence scores are negative, so the largest magnitude scores appear first.)\n",
    "    inds = np.argsort(scores)\n",
    "    print(\"inds\", inds[:10])\n",
    "    original_inds = inds # original_inds\n",
    "\n",
    "    newton_inds = np.argsort(newton_scores)\n",
    "    print(\"newton inds\", newton_inds[:10])\n",
    "    original_newton_inds = newton_inds \n",
    "\n",
    "    # sort scores.\n",
    "    sorted_scores = scores[inds]\n",
    "    print(\"sorted_scores\", sorted(scores)[:10])\n",
    "    original_sorted_scores = sorted_scores\n",
    "\n",
    "    sorted_newton_scores = newton_scores[inds]\n",
    "    print(\"sorted_newton_scores\", sorted_newton_scores[:10])\n",
    "    original_sorted_newton_scores = sorted_newton_scores\n",
    "\n",
    "    # residuals\n",
    "    residuals = lr.residual()\n",
    "    # print(\"residuals\", residuals[:10])\n",
    "    # leverages\n",
    "    leverages = lr.leverage_scores()\n",
    "    # print(\"leverages\", leverages[:10])\n",
    "\n",
    "    # x's\n",
    "    intercept = [pt[0] for pt in x]\n",
    "    x1 = [pt[1] for pt in x]\n",
    "    # x2 = [pt[2] for pt in x]\n",
    "\n",
    "    # x1 = [pt[0] for pt in x]\n",
    "    # x2 = [pt[1] for pt in x]\n",
    "\n",
    "    # create a df with residuals, leverages, and coordinates.\n",
    "    orig_df = pd.DataFrame({'x1': x1, 'y': y, \n",
    "                                      'residual': residuals, 'leverage': leverages, \n",
    "                            'influence': scores, 'newton': newton_scores})\n",
    "    \n",
    "    print(orig_df[:13])\n",
    "    \n",
    "    return orig_df, inds, scores, newton_inds, newton_scores\n",
    "\n",
    "\n",
    "def create_plot(orig_df):\n",
    "    '''\n",
    "    orig_df: output from the helper function above.\n",
    "    '''\n",
    "    \n",
    "    # IV. Sort DF by influence score\n",
    "    sorted_if_df = orig_df.sort_values(by='influence', ascending=True)\n",
    "    print(\"index 0 in create_plot\", sorted_if_df.index[0])\n",
    "    \n",
    "    # sorted_if_df # the indices here are the order which amip drops points.\n",
    "    index = range(0, len(sorted_if_df))\n",
    "    \n",
    "    sorted_if_df['sorted_idx'] = index\n",
    "    \n",
    "    # V. Plot Points Dropped\n",
    "    plt.figure(figsize=(9, 7))\n",
    "\n",
    "    plt.scatter(orig_df[:10]['x1'], orig_df[:10]['y'], marker='x', color='black', label='Pop. A') # pop A\n",
    "    plt.scatter(orig_df[10:]['x1'], orig_df[10:]['y'], marker='x', color='r', label='Pop. B') # pop B\n",
    "\n",
    "\n",
    "    # Add dropped order positioned by each point\n",
    "    for index, row in sorted_if_df.iterrows():\n",
    "        if row['sorted_idx'] <= 9: # indices 2,3,4 are right on top of one another.\n",
    "            plt.text(row['x1'], row['y'], int(row['sorted_idx']), ha='left', va='top', fontsize=20)\n",
    "\n",
    "\n",
    "    plt.xlabel('x1')\n",
    "    plt.ylabel('y')\n",
    "    plt.title('Scores Ordered')\n",
    "    plt.legend()\n",
    "    plt.show()\n",
    "    \n",
    "    return\n",
    "\n",
    "def plot_dropped_point(x, y, index_to_remove):\n",
    "    '''\n",
    "    orig_df: df sorted by original indexing (where the outlier population comes first).\n",
    "    index_to_drop: index returned from sorting by influence (or one-step newton) scores.\n",
    "    method: \"influence\" or \"newton\"\n",
    "    '''\n",
    "    \n",
    "    # V. Plot Dropped Point at Current Iteration\n",
    "    plt.figure(figsize=(9, 7))\n",
    "    plt.scatter(x.T[1][index_to_remove], y[index_to_remove], marker='x', color='black', label='Dropped point')\n",
    "    \n",
    "    # match the window of the original plot.\n",
    "    plt.xlim(-2, 0.05)\n",
    "    plt.ylim(-7, 3)\n",
    "    \n",
    "    plt.xlabel('x1')\n",
    "    plt.ylabel('y')\n",
    "    plt.title('Dropped Point')\n",
    "    plt.legend()\n",
    "    \n",
    "    plt.show()\n",
    "    \n",
    "    return\n"
   ]
  },
  {
   "cell_type": "markdown",
   "metadata": {},
   "source": [
    "# Generate Data"
   ]
  },
  {
   "cell_type": "code",
   "execution_count": 3,
   "metadata": {},
   "outputs": [],
   "source": [
    "np.random.seed(0)\n",
    "\n",
    "# I. Generate the data.\n",
    "num_dimensions = 1\n",
    "total_observations = 1010\n",
    "\n",
    "# NOISE ON X.\n",
    "eps_pop_1 = 0.25\n",
    "eps_pop_2 = 0.25 \n",
    "\n",
    "# Mixing proportions\n",
    "num_observations_pop_1 = 10 # A (small fraction)\n",
    "num_observations_pop_2 = total_observations - num_observations_pop_1 # B\n",
    "\n",
    "mean_pop_1 = np.array([1]) # ADJUST DISTANCE OF OUTLIER CLUMP 4/22: in order for AMIP/Newton to fail, if suffices to \n",
    "# adjust the location of the outlier group to be far away, relative to the noise.\n",
    "mean_pop_2 = np.array([0])\n",
    "\n",
    "vars_pop_1 = np.array([[eps_pop_1]])\n",
    "vars_pop_2 = np.array([[eps_pop_2]])\n"
   ]
  },
  {
   "cell_type": "code",
   "execution_count": 4,
   "metadata": {},
   "outputs": [
    {
     "data": {
      "text/plain": [
       "array([[ 1.88202617],\n",
       "       [ 1.2000786 ],\n",
       "       [ 1.48936899],\n",
       "       ...,\n",
       "       [-0.90903882],\n",
       "       [-0.02466204],\n",
       "       [ 0.1195168 ]])"
      ]
     },
     "execution_count": 4,
     "metadata": {},
     "output_type": "execute_result"
    }
   ],
   "source": [
    "# generate the X values for two populations.\n",
    "x1 = np.random.multivariate_normal(mean_pop_1, vars_pop_1, num_observations_pop_1)\n",
    "x2 = np.random.multivariate_normal(mean_pop_2, vars_pop_2, num_observations_pop_2)\n",
    "x = np.append(x1, x2, axis=0)\n",
    "x"
   ]
  },
  {
   "cell_type": "code",
   "execution_count": 5,
   "metadata": {},
   "outputs": [],
   "source": [
    "# add intercept term. NDArray -> df -> NDArray\n",
    "df = pd.DataFrame(x)\n",
    "df.insert(0, 'Ones', 1)\n",
    "arr = df.values\n",
    "x = arr\n",
    "x\n",
    "# (3/20: make sure that x1, x2 come from this new design matrix.)\n",
    "x1 = x[:10]\n",
    "x2 = x[10:]"
   ]
  },
  {
   "cell_type": "code",
   "execution_count": 6,
   "metadata": {},
   "outputs": [],
   "source": [
    "orig_x = x # (4/01: save this for after running the greedy loop.)"
   ]
  },
  {
   "cell_type": "code",
   "execution_count": 7,
   "metadata": {},
   "outputs": [],
   "source": [
    "x1_0 = [pt[0] for pt in x1]\n",
    "x1_1 = [pt[1] for pt in x1]\n",
    "x2_0 = [pt[0] for pt in x2]\n",
    "x2_1 = [pt[1] for pt in x2]"
   ]
  },
  {
   "cell_type": "code",
   "execution_count": 8,
   "metadata": {},
   "outputs": [],
   "source": [
    "# Generating the Y values.\n",
    "eps1 = 1\n",
    "epsilon1 = np.random.normal(0, eps1, num_observations_pop_1) # eps is the variance of the outlier distribution.\n",
    "slope1 = -1 # (-1, -1, 5)\n",
    "intercept1 = 40 # (-10, 10, 20)\n",
    "y1 = []\n",
    "for i in range(num_observations_pop_1):\n",
    "    y1.append(slope1*x1_1[i] + intercept1 + epsilon1[i]) # May 16: we were indexing the wrong x1 (intercept rather than slope).\n",
    "    # print(x1_1[i], slope1*x1_1[i], epsilon1[i])\n",
    "\n",
    "eps2 = 1\n",
    "epsilon2 = np.random.normal(0, eps2, num_observations_pop_2) # eps is the variance of the outlier distribution.\n",
    "slope2 = -1\n",
    "intercept2 = 0\n",
    "y2 = []\n",
    "for i in range(num_observations_pop_2):\n",
    "    y2.append(slope2*x2_1[i] + intercept2 + epsilon2[i])\n",
    "\n",
    "y = np.concatenate([y1, y2], axis=0)"
   ]
  },
  {
   "cell_type": "code",
   "execution_count": 9,
   "metadata": {},
   "outputs": [
    {
     "data": {
      "text/plain": [
       "[37.11764347806246,\n",
       " 40.4739071028271,\n",
       " 38.6721902751853,\n",
       " 39.44295814542821,\n",
       " 37.275697983091945,\n",
       " 38.58133881841288,\n",
       " 38.749208012202885,\n",
       " 37.39699024132019,\n",
       " 39.26657501652287,\n",
       " 38.89191998103374]"
      ]
     },
     "execution_count": 9,
     "metadata": {},
     "output_type": "execute_result"
    }
   ],
   "source": [
    "y1"
   ]
  },
  {
   "cell_type": "code",
   "execution_count": null,
   "metadata": {},
   "outputs": [],
   "source": []
  },
  {
   "cell_type": "code",
   "execution_count": 10,
   "metadata": {},
   "outputs": [
    {
     "name": "stdout",
     "output_type": "stream",
     "text": [
      "Estimated beta1 with full dataset: 1.116515051069574\n",
      "Estimated beta1 pop A: -0.40383763026703057\n",
      "Estimated beta1 pop B: -0.989510932401851\n"
     ]
    }
   ],
   "source": [
    "# II. Fit the regression.\n",
    "lr = LinearRegression(x=x.T, y=y)\n",
    "lr.fit()\n",
    "\n",
    "print(\n",
    "    f\"Estimated beta1 with full dataset: {lr.beta[1]}\"\n",
    ")  # We care about first coefficient (pop A: y is perfectly correlated (slope=1) with x1.)\n",
    "\n",
    "# print(\n",
    "#     f\"Estimated intercept with full dataset: {lr.beta[0]}\"\n",
    "# )\n",
    "\n",
    "modified_lr_a = LinearRegression(x=x1.T, y=y1)\n",
    "modified_lr_a.fit()\n",
    "print(\n",
    "    f\"Estimated beta1 pop A: {modified_lr_a.beta[1]}\"\n",
    ")\n",
    "\n",
    "modified_lr = LinearRegression(x=x2.T, y=y2)\n",
    "modified_lr.fit()\n",
    "print(\n",
    "    f\"Estimated beta1 pop B: {modified_lr.beta[1]}\"\n",
    ")"
   ]
  },
  {
   "cell_type": "code",
   "execution_count": 11,
   "metadata": {},
   "outputs": [
    {
     "name": "stdout",
     "output_type": "stream",
     "text": [
      "A 0.191343374776504 B 0.0021801720416483802\n",
      "inds [3 4 0 2 6 1 9 8 7 5]\n",
      "newton inds [3 4 0 2 6 1 9 8 7 5]\n",
      "sorted_scores [-0.2976662186943977, -0.25709415985944173, -0.2495336172412997, -0.20920742556768743, -0.20773858345952317, -0.1787143241514191, -0.17212073756003846, -0.13822331853739384, -0.12818693199161135, -0.07494843070222744]\n",
      "sorted_newton_scores [-0.30321928 -0.26111901 -0.25324541 -0.21123066 -0.20971308 -0.1798995\n",
      " -0.17327062 -0.13884883 -0.12874453 -0.07510122]\n",
      "residuals [34.5867731  38.70444145 36.57972755 36.64588777 34.6870448  37.58083667\n",
      " 36.67273912 35.93541166 37.77812284 37.1166254 ]\n",
      "leverages [0.0146569  0.00658801 0.0095783  0.01831367 0.01541386 0.00203439\n",
      " 0.00941522 0.00433106 0.00450498 0.00663632]\n",
      "inds [3 4 0 2 6 1 9 8 7 5]\n",
      "newton inds [3 4 0 2 6 1 9 8 7 5]\n",
      "sorted_scores [-0.2976662186943977, -0.25709415985944173, -0.2495336172412997, -0.20920742556768743, -0.20773858345952317, -0.1787143241514191, -0.17212073756003846, -0.13822331853739384, -0.12818693199161135, -0.07494843070222744]\n",
      "sorted_newton_scores [-0.30321928 -0.26111901 -0.25324541 -0.21123066 -0.20971308 -0.1798995\n",
      " -0.17327062 -0.13884883 -0.12874453 -0.07510122]\n",
      "          x1          y   residual  leverage  influence    newton\n",
      "0   1.882026  37.117643  34.586773  0.014657  -0.249534 -0.253245\n",
      "1   1.200079  40.473907  38.704441  0.006588  -0.178714 -0.179900\n",
      "2   1.489369  38.672190  36.579728  0.009578  -0.209207 -0.211231\n",
      "3   2.120447  39.442958  36.645888  0.018314  -0.297666 -0.303219\n",
      "4   1.933779  37.275698  34.687045  0.015414  -0.257094 -0.261119\n",
      "5   0.511361  38.581339  37.580837  0.002034  -0.074948 -0.075101\n",
      "6   1.475044  38.749208  36.672739  0.009415  -0.207739 -0.209713\n",
      "7   0.924321  37.396990  35.935412  0.004331  -0.128187 -0.128745\n",
      "8   0.948391  39.266575  37.778123  0.004505  -0.138223 -0.138849\n",
      "9   1.205299  38.891920  37.116625  0.006636  -0.172121 -0.173271\n",
      "10  0.072022   0.943643   0.433670  0.001017  -0.000139 -0.000139\n",
      "11  0.727137  -0.026095  -1.267514  0.003072   0.003569  0.003580\n",
      "12  0.380519  -0.797996  -1.652411  0.001578   0.002472  0.002476\n"
     ]
    },
    {
     "data": {
      "text/html": [
       "<div>\n",
       "<style scoped>\n",
       "    .dataframe tbody tr th:only-of-type {\n",
       "        vertical-align: middle;\n",
       "    }\n",
       "\n",
       "    .dataframe tbody tr th {\n",
       "        vertical-align: top;\n",
       "    }\n",
       "\n",
       "    .dataframe thead th {\n",
       "        text-align: right;\n",
       "    }\n",
       "</style>\n",
       "<table border=\"1\" class=\"dataframe\">\n",
       "  <thead>\n",
       "    <tr style=\"text-align: right;\">\n",
       "      <th></th>\n",
       "      <th>x1</th>\n",
       "      <th>y</th>\n",
       "      <th>residual</th>\n",
       "      <th>leverage</th>\n",
       "      <th>influence</th>\n",
       "      <th>newton</th>\n",
       "    </tr>\n",
       "  </thead>\n",
       "  <tbody>\n",
       "    <tr>\n",
       "      <th>0</th>\n",
       "      <td>1.882026</td>\n",
       "      <td>37.117643</td>\n",
       "      <td>34.586773</td>\n",
       "      <td>0.014657</td>\n",
       "      <td>-0.249534</td>\n",
       "      <td>-0.253245</td>\n",
       "    </tr>\n",
       "    <tr>\n",
       "      <th>1</th>\n",
       "      <td>1.200079</td>\n",
       "      <td>40.473907</td>\n",
       "      <td>38.704441</td>\n",
       "      <td>0.006588</td>\n",
       "      <td>-0.178714</td>\n",
       "      <td>-0.179900</td>\n",
       "    </tr>\n",
       "    <tr>\n",
       "      <th>2</th>\n",
       "      <td>1.489369</td>\n",
       "      <td>38.672190</td>\n",
       "      <td>36.579728</td>\n",
       "      <td>0.009578</td>\n",
       "      <td>-0.209207</td>\n",
       "      <td>-0.211231</td>\n",
       "    </tr>\n",
       "    <tr>\n",
       "      <th>3</th>\n",
       "      <td>2.120447</td>\n",
       "      <td>39.442958</td>\n",
       "      <td>36.645888</td>\n",
       "      <td>0.018314</td>\n",
       "      <td>-0.297666</td>\n",
       "      <td>-0.303219</td>\n",
       "    </tr>\n",
       "    <tr>\n",
       "      <th>4</th>\n",
       "      <td>1.933779</td>\n",
       "      <td>37.275698</td>\n",
       "      <td>34.687045</td>\n",
       "      <td>0.015414</td>\n",
       "      <td>-0.257094</td>\n",
       "      <td>-0.261119</td>\n",
       "    </tr>\n",
       "    <tr>\n",
       "      <th>5</th>\n",
       "      <td>0.511361</td>\n",
       "      <td>38.581339</td>\n",
       "      <td>37.580837</td>\n",
       "      <td>0.002034</td>\n",
       "      <td>-0.074948</td>\n",
       "      <td>-0.075101</td>\n",
       "    </tr>\n",
       "    <tr>\n",
       "      <th>6</th>\n",
       "      <td>1.475044</td>\n",
       "      <td>38.749208</td>\n",
       "      <td>36.672739</td>\n",
       "      <td>0.009415</td>\n",
       "      <td>-0.207739</td>\n",
       "      <td>-0.209713</td>\n",
       "    </tr>\n",
       "    <tr>\n",
       "      <th>7</th>\n",
       "      <td>0.924321</td>\n",
       "      <td>37.396990</td>\n",
       "      <td>35.935412</td>\n",
       "      <td>0.004331</td>\n",
       "      <td>-0.128187</td>\n",
       "      <td>-0.128745</td>\n",
       "    </tr>\n",
       "    <tr>\n",
       "      <th>8</th>\n",
       "      <td>0.948391</td>\n",
       "      <td>39.266575</td>\n",
       "      <td>37.778123</td>\n",
       "      <td>0.004505</td>\n",
       "      <td>-0.138223</td>\n",
       "      <td>-0.138849</td>\n",
       "    </tr>\n",
       "    <tr>\n",
       "      <th>9</th>\n",
       "      <td>1.205299</td>\n",
       "      <td>38.891920</td>\n",
       "      <td>37.116625</td>\n",
       "      <td>0.006636</td>\n",
       "      <td>-0.172121</td>\n",
       "      <td>-0.173271</td>\n",
       "    </tr>\n",
       "  </tbody>\n",
       "</table>\n",
       "</div>"
      ],
      "text/plain": [
       "         x1          y   residual  leverage  influence    newton\n",
       "0  1.882026  37.117643  34.586773  0.014657  -0.249534 -0.253245\n",
       "1  1.200079  40.473907  38.704441  0.006588  -0.178714 -0.179900\n",
       "2  1.489369  38.672190  36.579728  0.009578  -0.209207 -0.211231\n",
       "3  2.120447  39.442958  36.645888  0.018314  -0.297666 -0.303219\n",
       "4  1.933779  37.275698  34.687045  0.015414  -0.257094 -0.261119\n",
       "5  0.511361  38.581339  37.580837  0.002034  -0.074948 -0.075101\n",
       "6  1.475044  38.749208  36.672739  0.009415  -0.207739 -0.209713\n",
       "7  0.924321  37.396990  35.935412  0.004331  -0.128187 -0.128745\n",
       "8  0.948391  39.266575  37.778123  0.004505  -0.138223 -0.138849\n",
       "9  1.205299  38.891920  37.116625  0.006636  -0.172121 -0.173271"
      ]
     },
     "execution_count": 11,
     "metadata": {},
     "output_type": "execute_result"
    }
   ],
   "source": [
    "# III. Compute influence scores for first coefficient.\n",
    "# scores = -lr.influence_scores()[0] # effect of removing a data point.\n",
    "scores = -lr.influence_scores()[1] # after adding an intercept term, take the scores of coefficient 1.\n",
    "newton_scores = -lr.one_step_newton()[1]\n",
    "\n",
    "print(\"A\", np.mean(np.abs(scores[:10])), \"B\", np.mean(np.abs(scores[10:1000])))\n",
    "\n",
    "# sort indices in ascending order (influence scores are negative, so the largest magnitude scores appear first.)\n",
    "inds = np.argsort(scores)\n",
    "print(\"inds\", inds[:10])\n",
    "original_inds = inds # original_inds\n",
    "\n",
    "newton_inds = np.argsort(newton_scores)\n",
    "print(\"newton inds\", newton_inds[:10])\n",
    "original_newton_inds = newton_inds \n",
    "\n",
    "# sort scores.\n",
    "sorted_scores = scores[inds]\n",
    "print(\"sorted_scores\", sorted(scores)[:10])\n",
    "original_sorted_scores = sorted_scores\n",
    "\n",
    "sorted_newton_scores = newton_scores[inds]\n",
    "print(\"sorted_newton_scores\", sorted_newton_scores[:10])\n",
    "original_sorted_newton_scores = sorted_newton_scores\n",
    "\n",
    "# residuals\n",
    "residuals = lr.residual()\n",
    "print(\"residuals\", residuals[:10])\n",
    "# leverages\n",
    "leverages = lr.leverage_scores()\n",
    "print(\"leverages\", leverages[:10])\n",
    "\n",
    "# create df\n",
    "orig_df, inds, scores, newton_inds, newton_scores = create_orig_df(x, lr)\n",
    "orig_df[:10]"
   ]
  },
  {
   "cell_type": "code",
   "execution_count": 12,
   "metadata": {},
   "outputs": [
    {
     "name": "stdout",
     "output_type": "stream",
     "text": [
      "additive influence score for pop A: -1.9134337477650398\n",
      "additive one-step newton score for pop A: -1.9343921278459129\n",
      "indices sorted according to influence score: [3 4 0 2 6 1 9 8 7 5]\n",
      "indices sorted according to newton score: [3 4 0 2 6 1 9 8 7 5]\n"
     ]
    }
   ],
   "source": [
    "# (4/01) Sum of influence and newton scores for population A\n",
    "print(f\"additive influence score for pop A: {sum(sorted_scores[:10])}\")\n",
    "print(f\"additive one-step newton score for pop A: {sum(sorted_newton_scores[:10])}\")\n",
    "\n",
    "print(f'indices sorted according to influence score: {original_inds[:10]}')\n",
    "print(f'indices sorted according to newton score: {original_newton_inds[:10]}')\n"
   ]
  },
  {
   "cell_type": "code",
   "execution_count": 13,
   "metadata": {},
   "outputs": [
    {
     "data": {
      "text/html": [
       "<div>\n",
       "<style scoped>\n",
       "    .dataframe tbody tr th:only-of-type {\n",
       "        vertical-align: middle;\n",
       "    }\n",
       "\n",
       "    .dataframe tbody tr th {\n",
       "        vertical-align: top;\n",
       "    }\n",
       "\n",
       "    .dataframe thead th {\n",
       "        text-align: right;\n",
       "    }\n",
       "</style>\n",
       "<table border=\"1\" class=\"dataframe\">\n",
       "  <thead>\n",
       "    <tr style=\"text-align: right;\">\n",
       "      <th></th>\n",
       "      <th>x1</th>\n",
       "      <th>y</th>\n",
       "      <th>residual</th>\n",
       "      <th>leverage</th>\n",
       "      <th>influence</th>\n",
       "      <th>newton</th>\n",
       "      <th>sorted_idx</th>\n",
       "    </tr>\n",
       "  </thead>\n",
       "  <tbody>\n",
       "    <tr>\n",
       "      <th>3</th>\n",
       "      <td>2.120447</td>\n",
       "      <td>39.442958</td>\n",
       "      <td>36.645888</td>\n",
       "      <td>0.018314</td>\n",
       "      <td>-0.297666</td>\n",
       "      <td>-0.303219</td>\n",
       "      <td>0</td>\n",
       "    </tr>\n",
       "    <tr>\n",
       "      <th>4</th>\n",
       "      <td>1.933779</td>\n",
       "      <td>37.275698</td>\n",
       "      <td>34.687045</td>\n",
       "      <td>0.015414</td>\n",
       "      <td>-0.257094</td>\n",
       "      <td>-0.261119</td>\n",
       "      <td>1</td>\n",
       "    </tr>\n",
       "    <tr>\n",
       "      <th>0</th>\n",
       "      <td>1.882026</td>\n",
       "      <td>37.117643</td>\n",
       "      <td>34.586773</td>\n",
       "      <td>0.014657</td>\n",
       "      <td>-0.249534</td>\n",
       "      <td>-0.253245</td>\n",
       "      <td>2</td>\n",
       "    </tr>\n",
       "    <tr>\n",
       "      <th>2</th>\n",
       "      <td>1.489369</td>\n",
       "      <td>38.672190</td>\n",
       "      <td>36.579728</td>\n",
       "      <td>0.009578</td>\n",
       "      <td>-0.209207</td>\n",
       "      <td>-0.211231</td>\n",
       "      <td>3</td>\n",
       "    </tr>\n",
       "    <tr>\n",
       "      <th>6</th>\n",
       "      <td>1.475044</td>\n",
       "      <td>38.749208</td>\n",
       "      <td>36.672739</td>\n",
       "      <td>0.009415</td>\n",
       "      <td>-0.207739</td>\n",
       "      <td>-0.209713</td>\n",
       "      <td>4</td>\n",
       "    </tr>\n",
       "    <tr>\n",
       "      <th>1</th>\n",
       "      <td>1.200079</td>\n",
       "      <td>40.473907</td>\n",
       "      <td>38.704441</td>\n",
       "      <td>0.006588</td>\n",
       "      <td>-0.178714</td>\n",
       "      <td>-0.179900</td>\n",
       "      <td>5</td>\n",
       "    </tr>\n",
       "    <tr>\n",
       "      <th>9</th>\n",
       "      <td>1.205299</td>\n",
       "      <td>38.891920</td>\n",
       "      <td>37.116625</td>\n",
       "      <td>0.006636</td>\n",
       "      <td>-0.172121</td>\n",
       "      <td>-0.173271</td>\n",
       "      <td>6</td>\n",
       "    </tr>\n",
       "    <tr>\n",
       "      <th>8</th>\n",
       "      <td>0.948391</td>\n",
       "      <td>39.266575</td>\n",
       "      <td>37.778123</td>\n",
       "      <td>0.004505</td>\n",
       "      <td>-0.138223</td>\n",
       "      <td>-0.138849</td>\n",
       "      <td>7</td>\n",
       "    </tr>\n",
       "    <tr>\n",
       "      <th>7</th>\n",
       "      <td>0.924321</td>\n",
       "      <td>37.396990</td>\n",
       "      <td>35.935412</td>\n",
       "      <td>0.004331</td>\n",
       "      <td>-0.128187</td>\n",
       "      <td>-0.128745</td>\n",
       "      <td>8</td>\n",
       "    </tr>\n",
       "    <tr>\n",
       "      <th>5</th>\n",
       "      <td>0.511361</td>\n",
       "      <td>38.581339</td>\n",
       "      <td>37.580837</td>\n",
       "      <td>0.002034</td>\n",
       "      <td>-0.074948</td>\n",
       "      <td>-0.075101</td>\n",
       "      <td>9</td>\n",
       "    </tr>\n",
       "  </tbody>\n",
       "</table>\n",
       "</div>"
      ],
      "text/plain": [
       "         x1          y   residual  leverage  influence    newton  sorted_idx\n",
       "3  2.120447  39.442958  36.645888  0.018314  -0.297666 -0.303219           0\n",
       "4  1.933779  37.275698  34.687045  0.015414  -0.257094 -0.261119           1\n",
       "0  1.882026  37.117643  34.586773  0.014657  -0.249534 -0.253245           2\n",
       "2  1.489369  38.672190  36.579728  0.009578  -0.209207 -0.211231           3\n",
       "6  1.475044  38.749208  36.672739  0.009415  -0.207739 -0.209713           4\n",
       "1  1.200079  40.473907  38.704441  0.006588  -0.178714 -0.179900           5\n",
       "9  1.205299  38.891920  37.116625  0.006636  -0.172121 -0.173271           6\n",
       "8  0.948391  39.266575  37.778123  0.004505  -0.138223 -0.138849           7\n",
       "7  0.924321  37.396990  35.935412  0.004331  -0.128187 -0.128745           8\n",
       "5  0.511361  38.581339  37.580837  0.002034  -0.074948 -0.075101           9"
      ]
     },
     "execution_count": 13,
     "metadata": {},
     "output_type": "execute_result"
    }
   ],
   "source": [
    "# IV. Sort DF by influence score\n",
    "sorted_if_df = orig_df.sort_values(by='influence', ascending=True)\n",
    "# sorted_if_df # the indices here are the order which amip drops points.\n",
    "index = range(0, len(sorted_if_df))\n",
    "sorted_if_df['sorted_idx'] = index\n",
    "sorted_if_df[:10]"
   ]
  },
  {
   "cell_type": "code",
   "execution_count": 15,
   "metadata": {},
   "outputs": [
    {
     "data": {
      "image/png": "[encoded data removed]",
      "text/plain": [
       "<Figure size 648x504 with 1 Axes>"
      ]
     },
     "metadata": {
      "needs_background": "light"
     },
     "output_type": "display_data"
    }
   ],
   "source": [
    "# V. Plot Points Dropped\n",
    "\n",
    "plt.figure(figsize=(9, 7))\n",
    "\n",
    "plt.scatter(orig_df[:10]['x1'], orig_df[:10]['y'], marker='o', color='black', label='Pop. A', s=56) # pop A\n",
    "plt.scatter(orig_df[10:]['x1'], orig_df[10:]['y'], marker='x', color='r', label='Pop. B', s=56) # pop B\n",
    "\n",
    "plt.xlabel('x', fontsize=26)  # Larger font for x-axis label\n",
    "plt.ylabel('y', fontsize=26)  # Larger font for y-axis label\n",
    "\n",
    "# Set the size of tick marks\n",
    "plt.xticks(fontsize=20)  # Larger ticks for x-axis\n",
    "plt.yticks(fontsize=20)  # Larger ticks for y-axis\n",
    "\n",
    "# Line of best fit\n",
    "x_values = np.linspace(min(orig_df['x1']), max(orig_df['x1']), 100) # Define range of x values\n",
    "y_values = lr.beta[1] * x_values # Calculate corresponding y values based on y = 2x\n",
    "\n",
    "# plt.plot(x_values, y_values, color='gray', linestyle='--')\n",
    "\n",
    "\n",
    "# plt.title('Modified Simpson`s Paradox', fontsize=22)\n",
    "plt.legend(fontsize=22)\n",
    "plt.savefig('simpsons_paradox_success_data.pdf')\n",
    "plt.show()\n",
    "\n",
    "# shift everything up to zero."
   ]
  },
  {
   "cell_type": "markdown",
   "metadata": {},
   "source": [
    "We define the failure of an approximation algorithm in two different ways: (i) when there exists a small fraction (alpha < 0.01) of data (which is user-predefined) that we can drop to change conclusions, yet the algorithm reports such a fraction does not exist or (ii) if there exists a small fraction of data that we can drop to change conclusions, and we remove the points suggested by the algorithm, but we do not see a change in conclusions. The second definition is motivated by the person who is willing to run their algorithm twice, such that even when the algorithm does not report a change in conclusions, the user is willing to rerun their analysis by removing the points suggested by the algorithm.\n",
    "\n",
    "We illustrate Simpson's paradox as a realistic data setting under which AMIP and 1sN may fail. This example is set up with two populations of points. Population A consisted of $<1%$ of the datapoints. The DGP for population A is $X \\sim N(5, 0.01)$ and $Y = -X + 20 + \\epsilon$, while that of population B is $X \\sim N(0, 0.01)$ and $Y = -X + \\epsilon$, where $\\epsilon \\sim N(0, 1)$.\n",
    "\n",
    "The regression on population A is $Y = -X + 20 + \\epsilon$ while that of population B is $Y = -X + \\epsilon$, where $\\epsilon \\sim N(0, 1)$. In this example, dropping only the 10 datapoints in population A suffices to flip the effect size of the regression from 2.82 to -1.05.\n",
    "\n",
    "We observe that AMIP fails in both the type (i) and type (ii) sense. That is, AMIP approximates that the largest effect size for the removal of 10 datapoints is -0.149 (failure type i), which is not enough to change the sign. In addition, AMIP fails to correctly identify subset A as the correct subset to remove (failure type ii). Similarly, 1sN fails in this case. That is, 1sN approximates that the largest effect size for the removal of 10 datapoints is -0.165 (failure type i). 1sN also fails to correctly identify subset A as the correct subset to remove (failure type ii). In running the greedy versions of these algorithms on this Simpson's paradox example, we find that both greedy AMIP and greedy 1sN are able to succeed in identifying population A as an influential subset that reverses the sign.\n"
   ]
  },
  {
   "cell_type": "markdown",
   "metadata": {},
   "source": [
    "# Eigenvectors: Mechanism For Failure"
   ]
  },
  {
   "cell_type": "code",
   "execution_count": 16,
   "metadata": {},
   "outputs": [],
   "source": [
    "def normalize_vector(v):\n",
    "    norm = np.linalg.norm(v)\n",
    "    if norm == 0:\n",
    "        return v \n",
    "    return v / norm"
   ]
  },
  {
   "cell_type": "code",
   "execution_count": 17,
   "metadata": {},
   "outputs": [],
   "source": [
    "# compute (xtxinv - x2tx2inv)\n",
    "xtxinv = np.linalg.inv(x.T @ x)\n",
    "x2tx2inv = np.linalg.inv(x2.T @ x2)\n",
    "M = xtxinv - x2tx2inv"
   ]
  },
  {
   "cell_type": "code",
   "execution_count": 18,
   "metadata": {},
   "outputs": [
    {
     "data": {
      "text/plain": [
       "array([[-1.21509368e-05, -6.15166560e-05],\n",
       "       [-6.15166560e-05, -3.41555313e-04]])"
      ]
     },
     "execution_count": 18,
     "metadata": {},
     "output_type": "execute_result"
    }
   ],
   "source": [
    "M"
   ]
  },
  {
   "cell_type": "code",
   "execution_count": 19,
   "metadata": {},
   "outputs": [
    {
     "name": "stdout",
     "output_type": "stream",
     "text": [
      "eigenvalues: [3.52668681e-04 1.03756888e-06]\n",
      "0.00035266868107193544\n",
      "[-0.17777848 -0.98407053]\n"
     ]
    }
   ],
   "source": [
    "# compute the Singular Value Decomposition\n",
    "U, s, V = np.linalg.svd(M)\n",
    "print(f'eigenvalues: {s}')\n",
    "\n",
    "# The operator norm is the largest singular value\n",
    "normM = np.max(s)\n",
    "print(normM)\n",
    "\n",
    "largest_eigenvector = U[:, 0] # Success Mode: Largest eigenvalue is 4.00e-03.\n",
    "second_eigenvector = U[:, 1]\n",
    "\n",
    "print(largest_eigenvector)"
   ]
  },
  {
   "cell_type": "code",
   "execution_count": 20,
   "metadata": {},
   "outputs": [],
   "source": [
    "### Compute the Error Vector.\n",
    "x1y1 = x1.T @ y1\n",
    "Sigma_s = x1.T @ x1\n",
    "Sigma_inv = np.linalg.inv(x.T @ x)\n",
    "xty = x.T @ y"
   ]
  },
  {
   "cell_type": "code",
   "execution_count": 21,
   "metadata": {},
   "outputs": [],
   "source": [
    "error_vec = x1y1 - Sigma_s @ Sigma_inv @ Sigma_s @ xty"
   ]
  },
  {
   "cell_type": "code",
   "execution_count": 22,
   "metadata": {},
   "outputs": [
    {
     "data": {
      "text/plain": [
       "array([-0.50663729, -0.8621593 ])"
      ]
     },
     "execution_count": 22,
     "metadata": {},
     "output_type": "execute_result"
    }
   ],
   "source": [
    "norm_error_vec = normalize_vector(error_vec)\n",
    "norm_error_vec"
   ]
  },
  {
   "cell_type": "code",
   "execution_count": 23,
   "metadata": {},
   "outputs": [
    {
     "data": {
      "text/plain": [
       "0.9384947675476621"
      ]
     },
     "execution_count": 23,
     "metadata": {},
     "output_type": "execute_result"
    }
   ],
   "source": [
    "largest_ev_dot_error_vec=largest_eigenvector.T @ norm_error_vec\n",
    "largest_ev_dot_error_vec"
   ]
  },
  {
   "cell_type": "markdown",
   "metadata": {},
   "source": [
    "## Verifying Error Term Expression (June 25th)"
   ]
  },
  {
   "cell_type": "code",
   "execution_count": 24,
   "metadata": {},
   "outputs": [
    {
     "name": "stdout",
     "output_type": "stream",
     "text": [
      "0.19259223570638517\n",
      "[0.19259224]\n",
      "norm M: 0.00034705090538347555\n",
      "norm v: 618.1167141466302\n",
      "theta in degrees: 26.130831836091122\n",
      "[0.17725543 0.98416488]\n",
      "[0.59258648 0.80550683]\n"
     ]
    }
   ],
   "source": [
    "import math\n",
    "\n",
    "# empirical error: beta(w) - beta^{IF}(w) \n",
    "beta_w = modified_lr.beta[1]\n",
    "beta_IF_w = lr.beta[1] + sum(scores[:10])\n",
    "print(beta_IF_w - beta_w)\n",
    "\n",
    "# Xs^Trs = (\\sum_i r_i , \\sum_i xiri)\n",
    "rs = (y1 - x1 @ lr.beta)\n",
    "rs\n",
    "xstrs = x1.T @ rs\n",
    "xstrs\n",
    "\n",
    "# analytic error: etM2v\n",
    "print(-M[1:2] @ xstrs)\n",
    "\n",
    "# print norm values\n",
    "print('norm M:', np.linalg.norm(M[1:2]))\n",
    "print('norm v:', np.linalg.norm(xstrs))  \n",
    "\n",
    "# normed vectors\n",
    "norm_m_vec = normalize_vector(-M[1:2])[0]\n",
    "norm_v_vec = normalize_vector(xstrs)\n",
    "\n",
    "# cosine similarity\n",
    "costheta = norm_m_vec @ norm_v_vec\n",
    "theta = math.acos(costheta) * (180.0 / math.pi)\n",
    "print('theta in degrees:', theta)\n",
    "\n",
    "# new June 25th - should be the same as the old.\n",
    "print(norm_m_vec)\n",
    "print(norm_v_vec)"
   ]
  },
  {
   "cell_type": "code",
   "execution_count": 52,
   "metadata": {},
   "outputs": [
    {
     "data": {
      "image/png": "[encoded data removed]",
      "text/plain": [
       "<Figure size 576x432 with 1 Axes>"
      ]
     },
     "metadata": {
      "needs_background": "light"
     },
     "output_type": "display_data"
    }
   ],
   "source": [
    "import numpy as np\n",
    "import matplotlib.pyplot as plt\n",
    "\n",
    "# Define three vectors\n",
    "# v1 = np.array([-1.42243630e-04, -3.99934473e-03]) # M[:, 1]\n",
    "v1 = norm_m_vec\n",
    "# v2 = np.array([[-0.03937332, -0.99922457]]) # error vector\n",
    "v2 = norm_v_vec\n",
    "\n",
    "# Plotting\n",
    "plt.figure(figsize=(8, 6))\n",
    "plt.quiver(0, 0, v1[0], v1[1], angles='xy', scale_units='xy', scale=1, color=\"blue\", label=r'$\\vec{m}_{\\mathrm{Err}}$')\n",
    "plt.quiver(0, 0, v2[0], v2[1], angles='xy', scale_units='xy', scale=1, color=\"red\", label=r'$\\vec{v}_{\\mathrm{Err}}$')\n",
    "\n",
    "textstring = '\\n'.join((\n",
    "    r'$\\vec{m}_{\\mathrm{Err}} \\cdot \\vec{v}_{\\mathrm{Err}}$ = 0.19',\n",
    "    r'$\\|\\vec{m}_{\\mathrm{Err}}\\|$ = 0.0003',\n",
    "    r'$\\|\\vec{v}_{\\mathrm{Err}}\\|$ = 618.11',\n",
    "    r'$\\measuredangle{ (\\vec{m}_{\\mathrm{Err}}\\, , \\vec{v}_{\\mathrm{Err}}) } = 26.13^{\\circ} $'\n",
    ")) \n",
    "\n",
    "# Adding a text box\n",
    "plt.text(-1.42, -1.36, textstring, fontsize = 15, \n",
    "         bbox = dict(facecolor = 'white', alpha = 0.5))\n",
    "\n",
    "# Setting the limits and labels\n",
    "plt.xlim(-1.5, 1.5)\n",
    "plt.ylim(-1.5, 1.5)\n",
    "plt.axhline(0, color='black', linewidth=0.5)\n",
    "plt.axvline(0, color='black', linewidth=0.5)\n",
    "plt.grid(True)\n",
    "plt.xlabel('e0', fontsize=16)  # Larger font for x-axis label\n",
    "plt.ylabel('e1', fontsize=16)  # Larger font for y-axis label\n",
    "\n",
    "# Set the size of tick marks\n",
    "plt.xticks(fontsize=14)  # Larger ticks for x-axis\n",
    "plt.yticks(fontsize=14)  # Larger ticks for y-axis\n",
    "\n",
    "# plt.title('Modified Simpson`s Paradox Example', fontsize=22)\n",
    "plt.legend(fontsize=16)\n",
    "\n",
    "# plt.savefig('simpsons_paradox_success_vector_june25.pdf')\n",
    "plt.savefig('mv.simpsons.success.pdf')\n",
    "plt.show()"
   ]
  },
  {
   "cell_type": "code",
   "execution_count": null,
   "metadata": {},
   "outputs": [],
   "source": []
  },
  {
   "cell_type": "code",
   "execution_count": null,
   "metadata": {},
   "outputs": [],
   "source": []
  },
  {
   "cell_type": "code",
   "execution_count": 28,
   "metadata": {},
   "outputs": [
    {
     "data": {
      "image/png": "[encoded data removed]",
      "text/plain": [
       "<Figure size 576x432 with 1 Axes>"
      ]
     },
     "metadata": {
      "needs_background": "light"
     },
     "output_type": "display_data"
    }
   ],
   "source": [
    "import numpy as np\n",
    "import matplotlib.pyplot as plt\n",
    "\n",
    "# Define three vectors\n",
    "# v1 = np.array([-5.06276549e-06, -1.42243630e-04])\n",
    "# v2 = np.array([-1.42243630e-04, -3.99934473e-03])\n",
    "v1 = largest_eigenvector\n",
    "v2 = norm_error_vec\n",
    "\n",
    "# Plotting\n",
    "plt.figure(figsize=(8, 6))\n",
    "plt.quiver(0, 0, v1[0], v1[1], angles='xy', scale_units='xy', scale=1, color=\"blue\", label=r'$\\vec{m}_{\\mathrm{Err}}$')\n",
    "plt.quiver(0, 0, v2[0], v2[1], angles='xy', scale_units='xy', scale=1, color=\"red\", label=r'$\\vec{v}_{\\mathrm{Err}}$')\n",
    "\n",
    "textstring = '\\n'.join((\n",
    "    r'$\\|\\vec{m}_{\\mathrm{Err}}\\|$ = 0.004',\n",
    "    r'$\\measuredangle{ (\\vec{m}_{\\mathrm{Err}}\\, , \\vec{v}_{\\mathrm{Err}}) } = 20^{\\circ} $'\n",
    "))\n",
    "\n",
    "# Adding a text box\n",
    "plt.text(-1.42, -1.36, textstring, fontsize = 15, \n",
    "         bbox = dict(facecolor = 'white', alpha = 0.5))\n",
    "\n",
    "\n",
    "# Setting the limits and labels\n",
    "plt.xlim(-1.5, 1.5)\n",
    "plt.ylim(-1.5, 1.5)\n",
    "plt.axhline(0, color='black', linewidth=0.5)\n",
    "plt.axvline(0, color='black', linewidth=0.5)\n",
    "plt.grid(True)\n",
    "plt.xlabel('e0', fontsize=16)  # Larger font for x-axis label\n",
    "plt.ylabel('e1', fontsize=16)  # Larger font for y-axis label\n",
    "\n",
    "# Set the size of tick marks\n",
    "plt.xticks(fontsize=14)  # Larger ticks for x-axis\n",
    "plt.yticks(fontsize=14)  # Larger ticks for y-axis\n",
    "\n",
    "plt.title('Modified Simpson`s Paradox', fontsize=22)\n",
    "plt.legend(fontsize=16)\n",
    "\n",
    "plt.savefig('simpsons_paradox_success_vector_june25.pdf')\n",
    "plt.show()"
   ]
  },
  {
   "cell_type": "markdown",
   "metadata": {},
   "source": [
    "### Why is it the case that the eigenvector corresponding to the largest eigenvalue is always approximately M_{row 2}?"
   ]
  },
  {
   "cell_type": "code",
   "execution_count": 29,
   "metadata": {},
   "outputs": [
    {
     "data": {
      "text/plain": [
       "array([[-0.03445411, -0.17443111],\n",
       "       [-0.17443111, -0.9684836 ]])"
      ]
     },
     "execution_count": 29,
     "metadata": {},
     "output_type": "execute_result"
    }
   ],
   "source": [
    "M\n",
    "M_norm = normalize_vector(M)\n",
    "M_norm"
   ]
  },
  {
   "cell_type": "code",
   "execution_count": 30,
   "metadata": {},
   "outputs": [
    {
     "data": {
      "text/plain": [
       "array([-0.17777848, -0.98407053])"
      ]
     },
     "execution_count": 30,
     "metadata": {},
     "output_type": "execute_result"
    }
   ],
   "source": [
    "largest_eigenvector"
   ]
  },
  {
   "cell_type": "code",
   "execution_count": null,
   "metadata": {},
   "outputs": [],
   "source": []
  },
  {
   "cell_type": "code",
   "execution_count": 31,
   "metadata": {},
   "outputs": [
    {
     "name": "stdout",
     "output_type": "stream",
     "text": [
      "eigenvalues: [3.52668681e-04 1.03756888e-06]\n",
      "0.00035266868107193544\n",
      "[-0.17777848 -0.98407053]\n"
     ]
    }
   ],
   "source": [
    "# compute the Singular Value Decomposition\n",
    "U, s, V = np.linalg.svd(M)\n",
    "print(f'eigenvalues: {s}')\n",
    "\n",
    "# The operator norm is the largest singular value\n",
    "normM = np.max(s)\n",
    "print(normM)\n",
    "\n",
    "largest_eigenvector = U[:, 0] # Simpson's Paradox: Largest eigenvalue is 4.00e-03.\n",
    "second_eigenvector = U[:, 1]\n",
    "\n",
    "print(largest_eigenvector)"
   ]
  },
  {
   "cell_type": "code",
   "execution_count": 32,
   "metadata": {},
   "outputs": [],
   "source": [
    "### Compute the Error Vector.\n",
    "x1y1 = x1.T @ y1\n",
    "Sigma_s = x1.T @ x1\n",
    "Sigma_inv = np.linalg.inv(x.T @ x)\n",
    "xty = x.T @ y"
   ]
  },
  {
   "cell_type": "code",
   "execution_count": 33,
   "metadata": {},
   "outputs": [],
   "source": [
    "error_vec = x1y1 - Sigma_s @ Sigma_inv @ Sigma_s @ xty"
   ]
  },
  {
   "cell_type": "code",
   "execution_count": 34,
   "metadata": {},
   "outputs": [
    {
     "data": {
      "text/plain": [
       "array([-0.50663729, -0.8621593 ])"
      ]
     },
     "execution_count": 34,
     "metadata": {},
     "output_type": "execute_result"
    }
   ],
   "source": [
    "norm_error_vec = normalize_vector(error_vec)\n",
    "norm_error_vec"
   ]
  },
  {
   "cell_type": "code",
   "execution_count": null,
   "metadata": {},
   "outputs": [],
   "source": []
  },
  {
   "cell_type": "code",
   "execution_count": null,
   "metadata": {},
   "outputs": [],
   "source": []
  },
  {
   "cell_type": "markdown",
   "metadata": {},
   "source": [
    "Simpson's paradox: the largest eigenvector aligns closely with Xsys"
   ]
  },
  {
   "cell_type": "code",
   "execution_count": 35,
   "metadata": {},
   "outputs": [
    {
     "data": {
      "text/plain": [
       "0.9384947675476621"
      ]
     },
     "execution_count": 35,
     "metadata": {},
     "output_type": "execute_result"
    }
   ],
   "source": [
    "largest_ev_dot_error_vec=largest_eigenvector.T @ norm_error_vec\n",
    "largest_ev_dot_error_vec"
   ]
  },
  {
   "cell_type": "code",
   "execution_count": 36,
   "metadata": {},
   "outputs": [],
   "source": [
    "# second_ev_dot_x1y1=second_eigenvector.T @ norm_x1y1\n",
    "# second_ev_dot_x1y1\n",
    "# second_ev_dot_x2y2=second_eigenvector.T @ norm_x2y2\n",
    "# second_ev_dot_x2y2"
   ]
  },
  {
   "cell_type": "code",
   "execution_count": 37,
   "metadata": {},
   "outputs": [
    {
     "data": {
      "text/plain": [
       "0.34529345676635703"
      ]
     },
     "execution_count": 37,
     "metadata": {},
     "output_type": "execute_result"
    }
   ],
   "source": [
    "second_ev_dot_error_vec=second_eigenvector.T @ norm_error_vec\n",
    "second_ev_dot_error_vec"
   ]
  },
  {
   "cell_type": "code",
   "execution_count": 38,
   "metadata": {
    "scrolled": true
   },
   "outputs": [
    {
     "data": {
      "image/png": "[encoded data removed]",
      "text/plain": [
       "<Figure size 432x288 with 1 Axes>"
      ]
     },
     "metadata": {
      "needs_background": "light"
     },
     "output_type": "display_data"
    }
   ],
   "source": [
    "import matplotlib.pyplot as plt\n",
    "\n",
    "# Values from the outputs related to dot products\n",
    "eigenvalues = [largest_ev_dot_error_vec, second_ev_dot_error_vec]\n",
    "eigenvectors = ['largest_eigenvector', 'second_eigenvector']\n",
    "\n",
    "# Creating the bar plot with thinner bars\n",
    "plt.bar(eigenvectors, eigenvalues, color=['black', 'black'], width=0.4)  # Adjust the width here\n",
    "plt.ylabel('Dot Product')\n",
    "plt.title('Dot Product of Eigenvector with Error Vector')\n",
    "plt.savefig('simpsons_barplot.pdf')\n",
    "plt.show()"
   ]
  },
  {
   "cell_type": "markdown",
   "metadata": {},
   "source": [
    "We illustrate Multicollinearity as another data setting under which AMIP and 1sN may fail. This example is also set up with two populations of points. Population A consisted of $<1%$ of the datapoints. The DGP for population A is $X \\sim N(-1, 0.01)$ and $Y = -5X - 10 + \\epsilon$, while that of population B is $X \\sim N(0, 0.001)$ and $Y = -X + \\epsilon$, where $\\epsilon \\sim N(0, 1)$.\n"
   ]
  },
  {
   "cell_type": "code",
   "execution_count": 39,
   "metadata": {},
   "outputs": [
    {
     "name": "stdout",
     "output_type": "stream",
     "text": [
      "Condition number of full dataset: 1.9617093614469026\n",
      "Condition number Pop A: 6.268069735836706 Pop B: 2.0390310495837616\n"
     ]
    }
   ],
   "source": [
    "print(\n",
    "    f\"Condition number of full dataset: {np.linalg.cond(x)}\"\n",
    ")\n",
    "\n",
    "print(\n",
    "    f\"Condition number Pop A: {np.linalg.cond(x1)} Pop B: {np.linalg.cond(x2)}\"\n",
    ")"
   ]
  },
  {
   "cell_type": "markdown",
   "metadata": {},
   "source": [
    "# Why does the error vector align with the largest eigenvector of the diff in inverse hessians?\n",
    "\n",
    "notice that the largest eigenvector aligns well with the vector e1 = (0, 1). this is why the error is large in x, but is it large in the intercept?\n",
    "\n",
    "This is because Xs^Trs = (\\sum r_i , \\sum r_i x_i). In order for Xs^Trs \\approx (0, 1), and more generally (0, 1, 0, 0, 0) when our axis of interest is ei, we must have that \\sum r_i x_i >> \\sum r_i x_j. This means that the reason this counterexample is happening is because the outlier blob has super large (xi values) (in the case where the inliers are mean-centered, it means they are far from the inlier blob in the ei direction, relative to the other directions.)"
   ]
  },
  {
   "cell_type": "code",
   "execution_count": null,
   "metadata": {},
   "outputs": [],
   "source": []
  },
  {
   "cell_type": "code",
   "execution_count": 40,
   "metadata": {
    "scrolled": true
   },
   "outputs": [
    {
     "data": {
      "text/plain": [
       "array([[-1.21509368e-05, -6.15166560e-05],\n",
       "       [-6.15166560e-05, -3.41555313e-04]])"
      ]
     },
     "execution_count": 40,
     "metadata": {},
     "output_type": "execute_result"
    }
   ],
   "source": [
    "M"
   ]
  },
  {
   "cell_type": "code",
   "execution_count": 41,
   "metadata": {},
   "outputs": [
    {
     "name": "stdout",
     "output_type": "stream",
     "text": [
      "eigenvalues: [3.52668681e-04 1.03756888e-06]\n",
      "[[-0.17777848 -0.98407053]\n",
      " [-0.98407053  0.17777848]]\n"
     ]
    }
   ],
   "source": [
    "# compute the Singular Value Decomposition\n",
    "U, s, V = np.linalg.svd(M)\n",
    "print(f'eigenvalues: {s}')\n",
    "print(U)\n",
    "\n",
    "# The operator norm is the largest singular value\n",
    "normM = np.max(s)\n",
    "# print(s)\n",
    "\n",
    "largest_eigenvector = U[:, 0] # Simpson's Paradox: Largest eigenvalue is 4.00e-03.\n",
    "second_eigenvector = U[:, 1]"
   ]
  },
  {
   "cell_type": "code",
   "execution_count": 42,
   "metadata": {},
   "outputs": [
    {
     "data": {
      "text/plain": [
       "0.00034705090538347555"
      ]
     },
     "execution_count": 42,
     "metadata": {},
     "output_type": "execute_result"
    }
   ],
   "source": [
    "# vector norm of M[:, 1]\n",
    "np.sqrt(M[0,1]**2 + M[1,1]**2)"
   ]
  },
  {
   "cell_type": "code",
   "execution_count": 43,
   "metadata": {},
   "outputs": [
    {
     "data": {
      "text/plain": [
       "6.270521693379057e-05"
      ]
     },
     "execution_count": 43,
     "metadata": {},
     "output_type": "execute_result"
    }
   ],
   "source": [
    "# vector norm of M[:, 0]\n",
    "np.sqrt(M[0,0]**2 + M[1,0]**2)"
   ]
  },
  {
   "cell_type": "code",
   "execution_count": 44,
   "metadata": {},
   "outputs": [
    {
     "data": {
      "text/plain": [
       "array([-0.17725543, -0.98416488])"
      ]
     },
     "execution_count": 44,
     "metadata": {},
     "output_type": "execute_result"
    }
   ],
   "source": [
    "M1_norm = normalize_vector(M[:,1])\n",
    "M1_norm"
   ]
  },
  {
   "cell_type": "code",
   "execution_count": 45,
   "metadata": {},
   "outputs": [
    {
     "data": {
      "image/png": "[encoded data removed]",
      "text/plain": [
       "<Figure size 576x432 with 1 Axes>"
      ]
     },
     "metadata": {
      "needs_background": "light"
     },
     "output_type": "display_data"
    }
   ],
   "source": [
    "import numpy as np\n",
    "import matplotlib.pyplot as plt\n",
    "\n",
    "# Define three vectors\n",
    "# v1 = np.array([-1.42243630e-04, -3.99934473e-03]) # M[:, 1]\n",
    "v1 = M1_norm\n",
    "# v2 = np.array([[-0.03937332, -0.99922457]]) # error vector\n",
    "v2 = norm_error_vec\n",
    "\n",
    "# Plotting\n",
    "plt.figure(figsize=(8, 6))\n",
    "plt.quiver(0, 0, v1[0], v1[1], angles='xy', scale_units='xy', scale=1, color=\"blue\", label=\"M[:, 1]\")\n",
    "plt.quiver(0, 0, v2[0], v2[1], angles='xy', scale_units='xy', scale=1, color=\"red\", label=\"error vector\")\n",
    "\n",
    "# Setting the limits and labels\n",
    "plt.xlim(-1.5, 1.5)\n",
    "plt.ylim(-1.5, 1.5)\n",
    "plt.axhline(0, color='black', linewidth=0.5)\n",
    "plt.axvline(0, color='black', linewidth=0.5)\n",
    "plt.grid(True)\n",
    "plt.xlabel('e0', fontsize=16)  # Larger font for x-axis label\n",
    "plt.ylabel('e1', fontsize=16)  # Larger font for y-axis label\n",
    "\n",
    "# Set the size of tick marks\n",
    "plt.xticks(fontsize=14)  # Larger ticks for x-axis\n",
    "plt.yticks(fontsize=14)  # Larger ticks for y-axis\n",
    "\n",
    "plt.title('Plot of Simpson`s Paradox', fontsize=22)\n",
    "plt.legend(fontsize=16)\n",
    "plt.show()"
   ]
  },
  {
   "cell_type": "code",
   "execution_count": 46,
   "metadata": {},
   "outputs": [
    {
     "data": {
      "text/plain": [
       "array([366.28761036, 497.89723719])"
      ]
     },
     "execution_count": 46,
     "metadata": {},
     "output_type": "execute_result"
    }
   ],
   "source": [
    "# Xs^Trs = (\\sum_i r_i , \\sum_i xiri)\n",
    "rs = (y1 - x1 @ lr.beta)\n",
    "rs\n",
    "xstrs = x1.T @ rs\n",
    "xstrs"
   ]
  },
  {
   "cell_type": "code",
   "execution_count": 47,
   "metadata": {},
   "outputs": [
    {
     "data": {
      "text/plain": [
       "array([34.5867731 , 38.70444145, 36.57972755, 36.64588777, 34.6870448 ,\n",
       "       37.58083667, 36.67273912, 35.93541166, 37.77812284, 37.1166254 ])"
      ]
     },
     "execution_count": 47,
     "metadata": {},
     "output_type": "execute_result"
    }
   ],
   "source": [
    "rs"
   ]
  },
  {
   "cell_type": "code",
   "execution_count": 48,
   "metadata": {},
   "outputs": [
    {
     "data": {
      "text/plain": [
       "array([65.09321221, 46.44837207, 54.48071195, 77.70564812, 67.07707864,\n",
       "       19.21737648, 54.09391146, 33.21586987, 35.82841561, 44.73664079])"
      ]
     },
     "execution_count": 48,
     "metadata": {},
     "output_type": "execute_result"
    }
   ],
   "source": [
    "x1[:, 1] *  rs"
   ]
  },
  {
   "cell_type": "code",
   "execution_count": 49,
   "metadata": {},
   "outputs": [
    {
     "data": {
      "text/plain": [
       "array([1.88202617, 1.2000786 , 1.48936899, 2.1204466 , 1.933779  ,\n",
       "       0.51136106, 1.47504421, 0.9243214 , 0.94839057, 1.20529925])"
      ]
     },
     "execution_count": 49,
     "metadata": {},
     "output_type": "execute_result"
    }
   ],
   "source": [
    "x1[:, 1] "
   ]
  },
  {
   "cell_type": "code",
   "execution_count": 50,
   "metadata": {},
   "outputs": [
    {
     "data": {
      "image/png": "[encoded data removed]",
      "text/plain": [
       "<Figure size 648x504 with 1 Axes>"
      ]
     },
     "metadata": {
      "needs_background": "light"
     },
     "output_type": "display_data"
    }
   ],
   "source": [
    "# V. Plot Points Dropped\n",
    "\n",
    "plt.figure(figsize=(9, 7))\n",
    "\n",
    "plt.scatter(orig_df[:10]['x1'], orig_df[:10]['y'], marker='o', color='black', label='Pop. A', s=56) # pop A\n",
    "plt.scatter(orig_df[10:]['x1'], orig_df[10:]['y'], marker='x', color='r', label='Pop. B', s=56) # pop B\n",
    "\n",
    "plt.xlabel('x', fontsize=22)  # Larger font for x-axis label\n",
    "plt.ylabel('y', fontsize=22)  # Larger font for y-axis label\n",
    "\n",
    "# Set the size of tick marks\n",
    "plt.xticks(fontsize=12)  # Larger ticks for x-axis\n",
    "plt.yticks(fontsize=12)  # Larger ticks for y-axis\n",
    "\n",
    "plt.xlabel('x')\n",
    "plt.ylabel('y')\n",
    "\n",
    "# Line of best fit\n",
    "x_values = np.linspace(min(orig_df['x1']), max(orig_df['x1']), 100) # Define range of x values\n",
    "y_values = lr.beta[1] * x_values + lr.beta[0] # Calculate corresponding y values based on y = 2x\n",
    "\n",
    "# Define the vector x\\sy\\s\n",
    "vector_x = 5*norm_error_vec[0] \n",
    "vector_y = 5*norm_error_vec[1] \n",
    "\n",
    "# Plot the vector starting from the origin (0,0)\n",
    "plt.quiver(0, 0, vector_x, vector_y, angles='xy', scale_units='xy', scale=1, color='blue', label='X\\sy\\s vector')\n",
    "\n",
    "# Define the vector largest_eigenvector\n",
    "eigvec_x = 5*largest_eigenvector[0] \n",
    "eigvec_y = 5*largest_eigenvector[1] \n",
    "\n",
    "# Plot the vector starting from the origin (0,0)\n",
    "plt.quiver(0, 0, eigvec_x, eigvec_y, angles='xy', scale_units='xy', scale=1, color='gray', \n",
    "           label='largest eigenvector of (xtxinv - x\\stx\\sinv)')\n",
    "\n",
    "\n",
    "\n",
    "plt.plot(x_values, y_values, color='black', linestyle='--', label='line-of-best-fit full data')\n",
    "plt.legend(fontsize=12)\n",
    "# plt.savefig('simpsons_may17.pdf')\n",
    "# plt.savefig('simpsons_may18.pdf')\n",
    "\n",
    "plt.show()"
   ]
  },
  {
   "cell_type": "markdown",
   "metadata": {},
   "source": [
    "### Operator Norm of M\n",
    "Largest eigenvalue is 4.00e-03"
   ]
  },
  {
   "cell_type": "markdown",
   "metadata": {},
   "source": [
    "### Cos(theta)\n",
    "the cosine similarity between the largest eigenvector and the error vector is 0.99."
   ]
  },
  {
   "cell_type": "code",
   "execution_count": 51,
   "metadata": {},
   "outputs": [
    {
     "data": {
      "image/png": "[encoded data removed]",
      "text/plain": [
       "<Figure size 576x432 with 1 Axes>"
      ]
     },
     "metadata": {
      "needs_background": "light"
     },
     "output_type": "display_data"
    }
   ],
   "source": [
    "import numpy as np\n",
    "import matplotlib.pyplot as plt\n",
    "\n",
    "# Define three vectors\n",
    "v1 = np.array([-0.03554429, -0.9993681])\n",
    "v2 = np.array([-0.03937332, -0.99922457])\n",
    "\n",
    "# Plotting\n",
    "plt.figure(figsize=(8, 6))\n",
    "plt.quiver(0, 0, v1[0], v1[1], angles='xy', scale_units='xy', scale=1, color=\"blue\", label=\"largest eigenvector\")\n",
    "plt.quiver(0, 0, v2[0], v2[1], angles='xy', scale_units='xy', scale=1, color=\"red\", label=\"error vector\")\n",
    "\n",
    "# Setting the limits and labels\n",
    "plt.xlim(-1, 1)\n",
    "plt.ylim(-1, 1)\n",
    "plt.axhline(0, color='black', linewidth=0.5)\n",
    "plt.axvline(0, color='black', linewidth=0.5)\n",
    "plt.grid(True)\n",
    "plt.xlabel('e0', fontsize=16)  # Larger font for x-axis label\n",
    "plt.ylabel('e1', fontsize=16)  # Larger font for y-axis label\n",
    "\n",
    "# Set the size of tick marks\n",
    "plt.xticks(fontsize=14)  # Larger ticks for x-axis\n",
    "plt.yticks(fontsize=14)  # Larger ticks for y-axis\n",
    "\n",
    "plt.title('Simpson`s Paradox', fontsize=22)\n",
    "plt.legend(fontsize=16)\n",
    "plt.savefig('simpsons_paradox_vector_plot.pdf')\n",
    "plt.show()"
   ]
  },
  {
   "cell_type": "code",
   "execution_count": null,
   "metadata": {},
   "outputs": [],
   "source": []
  },
  {
   "cell_type": "code",
   "execution_count": null,
   "metadata": {},
   "outputs": [],
   "source": []
  }
 ],
 "metadata": {
  "kernelspec": {
   "display_name": "Python 3",
   "language": "python",
   "name": "python3"
  },
  "language_info": {
   "codemirror_mode": {
    "name": "ipython",
    "version": 3
   },
   "file_extension": ".py",
   "mimetype": "text/x-python",
   "name": "python",
   "nbconvert_exporter": "python",
   "pygments_lexer": "ipython3",
   "version": "3.8.5"
  }
 },
 "nbformat": 4,
 "nbformat_minor": 4
}
