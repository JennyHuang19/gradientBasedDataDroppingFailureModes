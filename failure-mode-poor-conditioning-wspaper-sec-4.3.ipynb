{
 "cells": [
  {
   "cell_type": "markdown",
   "metadata": {},
   "source": [
    "# Helper Functions"
   ]
  },
  {
   "cell_type": "code",
   "execution_count": 1,
   "metadata": {},
   "outputs": [],
   "source": [
    "def normalize_vector(v):\n",
    "    norm = np.linalg.norm(v)\n",
    "    if norm == 0:\n",
    "        return v  # Cannot normalize a zero vector\n",
    "    return v / norm\n",
    "\n",
    "def create_orig_df(x, lr):\n",
    "    '''\n",
    "    x: design matrix.\n",
    "    lr: linear regression object.\n",
    "    '''\n",
    "    scores = -lr.influence_scores()[1]\n",
    "    newton_scores = -lr.one_step_newton()[1]\n",
    "\n",
    "    # sort indices in ascending order (influence scores are negative, so the largest magnitude scores appear first.)\n",
    "    inds = np.argsort(scores)\n",
    "    print(\"inds\", inds[:10])\n",
    "    original_inds = inds # original_inds\n",
    "\n",
    "    newton_inds = np.argsort(newton_scores)\n",
    "    print(\"newton inds\", newton_inds[:10])\n",
    "    original_newton_inds = newton_inds \n",
    "\n",
    "    # sort scores.\n",
    "    sorted_scores = scores[inds]\n",
    "    print(\"sorted_scores\", sorted(scores)[:10])\n",
    "    original_sorted_scores = sorted_scores\n",
    "\n",
    "    sorted_newton_scores = newton_scores[inds]\n",
    "    print(\"sorted_newton_scores\", sorted_newton_scores[:10])\n",
    "    original_sorted_newton_scores = sorted_newton_scores\n",
    "\n",
    "    # residuals\n",
    "    residuals = lr.residual()\n",
    "    # print(\"residuals\", residuals[:10])\n",
    "    # leverages\n",
    "    leverages = lr.leverage_scores()\n",
    "    # print(\"leverages\", leverages[:10])\n",
    "\n",
    "    # x's\n",
    "    intercept = [pt[0] for pt in x]\n",
    "    x1 = [pt[1] for pt in x]\n",
    "    # x2 = [pt[2] for pt in x]\n",
    "\n",
    "    # x1 = [pt[0] for pt in x]\n",
    "    # x2 = [pt[1] for pt in x]\n",
    "\n",
    "    # create a df with residuals, leverages, and coordinates.\n",
    "    orig_df = pd.DataFrame({'x1': x1, 'y': y, \n",
    "                                      'residual': residuals, 'leverage': leverages, \n",
    "                            'influence': scores, 'newton': newton_scores})\n",
    "    \n",
    "    print(orig_df[:13])\n",
    "    \n",
    "    return orig_df, inds, scores, newton_inds, newton_scores\n",
    "\n",
    "def plot_dropped_point(x, y, index_to_remove):\n",
    "    '''\n",
    "    orig_df: df sorted by original indexing (where the outlier population comes first).\n",
    "    index_to_drop: index returned from sorting by influence (or one-step newton) scores.\n",
    "    method: \"influence\" or \"newton\"\n",
    "    '''\n",
    "    \n",
    "    # V. Plot Dropped Point at Current Iteration\n",
    "    plt.figure(figsize=(9, 7))\n",
    "    plt.scatter(x.T[1][index_to_remove], y[index_to_remove], marker='x', color='black', label='Dropped point')\n",
    "    \n",
    "    # match the window of the original plot.\n",
    "    plt.xlim(-2, 0.05)\n",
    "    plt.ylim(-7, 3)\n",
    "    \n",
    "    plt.xlabel('x1')\n",
    "    plt.ylabel('y')\n",
    "    plt.title('Dropped Point')\n",
    "    plt.legend()\n",
    "    \n",
    "    plt.show()\n",
    "    \n",
    "    return\n",
    "\n",
    "def create_plot(orig_df):\n",
    "    '''\n",
    "    orig_df: output from the helper function above.\n",
    "    '''\n",
    "    \n",
    "    # IV. Sort DF by influence score\n",
    "    sorted_if_df = orig_df.sort_values(by='influence', ascending=True)\n",
    "    print(\"index 0 in create_plot\", sorted_if_df.index[0])\n",
    "    \n",
    "    # sorted_if_df # the indices here are the order which amip drops points.\n",
    "    index = range(0, len(sorted_if_df))\n",
    "    \n",
    "    sorted_if_df['sorted_idx'] = index\n",
    "    \n",
    "    # V. Plot Points Dropped\n",
    "    plt.figure(figsize=(9, 7))\n",
    "\n",
    "    plt.scatter(orig_df[:10]['x1'], orig_df[:10]['y'], marker='x', color='black', label='Pop. A') # pop A\n",
    "    plt.scatter(orig_df[10:]['x1'], orig_df[10:]['y'], marker='x', color='r', label='Pop. B') # pop B\n",
    "\n",
    "\n",
    "    # Add dropped order positioned by each point\n",
    "    for index, row in sorted_if_df.iterrows():\n",
    "        if row['sorted_idx'] <= 9: # indices 2,3,4 are right on top of one another.\n",
    "            plt.text(row['x1'], row['y'], int(row['sorted_idx']), ha='left', va='top', fontsize=20)\n",
    "\n",
    "\n",
    "    plt.xlabel('x1')\n",
    "    plt.ylabel('y')\n",
    "    plt.title('Scores Ordered')\n",
    "    plt.legend()\n",
    "    plt.show()\n",
    "    \n",
    "    return"
   ]
  },
  {
   "cell_type": "code",
   "execution_count": 2,
   "metadata": {},
   "outputs": [],
   "source": [
    "from dataclasses import dataclass\n",
    "from typing import Optional, Tuple\n",
    "\n",
    "import numpy as np\n",
    "import numpy.typing\n",
    "\n",
    "import numpy as np\n",
    "import matplotlib.pyplot as plt\n",
    "import pandas as pd\n",
    "import linear_regression\n",
    "from linear_regression import LinearRegression"
   ]
  },
  {
   "cell_type": "markdown",
   "metadata": {},
   "source": [
    "# Multicollinearity Example with Noise"
   ]
  },
  {
   "cell_type": "markdown",
   "metadata": {},
   "source": [
    "In this example of multicollinearity, we present two Gaussian distributions, where the smaller population (population A) consists of $<1\\%$ of the datapoints. Upon dropping population A, most of the variation along the x axis is lost, and collinearity becomes a concern between x and the intercept. Here, dropping only 10 datapoints in population A suffices to flip the sign of the effect size from 3.90 to -0.79.\n",
    "\n",
    "This is another example in which AMIP fails in both type (i) and type (ii) sense. That is, AMIP approximates that the largest effect size for the removal of 10 datapoints is -0.48 (failure type i), which is not enough to change the sign. In addition, AMIP fails to correctly identify subset A as the correct subset to remove (failure type ii). Similarly, 1sN fails in this case. That is, 1sN approximates that the largest effect size for the removal of 10 datapoints is -0.52 (failure type i). 1sN also fails to correctly identify subset A as the correct subset to remove (failure type ii). In running the greedy versions of these algorithms on this Simpson's paradox example, we find that both greedy AMIP and greedy 1sN are able to succeed in identifying population A as an influential subset that reverses the sign.\n",
    "\n",
    "In running the greedy versions of these algorithms on this multicollinearity example, we find that both greedy AMIP and greedy 1sN are able to successfully identify population A as the influential subset that reverses the sign.\n",
    "\n",
    "\n",
    "The variance in x for population A is 0.01 while the variance for population B is 1e-3. The residual for population A is 1.\n",
    "The estimated fit for the full dataset is 3.90. The fit for pop A is -9.25 and the fit for pop B is -0.79. "
   ]
  },
  {
   "cell_type": "code",
   "execution_count": 3,
   "metadata": {},
   "outputs": [
    {
     "name": "stdout",
     "output_type": "stream",
     "text": [
      "<class 'numpy.ndarray'>\n"
     ]
    }
   ],
   "source": [
    "np.random.seed(2)\n",
    "# Mixing proportions\n",
    "total_observations = 1010\n",
    "num_observations_pop_1 = 10 # A (small fraction)\n",
    "num_observations_pop_2 = total_observations - num_observations_pop_1 # B\n",
    "\n",
    "# I. Generate the data.\n",
    "mean_pop_1 = np.array([-1])\n",
    "mean_pop_2 = np.array([0])\n",
    "vars_pop_1 = np.array([[.01]])\n",
    "vars_pop_2 = np.array([[1e-3]])\n",
    "\n",
    "# generate the X values for two populations.\n",
    "x1 = np.random.multivariate_normal(mean_pop_1, vars_pop_1, num_observations_pop_1)\n",
    "x2 = np.random.multivariate_normal(mean_pop_2, vars_pop_2, num_observations_pop_2)\n",
    "\n",
    "x = np.append(x1, x2, axis=0) # All x samples\n",
    "print(type(x))\n",
    "x1_0 = [pt[0] for pt in x1]\n",
    "# x1_1 = [pt[1] for pt in x1]\n",
    "x2_0 = [pt[0] for pt in x2]\n",
    "# x2_1 = [pt[1] for pt in x2]\n",
    "\n",
    "\n",
    "# add intercept term.\n",
    "df = pd.DataFrame(x)\n",
    "df.insert(0, 'Ones', 1)\n",
    "arr = df.values\n",
    "x = arr\n",
    "# (3/20: make sure that x1, x2 come from this new design matrix.)\n",
    "x1 = x[:10]\n",
    "x2 = x[10:]\n",
    "\n",
    "# Generating the Y values.\n",
    "epsilon = np.random.normal(0, 1, num_observations_pop_1) # eps is the variance of the noise distribution.\n",
    "slope = -1\n",
    "intercept = -10\n",
    "\n",
    "y1 = []\n",
    "for i in range(num_observations_pop_1):\n",
    "    y1.append(slope*x1_0[i] + intercept + epsilon[i]) # change here to add residual noise.\n",
    "\n",
    "y2 = np.random.randn(1, num_observations_pop_2) # No(0, 1)\n",
    "y2 = y2[0] # format results of np.randn \n",
    "y = np.concatenate([y1, y2], axis=0)"
   ]
  },
  {
   "cell_type": "code",
   "execution_count": 4,
   "metadata": {},
   "outputs": [
    {
     "data": {
      "text/plain": [
       "array([[ 1.        , -1.04167578],\n",
       "       [ 1.        , -1.00562668],\n",
       "       [ 1.        , -1.21361961],\n",
       "       [ 1.        , -0.83597292],\n",
       "       [ 1.        , -1.17934356],\n",
       "       [ 1.        , -1.08417474],\n",
       "       [ 1.        , -0.94971186],\n",
       "       [ 1.        , -1.12452881],\n",
       "       [ 1.        , -1.10579522],\n",
       "       [ 1.        , -1.09090076]])"
      ]
     },
     "execution_count": 4,
     "metadata": {},
     "output_type": "execute_result"
    }
   ],
   "source": [
    "x1"
   ]
  },
  {
   "cell_type": "code",
   "execution_count": 5,
   "metadata": {},
   "outputs": [
    {
     "name": "stdout",
     "output_type": "stream",
     "text": [
      "Condition number of full dataset: 9.073893742551533\n",
      "Condition number Pop A: 20.258489328645037 Pop B: 31.680064947455445\n"
     ]
    }
   ],
   "source": [
    "# Compute condition numbers\n",
    "print(\n",
    "    f\"Condition number of full dataset: {np.linalg.cond(x)}\"\n",
    ")\n",
    "\n",
    "print(\n",
    "    f\"Condition number Pop A: {np.linalg.cond(x1)} Pop B: {np.linalg.cond(x2)}\"\n",
    ")"
   ]
  },
  {
   "cell_type": "code",
   "execution_count": 6,
   "metadata": {},
   "outputs": [
    {
     "name": "stdout",
     "output_type": "stream",
     "text": [
      "Estimated beta1 with full dataset: 7.402664577586847\n",
      "Estimated beta1 pop A: -0.018852211447998105\n",
      "Estimated beta1 pop B: -1.0492493650237353\n",
      "inds [  0   5   1   3   6   7   4 775 237 405]\n",
      "newton inds [  0   5   1   6   3   7   4 775 237 405]\n",
      "sorted_scores [-0.15090984950735342, -0.13860347267527115, -0.1386006053366575, -0.13830674807447094, -0.13749099266116713, -0.05350326973254714, -0.015388890665556544, -0.008193260029027063, -0.008171520007993475, -0.006917171904659117]\n",
      "sorted_newton_scores [-0.16536676 -0.15310298 -0.15089526 -0.14656462 -0.14826635 -0.0595732\n",
      " -0.01733132 -0.00820512 -0.00818285 -0.00692566]\n",
      "          x1         y  residual  leverage  influence    newton\n",
      "0  -1.041676 -9.512121 -1.798067  0.087423  -0.150910 -0.165367\n",
      "1  -1.005627 -9.158502 -1.711308  0.081478  -0.138601 -0.150895\n",
      "2  -1.213620 -8.361579  0.625317  0.118695   0.061245  0.069493\n",
      "3  -0.835973 -8.250522 -2.059217  0.056343  -0.138307 -0.146565\n",
      "4  -1.179344 -8.894897 -0.161736  0.112076  -0.015389 -0.017331\n",
      "5  -1.084175 -9.614648 -1.585989  0.094704  -0.138603 -0.153103\n",
      "6  -0.949712 -8.832092 -1.798817  0.072676  -0.137491 -0.148266\n",
      "7  -1.124529 -8.917402 -0.590015  0.101890  -0.053503 -0.059573\n",
      "8  -1.105795 -8.165146  0.023563  0.098521   0.002101  0.002330\n",
      "9  -1.090901 -7.730504  0.347946  0.095884   0.030599  0.033844\n",
      "10  0.017439  1.915679  1.789465  0.001060  -0.004270 -0.004274\n",
      "11  0.072486 -1.660405 -2.194117  0.001570   0.015078  0.015102\n",
      "12  0.001314 -0.492985 -0.499832  0.001004   0.000536  0.000536\n",
      "amip additive scores: -0.6788598617658639\n",
      "newton additive scores: -0.7354334138049647\n",
      "A 0.08667477955401838 B 0.0018310595558209183\n",
      "inds [  0   5   1   3   6   7   4 775 237 405]\n"
     ]
    },
    {
     "data": {
      "image/png": "[encoded data removed]",
      "text/plain": [
       "<Figure size 648x504 with 1 Axes>"
      ]
     },
     "metadata": {
      "needs_background": "light"
     },
     "output_type": "display_data"
    }
   ],
   "source": [
    "# II. Fit the regression.\n",
    "lr = LinearRegression(x=x.T, y=y)\n",
    "lr.fit()\n",
    "\n",
    "print(\n",
    "    f\"Estimated beta1 with full dataset: {lr.beta[1]}\"\n",
    ")  # We care about first coefficient (pop A: y is perfectly correlated (slope=1) with x1.)\n",
    "\n",
    "modified_lr_a = LinearRegression(x=x1.T, y=y1)\n",
    "modified_lr_a.fit()\n",
    "print(\n",
    "    f\"Estimated beta1 pop A: {modified_lr_a.beta[1]}\"\n",
    ")\n",
    "\n",
    "modified_lr = LinearRegression(x=x2.T, y=y2)\n",
    "modified_lr.fit()\n",
    "print(\n",
    "    f\"Estimated beta1 pop B: {modified_lr.beta[1]}\"\n",
    ")\n",
    "\n",
    "### V. CREATE DF\n",
    "orig_df, inds, scores, newton_inds, newton_scores = create_orig_df(x, lr)\n",
    "print(f\"amip additive scores: {sum(scores[:10])}\")\n",
    "print(f'newton additive scores: {sum(newton_scores[:10])}')\n",
    "\n",
    "\n",
    "# III. Compute influence scores for first coefficient.\n",
    "# scores = -lr.influence_scores()[0] # effect of removing a data point.\n",
    "scores = -lr.influence_scores()[1] # after adding an intercept term, take the scores of coefficient 1.\n",
    "\n",
    "print(\"A\", np.mean(np.abs(scores[:10])), \"B\", np.mean(np.abs(scores[10:1000])))\n",
    "\n",
    "# sort indices in ascending order (influence scores are negative, so the largest magnitude scores appear first.)\n",
    "inds = np.argsort(scores)\n",
    "print(\"inds\", inds[:10])\n",
    "original_inds = inds\n",
    "\n",
    "### V. Plot coordinates by AMIP drop order.\n",
    "plt.figure(figsize=(9, 7))\n",
    "plt.scatter(orig_df[:10]['x1'], orig_df[:10]['y'], marker='o', color='black', label='Pop. A', s=56) # pop A\n",
    "plt.scatter(orig_df[10:]['x1'], orig_df[10:]['y'], marker='x', color='r', label='Pop. B', s=56) # pop B\n",
    "\n",
    "# Add dropped order positioned by each point\n",
    "#     for index, row in sorted_if_df.iterrows():\n",
    "#         if row['sorted_idx'] < 10:\n",
    "#             plt.text(row['x1']-0.01, row['y'], int(row['sorted_idx']), ha='right', va='bottom', fontsize=20)\n",
    "\n",
    "\n",
    "plt.xlim(-1.5, 0.5)\n",
    "\n",
    "plt.xlabel('x', fontsize=26)  # Larger font for x-axis label\n",
    "plt.ylabel('y', fontsize=26)  # Larger font for y-axis label\n",
    "\n",
    "# Set the size of tick marks\n",
    "plt.xticks(np.arange(-2, 0.6, 0.5), fontsize=20)\n",
    "plt.yticks(np.arange(-9, 6, 4), fontsize=20) \n",
    "\n",
    "# plt.title('Multicollinearity', fontsize=22)\n",
    "plt.legend(fontsize=22)\n",
    "plt.savefig('multicollinearity_may_26.pdf')\n",
    "\n",
    "plt.show() "
   ]
  },
  {
   "cell_type": "code",
   "execution_count": 7,
   "metadata": {},
   "outputs": [
    {
     "name": "stdout",
     "output_type": "stream",
     "text": [
      "-0.6788598617658639\n"
     ]
    },
    {
     "data": {
      "text/plain": [
       "8.08152443935271"
      ]
     },
     "execution_count": 7,
     "metadata": {},
     "output_type": "execute_result"
    }
   ],
   "source": [
    "# (June 25th, 2024) Additive influence of the first 10 points\n",
    "print(sum(scores[:10]))\n",
    "lr.beta[1] - sum(scores[:10])"
   ]
  },
  {
   "cell_type": "code",
   "execution_count": 8,
   "metadata": {},
   "outputs": [
    {
     "data": {
      "text/plain": [
       "8.451913942610583"
      ]
     },
     "execution_count": 8,
     "metadata": {},
     "output_type": "execute_result"
    }
   ],
   "source": [
    "# True change in fit.\n",
    "7.402664577586847 - -1.0492493650237353"
   ]
  },
  {
   "cell_type": "code",
   "execution_count": 9,
   "metadata": {},
   "outputs": [
    {
     "name": "stdout",
     "output_type": "stream",
     "text": [
      "predicted estimate:\n",
      "\n",
      "original estimate + amip additive scores: 6.723804715820983\n",
      "original estimate + newton additive scores: 6.667231163781882\n"
     ]
    }
   ],
   "source": [
    "# Predicted Estimate\n",
    "print('predicted estimate:\\n')\n",
    "print(f\"original estimate + amip additive scores: {lr.beta[1] + sum(scores[:10])}\")\n",
    "print(f'original estimate + newton additive scores: {lr.beta[1] + sum(newton_scores[:10])}')"
   ]
  },
  {
   "cell_type": "code",
   "execution_count": 10,
   "metadata": {},
   "outputs": [
    {
     "name": "stdout",
     "output_type": "stream",
     "text": [
      "(1000, 2)\n",
      "(1000,)\n",
      "(1010, 2)\n"
     ]
    }
   ],
   "source": [
    "# Refit after Removing Flagged Points\n",
    "# AMIP inds [  0   5   1   3   6   7   4 775 237 405]\n",
    "AMIP_inds= [0,5,1,3,6,7,4,775,237,405]\n",
    "new_x_amip= np.delete(x, AMIP_inds, axis=0)\n",
    "new_y_amip= np.delete(y, AMIP_inds, axis=0)\n",
    "print(new_x_amip.shape)\n",
    "print(new_y_amip.shape)\n",
    "print(x.shape)\n",
    "\n",
    "# newton inds [  0   5   1   6   3   7   4 775 237 405]\n",
    "newton_inds= [0,5,1,6,3,7,4,775,237,405]\n",
    "new_x_1sN= np.delete(x, newton_inds, axis=0)\n",
    "new_y_1sN= np.delete(y, newton_inds, axis=0)\n"
   ]
  },
  {
   "cell_type": "code",
   "execution_count": 11,
   "metadata": {},
   "outputs": [
    {
     "name": "stdout",
     "output_type": "stream",
     "text": [
      "Estimated beta1 with full dataset: 7.402664577586847\n",
      "Estimated beta1 after removing subset specified by AMIP: 5.375958690078178\n",
      "Difference in quantities: 2.026705887508669\n"
     ]
    }
   ],
   "source": [
    "# Refit after removing the points specified by AMIP and Additive 1sN (these indices are the same).\n",
    "lr = LinearRegression(x=x.T, y=y)\n",
    "lr.fit()\n",
    "\n",
    "print(\n",
    "    f\"Estimated beta1 with full dataset: {lr.beta[1]}\"\n",
    ")  # We care about first coefficient (pop A: y is perfectly correlated (slope=1) with x1.)\n",
    "\n",
    "modified_lr_amip = LinearRegression(x=new_x_amip.T, y=new_y_amip)\n",
    "modified_lr_amip.fit()\n",
    "print(\n",
    "    f\"Estimated beta1 after removing subset specified by AMIP: {modified_lr_amip.beta[1]}\"\n",
    ")\n",
    "print(\n",
    "    f\"Difference in quantities: {lr.beta[1] - modified_lr_amip.beta[1]}\"\n",
    ")"
   ]
  },
  {
   "cell_type": "code",
   "execution_count": 12,
   "metadata": {},
   "outputs": [
    {
     "name": "stdout",
     "output_type": "stream",
     "text": [
      "Estimated beta1 with full dataset: 7.402664577586847\n",
      "Estimated beta1 after removing subset specified by AMIP: 5.375958690078178\n",
      "Difference in quantities: 2.026705887508669\n"
     ]
    }
   ],
   "source": [
    "# Refit after removing the points specified by AMIP and Additive 1sN (these indices are the same).\n",
    "lr = LinearRegression(x=x.T, y=y)\n",
    "lr.fit()\n",
    "\n",
    "print(\n",
    "    f\"Estimated beta1 with full dataset: {lr.beta[1]}\"\n",
    ")  # We care about first coefficient (pop A: y is perfectly correlated (slope=1) with x1.)\n",
    "\n",
    "modified_lr_1sN = LinearRegression(x=new_x_1sN.T, y=new_y_1sN)\n",
    "modified_lr_1sN.fit()\n",
    "print(\n",
    "    f\"Estimated beta1 after removing subset specified by AMIP: {modified_lr_1sN.beta[1]}\"\n",
    ")\n",
    "print(\n",
    "    f\"Difference in quantities: {lr.beta[1] - modified_lr_1sN.beta[1]}\"\n",
    ")"
   ]
  },
  {
   "cell_type": "code",
   "execution_count": null,
   "metadata": {},
   "outputs": [],
   "source": []
  },
  {
   "cell_type": "markdown",
   "metadata": {},
   "source": [
    "# Greedy AMIP and Greedy Newton"
   ]
  },
  {
   "cell_type": "code",
   "execution_count": 13,
   "metadata": {
    "scrolled": false
   },
   "outputs": [
    {
     "ename": "NameError",
     "evalue": "name 'orig_x' is not defined",
     "output_type": "error",
     "traceback": [
      "\u001b[0;31m---------------------------------------------------------------------------\u001b[0m",
      "\u001b[0;31mNameError\u001b[0m                                 Traceback (most recent call last)",
      "\u001b[0;32m<ipython-input-13-0284786998d0>\u001b[0m in \u001b[0;36m<module>\u001b[0;34m\u001b[0m\n\u001b[1;32m      1\u001b[0m \u001b[0;31m# reset greedy loop.\u001b[0m\u001b[0;34m\u001b[0m\u001b[0;34m\u001b[0m\u001b[0;34m\u001b[0m\u001b[0m\n\u001b[0;32m----> 2\u001b[0;31m \u001b[0mx\u001b[0m \u001b[0;34m=\u001b[0m \u001b[0morig_x\u001b[0m\u001b[0;34m\u001b[0m\u001b[0;34m\u001b[0m\u001b[0m\n\u001b[0m\u001b[1;32m      3\u001b[0m \u001b[0my\u001b[0m \u001b[0;34m=\u001b[0m \u001b[0morig_y\u001b[0m\u001b[0;34m\u001b[0m\u001b[0;34m\u001b[0m\u001b[0m\n\u001b[1;32m      4\u001b[0m \u001b[0;34m\u001b[0m\u001b[0m\n\u001b[1;32m      5\u001b[0m \u001b[0;31m### BEGIN GREEDY AMIP LOOP (inds, x, y)\u001b[0m\u001b[0;34m\u001b[0m\u001b[0;34m\u001b[0m\u001b[0;34m\u001b[0m\u001b[0m\n",
      "\u001b[0;31mNameError\u001b[0m: name 'orig_x' is not defined"
     ]
    }
   ],
   "source": [
    "# reset greedy loop.\n",
    "x = orig_x\n",
    "y = orig_y\n",
    "\n",
    "### BEGIN GREEDY AMIP LOOP (inds, x, y)\n",
    "alpha = 0.01\n",
    "ctr = 0\n",
    "prev_beta = lr.beta[1] # initialize to the original beta estimate.\n",
    "dropped_order = []\n",
    "exact_changes_beta = []\n",
    "beta_estimates_greedy = []\n",
    "inds = original_inds # (4/01) start with the indices sorted according to the first round.\n",
    "\n",
    "\n",
    "# while lr.beta[1] >= 0:\n",
    "for _ in range(10):\n",
    "    print(f'interation {ctr}')\n",
    "\n",
    "    # 1. drop the datapoint with the most negative influence:\n",
    "    index_to_remove = inds[0]\n",
    "    print(\"index to remove\", index_to_remove)\n",
    "    \n",
    "    ### (4/08) plot the dropped point.\n",
    "    plot_dropped_point(x, y, index_to_remove)\n",
    "    \n",
    "    dropped_order.append(index_to_remove)\n",
    "\n",
    "    new_x = np.concatenate((x[:index_to_remove], x[index_to_remove + 1:]))\n",
    "    new_y = np.concatenate((y[:index_to_remove], y[index_to_remove + 1:]))\n",
    "\n",
    "    x = new_x\n",
    "    y = new_y\n",
    "\n",
    "    # 2. calculate the exact perturbation (ie. refit the lr to get the change in the coefficient.)\n",
    "    lr = LinearRegression(x=x.T, y=y)\n",
    "    lr.fit()\n",
    "    print(f'fitted beta1: {lr.beta[1]}')\n",
    "\n",
    "    # 3. compute ranked influence scores for all datapoints remaining.\n",
    "    if ctr == 11:\n",
    "        print(\"last point standing:\", scores[0])\n",
    "    \n",
    "    ### (4/01) CREATE PLOT.\n",
    "    orig_df, inds, scores, newton_inds, newton_scores = create_orig_df(x, lr)\n",
    "    create_plot(orig_df)\n",
    "\n",
    "    # 4. record: the exact change in beta.\n",
    "    beta_change = lr.beta[1] - prev_beta\n",
    "    exact_changes_beta.append(beta_change)\n",
    "    prev_beta = lr.beta[1]\n",
    "    beta_estimates_greedy.append(lr.beta[1])\n",
    "\n",
    "    # counter\n",
    "    ctr += 1\n",
    "\n",
    "#### Finish loop and print.\n",
    "print(\"dropped order: \\n\", dropped_order[:15]) # (4/01) see if this is in the first 10 points. -> yep, it is.\n",
    "print(\"exact (greedy) beta estimates: \\n\", beta_estimates_greedy[:15])\n",
    "####"
   ]
  },
  {
   "cell_type": "markdown",
   "metadata": {},
   "source": [
    "For this example with multicollinearity, the norm of (xtxinv - x2tx2inv) is much larger than in the Simpson's paradox examples. Also the direction of the largest eigenvector and eigenvalues don't align as well as they do in the simpson's paradox example."
   ]
  },
  {
   "cell_type": "markdown",
   "metadata": {},
   "source": [
    "# Investigate the Mechanism for Failure"
   ]
  },
  {
   "cell_type": "code",
   "execution_count": 14,
   "metadata": {},
   "outputs": [],
   "source": [
    "def normalize_vector(v):\n",
    "    norm = np.linalg.norm(v)\n",
    "    if norm == 0:\n",
    "        return v  # Cannot normalize a zero vector\n",
    "    return v / norm"
   ]
  },
  {
   "cell_type": "code",
   "execution_count": 15,
   "metadata": {},
   "outputs": [],
   "source": [
    "# May 16th: compute (xtxinv - x2tx2inv)\n",
    "xtxinv = np.linalg.inv(x.T @ x)\n",
    "x2tx2inv = np.linalg.inv(x2.T @ x2)\n",
    "M = xtxinv - x2tx2inv"
   ]
  },
  {
   "cell_type": "code",
   "execution_count": 16,
   "metadata": {},
   "outputs": [
    {
     "name": "stdout",
     "output_type": "stream",
     "text": [
      "0.9221259121151825\n",
      "[-3.95757454e-04 -9.99999922e-01]\n"
     ]
    }
   ],
   "source": [
    "# compute the Singular Value Decomposition\n",
    "U, s, V = np.linalg.svd(M)\n",
    "\n",
    "# The operator norm is the largest singular value\n",
    "normM = np.max(s)\n",
    "print(normM) # in the multicollinearity example, we find that the largest eigenvalue is much larger than in the simpson's paradox example.\n",
    "\n",
    "largest_eigenvector = U[:, 0]\n",
    "second_eigenvector = U[:, 1]\n",
    "\n",
    "print(largest_eigenvector) # Multicollinearity: Largest eigenvalue of 0.922.\n",
    "# print(U)"
   ]
  },
  {
   "cell_type": "code",
   "execution_count": 17,
   "metadata": {},
   "outputs": [],
   "source": [
    "# x1y1 = x1.T @ y1\n",
    "# x1y1\n",
    "# x2y2 = x2.T @ y2\n",
    "# x2y2"
   ]
  },
  {
   "cell_type": "code",
   "execution_count": 18,
   "metadata": {},
   "outputs": [],
   "source": [
    "x1y1 = x1.T @ y1\n",
    "Sigma_s = x1.T @ x1\n",
    "Sigma_inv = np.linalg.inv(x.T @ x)\n",
    "xty = x.T @ y"
   ]
  },
  {
   "cell_type": "code",
   "execution_count": 19,
   "metadata": {},
   "outputs": [],
   "source": [
    "error_vec = x1y1 - Sigma_s @ Sigma_inv @ Sigma_s @ xty"
   ]
  },
  {
   "cell_type": "code",
   "execution_count": 20,
   "metadata": {},
   "outputs": [
    {
     "data": {
      "text/plain": [
       "array([ 0.68139114, -0.73191947])"
      ]
     },
     "execution_count": 20,
     "metadata": {},
     "output_type": "execute_result"
    }
   ],
   "source": [
    "norm_error_vec = normalize_vector(error_vec)\n",
    "norm_error_vec"
   ]
  },
  {
   "cell_type": "code",
   "execution_count": null,
   "metadata": {},
   "outputs": [],
   "source": []
  },
  {
   "cell_type": "code",
   "execution_count": 21,
   "metadata": {},
   "outputs": [],
   "source": [
    "# norm_x1y1 = normalize_vector(x1y1)\n",
    "# norm_x1y1\n",
    "# norm_x2y2 = normalize_vector(x2y2)\n",
    "# norm_x2y2"
   ]
  },
  {
   "cell_type": "code",
   "execution_count": 22,
   "metadata": {},
   "outputs": [],
   "source": [
    "# largest_eigenvector dot XsYs # Multicollinearity - the largest eigenvector does not align closely with error_vec.\n",
    "# largest_ev_dot_x1y1=largest_eigenvector.T @ norm_x1y1\n",
    "# largest_ev_dot_x1y1"
   ]
  },
  {
   "cell_type": "code",
   "execution_count": 23,
   "metadata": {},
   "outputs": [],
   "source": [
    "# largest_ev_dot_x2y2=largest_eigenvector.T @ norm_x2y2\n",
    "# largest_ev_dot_x2y2"
   ]
  },
  {
   "cell_type": "code",
   "execution_count": 24,
   "metadata": {},
   "outputs": [
    {
     "data": {
      "text/plain": [
       "0.7316497496457699"
      ]
     },
     "execution_count": 24,
     "metadata": {},
     "output_type": "execute_result"
    }
   ],
   "source": [
    "largest_ev_dot_error_vec=largest_eigenvector.T @ norm_error_vec\n",
    "largest_ev_dot_error_vec"
   ]
  },
  {
   "cell_type": "code",
   "execution_count": 25,
   "metadata": {},
   "outputs": [
    {
     "data": {
      "text/plain": [
       "-0.681680749209835"
      ]
     },
     "execution_count": 25,
     "metadata": {},
     "output_type": "execute_result"
    }
   ],
   "source": [
    "second_ev_dot_error_vec=second_eigenvector.T @ norm_error_vec\n",
    "second_ev_dot_error_vec"
   ]
  },
  {
   "cell_type": "code",
   "execution_count": 26,
   "metadata": {},
   "outputs": [],
   "source": [
    "# second_ev_dot_x1y1=second_eigenvector.T @ norm_x1y1\n",
    "# second_ev_dot_x1y1"
   ]
  },
  {
   "cell_type": "code",
   "execution_count": 27,
   "metadata": {},
   "outputs": [],
   "source": [
    "# second_ev_dot_x1y1=second_eigenvector.T @ norm_x1y1\n",
    "# second_ev_dot_x1y1"
   ]
  },
  {
   "cell_type": "code",
   "execution_count": 28,
   "metadata": {},
   "outputs": [],
   "source": [
    "# second_ev_dot_x2y2=second_eigenvector.T @ norm_x2y2\n",
    "# second_ev_dot_x2y2"
   ]
  },
  {
   "cell_type": "markdown",
   "metadata": {},
   "source": [
    "# Create Barplot"
   ]
  },
  {
   "cell_type": "code",
   "execution_count": 29,
   "metadata": {},
   "outputs": [
    {
     "data": {
      "image/png": "[encoded data removed]",
      "text/plain": [
       "<Figure size 432x288 with 1 Axes>"
      ]
     },
     "metadata": {
      "needs_background": "light"
     },
     "output_type": "display_data"
    }
   ],
   "source": [
    "import matplotlib.pyplot as plt\n",
    "\n",
    "# Values from the outputs related to dot products\n",
    "eigenvalues = [largest_ev_dot_error_vec, second_ev_dot_error_vec]\n",
    "eigenvectors = ['largest_eigenvector', 'second_eigenvector']\n",
    "\n",
    "# Creating the bar plot with thinner bars\n",
    "plt.bar(eigenvectors, eigenvalues, color=['black', 'black'], width=0.4)  # Adjust the width here\n",
    "plt.ylabel('Cos(theta)')\n",
    "plt.title('Cos(theta) of Eigenvectors with Error Vector')\n",
    "plt.savefig('multicollinearity_barplot.pdf')\n",
    "plt.show()"
   ]
  },
  {
   "cell_type": "markdown",
   "metadata": {},
   "source": [
    "Since the error term vector does not align well with the eigenvector of the largest eigenvalue as in the simpson's paradox case, we attribute the error to mechanism 1."
   ]
  },
  {
   "cell_type": "markdown",
   "metadata": {},
   "source": [
    "# Why does the error vector align with the largest eigenvector of the diff in inverse hessians?\n",
    "\n",
    "notice that the largest eigenvector aligns well with the vector e1 = (0, 1). this is why the error is large in x, but is it large in the intercept?"
   ]
  },
  {
   "cell_type": "code",
   "execution_count": 30,
   "metadata": {},
   "outputs": [
    {
     "data": {
      "text/plain": [
       "array([-8.70832359,  8.43294088])"
      ]
     },
     "execution_count": 30,
     "metadata": {},
     "output_type": "execute_result"
    }
   ],
   "source": [
    "# Xs^Trs = (\\sum_i r_i , \\sum_i xiri)\n",
    "rs = (y1 - x1 @ lr.beta)\n",
    "rs\n",
    "xstrs = x1.T @ rs\n",
    "xstrs"
   ]
  },
  {
   "cell_type": "code",
   "execution_count": 31,
   "metadata": {},
   "outputs": [
    {
     "data": {
      "text/plain": [
       "array([[-2.42074070e-07, -3.64938136e-04],\n",
       "       [-3.64938136e-04, -9.22125768e-01]])"
      ]
     },
     "execution_count": 31,
     "metadata": {},
     "output_type": "execute_result"
    }
   ],
   "source": [
    "M"
   ]
  },
  {
   "cell_type": "code",
   "execution_count": 32,
   "metadata": {},
   "outputs": [
    {
     "data": {
      "text/plain": [
       "array([-7.77305408])"
      ]
     },
     "execution_count": 32,
     "metadata": {},
     "output_type": "execute_result"
    }
   ],
   "source": [
    "M[1:2] @ xstrs"
   ]
  },
  {
   "cell_type": "code",
   "execution_count": 33,
   "metadata": {},
   "outputs": [
    {
     "name": "stdout",
     "output_type": "stream",
     "text": [
      "[9.22125912e-01 9.76470713e-08]\n",
      "[[-3.95757454e-04 -9.99999922e-01]\n",
      " [-9.99999922e-01  3.95757454e-04]]\n",
      "[[ 3.95757454e-04  9.99999922e-01]\n",
      " [ 9.99999922e-01 -3.95757454e-04]]\n",
      "[-3.95757454e-04 -9.99999922e-01]\n"
     ]
    }
   ],
   "source": [
    "# what is the relationship between M and the eigenvectors of M?\n",
    "\n",
    "# compute the Singular Value Decomposition\n",
    "U, s, V = np.linalg.svd(M)\n",
    "\n",
    "# The operator norm is the largest singular value\n",
    "normM = np.max(s)\n",
    "# print(normM) # in the multicollinearity example, we find that the largest eigenvalue is much larger than in the simpson's paradox example.\n",
    "\n",
    "largest_eigenvector = U[:, 0]\n",
    "second_eigenvector = U[:, 1]\n",
    "\n",
    "print(s)\n",
    "print(U)\n",
    "print(V)\n",
    "print(largest_eigenvector) \n",
    "# print(second_eigenvector)\n",
    "# print(V)"
   ]
  },
  {
   "cell_type": "code",
   "execution_count": 34,
   "metadata": {},
   "outputs": [
    {
     "name": "stdout",
     "output_type": "stream",
     "text": [
      "[[-2.42074070e-07 -3.64938136e-04]\n",
      " [-3.64938136e-04 -9.22125768e-01]]\n",
      "[[-3.95757454e-04 -9.99999922e-01]\n",
      " [-9.99999922e-01  3.95757454e-04]]\n"
     ]
    }
   ],
   "source": [
    "print(M)\n",
    "print(U) # eigenvector 1 , eigenvector 2"
   ]
  },
  {
   "cell_type": "code",
   "execution_count": 35,
   "metadata": {},
   "outputs": [
    {
     "name": "stdout",
     "output_type": "stream",
     "text": [
      "eigenvalues: [9.22125912e-01 9.76470713e-08]\n",
      "0.9221259121151825\n",
      "[-3.95757454e-04 -9.99999922e-01]\n"
     ]
    }
   ],
   "source": [
    "# compute the Singular Value Decomposition\n",
    "U, s, V = np.linalg.svd(M)\n",
    "print(f'eigenvalues: {s}')\n",
    "\n",
    "# The operator norm is the largest singular value\n",
    "normM = np.max(s)\n",
    "print(normM)\n",
    "\n",
    "largest_eigenvector = U[:, 0] # Simpson's Paradox: Largest eigenvalue is 4.00e-03.\n",
    "second_eigenvector = U[:, 1]\n",
    "\n",
    "print(largest_eigenvector)"
   ]
  },
  {
   "cell_type": "code",
   "execution_count": null,
   "metadata": {},
   "outputs": [],
   "source": []
  },
  {
   "cell_type": "markdown",
   "metadata": {},
   "source": [
    "As long as the sum of residuals is close to 0 (i.e. the regression line for the full fit goes through the center) relative to the sum of sum(xi*ri) then we have a case where the error vector aligns closely with e1 (the x axis). "
   ]
  },
  {
   "cell_type": "code",
   "execution_count": 36,
   "metadata": {},
   "outputs": [
    {
     "data": {
      "text/plain": [
       "array([-1.79806716, -1.71130817,  0.6253167 , -2.05921733, -0.16173556,\n",
       "       -1.58598865, -1.79881689, -0.59001489,  0.02356254,  0.34794581])"
      ]
     },
     "execution_count": 36,
     "metadata": {},
     "output_type": "execute_result"
    }
   ],
   "source": [
    "rs"
   ]
  },
  {
   "cell_type": "code",
   "execution_count": 37,
   "metadata": {},
   "outputs": [
    {
     "data": {
      "text/plain": [
       "array([ 1.87300302,  1.72093716, -0.75889661,  1.72144992,  0.19074179,\n",
       "        1.71948882,  1.70835773,  0.66348874, -0.02605534, -0.37957435])"
      ]
     },
     "execution_count": 37,
     "metadata": {},
     "output_type": "execute_result"
    }
   ],
   "source": [
    "x1[:, 1] *  rs"
   ]
  },
  {
   "cell_type": "code",
   "execution_count": 38,
   "metadata": {},
   "outputs": [
    {
     "data": {
      "text/plain": [
       "array([-1.04167578, -1.00562668, -1.21361961, -0.83597292, -1.17934356,\n",
       "       -1.08417474, -0.94971186, -1.12452881, -1.10579522, -1.09090076])"
      ]
     },
     "execution_count": 38,
     "metadata": {},
     "output_type": "execute_result"
    }
   ],
   "source": [
    "x1[:, 1] # the x's are on the same magnitude as the r's."
   ]
  },
  {
   "cell_type": "code",
   "execution_count": 39,
   "metadata": {},
   "outputs": [
    {
     "data": {
      "text/plain": [
       "array([[-2.42074070e-07, -3.64938136e-04],\n",
       "       [-3.64938136e-04, -9.22125768e-01]])"
      ]
     },
     "execution_count": 39,
     "metadata": {},
     "output_type": "execute_result"
    }
   ],
   "source": [
    "M"
   ]
  },
  {
   "cell_type": "code",
   "execution_count": 40,
   "metadata": {},
   "outputs": [
    {
     "data": {
      "text/plain": [
       "0.9221258399016725"
      ]
     },
     "execution_count": 40,
     "metadata": {},
     "output_type": "execute_result"
    }
   ],
   "source": [
    "# vector norm of M[:, 1]\n",
    "np.sqrt(M[0,1]**2 + M[1,1]**2)"
   ]
  },
  {
   "cell_type": "code",
   "execution_count": 41,
   "metadata": {},
   "outputs": [
    {
     "data": {
      "text/plain": [
       "array([-8.70832359,  8.43294088])"
      ]
     },
     "execution_count": 41,
     "metadata": {},
     "output_type": "execute_result"
    }
   ],
   "source": [
    "# Xs^Trs = (\\sum_i r_i , \\sum_i xiri)\n",
    "rs = (y1 - x1 @ lr.beta)\n",
    "rs\n",
    "xstrs = x1.T @ rs\n",
    "xstrs"
   ]
  },
  {
   "cell_type": "code",
   "execution_count": 42,
   "metadata": {},
   "outputs": [
    {
     "name": "stdout",
     "output_type": "stream",
     "text": [
      "norm of M: 0.9221258399016725\n",
      "norm of V: 12.122268416773233\n"
     ]
    }
   ],
   "source": [
    "# norm of M\n",
    "# M[1:2]\n",
    "print(f'norm of M: {np.linalg.norm(M[1:2])}')\n",
    "print(f'norm of V: {np.linalg.norm(xstrs)}') "
   ]
  },
  {
   "cell_type": "code",
   "execution_count": 43,
   "metadata": {},
   "outputs": [
    {
     "data": {
      "text/plain": [
       "array([-3.95757412e-04, -9.99999922e-01])"
      ]
     },
     "execution_count": 43,
     "metadata": {},
     "output_type": "execute_result"
    }
   ],
   "source": [
    "M1_norm = normalize_vector(M[:,1])\n",
    "M1_norm"
   ]
  },
  {
   "cell_type": "code",
   "execution_count": 44,
   "metadata": {},
   "outputs": [
    {
     "name": "stdout",
     "output_type": "stream",
     "text": [
      "-7.773054080844719\n",
      "[-8.70832359  8.43294088]\n",
      "[-3.95757412e-04 -9.99999922e-01]\n",
      "[-0.71837409  0.695657  ]\n"
     ]
    }
   ],
   "source": [
    "# empirical error: beta(w) - beta^{IF}(w) \n",
    "beta_w = modified_lr.beta[1]\n",
    "beta_IF_w = lr.beta[1] + sum(scores[:10])\n",
    "print(beta_w - beta_IF_w)\n",
    "\n",
    "# Xs^Trs = (\\sum_i r_i , \\sum_i xiri)\n",
    "rs = (y1 - x1 @ lr.beta)\n",
    "rs\n",
    "xstrs = x1.T @ rs\n",
    "print(xstrs)\n",
    "\n",
    "# analytic error: etM2v\n",
    "M[1:2] @ xstrs\n",
    "\n",
    "# normed vectors\n",
    "norm_m_vec = normalize_vector(M[1:2])[0]\n",
    "norm_v_vec = normalize_vector(xstrs)\n",
    "\n",
    "# new June 25th - should be the same as the old.\n",
    "print(norm_m_vec)\n",
    "print(norm_v_vec)"
   ]
  },
  {
   "cell_type": "code",
   "execution_count": 45,
   "metadata": {},
   "outputs": [
    {
     "data": {
      "text/plain": [
       "(array([-1.5, -1. , -0.5,  0. ,  0.5,  1. ,  1.5]),\n",
       " [Text(0, -1.5, '−1.5'),\n",
       "  Text(0, -1.0, '−1.0'),\n",
       "  Text(0, -0.5, '−0.5'),\n",
       "  Text(0, 0.0, '0.0'),\n",
       "  Text(0, 0.5, '0.5'),\n",
       "  Text(0, 1.0, '1.0'),\n",
       "  Text(0, 1.5, '1.5')])"
      ]
     },
     "execution_count": 45,
     "metadata": {},
     "output_type": "execute_result"
    },
    {
     "data": {
      "image/png": "[encoded data removed]",
      "text/plain": [
       "<Figure size 576x432 with 1 Axes>"
      ]
     },
     "metadata": {
      "needs_background": "light"
     },
     "output_type": "display_data"
    }
   ],
   "source": [
    "import numpy as np\n",
    "import matplotlib.pyplot as plt\n",
    "\n",
    "# Define three vectors\n",
    "\n",
    "v1 = norm_m_vec\n",
    "v2 = norm_v_vec\n",
    "\n",
    "# Plotting\n",
    "plt.figure(figsize=(8, 6))\n",
    "plt.quiver(0, 0, v1[0], v1[1], angles='xy', scale_units='xy', scale=1, color=\"blue\", label=r'$\\vec{m}_{\\mathrm{Err}}$')\n",
    "plt.quiver(0, 0, v2[0], v2[1], angles='xy', scale_units='xy', scale=1, color=\"red\", label=r'$\\vec{v}_{\\mathrm{Err}}$')\n",
    "\n",
    "textstring = '\\n'.join((\n",
    "    r'$\\|\\vec{m}_{\\mathrm{Err}}\\|$ = 0.922',\n",
    "    r'$\\measuredangle{ (\\vec{m}_{\\mathrm{Err}}\\, , \\vec{v}_{\\mathrm{Err}}) } = 43^{\\circ} $'\n",
    "))\n",
    "\n",
    "# Adding a text box\n",
    "plt.text(-1.42, -1.36, textstring, fontsize = 15, \n",
    "         bbox = dict(facecolor = 'white', alpha = 0.5))\n",
    "\n",
    "# Setting the limits and labels\n",
    "plt.xlim(-1.5, 1.5)\n",
    "plt.ylim(-1.5, 1.5)\n",
    "plt.axhline(0, color='black', linewidth=0.5)\n",
    "plt.axvline(0, color='black', linewidth=0.5)\n",
    "plt.grid(True)\n",
    "plt.xlabel('e0', fontsize=16)  # Larger font for x-axis label\n",
    "plt.ylabel('e1', fontsize=16)  # Larger font for y-axis label\n",
    "\n",
    "# Set the size of tick marks\n",
    "plt.xticks(fontsize=14)  # Larger ticks for x-axis\n",
    "plt.yticks(fontsize=14)  # Larger ticks for y-axis"
   ]
  },
  {
   "cell_type": "markdown",
   "metadata": {},
   "source": [
    "## Verifying Error Term Expression (June 25th)"
   ]
  },
  {
   "cell_type": "code",
   "execution_count": 46,
   "metadata": {},
   "outputs": [
    {
     "data": {
      "text/plain": [
       "-7.773054080844719"
      ]
     },
     "execution_count": 46,
     "metadata": {},
     "output_type": "execute_result"
    }
   ],
   "source": [
    "# empirical error: beta(w) - beta^{IF}(w) \n",
    "beta_w = modified_lr.beta[1]\n",
    "beta_IF_w = lr.beta[1] + sum(scores[:10])\n",
    "beta_w - beta_IF_w"
   ]
  },
  {
   "cell_type": "code",
   "execution_count": 47,
   "metadata": {},
   "outputs": [
    {
     "data": {
      "text/plain": [
       "array([-8.70832359,  8.43294088])"
      ]
     },
     "execution_count": 47,
     "metadata": {},
     "output_type": "execute_result"
    }
   ],
   "source": [
    "# Xs^Trs = (\\sum_i r_i , \\sum_i xiri)\n",
    "rs = (y1 - x1 @ lr.beta)\n",
    "rs\n",
    "xstrs = x1.T @ rs\n",
    "xstrs "
   ]
  },
  {
   "cell_type": "code",
   "execution_count": 48,
   "metadata": {},
   "outputs": [
    {
     "data": {
      "text/plain": [
       "array([-7.77305408])"
      ]
     },
     "execution_count": 48,
     "metadata": {},
     "output_type": "execute_result"
    }
   ],
   "source": [
    "# analytic error: etM2v\n",
    "M[1:2] @ xstrs"
   ]
  },
  {
   "cell_type": "markdown",
   "metadata": {},
   "source": [
    "The error is large when m_err or v_err has a large norm or \\angle(m_err, v_err) is large."
   ]
  },
  {
   "cell_type": "code",
   "execution_count": 49,
   "metadata": {},
   "outputs": [
    {
     "data": {
      "text/plain": [
       "0.9221258399016725"
      ]
     },
     "execution_count": 49,
     "metadata": {},
     "output_type": "execute_result"
    }
   ],
   "source": [
    "np.linalg.norm(M[1:2])"
   ]
  },
  {
   "cell_type": "code",
   "execution_count": 50,
   "metadata": {},
   "outputs": [
    {
     "data": {
      "text/plain": [
       "12.122268416773233"
      ]
     },
     "execution_count": 50,
     "metadata": {},
     "output_type": "execute_result"
    }
   ],
   "source": [
    "np.linalg.norm(xstrs)"
   ]
  },
  {
   "cell_type": "code",
   "execution_count": 51,
   "metadata": {},
   "outputs": [],
   "source": [
    "norm_m_vec = normalize_vector(M[1:2])[0]\n",
    "norm_v_vec = normalize_vector(xstrs)"
   ]
  },
  {
   "cell_type": "code",
   "execution_count": 52,
   "metadata": {},
   "outputs": [
    {
     "data": {
      "text/plain": [
       "-0.6953726434148282"
      ]
     },
     "execution_count": 52,
     "metadata": {},
     "output_type": "execute_result"
    }
   ],
   "source": [
    "# angle\n",
    "# normalize_vector(v)\n",
    "cosine_theta = norm_m_vec @ norm_v_vec\n",
    "cosine_theta"
   ]
  },
  {
   "cell_type": "code",
   "execution_count": 53,
   "metadata": {},
   "outputs": [
    {
     "name": "stdout",
     "output_type": "stream",
     "text": [
      "[-3.95757412e-04 -9.99999922e-01]\n",
      "[ 0.68139114 -0.73191947]\n"
     ]
    }
   ],
   "source": [
    "# old\n",
    "print(M1_norm)\n",
    "print(norm_error_vec)"
   ]
  },
  {
   "cell_type": "code",
   "execution_count": 54,
   "metadata": {},
   "outputs": [
    {
     "name": "stdout",
     "output_type": "stream",
     "text": [
      "[-3.95757412e-04 -9.99999922e-01]\n",
      "[-0.71837409  0.695657  ]\n"
     ]
    }
   ],
   "source": [
    "# new June 25th - should be the same as the old.\n",
    "print(norm_m_vec)\n",
    "print(norm_v_vec)"
   ]
  },
  {
   "cell_type": "markdown",
   "metadata": {},
   "source": [
    "## Verifying Error Term Expression (June 25th)"
   ]
  },
  {
   "cell_type": "code",
   "execution_count": 55,
   "metadata": {},
   "outputs": [
    {
     "name": "stdout",
     "output_type": "stream",
     "text": [
      "7.773054080844719\n",
      "[7.77305408]\n",
      "norm M: 0.9221258399016725\n",
      "norm v: 12.122268416773233\n",
      "theta in degrees: 45.9430804850745\n",
      "[3.95757412e-04 9.99999922e-01]\n",
      "[-0.71837409  0.695657  ]\n"
     ]
    }
   ],
   "source": [
    "import math\n",
    "\n",
    "# empirical error: beta(w) - beta^{IF}(w) \n",
    "beta_w = modified_lr.beta[1]\n",
    "beta_IF_w = lr.beta[1] + sum(scores[:10])\n",
    "print(beta_IF_w - beta_w)\n",
    "\n",
    "# Xs^Trs = (\\sum_i r_i , \\sum_i xiri)\n",
    "rs = (y1 - x1 @ lr.beta)\n",
    "rs\n",
    "xstrs = x1.T @ rs\n",
    "xstrs\n",
    "\n",
    "# analytic error: etM2v\n",
    "print(-M[1:2] @ xstrs) # take the negative sign for computing \"beta_IF_w - beta_w\"\n",
    "\n",
    "# print norm values\n",
    "print('norm M:', np.linalg.norm(M[1:2]))\n",
    "print('norm v:', np.linalg.norm(xstrs))  \n",
    "\n",
    "# normed vectors\n",
    "norm_m_vec = normalize_vector(-M[1:2])[0]\n",
    "norm_v_vec = normalize_vector(xstrs)\n",
    "\n",
    "# cosine similarity\n",
    "costheta = norm_m_vec @ norm_v_vec\n",
    "theta = math.acos(costheta) * (180.0 / math.pi)\n",
    "print('theta in degrees:', theta)\n",
    "\n",
    "# new June 25th - should be the same as the old.\n",
    "print(norm_m_vec)\n",
    "print(norm_v_vec)"
   ]
  },
  {
   "cell_type": "code",
   "execution_count": null,
   "metadata": {},
   "outputs": [],
   "source": []
  },
  {
   "cell_type": "code",
   "execution_count": null,
   "metadata": {},
   "outputs": [],
   "source": []
  },
  {
   "cell_type": "code",
   "execution_count": 57,
   "metadata": {},
   "outputs": [
    {
     "data": {
      "image/png": "[encoded data removed]",
      "text/plain": [
       "<Figure size 576x432 with 1 Axes>"
      ]
     },
     "metadata": {
      "needs_background": "light"
     },
     "output_type": "display_data"
    }
   ],
   "source": [
    "import numpy as np\n",
    "import matplotlib.pyplot as plt\n",
    "\n",
    "# Define three vectors\n",
    "# v1 = np.array([-1.42243630e-04, -3.99934473e-03]) # M[:, 1]\n",
    "v1 = norm_m_vec\n",
    "# v2 = np.array([[-0.03937332, -0.99922457]]) # error vector\n",
    "v2 = norm_v_vec \n",
    "\n",
    "# Plotting\n",
    "plt.figure(figsize=(8, 6))\n",
    "plt.quiver(0, 0, v1[0], v1[1], angles='xy', scale_units='xy', scale=1, color=\"blue\", label=r'$\\vec{m}_{\\mathrm{Err}}$')\n",
    "plt.quiver(0, 0, v2[0], v2[1], angles='xy', scale_units='xy', scale=1, color=\"red\", label=r'$\\vec{v}_{\\mathrm{Err}}$')\n",
    "\n",
    "textstring = '\\n'.join((\n",
    "    r'$\\vec{m}_{\\mathrm{Err}} \\cdot \\vec{v}_{\\mathrm{Err}}$ = 7.77',\n",
    "    r'$\\|\\vec{m}_{\\mathrm{Err}}\\|$ = 0.92',\n",
    "    r'$\\|\\vec{v}_{\\mathrm{Err}}\\|$ = 12.12',\n",
    "    r'$\\measuredangle{ (\\vec{m}_{\\mathrm{Err}}\\, , \\vec{v}_{\\mathrm{Err}}) } = 45.94^{\\circ} $'\n",
    ")) \n",
    "\n",
    "# Adding a text box\n",
    "plt.text(-1.42, -1.36, textstring, fontsize = 15, \n",
    "         bbox = dict(facecolor = 'white', alpha = 0.5))\n",
    "\n",
    "# Setting the limits and labels\n",
    "plt.xlim(-1.5, 1.5)\n",
    "plt.ylim(-1.5, 1.5)\n",
    "plt.axhline(0, color='black', linewidth=0.5)\n",
    "plt.axvline(0, color='black', linewidth=0.5)\n",
    "plt.grid(True)\n",
    "plt.xlabel('e0', fontsize=16)  # Larger font for x-axis label\n",
    "plt.ylabel('e1', fontsize=16)  # Larger font for y-axis label\n",
    "\n",
    "# Set the size of tick marks\n",
    "plt.xticks(fontsize=14)  # Larger ticks for x-axis\n",
    "plt.yticks(fontsize=14)  # Larger ticks for y-axis\n",
    "\n",
    "# plt.title('Plot of Poor Conditioning', fontsize=22)\n",
    "plt.legend(fontsize=16)\n",
    "plt.savefig('mv.poorconditioning.failure.pdf')\n",
    "# plt.savefig('poorconditioning_vec_june25.pdf')\n",
    "plt.show()"
   ]
  },
  {
   "cell_type": "code",
   "execution_count": null,
   "metadata": {},
   "outputs": [],
   "source": []
  },
  {
   "cell_type": "code",
   "execution_count": null,
   "metadata": {},
   "outputs": [],
   "source": []
  },
  {
   "cell_type": "code",
   "execution_count": null,
   "metadata": {},
   "outputs": [],
   "source": []
  },
  {
   "cell_type": "markdown",
   "metadata": {},
   "source": [
    "# Run Code Below to Generate Paper Figures"
   ]
  },
  {
   "cell_type": "code",
   "execution_count": 40,
   "metadata": {},
   "outputs": [
    {
     "data": {
      "image/png": "[encoded data removed]",
      "text/plain": [
       "<Figure size 648x504 with 1 Axes>"
      ]
     },
     "metadata": {
      "needs_background": "light"
     },
     "output_type": "display_data"
    }
   ],
   "source": [
    "### V. FIGURE FOR PAPER.\n",
    "plt.figure(figsize=(9, 7))\n",
    "plt.scatter(orig_df[:10]['x1'], orig_df[:10]['y'], marker='o', color='black', label='Pop. A', s=65) # pop A\n",
    "plt.scatter(orig_df[10:]['x1'], orig_df[10:]['y'], marker='x', color='r', label='Pop. B', s=65) # pop B\n",
    "\n",
    "# Add dropped order positioned by each point\n",
    "#     for index, row in sorted_if_df.iterrows():\n",
    "#         if row['sorted_idx'] < 10:\n",
    "#             plt.text(row['x1']-0.01, row['y'], int(row['sorted_idx']), ha='right', va='bottom', fontsize=20)\n",
    "\n",
    "\n",
    "plt.xlim(-1.5, 0.5)\n",
    "\n",
    "plt.xlabel('x', fontsize=22)  # Larger font for x-axis label\n",
    "plt.ylabel('y', fontsize=22)  # Larger font for y-axis label\n",
    "\n",
    "# Set the size of tick marks\n",
    "plt.xticks(fontsize=12)  # Larger ticks for x-axis\n",
    "plt.yticks(fontsize=12)  # Larger ticks for y-axis\n",
    "\n",
    "plt.title('Multicollinearity', fontsize=22)\n",
    "plt.legend(fontsize=22)\n",
    "# plt.savefig('multicollinearity_example_may23.pdf')\n",
    "plt.show()\n"
   ]
  },
  {
   "cell_type": "code",
   "execution_count": 41,
   "metadata": {},
   "outputs": [
    {
     "data": {
      "text/plain": [
       "array([ 0.68139114, -0.73191947])"
      ]
     },
     "execution_count": 41,
     "metadata": {},
     "output_type": "execute_result"
    }
   ],
   "source": [
    "norm_error_vec"
   ]
  },
  {
   "cell_type": "markdown",
   "metadata": {},
   "source": [
    "### Operator Norm of M\n",
    "Largest eigenvalue is 0.922"
   ]
  },
  {
   "cell_type": "markdown",
   "metadata": {},
   "source": [
    "### Cos(theta)\n",
    "the cosine similarity between the largest eigenvector and the error vector is 0.7316; angle = "
   ]
  },
  {
   "cell_type": "markdown",
   "metadata": {},
   "source": [
    "## Extra Plots"
   ]
  },
  {
   "cell_type": "code",
   "execution_count": 42,
   "metadata": {},
   "outputs": [
    {
     "data": {
      "image/png": "[encoded data removed]",
      "text/plain": [
       "<Figure size 576x432 with 1 Axes>"
      ]
     },
     "metadata": {
      "needs_background": "light"
     },
     "output_type": "display_data"
    }
   ],
   "source": [
    "import numpy as np\n",
    "import matplotlib.pyplot as plt\n",
    "\n",
    "# Define three vectors\n",
    "v1 = np.array([-3.95757454e-04, -9.99999922e-01])\n",
    "v2 = np.array([0.68139114, -0.73191947])\n",
    "\n",
    "# Plotting\n",
    "plt.figure(figsize=(8, 6))\n",
    "plt.quiver(0, 0, v1[0], v1[1], angles='xy', scale_units='xy', scale=1, color=\"blue\", label=\"largest eigenvector\")\n",
    "plt.quiver(0, 0, v2[0], v2[1], angles='xy', scale_units='xy', scale=1, color=\"red\", label=\"error vector\")\n",
    "\n",
    "# Setting the limits and labels\n",
    "plt.xlim(-1, 1)\n",
    "plt.ylim(-1, 1)\n",
    "plt.axhline(0, color='black', linewidth=0.5)\n",
    "plt.axvline(0, color='black', linewidth=0.5)\n",
    "plt.grid(True)\n",
    "plt.xlabel('e0', fontsize=16)  # Larger font for x-axis label\n",
    "plt.ylabel('e1', fontsize=16)  # Larger font for y-axis label\n",
    "\n",
    "# Set the size of tick marks\n",
    "plt.xticks(fontsize=14)  # Larger ticks for x-axis\n",
    "plt.yticks(fontsize=14)  # Larger ticks for y-axis\n",
    "\n",
    "plt.title('Poor Conditioning', fontsize=22)\n",
    "plt.legend(fontsize=16)\n",
    "\n",
    "\n",
    "# plt.savefig('multicollinearity_vector_plot.pdf')\n",
    "plt.savefig('poor_conditioning_vector_plot.pdf')\n",
    "plt.show()"
   ]
  },
  {
   "cell_type": "code",
   "execution_count": null,
   "metadata": {},
   "outputs": [],
   "source": []
  },
  {
   "cell_type": "code",
   "execution_count": null,
   "metadata": {},
   "outputs": [],
   "source": []
  },
  {
   "cell_type": "code",
   "execution_count": 27,
   "metadata": {},
   "outputs": [
    {
     "data": {
      "image/png": "[encoded data removed]",
      "text/plain": [
       "<Figure size 648x504 with 1 Axes>"
      ]
     },
     "metadata": {
      "needs_background": "light"
     },
     "output_type": "display_data"
    }
   ],
   "source": [
    "# V. Plot Points Dropped\n",
    "\n",
    "plt.figure(figsize=(9, 7))\n",
    "\n",
    "plt.scatter(orig_df[:10]['x1'], orig_df[:10]['y'], marker='o', color='black', label='Pop. A', s=56) # pop A\n",
    "plt.scatter(orig_df[10:]['x1'], orig_df[10:]['y'], marker='x', color='r', label='Pop. B', s=56) # pop B\n",
    "\n",
    "plt.xlabel('x', fontsize=22)  # Larger font for x-axis label\n",
    "plt.ylabel('y', fontsize=22)  # Larger font for y-axis label\n",
    "\n",
    "# Set the size of tick marks\n",
    "plt.xticks(fontsize=12)  # Larger ticks for x-axis\n",
    "plt.yticks(fontsize=12)  # Larger ticks for y-axis\n",
    "\n",
    "plt.xlabel('x')\n",
    "plt.ylabel('y')\n",
    "\n",
    "# Line of best fit\n",
    "x_values = np.linspace(min(orig_df['x1']), max(orig_df['x1']), 100) # Define range of x values\n",
    "y_values = lr.beta[1] * x_values + lr.beta[0] # Calculate corresponding y values based on y = 2x\n",
    "\n",
    "# Define the vector x1y1\n",
    "vector_x = 0.2*norm_error_vec[0]\n",
    "vector_y = 0.2*norm_error_vec[1] \n",
    "\n",
    "# Plot the vector starting from the origin (0,0)\n",
    "plt.quiver(0, 0, vector_x, vector_y, angles='xy', scale_units='xy', scale=1, color='blue', label='X\\sy\\s vector')\n",
    "\n",
    "# Define the vector largest_eigenvector\n",
    "eigvec_x = 2*largest_eigenvector[0]\n",
    "eigvec_y = 2*largest_eigenvector[1]\n",
    "\n",
    "# Plot the vector starting from the origin (0,0)\n",
    "plt.quiver(0, 0, eigvec_x, eigvec_y, angles='xy', scale_units='xy', scale=1, color='gray', \n",
    "           label='largest eigenvector of (xtxinv - x\\stx\\sinv)')\n",
    "\n",
    "\n",
    "\n",
    "plt.plot(x_values, y_values, color='black', linestyle='--', label='line-of-best-fit full data')\n",
    "plt.legend(fontsize=12)\n",
    "# plt.savefig('multicollinearity_may17.pdf')\n",
    "# plt.savefig('multicollinearity_may18.pdf')\n",
    "plt.show()"
   ]
  },
  {
   "cell_type": "code",
   "execution_count": null,
   "metadata": {},
   "outputs": [],
   "source": []
  },
  {
   "cell_type": "code",
   "execution_count": null,
   "metadata": {},
   "outputs": [],
   "source": []
  }
 ],
 "metadata": {
  "kernelspec": {
   "display_name": "Python 3",
   "language": "python",
   "name": "python3"
  },
  "language_info": {
   "codemirror_mode": {
    "name": "ipython",
    "version": 3
   },
   "file_extension": ".py",
   "mimetype": "text/x-python",
   "name": "python",
   "nbconvert_exporter": "python",
   "pygments_lexer": "ipython3",
   "version": "3.8.5"
  }
 },
 "nbformat": 4,
 "nbformat_minor": 4
}
