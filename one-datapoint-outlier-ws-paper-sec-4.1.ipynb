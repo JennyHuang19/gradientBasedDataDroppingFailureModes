{
 "cells": [
  {
   "cell_type": "code",
   "execution_count": 2,
   "metadata": {},
   "outputs": [],
   "source": [
    "# This file contains an experiment identifying a single influential point that can cause a sign flip,\n",
    "# which AMIP fails to detect.\n",
    "# Conclusion: this can occur when the data-point deviates far\n",
    "# from the other points (in covariate space), drastically reducing variance in the remaining points.\n",
    "\n",
    "import numpy as np\n",
    "import pandas as pd\n",
    "import seaborn as sns\n",
    "import matplotlib.pyplot as plt\n",
    "from linear_regression import LinearRegression"
   ]
  },
  {
   "cell_type": "code",
   "execution_count": 3,
   "metadata": {},
   "outputs": [],
   "source": [
    "def plot_regression(x, y, x1, y1, x2, y2):\n",
    "    ## X vs Y\n",
    "    plt.scatter(x1[0], y1, marker='o', color='black', label='Pop. A', s=56)\n",
    "    plt.scatter(x2[0], y2, marker='x', color='r', label='Pop. B', s=56)\n",
    "    # plt.title('One-dimensional Example')\n",
    "    \n",
    "    plt.xlabel('x', fontsize=22)  # Larger font for x-axis label\n",
    "    plt.ylabel('y', fontsize=22)  # Larger font for y-axis label\n",
    "    \n",
    "    # Set the size of tick marks\n",
    "    plt.xticks(fontsize=12)  # Larger ticks for x-axis\n",
    "    plt.yticks(fontsize=12)  # Larger ticks for y-axis\n",
    "    \n",
    "    plt.legend(fontsize=22)\n",
    "\n",
    "    plt.show()\n",
    "\n",
    "    x = x.T\n",
    "    lr = LinearRegression(x=x.T, y=y)\n",
    "    lr.fit()\n",
    "    print(\n",
    "        f\"Beta with full dataset: {lr.beta[0]}\"\n",
    "    )\n",
    "\n",
    "    # Dropping just x1 should change the analysis (based on data generating process)\n",
    "    modified_lr = LinearRegression(x=x2, y=y2) # Drop Pop_1 data\n",
    "    modified_lr.fit()\n",
    "    print(\n",
    "        f\"Beta with subset dropped: {modified_lr.beta[0]}\"\n",
    "    )\n",
    "    \n",
    "    return lr\n",
    "\n",
    "def make_df(lr):\n",
    "    # III. Compute influence scores and Newton scores for first coefficient.\n",
    "    scores = -lr.influence_scores()[0] # after adding an intercept term, take the scores of coefficient 1.\n",
    "    newton_scores = -lr.one_step_newton()[0]\n",
    "\n",
    "    # sort indices in ascending order (influence scores are negative, so the largest magnitude scores appear first.)\n",
    "    inds = np.argsort(scores)\n",
    "    # print(\"inds\", inds[:10])\n",
    "    original_inds = inds # original_inds\n",
    "\n",
    "    newton_inds = np.argsort(newton_scores)\n",
    "    # print(\"newton inds\", newton_inds[:10])\n",
    "    original_newton_inds = newton_inds \n",
    "\n",
    "    # sort scores.\n",
    "    sorted_scores = scores[inds]\n",
    "    # print(\"sorted_scores\", sorted(scores)[:10])\n",
    "    original_sorted_scores = sorted_scores\n",
    "\n",
    "    sorted_newton_scores = newton_scores[inds]\n",
    "    # print(\"sorted_newton_scores\", sorted_newton_scores[:10])\n",
    "    original_sorted_newton_scores = sorted_newton_scores\n",
    "    \n",
    "    # influential point\n",
    "    outlier_x = np.squeeze(x1[0][0])\n",
    "    outlier_y = np.squeeze(y1[0][0])\n",
    "    print(f\"outlier_x: {outlier_x}\")\n",
    "    print(f\"outlier_y: {outlier_y}\")\n",
    "    # residuals\n",
    "    residuals = lr.residual()\n",
    "    # print(f\"outlier_residual: {round(residuals[0], 4)}\")\n",
    "    # leverages\n",
    "    leverages = lr.leverage_scores()\n",
    "    # print(f\"outlier_leverage: {round(leverages[0], 4)}\")\n",
    "    # schmeverage e1\n",
    "    shmeverage_e1 = lr.schmeverage_scores([(1,)])\n",
    "    # print(f'schmeverage_e1: {round(shmeverage_e1[0], 4)}')\n",
    "    # Compute influence functions for first coefficient\n",
    "    scores = -lr.influence_scores()[0] # effect of removing a data point on beta1.\n",
    "    # print(\"outlier influence score:\", round(scores[0], 4))\n",
    "    leverage_correction = 1 / (1 - leverages)\n",
    "\n",
    "\n",
    "    # create a df with residuals, leverages, and coordinates.\n",
    "    orig_df = pd.DataFrame({'x': x.flatten(), 'y':y.flatten(),\n",
    "                            'residual': residuals, 'schmeverage': shmeverage_e1,\n",
    "                            'leverage': leverages, 'leverage_correction': leverage_correction,\n",
    "                            'influence': scores, 'newton': newton_scores})\n",
    "    \n",
    "    return orig_df"
   ]
  },
  {
   "cell_type": "code",
   "execution_count": 4,
   "metadata": {
    "scrolled": false
   },
   "outputs": [
    {
     "data": {
      "image/png": "[encoded data removed]",
      "text/plain": [
       "<Figure size 432x288 with 1 Axes>"
      ]
     },
     "metadata": {
      "needs_background": "light"
     },
     "output_type": "display_data"
    },
    {
     "name": "stdout",
     "output_type": "stream",
     "text": [
      "Beta with full dataset: [0.34967025]\n",
      "Beta with subset dropped: [-0.99827176]\n",
      "outlier_x: 10\n",
      "outlier_y: 10.041440587671698\n"
     ]
    },
    {
     "data": {
      "image/png": "[encoded data removed]",
      "text/plain": [
       "<Figure size 432x288 with 1 Axes>"
      ]
     },
     "metadata": {
      "needs_background": "light"
     },
     "output_type": "display_data"
    },
    {
     "name": "stdout",
     "output_type": "stream",
     "text": [
      "           x          y  residual  schmeverage  leverage  leverage_correction  \\\n",
      "0  10.000000  10.041441  6.544738     0.067316  0.673158             3.059581   \n",
      "1   0.176405  -0.145433 -0.207117     0.001187  0.000209             1.000210   \n",
      "2   0.040016  -0.113761 -0.127754     0.000269  0.000011             1.000011   \n",
      "3   0.097874  -0.251566 -0.285789     0.000659  0.000064             1.000064   \n",
      "4   0.224089  -0.280315 -0.358672     0.001508  0.000338             1.000338   \n",
      "\n",
      "   influence    newton  \n",
      "0  -0.440564 -1.347942  \n",
      "1   0.000246  0.000246  \n",
      "2   0.000034  0.000034  \n",
      "3   0.000188  0.000188  \n",
      "4   0.000541  0.000541  \n"
     ]
    },
    {
     "data": {
      "image/png": "[encoded data removed]",
      "text/plain": [
       "<Figure size 432x288 with 1 Axes>"
      ]
     },
     "metadata": {
      "needs_background": "light"
     },
     "output_type": "display_data"
    },
    {
     "name": "stdout",
     "output_type": "stream",
     "text": [
      "Beta with full dataset: [0.77760076]\n",
      "Beta with subset dropped: [-1.00594992]\n",
      "outlier_x: 20\n",
      "outlier_y: 19.941896719337525\n"
     ]
    },
    {
     "data": {
      "image/png": "[encoded data removed]",
      "text/plain": [
       "<Figure size 432x288 with 1 Axes>"
      ]
     },
     "metadata": {
      "needs_background": "light"
     },
     "output_type": "display_data"
    },
    {
     "name": "stdout",
     "output_type": "stream",
     "text": [
      "           x          y  residual  schmeverage      leverage  \\\n",
      "0  20.000000  19.941897  4.389881     0.044521  8.904198e-01   \n",
      "1   0.129811  -0.149649 -0.250590     0.000289  3.751101e-05   \n",
      "2  -0.020212   0.267210  0.282927    -0.000045  9.093700e-07   \n",
      "3  -0.083323   0.142025  0.206817    -0.000185  1.545488e-05   \n",
      "4   0.173360  -0.213095 -0.347900     0.000386  6.690102e-05   \n",
      "\n",
      "   leverage_correction  influence    newton  \n",
      "0             9.125735  -0.195442 -1.783551  \n",
      "1             1.000038   0.000072  0.000072  \n",
      "2             1.000001   0.000013  0.000013  \n",
      "3             1.000015   0.000038  0.000038  \n",
      "4             1.000067   0.000134  0.000134  \n"
     ]
    },
    {
     "data": {
      "image/png": "[encoded data removed]",
      "text/plain": [
       "<Figure size 432x288 with 1 Axes>"
      ]
     },
     "metadata": {
      "needs_background": "light"
     },
     "output_type": "display_data"
    },
    {
     "name": "stdout",
     "output_type": "stream",
     "text": [
      "Beta with full dataset: [0.9896772]\n",
      "Beta with subset dropped: [-0.99283038]\n",
      "outlier_x: 100\n",
      "outlier_y: 99.94393556859534\n"
     ]
    },
    {
     "data": {
      "image/png": "[encoded data removed]",
      "text/plain": [
       "<Figure size 432x288 with 1 Axes>"
      ]
     },
     "metadata": {
      "needs_background": "light"
     },
     "output_type": "display_data"
    },
    {
     "name": "stdout",
     "output_type": "stream",
     "text": [
      "            x          y  residual   schmeverage      leverage  \\\n",
      "0  100.000000  99.943936  0.976216  9.951000e-03  9.951000e-01   \n",
      "1   -0.105893  -0.070134  0.034667 -1.053742e-05  1.115841e-06   \n",
      "2   -0.032653   0.076359  0.108674 -3.249284e-06  1.060984e-07   \n",
      "3    0.033005  -0.002792 -0.035456  3.284287e-06  1.083965e-07   \n",
      "4   -0.000048   0.014723  0.014770 -4.776275e-09  2.292514e-13   \n",
      "\n",
      "   leverage_correction     influence        newton  \n",
      "0           204.080907 -9.714322e-03 -1.982508e+00  \n",
      "1             1.000001  3.652957e-07  3.652961e-07  \n",
      "2             1.000000  3.531137e-07  3.531137e-07  \n",
      "3             1.000000  1.164487e-07  1.164487e-07  \n",
      "4             1.000000  7.054596e-11  7.054596e-11  \n"
     ]
    },
    {
     "data": {
      "image/png": "[encoded data removed]",
      "text/plain": [
       "<Figure size 432x288 with 1 Axes>"
      ]
     },
     "metadata": {
      "needs_background": "light"
     },
     "output_type": "display_data"
    },
    {
     "name": "stdout",
     "output_type": "stream",
     "text": [
      "Beta with full dataset: [0.99979787]\n",
      "Beta with subset dropped: [-1.03119887]\n",
      "outlier_x: 1000\n",
      "outlier_y: 999.9019043360779\n"
     ]
    },
    {
     "data": {
      "image/png": "[encoded data removed]",
      "text/plain": [
       "<Figure size 432x288 with 1 Axes>"
      ]
     },
     "metadata": {
      "needs_background": "light"
     },
     "output_type": "display_data"
    },
    {
     "name": "stdout",
     "output_type": "stream",
     "text": [
      "             x           y  residual   schmeverage      leverage  \\\n",
      "0  1000.000000  999.901904  0.104036  9.999488e-04  9.999488e-01   \n",
      "1    -0.151128    0.046277  0.197374 -1.511199e-07  2.283839e-08   \n",
      "2     0.097684   -0.084695 -0.182360  9.767938e-08  9.541750e-09   \n",
      "3     0.125550    0.024569 -0.100956  1.255436e-07  1.576201e-08   \n",
      "4     0.037123    0.001600 -0.035516  3.712131e-08  1.378062e-09   \n",
      "\n",
      "   leverage_correction     influence        newton  \n",
      "0         19523.095345 -1.040305e-04 -2.030997e+00  \n",
      "1             1.000000  2.982710e-08  2.982710e-08  \n",
      "2             1.000000  1.781279e-08  1.781279e-08  \n",
      "3             1.000000  1.267434e-08  1.267434e-08  \n",
      "4             1.000000  1.318393e-09  1.318393e-09  \n"
     ]
    },
    {
     "data": {
      "image/png": "[encoded data removed]",
      "text/plain": [
       "<Figure size 432x288 with 1 Axes>"
      ]
     },
     "metadata": {
      "needs_background": "light"
     },
     "output_type": "display_data"
    },
    {
     "name": "stdout",
     "output_type": "stream",
     "text": [
      "Beta with full dataset: [0.99999604]\n",
      "Beta with subset dropped: [-0.99194589]\n",
      "outlier_x: 10000\n",
      "outlier_y: 9999.970169793554\n"
     ]
    },
    {
     "data": {
      "image/png": "[encoded data removed]",
      "text/plain": [
       "<Figure size 432x288 with 1 Axes>"
      ]
     },
     "metadata": {
      "needs_background": "light"
     },
     "output_type": "display_data"
    },
    {
     "name": "stdout",
     "output_type": "stream",
     "text": [
      "              x            y  residual   schmeverage      leverage  \\\n",
      "0  10000.000000  9999.970170  0.009758  9.999995e-05  9.999995e-01   \n",
      "1      0.201111    -0.246942 -0.448052  2.011114e-09  4.044581e-10   \n",
      "2      0.168986    -0.070753 -0.239738  1.689857e-09  2.855617e-10   \n",
      "3      0.019997    -0.014745 -0.034742  1.999664e-10  3.998658e-12   \n",
      "4     -0.122433     0.050749  0.173181 -1.224330e-09  1.498985e-10   \n",
      "\n",
      "   leverage_correction     influence        newton  \n",
      "0         2.041448e+06 -9.757497e-07 -1.991942e+00  \n",
      "1         1.000000e+00  9.010840e-10  9.010840e-10  \n",
      "2         1.000000e+00  4.051231e-10  4.051231e-10  \n",
      "3         1.000000e+00  6.947187e-12  6.947187e-12  \n",
      "4         1.000000e+00  2.120308e-10  2.120308e-10  \n"
     ]
    }
   ],
   "source": [
    "# Set seed before generating random numbers\n",
    "np.random.seed(0)\n",
    "num_dimensions = 1\n",
    "\n",
    "num_observations_pop_1 = 1\n",
    "num_observations_pop_2 = 4999\n",
    "\n",
    "# set variance of pop. big\n",
    "epsilon = 0.01\n",
    "vars_pop_2 = [[epsilon]]\n",
    "\n",
    "# set outlier\n",
    "outlier_x_list = [[10], [20], [100], [1000], [10000]]\n",
    "\n",
    "for outlier_x in outlier_x_list:\n",
    "    x1 = np.expand_dims(outlier_x, axis=0)\n",
    "    x2 = np.random.randn(1, num_observations_pop_2) * np.sqrt(vars_pop_2) # pop B\n",
    "    # All x samples\n",
    "    x = np.concatenate([x1, x2], axis=-1) \n",
    "\n",
    "    # generate y's.\n",
    "    # True regression coefficients for both populations\n",
    "    beta1 = [[1.0]]\n",
    "    beta2 = [[-1.0]]\n",
    "    # Generate Gaussian noise\n",
    "    noise_stdev = 0.1\n",
    "    epsilon1 = noise_stdev * np.random.randn(len(x1[0]), 1)\n",
    "    epsilon2 = noise_stdev * np.random.randn(num_observations_pop_2, 1)\n",
    "    # Generate observed values\n",
    "    y1 = (x1.T @ beta1) + epsilon1\n",
    "    y2 = (x2.T @ beta2) + epsilon2\n",
    "    y = np.concatenate([y1, y2], axis=0)\n",
    "\n",
    "    lr = plot_regression(x, y, x1, y1, x2, y2)\n",
    "\n",
    "    orig_df = make_df(lr)\n",
    "    ind = np.arange(0, 5000, 1)\n",
    "    plt.scatter(ind, orig_df['leverage'])\n",
    "    \n",
    "    plt.xlabel(\"order of points\")\n",
    "    plt.ylabel('leverage')\n",
    "    plt.title('Leverage Plot')\n",
    "    plt.savefig(f'leverage-for-outlier-{outlier_x}')\n",
    "    plt.show()\n",
    "    \n",
    "    \n",
    "    \n",
    "    \n",
    "    print(orig_df[:5])"
   ]
  },
  {
   "cell_type": "markdown",
   "metadata": {},
   "source": [
    "# Demo in Paper for X = 100"
   ]
  },
  {
   "cell_type": "code",
   "execution_count": null,
   "metadata": {},
   "outputs": [],
   "source": []
  },
  {
   "cell_type": "code",
   "execution_count": 5,
   "metadata": {},
   "outputs": [],
   "source": [
    "def create_orig_df(x, lr):\n",
    "    '''\n",
    "    x: design matrix.\n",
    "    lr: linear regression object.\n",
    "    '''\n",
    "    scores = -lr.influence_scores()[1]\n",
    "    newton_scores = -lr.one_step_newton()[1]\n",
    "\n",
    "    # sort indices in ascending order (influence scores are negative, so the largest magnitude scores appear first.)\n",
    "    inds = np.argsort(scores)\n",
    "    print(\"inds\", inds[:10])\n",
    "    original_inds = inds # original_inds\n",
    "\n",
    "    newton_inds = np.argsort(newton_scores)\n",
    "    print(\"newton inds\", newton_inds[:10])\n",
    "    original_newton_inds = newton_inds \n",
    "\n",
    "    # sort scores.\n",
    "    sorted_scores = scores[inds]\n",
    "    print(\"sorted_scores\", sorted(scores)[:10])\n",
    "    original_sorted_scores = sorted_scores\n",
    "\n",
    "    sorted_newton_scores = newton_scores[inds]\n",
    "    print(\"sorted_newton_scores\", sorted_newton_scores[:10])\n",
    "    original_sorted_newton_scores = sorted_newton_scores\n",
    "\n",
    "    # residuals\n",
    "    residuals = lr.residual()\n",
    "    # print(\"residuals\", residuals[:10])\n",
    "    # leverages\n",
    "    leverages = lr.leverage_scores()\n",
    "    # print(\"leverages\", leverages[:10])\n",
    "\n",
    "    # x's\n",
    "    intercept = [pt[0] for pt in x]\n",
    "    x1 = [pt[1] for pt in x]\n",
    "    # x2 = [pt[2] for pt in x]\n",
    "\n",
    "    # x1 = [pt[0] for pt in x]\n",
    "    # x2 = [pt[1] for pt in x]\n",
    "\n",
    "    # create a df with residuals, leverages, and coordinates.\n",
    "    orig_df = pd.DataFrame({'x1': x1, 'y': y, \n",
    "                                      'residual': residuals, 'leverage': leverages, \n",
    "                            'influence': scores, 'newton': newton_scores})"
   ]
  },
  {
   "cell_type": "code",
   "execution_count": 6,
   "metadata": {},
   "outputs": [
    {
     "data": {
      "text/plain": [
       "array([[100]])"
      ]
     },
     "execution_count": 6,
     "metadata": {},
     "output_type": "execute_result"
    }
   ],
   "source": [
    "np.expand_dims([100], axis=0) "
   ]
  },
  {
   "cell_type": "code",
   "execution_count": 7,
   "metadata": {},
   "outputs": [
    {
     "name": "stdout",
     "output_type": "stream",
     "text": [
      "(1001, 1)\n",
      "x1 [[1.e+00 1.e+06]]\n",
      "x2 [[ 1.         -1.72057195]\n",
      " [ 1.         -0.25034177]\n",
      " [ 1.          0.58472799]\n",
      " ...\n",
      " [ 1.          0.51806731]\n",
      " [ 1.         -0.68364463]\n",
      " [ 1.         -1.65270558]]\n"
     ]
    },
    {
     "data": {
      "text/plain": [
       "array([ 9.99999586e+05,  3.59688627e+00,  1.42569493e+00, ...,\n",
       "       -1.30667922e+00,  2.43867942e-01,  8.40348843e-01])"
      ]
     },
     "execution_count": 7,
     "metadata": {},
     "output_type": "execute_result"
    }
   ],
   "source": [
    "# Generate Data\n",
    "num_dimensions = 1\n",
    "num_observations_pop_1 = 1\n",
    "num_observations_pop_2 = 1000\n",
    "\n",
    "# \n",
    "mean_pop_1 = np.array([1e6])\n",
    "mean_pop_2 = np.array([0])\n",
    "\n",
    "vars_pop_1 = np.array([[0]])\n",
    "vars_pop_2 = [[1]]\n",
    "\n",
    "# generate x's. May 20th\n",
    "x1 = np.random.multivariate_normal(mean_pop_1, vars_pop_1, num_observations_pop_1)\n",
    "x2 = np.random.multivariate_normal(mean_pop_2, vars_pop_2, num_observations_pop_2)\n",
    "\n",
    "# x1 = np.expand_dims([100], axis=0) \n",
    "# print(\"ola\", x1.shape)\n",
    "# x2 = np.random.randn(1, num_observations_pop_2) * np.sqrt(vars_pop_2) # pop B\n",
    "# ### x2 needs to be transposed to allow dimensions to match.\n",
    "# x2 = x2.T\n",
    "# ###\n",
    "# print(\"ola2\", x2.shape)\n",
    "\n",
    "# All x samples\n",
    "x = np.append(x1, x2, axis=0) \n",
    "print(x.shape)\n",
    "\n",
    "# # generate the X values for two populations.\n",
    "# x1 = np.random.multivariate_normal(mean_pop_1, vars_pop_1, num_observations_pop_1)\n",
    "# x2 = np.random.multivariate_normal(mean_pop_2, vars_pop_2, num_observations_pop_2)\n",
    "# x = np.append(x1, x2, axis=0) # All x samples\n",
    "# print(x.shape)\n",
    "x1_0 = [pt[0] for pt in x1]\n",
    "# x1_1 = [pt[1] for pt in x1]\n",
    "x2_0 = [pt[0] for pt in x2]\n",
    "# x2_1 = [pt[1] for pt in x2]\n",
    "\n",
    "# add intercept term.\n",
    "df = pd.DataFrame(x)\n",
    "df.insert(0, 'Ones', 1)\n",
    "arr = df.values\n",
    "x = arr\n",
    "# (3/20: make sure that x1, x2 come from this new design matrix.)\n",
    "x1 = x[:1]\n",
    "x2 = x[1:]\n",
    "\n",
    "print(\"x1\", x1)\n",
    "print(\"x2\", x2)\n",
    "\n",
    "# generate y's.\n",
    "# True regression coefficients for both populations\n",
    "beta1 = [[1.0]]\n",
    "beta2 = [[-1.0]]\n",
    "# Generate Gaussian noise\n",
    "noise_stdev = 1\n",
    "epsilon1 = noise_stdev * np.random.randn(len(x1[0]), 1)\n",
    "epsilon2 = noise_stdev * np.random.randn(num_observations_pop_2, 1)\n",
    "# # Generate observed values\n",
    "# y1 = (x1.T @ beta1[0]) + epsilon1\n",
    "# y2 = (x2.T @ beta2[0]) + epsilon2\n",
    "\n",
    "# Generating the Y values.\n",
    "epsilon1 = np.random.normal(0, noise_stdev, num_observations_pop_1) # eps is the variance of the noise distribution.\n",
    "slope = 1\n",
    "intercept = 0\n",
    "y1 = []\n",
    "for i in range(num_observations_pop_1):\n",
    "    y1.append(slope*x1_0[i] + intercept + epsilon1[i]) # change here to add residual noise.\n",
    "\n",
    "    \n",
    "epsilon2 = np.random.normal(0, noise_stdev, num_observations_pop_2) # eps is the variance of the noise distribution.\n",
    "slope = -1\n",
    "intercept = 0\n",
    "y2 = []\n",
    "for i in range(num_observations_pop_2):\n",
    "    y2.append(slope*x2_0[i] + intercept + epsilon2[i]) # change here to add residual noise.\n",
    "\n",
    "y = np.concatenate([y1, y2], axis=0)\n",
    "y"
   ]
  },
  {
   "cell_type": "code",
   "execution_count": 8,
   "metadata": {},
   "outputs": [
    {
     "name": "stdout",
     "output_type": "stream",
     "text": [
      "Estimated beta1 with full dataset: 0.9999995129066036\n",
      "inds [873 497 431 950 475 400 293 976 193 734]\n",
      "inds [873 497 431 950 475 400 293 976 193 734]\n",
      "newton inds [  0 873 497 431 950 475 400 293 976 193]\n",
      "sorted_scores [-6.625190547065845e-09, -6.303186396297089e-09, -6.282999684930569e-09, -6.226996356965989e-09, -5.963357642791924e-09, -5.940475277401112e-09, -5.724816664737222e-09, -5.486986995311615e-09, -5.46517826281567e-09, -5.373372312128706e-09]\n",
      "sorted_newton_scores [-6.63182234e-09 -6.30949586e-09 -6.28928894e-09 -6.23322956e-09\n",
      " -5.96932694e-09 -5.94642167e-09 -5.73054719e-09 -5.49247945e-09\n",
      " -5.47064889e-09 -5.37875104e-09]\n"
     ]
    },
    {
     "data": {
      "text/html": [
       "<div>\n",
       "<style scoped>\n",
       "    .dataframe tbody tr th:only-of-type {\n",
       "        vertical-align: middle;\n",
       "    }\n",
       "\n",
       "    .dataframe tbody tr th {\n",
       "        vertical-align: top;\n",
       "    }\n",
       "\n",
       "    .dataframe thead th {\n",
       "        text-align: right;\n",
       "    }\n",
       "</style>\n",
       "<table border=\"1\" class=\"dataframe\">\n",
       "  <thead>\n",
       "    <tr style=\"text-align: right;\">\n",
       "      <th></th>\n",
       "      <th>x1</th>\n",
       "      <th>y</th>\n",
       "      <th>residual</th>\n",
       "      <th>leverage</th>\n",
       "      <th>influence</th>\n",
       "      <th>newton</th>\n",
       "    </tr>\n",
       "  </thead>\n",
       "  <tbody>\n",
       "    <tr>\n",
       "      <th>0</th>\n",
       "      <td>1000000.000000</td>\n",
       "      <td>999999.586092</td>\n",
       "      <td>0.001974</td>\n",
       "      <td>1.000</td>\n",
       "      <td>-1.973974e-09</td>\n",
       "      <td>-1.970676e+00</td>\n",
       "    </tr>\n",
       "    <tr>\n",
       "      <th>1</th>\n",
       "      <td>-1.720572</td>\n",
       "      <td>3.596886</td>\n",
       "      <td>5.246246</td>\n",
       "      <td>0.001</td>\n",
       "      <td>5.255189e-09</td>\n",
       "      <td>5.260450e-09</td>\n",
       "    </tr>\n",
       "    <tr>\n",
       "      <th>2</th>\n",
       "      <td>-0.250342</td>\n",
       "      <td>1.425695</td>\n",
       "      <td>1.604825</td>\n",
       "      <td>0.001</td>\n",
       "      <td>1.605199e-09</td>\n",
       "      <td>1.606806e-09</td>\n",
       "    </tr>\n",
       "    <tr>\n",
       "      <th>3</th>\n",
       "      <td>0.584728</td>\n",
       "      <td>-0.062073</td>\n",
       "      <td>-0.718013</td>\n",
       "      <td>0.001</td>\n",
       "      <td>-7.175798e-10</td>\n",
       "      <td>-7.182981e-10</td>\n",
       "    </tr>\n",
       "    <tr>\n",
       "      <th>4</th>\n",
       "      <td>-1.250827</td>\n",
       "      <td>3.419136</td>\n",
       "      <td>4.598751</td>\n",
       "      <td>0.001</td>\n",
       "      <td>4.604429e-09</td>\n",
       "      <td>4.609038e-09</td>\n",
       "    </tr>\n",
       "    <tr>\n",
       "      <th>...</th>\n",
       "      <td>...</td>\n",
       "      <td>...</td>\n",
       "      <td>...</td>\n",
       "      <td>...</td>\n",
       "      <td>...</td>\n",
       "      <td>...</td>\n",
       "    </tr>\n",
       "    <tr>\n",
       "      <th>996</th>\n",
       "      <td>1.760917</td>\n",
       "      <td>-1.037175</td>\n",
       "      <td>-2.869303</td>\n",
       "      <td>0.001</td>\n",
       "      <td>-2.864195e-09</td>\n",
       "      <td>-2.867062e-09</td>\n",
       "    </tr>\n",
       "    <tr>\n",
       "      <th>997</th>\n",
       "      <td>-1.216175</td>\n",
       "      <td>1.686217</td>\n",
       "      <td>2.831180</td>\n",
       "      <td>0.001</td>\n",
       "      <td>2.834577e-09</td>\n",
       "      <td>2.837414e-09</td>\n",
       "    </tr>\n",
       "    <tr>\n",
       "      <th>998</th>\n",
       "      <td>0.518067</td>\n",
       "      <td>-1.306679</td>\n",
       "      <td>-1.895958</td>\n",
       "      <td>0.001</td>\n",
       "      <td>-1.894941e-09</td>\n",
       "      <td>-1.896838e-09</td>\n",
       "    </tr>\n",
       "    <tr>\n",
       "      <th>999</th>\n",
       "      <td>-0.683645</td>\n",
       "      <td>0.243868</td>\n",
       "      <td>0.856301</td>\n",
       "      <td>0.001</td>\n",
       "      <td>8.568716e-10</td>\n",
       "      <td>8.577294e-10</td>\n",
       "    </tr>\n",
       "    <tr>\n",
       "      <th>1000</th>\n",
       "      <td>-1.652706</td>\n",
       "      <td>0.840349</td>\n",
       "      <td>2.421842</td>\n",
       "      <td>0.001</td>\n",
       "      <td>2.425806e-09</td>\n",
       "      <td>2.428234e-09</td>\n",
       "    </tr>\n",
       "  </tbody>\n",
       "</table>\n",
       "<p>1001 rows × 6 columns</p>\n",
       "</div>"
      ],
      "text/plain": [
       "                  x1              y  residual  leverage     influence  \\\n",
       "0     1000000.000000  999999.586092  0.001974     1.000 -1.973974e-09   \n",
       "1          -1.720572       3.596886  5.246246     0.001  5.255189e-09   \n",
       "2          -0.250342       1.425695  1.604825     0.001  1.605199e-09   \n",
       "3           0.584728      -0.062073 -0.718013     0.001 -7.175798e-10   \n",
       "4          -1.250827       3.419136  4.598751     0.001  4.604429e-09   \n",
       "...              ...            ...       ...       ...           ...   \n",
       "996         1.760917      -1.037175 -2.869303     0.001 -2.864195e-09   \n",
       "997        -1.216175       1.686217  2.831180     0.001  2.834577e-09   \n",
       "998         0.518067      -1.306679 -1.895958     0.001 -1.894941e-09   \n",
       "999        -0.683645       0.243868  0.856301     0.001  8.568716e-10   \n",
       "1000       -1.652706       0.840349  2.421842     0.001  2.425806e-09   \n",
       "\n",
       "            newton  \n",
       "0    -1.970676e+00  \n",
       "1     5.260450e-09  \n",
       "2     1.606806e-09  \n",
       "3    -7.182981e-10  \n",
       "4     4.609038e-09  \n",
       "...            ...  \n",
       "996  -2.867062e-09  \n",
       "997   2.837414e-09  \n",
       "998  -1.896838e-09  \n",
       "999   8.577294e-10  \n",
       "1000  2.428234e-09  \n",
       "\n",
       "[1001 rows x 6 columns]"
      ]
     },
     "execution_count": 8,
     "metadata": {},
     "output_type": "execute_result"
    }
   ],
   "source": [
    "# II. Fit the regression.\n",
    "lr = LinearRegression(x=x.T, y=y)\n",
    "lr.fit()\n",
    "\n",
    "print(\n",
    "    f\"Estimated beta1 with full dataset: {lr.beta[1]}\"\n",
    ")  # We care about first coefficient (pop A: y is perfectly correlated (slope=1) with x1.)\n",
    "\n",
    "### V. CREATE DF\n",
    "# orig_df, inds, scores, newton_inds, newton_scores = create_orig_df(x, lr)\n",
    "\n",
    "scores = -lr.influence_scores()[1] # after adding an intercept term, take the scores of coefficient 1.\n",
    "# sort indices in ascending order (influence scores are negative, so the largest magnitude scores appear first.)\n",
    "inds = np.argsort(scores)\n",
    "print(\"inds\", inds[:10])\n",
    "\n",
    "###\n",
    "scores = -lr.influence_scores()[1]\n",
    "newton_scores = -lr.one_step_newton()[1]\n",
    "\n",
    "# sort indices in ascending order (influence scores are negative, so the largest magnitude scores appear first.)\n",
    "inds = np.argsort(scores)\n",
    "print(\"inds\", inds[:10])\n",
    "original_inds = inds # original_inds\n",
    "\n",
    "newton_inds = np.argsort(newton_scores)\n",
    "print(\"newton inds\", newton_inds[:10])\n",
    "original_newton_inds = newton_inds \n",
    "\n",
    "# sort scores.\n",
    "sorted_scores = scores[inds]\n",
    "print(\"sorted_scores\", sorted(scores)[:10])\n",
    "original_sorted_scores = sorted_scores\n",
    "\n",
    "sorted_newton_scores = newton_scores[inds]\n",
    "print(\"sorted_newton_scores\", sorted_newton_scores[:10])\n",
    "original_sorted_newton_scores = sorted_newton_scores\n",
    "\n",
    "# residuals\n",
    "residuals = lr.residual()\n",
    "# print(\"residuals\", residuals[:10])\n",
    "# leverages\n",
    "leverages = lr.leverage_scores()\n",
    "# print(\"leverages\", leverages[:10])\n",
    "\n",
    "# x's\n",
    "intercept = [pt[0] for pt in x]\n",
    "x1 = [pt[1] for pt in x]\n",
    "# x2 = [pt[2] for pt in x]\n",
    "\n",
    "# x1 = [pt[0] for pt in x]\n",
    "# x2 = [pt[1] for pt in x]\n",
    "\n",
    "# create a df with residuals, leverages, and coordinates.\n",
    "orig_df = pd.DataFrame({'x1': x1, 'y': y, \n",
    "                                  'residual': residuals, 'leverage': leverages, \n",
    "                        'influence': scores, 'newton': newton_scores})\n",
    "###\n",
    "orig_df\n",
    "\n",
    "# print(f\"amip additive scores: {sum(scores[:10])}\")\n",
    "# print(f'newton additive scores: {sum(newton_scores[:10])}')"
   ]
  },
  {
   "cell_type": "code",
   "execution_count": 9,
   "metadata": {},
   "outputs": [
    {
     "data": {
      "text/plain": [
       "1.98250758"
      ]
     },
     "execution_count": 9,
     "metadata": {},
     "output_type": "execute_result"
    }
   ],
   "source": [
    "# True Change in Fit.\n",
    "0.9896772 - -0.99283038"
   ]
  },
  {
   "cell_type": "code",
   "execution_count": 10,
   "metadata": {},
   "outputs": [
    {
     "name": "stdout",
     "output_type": "stream",
     "text": [
      "(1000, 2)\n",
      "(1000,)\n"
     ]
    }
   ],
   "source": [
    "# Refit after Removing Flagged Points\n",
    "# AMIP inds [  0   5   1   3   6   7   4 775 237 405]\n",
    "AMIP_inds= [154]\n",
    "new_x_amip= np.delete(x, AMIP_inds, axis=0)\n",
    "new_y_amip= np.delete(y, AMIP_inds, axis=0)\n",
    "print(new_x_amip.shape)\n",
    "print(new_y_amip.shape)"
   ]
  },
  {
   "cell_type": "code",
   "execution_count": 11,
   "metadata": {},
   "outputs": [
    {
     "name": "stdout",
     "output_type": "stream",
     "text": [
      "Estimated beta1 with full dataset: 0.9999995129066036\n",
      "Estimated beta1 after removing subset specified by AMIP: 0.9999995114242071\n",
      "Difference in quantities: 1.4823965388544025e-09\n"
     ]
    }
   ],
   "source": [
    "# Refit after removing the points specified by AMIP and Additive 1sN (these indices are the same).\n",
    "lr = LinearRegression(x=x.T, y=y)\n",
    "lr.fit()\n",
    "\n",
    "print(\n",
    "    f\"Estimated beta1 with full dataset: {lr.beta[1]}\"\n",
    ")  # We care about first coefficient (pop A: y is perfectly correlated (slope=1) with x1.)\n",
    "\n",
    "modified_lr_amip = LinearRegression(x=new_x_amip.T, y=new_y_amip)\n",
    "modified_lr_amip.fit()\n",
    "print(\n",
    "    f\"Estimated beta1 after removing subset specified by AMIP: {modified_lr_amip.beta[1]}\"\n",
    ")\n",
    "print(\n",
    "    f\"Difference in quantities: {lr.beta[1] - modified_lr_amip.beta[1]}\"\n",
    ")"
   ]
  },
  {
   "cell_type": "code",
   "execution_count": null,
   "metadata": {},
   "outputs": [],
   "source": []
  },
  {
   "cell_type": "markdown",
   "metadata": {},
   "source": [
    "# Generate Plot"
   ]
  },
  {
   "cell_type": "code",
   "execution_count": 15,
   "metadata": {},
   "outputs": [
    {
     "data": {
      "image/png": "[encoded data removed]",
      "text/plain": [
       "<Figure size 648x504 with 1 Axes>"
      ]
     },
     "metadata": {
      "needs_background": "light"
     },
     "output_type": "display_data"
    }
   ],
   "source": [
    "num_dimensions = 1\n",
    "num_observations_pop_1 = 1\n",
    "num_observations_pop_2 = 1001\n",
    "\n",
    "# set variance of pop. big\n",
    "vars_pop_2 = [[1]] # 0.01\n",
    "\n",
    "# generate x's.\n",
    "x1 = np.expand_dims([100], axis=0) # May 17th: the outlier position is -20.\n",
    "x2 = np.random.randn(1, num_observations_pop_2) * np.sqrt(vars_pop_2) # pop B\n",
    "# All x samples\n",
    "x = np.concatenate([x1, x2], axis=-1) \n",
    "\n",
    "# generate y's.\n",
    "# True regression coefficients for both populations\n",
    "beta1 = [[1.0]]\n",
    "beta2 = [[-1.0]]\n",
    "# Generate Gaussian noise\n",
    "noise_stdev = 1\n",
    "epsilon1 = noise_stdev * np.random.randn(len(x1[0]), 1)\n",
    "epsilon2 = noise_stdev * np.random.randn(num_observations_pop_2, 1)\n",
    "# Generate observed values\n",
    "y1 = (x1.T @ beta1) + epsilon1\n",
    "y2 = (x2.T @ beta2) + epsilon2\n",
    "y = np.concatenate([y1, y2], axis=0)\n",
    "\n",
    "plt.figure(figsize=(9, 7))\n",
    "\n",
    "# lr = plot_regression(x, y, x1, y1, x2, y2)\n",
    "plt.scatter(x1[0], y1, marker='o', color='black', label='Pop. A', s=56)\n",
    "plt.scatter(x2[0], y2, marker='x', color='r', label='Pop. B', s=56)\n",
    "# plt.title('One-dimensional Example')\n",
    "\n",
    "# ###\n",
    "\n",
    "# # V. Plot Points Dropped\n",
    "\n",
    "plt.xlabel('x', fontsize=26)  # Larger font for x-axis label\n",
    "plt.ylabel('y', fontsize=26)  # Larger font for y-axis label\n",
    "\n",
    "# # Set the size of tick marks\n",
    "# plt.xticks(np.arange(0, 30, ), fontsize=20) # custom range of ticks.\n",
    "# plt.yticks(np.arange(-3, 20, 5), fontsize=20)\n",
    "\n",
    "# # plt.title('Simpson`s paradox', fontsize=22)\n",
    "# plt.legend(fontsize=22)\n",
    "# # plt.savefig('simpsons_paradox_may26.pdf')\n",
    "# plt.show()\n",
    "# ###\n",
    "\n",
    "# Set the size of tick marks\n",
    "plt.xticks(fontsize=20)  # Larger ticks for x-axis\n",
    "plt.yticks(fontsize=20)  # Larger ticks for y-axis\n",
    "\n",
    "plt.legend(fontsize=22)\n",
    "plt.savefig('one_outlier_may26.pdf')\n",
    "plt.show()\n"
   ]
  },
  {
   "cell_type": "code",
   "execution_count": 20,
   "metadata": {},
   "outputs": [
    {
     "name": "stdout",
     "output_type": "stream",
     "text": [
      "Num observations from pop_1 and pop_2: (0, 5000)\n"
     ]
    }
   ],
   "source": [
    "# Set seed before generating random numbers\n",
    "np.random.seed(0)\n",
    "# two dimensions, many observations\n",
    "num_dimensions = 1\n",
    "total_observations = 5000\n",
    "\n",
    "num_observations_pop_1 = np.random.binomial(size=1, n=total_observations, p=alpha)[\n",
    "    0\n",
    "] # A (small fraction)\n",
    "num_observations_pop_2 = total_observations - num_observations_pop_1 # B (large fraction)\n",
    "print(\n",
    "    f\"Num observations from pop_1 and pop_2: {num_observations_pop_1, num_observations_pop_2}\"\n",
    ")\n",
    "\n",
    "# variances\n",
    "epsilon = 0.01 # pop. B\n",
    "vars_pop_1 = [[64]] # Oct. 14th: var needs to be large to be influential. (var, amip, exact) = (2, 0.335, 0.428), (4, 0.45, 0.71), (8, 0.50, 1.05), (16, 0.42, 1.37), (32, 0.30, 1.6), (64, 0.18, 1.8)\n",
    "vars_pop_2 = [[epsilon]] # (JYH: Oct 31: (distance, resid, leverage))\n"
   ]
  },
  {
   "cell_type": "code",
   "execution_count": 21,
   "metadata": {},
   "outputs": [
    {
     "name": "stdout",
     "output_type": "stream",
     "text": [
      "outlier x1: [-24]\n",
      "Num observations from pop_1 and pop_2: (1, 5000)\n"
     ]
    }
   ],
   "source": [
    "# Data is generated from two populations, one varies mostly along x2 and the other along x1\n",
    "# We have very few observations of population 1. The effect of the first coefficient (variable of interest)\n",
    "# Has opposite signs in each population. We would like to flag that something funny is going on.\n",
    "# However, AMIP as currently designed fails.\n",
    "# x1 = np.random.randn(1, num_observations_pop_1) * np.sqrt(vars_pop_1)\n",
    "# print(\"dim(x1) \\n\", x1.shape)\n",
    "# # print(x1)\n",
    "# ### Oct 14th: retrieving only the smallest and largest x-values.\n",
    "# x1 = np.sort(x1[0])\n",
    "# # print(x1)\n",
    "# ### CHANGE POP. A HERE\n",
    "# # x1 = np.concatenate([x1[:1], x1[-1:]], axis=None) # Oct. 24th: take 2 maximum points.\n",
    "# x1 = np.concatenate([x1[:1]], axis=None)\n",
    "x1 = [-24]\n",
    "###\n",
    "print(\"outlier x1:\", x1)\n",
    "x1 = np.expand_dims(x1, axis=0)\n",
    "###\n",
    "\n",
    "x2 = np.random.randn(1, num_observations_pop_2) * np.sqrt(vars_pop_2) # pop B\n",
    "x = np.concatenate([x1, x2], axis=-1)  # All x samples\n",
    "\n",
    "print(\n",
    "    f\"Num observations from pop_1 and pop_2: {len(x1[0]), len(x2[0])}\"\n",
    ")"
   ]
  },
  {
   "cell_type": "code",
   "execution_count": 23,
   "metadata": {},
   "outputs": [],
   "source": [
    "# True regression coefficients for both populations\n",
    "beta1 = [[-1.0]]\n",
    "beta2 = [[1.0]]\n",
    "\n",
    "# Generate Gaussian noise\n",
    "noise_stdev = 0.1\n",
    "epsilon1 = noise_stdev * np.random.randn(len(x1[0]), 1)\n",
    "epsilon2 = noise_stdev * np.random.randn(num_observations_pop_2, 1)\n",
    "\n",
    "# Generate observed values\n",
    "y1 = (x1.T @ beta1) + epsilon1\n",
    "y2 = (x2.T @ beta2) + epsilon2\n",
    "y = np.concatenate([y1, y2], axis=0)  # All y samples"
   ]
  },
  {
   "cell_type": "code",
   "execution_count": 24,
   "metadata": {},
   "outputs": [
    {
     "data": {
      "image/png": "[encoded data removed]",
      "text/plain": [
       "<Figure size 432x288 with 1 Axes>"
      ]
     },
     "metadata": {
      "needs_background": "light"
     },
     "output_type": "display_data"
    },
    {
     "name": "stdout",
     "output_type": "stream",
     "text": [
      "Beta with full dataset: [-0.84275012]\n",
      "Beta with subset dropped: [1.02150249]\n"
     ]
    }
   ],
   "source": [
    "## X vs Y\n",
    "plt.scatter(x1[0], y1, marker='x', color='black', label='Pop. A')\n",
    "plt.scatter(x2[0], y2, marker='x', color='r', label='Pop. B')\n",
    "plt.title('One-dimensional Example')\n",
    "plt.xlabel('X 1')\n",
    "plt.ylabel('Y')\n",
    "plt.legend()\n",
    "\n",
    "plt.show()\n",
    "\n",
    "x = x.T\n",
    "lr = LinearRegression(x=x.T, y=y)\n",
    "lr.fit()\n",
    "print(\n",
    "    f\"Beta with full dataset: {lr.beta[0]}\"\n",
    ")\n",
    "\n",
    "# Dropping just x1 should change the analysis (based on data generating process)\n",
    "modified_lr = LinearRegression(x=x2, y=y2) # Drop Pop_1 data\n",
    "modified_lr.fit()\n",
    "print(\n",
    "    f\"Beta with subset dropped: {modified_lr.beta[0]}\"\n",
    ")"
   ]
  },
  {
   "cell_type": "code",
   "execution_count": 34,
   "metadata": {},
   "outputs": [
    {
     "name": "stdout",
     "output_type": "stream",
     "text": [
      "outlier_x: -24\n",
      "outlier_y: 24.041440587671698\n",
      "outlier_residual: 3.738\n",
      "outlier_leverage: 0.9223\n",
      "schmeverage_e1: -0.0384\n",
      "outlier influence score: 0.1436\n"
     ]
    }
   ],
   "source": [
    "### 4/06: Statistics of the outlier.\n",
    "# influential point\n",
    "outlier_x = np.squeeze(x1[0][0])\n",
    "outlier_y = np.squeeze(y1[0][0])\n",
    "print(f\"outlier_x: {outlier_x}\")\n",
    "print(f\"outlier_y: {outlier_y}\")\n",
    "# residuals\n",
    "residuals = lr.residual()\n",
    "print(f\"outlier_residual: {round(residuals[0], 4)}\")\n",
    "# leverages\n",
    "leverages = lr.leverage_scores()\n",
    "print(f\"outlier_leverage: {round(leverages[0], 4)}\")\n",
    "# schmeverage e1\n",
    "shmeverage_e1 = lr.schmeverage_scores([(1,)])\n",
    "print(f'schmeverage_e1: {round(shmeverage_e1[0], 4)}')\n",
    "# Compute influence functions for first coefficient\n",
    "scores = -lr.influence_scores()[0] # effect of removing a data point on beta1.\n",
    "print(\"outlier influence score:\", round(scores[0], 4))"
   ]
  },
  {
   "cell_type": "code",
   "execution_count": 35,
   "metadata": {},
   "outputs": [
    {
     "name": "stdout",
     "output_type": "stream",
     "text": [
      "amip sorted influence score: \n",
      " [1.43642762e-01 1.92320280e-05 1.87558268e-05 1.84275365e-05\n",
      " 1.74791675e-05 1.65168369e-05 1.49983299e-05 1.48819734e-05\n",
      " 1.37905418e-05 1.36479518e-05]\n",
      "estimated_new_betas: [-0.70233289 -0.70231366 -0.7022949  -0.70227648 -0.702259   -0.70224248\n",
      " -0.70222748 -0.7022126  -0.70219881 -0.70218516]\n"
     ]
    }
   ],
   "source": [
    "# Get indices that sort them in ascending order\n",
    "inds = (-scores).argsort() # Oct 14: We would like to increase the coefficient. Hence, sort from large to small.\n",
    "\n",
    "sorted_scores = scores[inds]\n",
    "print(\"amip sorted influence score: \\n\", sorted_scores[:10])\n",
    "\n",
    "# Clip the ones that are smaller than 0. We only want to increase the coefficient. (all the points in A do this)\n",
    "sorted_clipped_scores = [s for s in sorted_scores if s > 0]\n",
    "# print(\n",
    "#     f\"Influence scores clipped: {sorted_clipped_scores[:2]}\"\n",
    "# )\n",
    "\n",
    "# Estimate the effect of dropping betas using the scores\n",
    "estimated_new_betas = lr.beta[0] + np.cumsum(sorted_clipped_scores) # list where each val is the beta produced by dropping the sorted datapoints up until that index.\n",
    "print(\n",
    "    f\"estimated_new_betas: {estimated_new_betas[:10]}\"\n",
    ")"
   ]
  },
  {
   "cell_type": "code",
   "execution_count": 36,
   "metadata": {},
   "outputs": [
    {
     "name": "stdout",
     "output_type": "stream",
     "text": [
      "inds [3119 3753 1055  686 3448  272 1419 1584 1257 2019]\n",
      "newton inds [3119 3753 1055  686 3448  272 1419 1584 1257 2019]\n",
      "sorted_scores [-0.0004535278523131146, -0.00044587606022355834, -0.0003370621225976065, -0.00033654945065157097, -0.00029933660622220696, -0.0002964034311418252, -0.00028922894254097153, -0.0002879178561237484, -0.0002876645289577497, -0.0002802550076860853]\n",
      "sorted_newton_scores [-0.00045363 -0.00044598 -0.00033712 -0.00033659 -0.00029939 -0.00029644\n",
      " -0.00028927 -0.00028795 -0.0002877  -0.0002803 ]\n"
     ]
    },
    {
     "data": {
      "text/html": [
       "<div>\n",
       "<style scoped>\n",
       "    .dataframe tbody tr th:only-of-type {\n",
       "        vertical-align: middle;\n",
       "    }\n",
       "\n",
       "    .dataframe tbody tr th {\n",
       "        vertical-align: top;\n",
       "    }\n",
       "\n",
       "    .dataframe thead th {\n",
       "        text-align: right;\n",
       "    }\n",
       "</style>\n",
       "<table border=\"1\" class=\"dataframe\">\n",
       "  <thead>\n",
       "    <tr style=\"text-align: right;\">\n",
       "      <th></th>\n",
       "      <th>x</th>\n",
       "      <th>y</th>\n",
       "      <th>residual</th>\n",
       "      <th>schmeverage</th>\n",
       "      <th>leverage</th>\n",
       "      <th>influence</th>\n",
       "      <th>newton</th>\n",
       "    </tr>\n",
       "  </thead>\n",
       "  <tbody>\n",
       "    <tr>\n",
       "      <th>0</th>\n",
       "      <td>-24.000000</td>\n",
       "      <td>24.041441</td>\n",
       "      <td>3.738025</td>\n",
       "      <td>-0.038427</td>\n",
       "      <td>9.222588e-01</td>\n",
       "      <td>1.436428e-01</td>\n",
       "      <td>1.847704e+00</td>\n",
       "    </tr>\n",
       "    <tr>\n",
       "      <th>1</th>\n",
       "      <td>0.176405</td>\n",
       "      <td>0.207378</td>\n",
       "      <td>0.356612</td>\n",
       "      <td>0.000282</td>\n",
       "      <td>4.982568e-05</td>\n",
       "      <td>-1.007251e-04</td>\n",
       "      <td>-1.007302e-04</td>\n",
       "    </tr>\n",
       "    <tr>\n",
       "      <th>2</th>\n",
       "      <td>0.040016</td>\n",
       "      <td>-0.033730</td>\n",
       "      <td>0.000122</td>\n",
       "      <td>0.000064</td>\n",
       "      <td>2.563844e-06</td>\n",
       "      <td>-7.844010e-09</td>\n",
       "      <td>-7.844031e-09</td>\n",
       "    </tr>\n",
       "    <tr>\n",
       "      <th>3</th>\n",
       "      <td>0.097874</td>\n",
       "      <td>-0.055818</td>\n",
       "      <td>0.026981</td>\n",
       "      <td>0.000157</td>\n",
       "      <td>1.533780e-05</td>\n",
       "      <td>-4.228140e-06</td>\n",
       "      <td>-4.228205e-06</td>\n",
       "    </tr>\n",
       "    <tr>\n",
       "      <th>4</th>\n",
       "      <td>0.224089</td>\n",
       "      <td>0.167864</td>\n",
       "      <td>0.357438</td>\n",
       "      <td>0.000359</td>\n",
       "      <td>8.040307e-05</td>\n",
       "      <td>-1.282485e-04</td>\n",
       "      <td>-1.282588e-04</td>\n",
       "    </tr>\n",
       "    <tr>\n",
       "      <th>5</th>\n",
       "      <td>0.186756</td>\n",
       "      <td>0.026805</td>\n",
       "      <td>0.184796</td>\n",
       "      <td>0.000299</td>\n",
       "      <td>5.584426e-05</td>\n",
       "      <td>-5.525809e-05</td>\n",
       "      <td>-5.526118e-05</td>\n",
       "    </tr>\n",
       "    <tr>\n",
       "      <th>6</th>\n",
       "      <td>-0.097728</td>\n",
       "      <td>-0.015289</td>\n",
       "      <td>-0.097964</td>\n",
       "      <td>-0.000156</td>\n",
       "      <td>1.529208e-05</td>\n",
       "      <td>-1.532906e-05</td>\n",
       "      <td>-1.532929e-05</td>\n",
       "    </tr>\n",
       "    <tr>\n",
       "      <th>7</th>\n",
       "      <td>0.095009</td>\n",
       "      <td>0.344157</td>\n",
       "      <td>0.424533</td>\n",
       "      <td>0.000152</td>\n",
       "      <td>1.445301e-05</td>\n",
       "      <td>-6.458110e-05</td>\n",
       "      <td>-6.458203e-05</td>\n",
       "    </tr>\n",
       "    <tr>\n",
       "      <th>8</th>\n",
       "      <td>-0.015136</td>\n",
       "      <td>0.086050</td>\n",
       "      <td>0.073245</td>\n",
       "      <td>-0.000024</td>\n",
       "      <td>3.668061e-07</td>\n",
       "      <td>1.775062e-06</td>\n",
       "      <td>1.775062e-06</td>\n",
       "    </tr>\n",
       "    <tr>\n",
       "      <th>9</th>\n",
       "      <td>-0.010322</td>\n",
       "      <td>-0.038446</td>\n",
       "      <td>-0.047178</td>\n",
       "      <td>-0.000017</td>\n",
       "      <td>1.705880e-07</td>\n",
       "      <td>-7.796981e-07</td>\n",
       "      <td>-7.796983e-07</td>\n",
       "    </tr>\n",
       "  </tbody>\n",
       "</table>\n",
       "</div>"
      ],
      "text/plain": [
       "           x          y  residual  schmeverage      leverage     influence  \\\n",
       "0 -24.000000  24.041441  3.738025    -0.038427  9.222588e-01  1.436428e-01   \n",
       "1   0.176405   0.207378  0.356612     0.000282  4.982568e-05 -1.007251e-04   \n",
       "2   0.040016  -0.033730  0.000122     0.000064  2.563844e-06 -7.844010e-09   \n",
       "3   0.097874  -0.055818  0.026981     0.000157  1.533780e-05 -4.228140e-06   \n",
       "4   0.224089   0.167864  0.357438     0.000359  8.040307e-05 -1.282485e-04   \n",
       "5   0.186756   0.026805  0.184796     0.000299  5.584426e-05 -5.525809e-05   \n",
       "6  -0.097728  -0.015289 -0.097964    -0.000156  1.529208e-05 -1.532906e-05   \n",
       "7   0.095009   0.344157  0.424533     0.000152  1.445301e-05 -6.458110e-05   \n",
       "8  -0.015136   0.086050  0.073245    -0.000024  3.668061e-07  1.775062e-06   \n",
       "9  -0.010322  -0.038446 -0.047178    -0.000017  1.705880e-07 -7.796981e-07   \n",
       "\n",
       "         newton  \n",
       "0  1.847704e+00  \n",
       "1 -1.007302e-04  \n",
       "2 -7.844031e-09  \n",
       "3 -4.228205e-06  \n",
       "4 -1.282588e-04  \n",
       "5 -5.526118e-05  \n",
       "6 -1.532929e-05  \n",
       "7 -6.458203e-05  \n",
       "8  1.775062e-06  \n",
       "9 -7.796983e-07  "
      ]
     },
     "execution_count": 36,
     "metadata": {},
     "output_type": "execute_result"
    }
   ],
   "source": [
    "# III. Compute influence scores and Newton scores for first coefficient.\n",
    "scores = -lr.influence_scores()[0] # after adding an intercept term, take the scores of coefficient 1.\n",
    "newton_scores = -lr.one_step_newton()[0]\n",
    "\n",
    "# sort indices in ascending order (influence scores are negative, so the largest magnitude scores appear first.)\n",
    "inds = np.argsort(scores)\n",
    "print(\"inds\", inds[:10])\n",
    "original_inds = inds # original_inds\n",
    "\n",
    "newton_inds = np.argsort(newton_scores)\n",
    "print(\"newton inds\", newton_inds[:10])\n",
    "original_newton_inds = newton_inds \n",
    "\n",
    "# sort scores.\n",
    "sorted_scores = scores[inds]\n",
    "print(\"sorted_scores\", sorted(scores)[:10])\n",
    "original_sorted_scores = sorted_scores\n",
    "\n",
    "sorted_newton_scores = newton_scores[inds]\n",
    "print(\"sorted_newton_scores\", sorted_newton_scores[:10])\n",
    "original_sorted_newton_scores = sorted_newton_scores\n",
    "\n",
    "\n",
    "# x's\n",
    "# x1 = [pt[0] for pt in x]\n",
    "# x2 = [pt[1] for pt in x]\n",
    "\n",
    "# create a df with residuals, leverages, and coordinates.\n",
    "orig_df = pd.DataFrame({'x': x.flatten(), 'y':y.flatten(),\n",
    "                        'residual': residuals, 'schmeverage': shmeverage_e1,\n",
    "                        'leverage': leverages,\n",
    "                        'influence': scores, 'newton': newton_scores})\n",
    "orig_df[:10]"
   ]
  },
  {
   "cell_type": "code",
   "execution_count": null,
   "metadata": {},
   "outputs": [],
   "source": []
  }
 ],
 "metadata": {
  "kernelspec": {
   "display_name": "Python 3",
   "language": "python",
   "name": "python3"
  },
  "language_info": {
   "codemirror_mode": {
    "name": "ipython",
    "version": 3
   },
   "file_extension": ".py",
   "mimetype": "text/x-python",
   "name": "python",
   "nbconvert_exporter": "python",
   "pygments_lexer": "ipython3",
   "version": "3.8.5"
  }
 },
 "nbformat": 4,
 "nbformat_minor": 4
}
